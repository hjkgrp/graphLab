{
 "cells": [
  {
   "cell_type": "code",
   "execution_count": 1,
   "metadata": {},
   "outputs": [],
   "source": [
    "## this is JP's experimental workbook v2.\n",
    "## Please do not modify this file - you are welcome to save a copy\n",
    "## for yourself"
   ]
  },
  {
   "cell_type": "code",
   "execution_count": 2,
   "metadata": {},
   "outputs": [
    {
     "name": "stderr",
     "output_type": "stream",
     "text": [
      "Using TensorFlow backend.\n"
     ]
    }
   ],
   "source": [
    "import os, sys, keras, copy\n",
    "import numpy as np\n",
    "import pandas as pd\n",
    "import tensorflow as tf\n",
    "from IPython.display import SVG\n",
    "from keras.utils.vis_utils import model_to_dot"
   ]
  },
  {
   "cell_type": "code",
   "execution_count": 3,
   "metadata": {},
   "outputs": [],
   "source": [
    "from graphTools import *\n",
    "from layerTools import *"
   ]
  },
  {
   "cell_type": "code",
   "execution_count": 4,
   "metadata": {},
   "outputs": [
    {
     "name": "stdout",
     "output_type": "stream",
     "text": [
      "Header One-Hot Map: {8.0: array([0., 0., 0., 1., 0.]), 1.0: array([1., 0., 0., 0., 0.]), 9.0: array([0., 0., 0., 0., 1.]), 6.0: array([0., 1., 0., 0., 0.]), 7.0: array([0., 0., 1., 0., 0.])}\n",
      "Bond One-Hot Map: {1.0: array([1., 0., 0.]), 2.0: array([0., 1., 0.]), 3.0: array([0., 0., 1.])}\n",
      "Graph Size: 29\n",
      "Number of dropped graphs: 0\n",
      "(10000, 29, 5)\n",
      "(10000, 29, 29, 3)\n",
      "(10000, 29, 29)\n"
     ]
    }
   ],
   "source": [
    "\n",
    "# Read in graphs\n",
    "graph_files = glob.glob('qm9graph/*.csv')[0:10000]\n",
    "mygraphs = [readgraph(fname) for fname in graph_files]\n",
    "headers_onehot_dict, matrices_onehot_dict, mygraphs_standardized = standardize_graphs(mygraphs, max_size=29)\n",
    "headers_padded = np.array([i['header'] for i in mygraphs_standardized])\n",
    "matrices_padded = np.array([i['matrix'] for i in mygraphs_standardized])\n",
    "connectivities_padded = np.array([i['connectivity'] for i in mygraphs_standardized])\n",
    "origHeaders_padded = np.array([i['origHeader'] for i in mygraphs_standardized])\n",
    "origMatrices_padded = np.array([i['origMatrix'] for i in mygraphs_standardized])\n",
    "print headers_padded.shape\n",
    "print matrices_padded.shape\n",
    "print connectivities_padded.shape"
   ]
  },
  {
   "cell_type": "code",
   "execution_count": 5,
   "metadata": {},
   "outputs": [
    {
     "name": "stdout",
     "output_type": "stream",
     "text": [
      "WARNING:tensorflow:From /home/jp/anaconda2/envs/mols3/lib/python2.7/site-packages/tensorflow/python/framework/op_def_library.py:263: colocate_with (from tensorflow.python.framework.ops) is deprecated and will be removed in a future version.\n",
      "Instructions for updating:\n",
      "Colocations handled automatically by placer.\n",
      "combined shape is (?, 29, 10)\n",
      "bond_hiddens_input shape is (?, 29, 29, 3)\n",
      "atom_hiddens_input shape is (?, 29, 5)\n",
      "connectivity_input shape is (?, 29, 29)\n",
      "message_to_out shape is (?, 29, 5)\n"
     ]
    }
   ],
   "source": [
    "from layerTools import generate_gc_atom_layer\n",
    "inital_atom_layer_1 = generate_gc_atom_layer(num_nodes=29, atom_hidden_length=5, bond_hidden_length=3, hide_atoms=False,\\\n",
    "                      message_dense_resize=5, atom_dense_resize=None,  nonlinear_state_update = False)\n",
    "dense_read = keras.layers.Dense(32,activation='relu')(inital_atom_layer_1.output)\n",
    "softmax_ouput = keras.layers.Dense(5,activation='softmax')(dense_read)\n",
    "\n",
    "\n",
    "final_model = keras.models.Model(inputs=inital_atom_layer_1.inputs, outputs=[softmax_ouput])"
   ]
  },
  {
   "cell_type": "code",
   "execution_count": 6,
   "metadata": {},
   "outputs": [
    {
     "data": {
      "image/svg+xml": [
       "<svg height=\"636pt\" viewBox=\"0.00 0.00 857.50 636.00\" width=\"858pt\" xmlns=\"http://www.w3.org/2000/svg\" xmlns:xlink=\"http://www.w3.org/1999/xlink\">\n",
       "<g class=\"graph\" id=\"graph0\" transform=\"scale(1 1) rotate(0) translate(4 632)\">\n",
       "<title>G</title>\n",
       "<polygon fill=\"#ffffff\" points=\"-4,4 -4,-632 853.5,-632 853.5,4 -4,4\" stroke=\"transparent\"/>\n",
       "<!-- 139701908765840 -->\n",
       "<g class=\"node\" id=\"node1\">\n",
       "<title>139701908765840</title>\n",
       "<polygon fill=\"none\" points=\"528.5,-581.5 528.5,-627.5 846.5,-627.5 846.5,-581.5 528.5,-581.5\" stroke=\"#000000\"/>\n",
       "<text fill=\"#000000\" font-family=\"Times,serif\" font-size=\"14.00\" text-anchor=\"middle\" x=\"612.5\" y=\"-600.8\">atom_input_1: InputLayer</text>\n",
       "<polyline fill=\"none\" points=\"696.5,-581.5 696.5,-627.5 \" stroke=\"#000000\"/>\n",
       "<text fill=\"#000000\" font-family=\"Times,serif\" font-size=\"14.00\" text-anchor=\"middle\" x=\"725.5\" y=\"-612.3\">input:</text>\n",
       "<polyline fill=\"none\" points=\"696.5,-604.5 754.5,-604.5 \" stroke=\"#000000\"/>\n",
       "<text fill=\"#000000\" font-family=\"Times,serif\" font-size=\"14.00\" text-anchor=\"middle\" x=\"725.5\" y=\"-589.3\">output:</text>\n",
       "<polyline fill=\"none\" points=\"754.5,-581.5 754.5,-627.5 \" stroke=\"#000000\"/>\n",
       "<text fill=\"#000000\" font-family=\"Times,serif\" font-size=\"14.00\" text-anchor=\"middle\" x=\"800.5\" y=\"-612.3\">(None, 29, 5)</text>\n",
       "<polyline fill=\"none\" points=\"754.5,-604.5 846.5,-604.5 \" stroke=\"#000000\"/>\n",
       "<text fill=\"#000000\" font-family=\"Times,serif\" font-size=\"14.00\" text-anchor=\"middle\" x=\"800.5\" y=\"-589.3\">(None, 29, 5)</text>\n",
       "</g>\n",
       "<!-- 139701907964432 -->\n",
       "<g class=\"node\" id=\"node3\">\n",
       "<title>139701907964432</title>\n",
       "<polygon fill=\"none\" points=\"90.5,-498.5 90.5,-544.5 476.5,-544.5 476.5,-498.5 90.5,-498.5\" stroke=\"#000000\"/>\n",
       "<text fill=\"#000000\" font-family=\"Times,serif\" font-size=\"14.00\" text-anchor=\"middle\" x=\"153\" y=\"-517.8\">stacker_1: Lambda</text>\n",
       "<polyline fill=\"none\" points=\"215.5,-498.5 215.5,-544.5 \" stroke=\"#000000\"/>\n",
       "<text fill=\"#000000\" font-family=\"Times,serif\" font-size=\"14.00\" text-anchor=\"middle\" x=\"244.5\" y=\"-529.3\">input:</text>\n",
       "<polyline fill=\"none\" points=\"215.5,-521.5 273.5,-521.5 \" stroke=\"#000000\"/>\n",
       "<text fill=\"#000000\" font-family=\"Times,serif\" font-size=\"14.00\" text-anchor=\"middle\" x=\"244.5\" y=\"-506.3\">output:</text>\n",
       "<polyline fill=\"none\" points=\"273.5,-498.5 273.5,-544.5 \" stroke=\"#000000\"/>\n",
       "<text fill=\"#000000\" font-family=\"Times,serif\" font-size=\"14.00\" text-anchor=\"middle\" x=\"375\" y=\"-529.3\">[(None, 29, 29, 3), (None, 29, 5)]</text>\n",
       "<polyline fill=\"none\" points=\"273.5,-521.5 476.5,-521.5 \" stroke=\"#000000\"/>\n",
       "<text fill=\"#000000\" font-family=\"Times,serif\" font-size=\"14.00\" text-anchor=\"middle\" x=\"375\" y=\"-506.3\">(None, 29, 29, 13)</text>\n",
       "</g>\n",
       "<!-- 139701908765840&#45;&gt;139701907964432 -->\n",
       "<g class=\"edge\" id=\"edge2\">\n",
       "<title>139701908765840-&gt;139701907964432</title>\n",
       "<path d=\"M575.5,-581.4901C522.7393,-570.6506 459.6819,-557.6958 405.6894,-546.6033\" fill=\"none\" stroke=\"#000000\"/>\n",
       "<polygon fill=\"#000000\" points=\"406.2177,-543.1388 395.7179,-544.5547 404.8089,-549.9956 406.2177,-543.1388\" stroke=\"#000000\"/>\n",
       "</g>\n",
       "<!-- 139701902522256 -->\n",
       "<g class=\"node\" id=\"node7\">\n",
       "<title>139701902522256</title>\n",
       "<polygon fill=\"none\" points=\"397.5,-249.5 397.5,-295.5 849.5,-295.5 849.5,-249.5 397.5,-249.5\" stroke=\"#000000\"/>\n",
       "<text fill=\"#000000\" font-family=\"Times,serif\" font-size=\"14.00\" text-anchor=\"middle\" x=\"503.5\" y=\"-268.8\">combine_message_1: Concatenate</text>\n",
       "<polyline fill=\"none\" points=\"609.5,-249.5 609.5,-295.5 \" stroke=\"#000000\"/>\n",
       "<text fill=\"#000000\" font-family=\"Times,serif\" font-size=\"14.00\" text-anchor=\"middle\" x=\"638.5\" y=\"-280.3\">input:</text>\n",
       "<polyline fill=\"none\" points=\"609.5,-272.5 667.5,-272.5 \" stroke=\"#000000\"/>\n",
       "<text fill=\"#000000\" font-family=\"Times,serif\" font-size=\"14.00\" text-anchor=\"middle\" x=\"638.5\" y=\"-257.3\">output:</text>\n",
       "<polyline fill=\"none\" points=\"667.5,-249.5 667.5,-295.5 \" stroke=\"#000000\"/>\n",
       "<text fill=\"#000000\" font-family=\"Times,serif\" font-size=\"14.00\" text-anchor=\"middle\" x=\"758.5\" y=\"-280.3\">[(None, 29, 5), (None, 29, 5)]</text>\n",
       "<polyline fill=\"none\" points=\"667.5,-272.5 849.5,-272.5 \" stroke=\"#000000\"/>\n",
       "<text fill=\"#000000\" font-family=\"Times,serif\" font-size=\"14.00\" text-anchor=\"middle\" x=\"758.5\" y=\"-257.3\">(None, 29, 10)</text>\n",
       "</g>\n",
       "<!-- 139701908765840&#45;&gt;139701902522256 -->\n",
       "<g class=\"edge\" id=\"edge6\">\n",
       "<title>139701908765840-&gt;139701902522256</title>\n",
       "<path d=\"M699.8829,-581.4957C724.6043,-532.1466 773.8034,-413.9545 726.5,-332 719.1607,-319.2844 707.9541,-309.0425 695.5943,-300.881\" fill=\"none\" stroke=\"#000000\"/>\n",
       "<polygon fill=\"#000000\" points=\"697.2443,-297.7875 686.8866,-295.5583 693.5934,-303.7601 697.2443,-297.7875\" stroke=\"#000000\"/>\n",
       "</g>\n",
       "<!-- 139701908766416 -->\n",
       "<g class=\"node\" id=\"node2\">\n",
       "<title>139701908766416</title>\n",
       "<polygon fill=\"none\" points=\"115,-581.5 115,-627.5 452,-627.5 452,-581.5 115,-581.5\" stroke=\"#000000\"/>\n",
       "<text fill=\"#000000\" font-family=\"Times,serif\" font-size=\"14.00\" text-anchor=\"middle\" x=\"198.5\" y=\"-600.8\">bond_input_1: InputLayer</text>\n",
       "<polyline fill=\"none\" points=\"282,-581.5 282,-627.5 \" stroke=\"#000000\"/>\n",
       "<text fill=\"#000000\" font-family=\"Times,serif\" font-size=\"14.00\" text-anchor=\"middle\" x=\"311\" y=\"-612.3\">input:</text>\n",
       "<polyline fill=\"none\" points=\"282,-604.5 340,-604.5 \" stroke=\"#000000\"/>\n",
       "<text fill=\"#000000\" font-family=\"Times,serif\" font-size=\"14.00\" text-anchor=\"middle\" x=\"311\" y=\"-589.3\">output:</text>\n",
       "<polyline fill=\"none\" points=\"340,-581.5 340,-627.5 \" stroke=\"#000000\"/>\n",
       "<text fill=\"#000000\" font-family=\"Times,serif\" font-size=\"14.00\" text-anchor=\"middle\" x=\"396\" y=\"-612.3\">(None, 29, 29, 3)</text>\n",
       "<polyline fill=\"none\" points=\"340,-604.5 452,-604.5 \" stroke=\"#000000\"/>\n",
       "<text fill=\"#000000\" font-family=\"Times,serif\" font-size=\"14.00\" text-anchor=\"middle\" x=\"396\" y=\"-589.3\">(None, 29, 29, 3)</text>\n",
       "</g>\n",
       "<!-- 139701908766416&#45;&gt;139701907964432 -->\n",
       "<g class=\"edge\" id=\"edge1\">\n",
       "<title>139701908766416-&gt;139701907964432</title>\n",
       "<path d=\"M283.5,-581.3799C283.5,-573.1745 283.5,-563.7679 283.5,-554.8786\" fill=\"none\" stroke=\"#000000\"/>\n",
       "<polygon fill=\"#000000\" points=\"287.0001,-554.784 283.5,-544.784 280.0001,-554.784 287.0001,-554.784\" stroke=\"#000000\"/>\n",
       "</g>\n",
       "<!-- 139701907964368 -->\n",
       "<g class=\"node\" id=\"node4\">\n",
       "<title>139701907964368</title>\n",
       "<polygon fill=\"none\" points=\"0,-415.5 0,-461.5 335,-461.5 335,-415.5 0,-415.5\" stroke=\"#000000\"/>\n",
       "<text fill=\"#000000\" font-family=\"Times,serif\" font-size=\"14.00\" text-anchor=\"middle\" x=\"79\" y=\"-434.8\">message_dense_1: Dense</text>\n",
       "<polyline fill=\"none\" points=\"158,-415.5 158,-461.5 \" stroke=\"#000000\"/>\n",
       "<text fill=\"#000000\" font-family=\"Times,serif\" font-size=\"14.00\" text-anchor=\"middle\" x=\"187\" y=\"-446.3\">input:</text>\n",
       "<polyline fill=\"none\" points=\"158,-438.5 216,-438.5 \" stroke=\"#000000\"/>\n",
       "<text fill=\"#000000\" font-family=\"Times,serif\" font-size=\"14.00\" text-anchor=\"middle\" x=\"187\" y=\"-423.3\">output:</text>\n",
       "<polyline fill=\"none\" points=\"216,-415.5 216,-461.5 \" stroke=\"#000000\"/>\n",
       "<text fill=\"#000000\" font-family=\"Times,serif\" font-size=\"14.00\" text-anchor=\"middle\" x=\"275.5\" y=\"-446.3\">(None, 29, 29, 13)</text>\n",
       "<polyline fill=\"none\" points=\"216,-438.5 335,-438.5 \" stroke=\"#000000\"/>\n",
       "<text fill=\"#000000\" font-family=\"Times,serif\" font-size=\"14.00\" text-anchor=\"middle\" x=\"275.5\" y=\"-423.3\">(None, 29, 29, 5)</text>\n",
       "</g>\n",
       "<!-- 139701907964432&#45;&gt;139701907964368 -->\n",
       "<g class=\"edge\" id=\"edge3\">\n",
       "<title>139701907964432-&gt;139701907964368</title>\n",
       "<path d=\"M251.1875,-498.3799C237.9748,-488.9259 222.5332,-477.8772 208.5367,-467.8625\" fill=\"none\" stroke=\"#000000\"/>\n",
       "<polygon fill=\"#000000\" points=\"210.2108,-464.7566 200.0415,-461.784 206.1374,-470.4495 210.2108,-464.7566\" stroke=\"#000000\"/>\n",
       "</g>\n",
       "<!-- 139701907964560 -->\n",
       "<g class=\"node\" id=\"node6\">\n",
       "<title>139701907964560</title>\n",
       "<polygon fill=\"none\" points=\"287.5,-332.5 287.5,-378.5 717.5,-378.5 717.5,-332.5 287.5,-332.5\" stroke=\"#000000\"/>\n",
       "<text fill=\"#000000\" font-family=\"Times,serif\" font-size=\"14.00\" text-anchor=\"middle\" x=\"369\" y=\"-351.8\">message_sum_1: Lambda</text>\n",
       "<polyline fill=\"none\" points=\"450.5,-332.5 450.5,-378.5 \" stroke=\"#000000\"/>\n",
       "<text fill=\"#000000\" font-family=\"Times,serif\" font-size=\"14.00\" text-anchor=\"middle\" x=\"479.5\" y=\"-363.3\">input:</text>\n",
       "<polyline fill=\"none\" points=\"450.5,-355.5 508.5,-355.5 \" stroke=\"#000000\"/>\n",
       "<text fill=\"#000000\" font-family=\"Times,serif\" font-size=\"14.00\" text-anchor=\"middle\" x=\"479.5\" y=\"-340.3\">output:</text>\n",
       "<polyline fill=\"none\" points=\"508.5,-332.5 508.5,-378.5 \" stroke=\"#000000\"/>\n",
       "<text fill=\"#000000\" font-family=\"Times,serif\" font-size=\"14.00\" text-anchor=\"middle\" x=\"613\" y=\"-363.3\">[(None, 29, 29, 5), (None, 29, 29)]</text>\n",
       "<polyline fill=\"none\" points=\"508.5,-355.5 717.5,-355.5 \" stroke=\"#000000\"/>\n",
       "<text fill=\"#000000\" font-family=\"Times,serif\" font-size=\"14.00\" text-anchor=\"middle\" x=\"613\" y=\"-340.3\">(None, 29, 5)</text>\n",
       "</g>\n",
       "<!-- 139701907964368&#45;&gt;139701907964560 -->\n",
       "<g class=\"edge\" id=\"edge4\">\n",
       "<title>139701907964368-&gt;139701907964560</title>\n",
       "<path d=\"M260.3713,-415.4901C303.5763,-404.7856 355.1082,-392.018 399.5041,-381.0184\" fill=\"none\" stroke=\"#000000\"/>\n",
       "<polygon fill=\"#000000\" points=\"400.5833,-384.3569 409.448,-378.5547 398.8998,-377.5624 400.5833,-384.3569\" stroke=\"#000000\"/>\n",
       "</g>\n",
       "<!-- 139701907966480 -->\n",
       "<g class=\"node\" id=\"node5\">\n",
       "<title>139701907966480</title>\n",
       "<polygon fill=\"none\" points=\"353,-415.5 353,-461.5 718,-461.5 718,-415.5 353,-415.5\" stroke=\"#000000\"/>\n",
       "<text fill=\"#000000\" font-family=\"Times,serif\" font-size=\"14.00\" text-anchor=\"middle\" x=\"457.5\" y=\"-434.8\">connectivity_input_1: InputLayer</text>\n",
       "<polyline fill=\"none\" points=\"562,-415.5 562,-461.5 \" stroke=\"#000000\"/>\n",
       "<text fill=\"#000000\" font-family=\"Times,serif\" font-size=\"14.00\" text-anchor=\"middle\" x=\"591\" y=\"-446.3\">input:</text>\n",
       "<polyline fill=\"none\" points=\"562,-438.5 620,-438.5 \" stroke=\"#000000\"/>\n",
       "<text fill=\"#000000\" font-family=\"Times,serif\" font-size=\"14.00\" text-anchor=\"middle\" x=\"591\" y=\"-423.3\">output:</text>\n",
       "<polyline fill=\"none\" points=\"620,-415.5 620,-461.5 \" stroke=\"#000000\"/>\n",
       "<text fill=\"#000000\" font-family=\"Times,serif\" font-size=\"14.00\" text-anchor=\"middle\" x=\"669\" y=\"-446.3\">(None, 29, 29)</text>\n",
       "<polyline fill=\"none\" points=\"620,-438.5 718,-438.5 \" stroke=\"#000000\"/>\n",
       "<text fill=\"#000000\" font-family=\"Times,serif\" font-size=\"14.00\" text-anchor=\"middle\" x=\"669\" y=\"-423.3\">(None, 29, 29)</text>\n",
       "</g>\n",
       "<!-- 139701907966480&#45;&gt;139701907964560 -->\n",
       "<g class=\"edge\" id=\"edge5\">\n",
       "<title>139701907966480-&gt;139701907964560</title>\n",
       "<path d=\"M526.3077,-415.3799C522.9744,-406.9962 519.1425,-397.3584 515.5408,-388.2996\" fill=\"none\" stroke=\"#000000\"/>\n",
       "<polygon fill=\"#000000\" points=\"518.7045,-386.7834 511.7575,-378.784 512.1998,-389.3696 518.7045,-386.7834\" stroke=\"#000000\"/>\n",
       "</g>\n",
       "<!-- 139701907964560&#45;&gt;139701902522256 -->\n",
       "<g class=\"edge\" id=\"edge7\">\n",
       "<title>139701907964560-&gt;139701902522256</title>\n",
       "<path d=\"M536.2052,-332.3799C550.1176,-322.8367 566.3988,-311.6686 581.1073,-301.5793\" fill=\"none\" stroke=\"#000000\"/>\n",
       "<polygon fill=\"#000000\" points=\"583.2893,-304.3269 589.5558,-295.784 579.3296,-298.5544 583.2893,-304.3269\" stroke=\"#000000\"/>\n",
       "</g>\n",
       "<!-- 139701902522192 -->\n",
       "<g class=\"node\" id=\"node8\">\n",
       "<title>139701902522192</title>\n",
       "<polygon fill=\"none\" points=\"465,-166.5 465,-212.5 782,-212.5 782,-166.5 465,-166.5\" stroke=\"#000000\"/>\n",
       "<text fill=\"#000000\" font-family=\"Times,serif\" font-size=\"14.00\" text-anchor=\"middle\" x=\"545.5\" y=\"-185.8\">linear_combine_1: Dense</text>\n",
       "<polyline fill=\"none\" points=\"626,-166.5 626,-212.5 \" stroke=\"#000000\"/>\n",
       "<text fill=\"#000000\" font-family=\"Times,serif\" font-size=\"14.00\" text-anchor=\"middle\" x=\"655\" y=\"-197.3\">input:</text>\n",
       "<polyline fill=\"none\" points=\"626,-189.5 684,-189.5 \" stroke=\"#000000\"/>\n",
       "<text fill=\"#000000\" font-family=\"Times,serif\" font-size=\"14.00\" text-anchor=\"middle\" x=\"655\" y=\"-174.3\">output:</text>\n",
       "<polyline fill=\"none\" points=\"684,-166.5 684,-212.5 \" stroke=\"#000000\"/>\n",
       "<text fill=\"#000000\" font-family=\"Times,serif\" font-size=\"14.00\" text-anchor=\"middle\" x=\"733\" y=\"-197.3\">(None, 29, 10)</text>\n",
       "<polyline fill=\"none\" points=\"684,-189.5 782,-189.5 \" stroke=\"#000000\"/>\n",
       "<text fill=\"#000000\" font-family=\"Times,serif\" font-size=\"14.00\" text-anchor=\"middle\" x=\"733\" y=\"-174.3\">(None, 29, 5)</text>\n",
       "</g>\n",
       "<!-- 139701902522256&#45;&gt;139701902522192 -->\n",
       "<g class=\"edge\" id=\"edge8\">\n",
       "<title>139701902522256-&gt;139701902522192</title>\n",
       "<path d=\"M623.5,-249.3799C623.5,-241.1745 623.5,-231.7679 623.5,-222.8786\" fill=\"none\" stroke=\"#000000\"/>\n",
       "<polygon fill=\"#000000\" points=\"627.0001,-222.784 623.5,-212.784 620.0001,-222.784 627.0001,-222.784\" stroke=\"#000000\"/>\n",
       "</g>\n",
       "<!-- 139701919779216 -->\n",
       "<g class=\"node\" id=\"node9\">\n",
       "<title>139701919779216</title>\n",
       "<polygon fill=\"none\" points=\"493.5,-83.5 493.5,-129.5 753.5,-129.5 753.5,-83.5 493.5,-83.5\" stroke=\"#000000\"/>\n",
       "<text fill=\"#000000\" font-family=\"Times,serif\" font-size=\"14.00\" text-anchor=\"middle\" x=\"545.5\" y=\"-102.8\">dense_1: Dense</text>\n",
       "<polyline fill=\"none\" points=\"597.5,-83.5 597.5,-129.5 \" stroke=\"#000000\"/>\n",
       "<text fill=\"#000000\" font-family=\"Times,serif\" font-size=\"14.00\" text-anchor=\"middle\" x=\"626.5\" y=\"-114.3\">input:</text>\n",
       "<polyline fill=\"none\" points=\"597.5,-106.5 655.5,-106.5 \" stroke=\"#000000\"/>\n",
       "<text fill=\"#000000\" font-family=\"Times,serif\" font-size=\"14.00\" text-anchor=\"middle\" x=\"626.5\" y=\"-91.3\">output:</text>\n",
       "<polyline fill=\"none\" points=\"655.5,-83.5 655.5,-129.5 \" stroke=\"#000000\"/>\n",
       "<text fill=\"#000000\" font-family=\"Times,serif\" font-size=\"14.00\" text-anchor=\"middle\" x=\"704.5\" y=\"-114.3\">(None, 29, 5)</text>\n",
       "<polyline fill=\"none\" points=\"655.5,-106.5 753.5,-106.5 \" stroke=\"#000000\"/>\n",
       "<text fill=\"#000000\" font-family=\"Times,serif\" font-size=\"14.00\" text-anchor=\"middle\" x=\"704.5\" y=\"-91.3\">(None, 29, 32)</text>\n",
       "</g>\n",
       "<!-- 139701902522192&#45;&gt;139701919779216 -->\n",
       "<g class=\"edge\" id=\"edge9\">\n",
       "<title>139701902522192-&gt;139701919779216</title>\n",
       "<path d=\"M623.5,-166.3799C623.5,-158.1745 623.5,-148.7679 623.5,-139.8786\" fill=\"none\" stroke=\"#000000\"/>\n",
       "<polygon fill=\"#000000\" points=\"627.0001,-139.784 623.5,-129.784 620.0001,-139.784 627.0001,-139.784\" stroke=\"#000000\"/>\n",
       "</g>\n",
       "<!-- 139701537862288 -->\n",
       "<g class=\"node\" id=\"node10\">\n",
       "<title>139701537862288</title>\n",
       "<polygon fill=\"none\" points=\"493.5,-.5 493.5,-46.5 753.5,-46.5 753.5,-.5 493.5,-.5\" stroke=\"#000000\"/>\n",
       "<text fill=\"#000000\" font-family=\"Times,serif\" font-size=\"14.00\" text-anchor=\"middle\" x=\"545.5\" y=\"-19.8\">dense_2: Dense</text>\n",
       "<polyline fill=\"none\" points=\"597.5,-.5 597.5,-46.5 \" stroke=\"#000000\"/>\n",
       "<text fill=\"#000000\" font-family=\"Times,serif\" font-size=\"14.00\" text-anchor=\"middle\" x=\"626.5\" y=\"-31.3\">input:</text>\n",
       "<polyline fill=\"none\" points=\"597.5,-23.5 655.5,-23.5 \" stroke=\"#000000\"/>\n",
       "<text fill=\"#000000\" font-family=\"Times,serif\" font-size=\"14.00\" text-anchor=\"middle\" x=\"626.5\" y=\"-8.3\">output:</text>\n",
       "<polyline fill=\"none\" points=\"655.5,-.5 655.5,-46.5 \" stroke=\"#000000\"/>\n",
       "<text fill=\"#000000\" font-family=\"Times,serif\" font-size=\"14.00\" text-anchor=\"middle\" x=\"704.5\" y=\"-31.3\">(None, 29, 32)</text>\n",
       "<polyline fill=\"none\" points=\"655.5,-23.5 753.5,-23.5 \" stroke=\"#000000\"/>\n",
       "<text fill=\"#000000\" font-family=\"Times,serif\" font-size=\"14.00\" text-anchor=\"middle\" x=\"704.5\" y=\"-8.3\">(None, 29, 5)</text>\n",
       "</g>\n",
       "<!-- 139701919779216&#45;&gt;139701537862288 -->\n",
       "<g class=\"edge\" id=\"edge10\">\n",
       "<title>139701919779216-&gt;139701537862288</title>\n",
       "<path d=\"M623.5,-83.3799C623.5,-75.1745 623.5,-65.7679 623.5,-56.8786\" fill=\"none\" stroke=\"#000000\"/>\n",
       "<polygon fill=\"#000000\" points=\"627.0001,-56.784 623.5,-46.784 620.0001,-56.784 627.0001,-56.784\" stroke=\"#000000\"/>\n",
       "</g>\n",
       "</g>\n",
       "</svg>"
      ],
      "text/plain": [
       "<IPython.core.display.SVG object>"
      ]
     },
     "execution_count": 6,
     "metadata": {},
     "output_type": "execute_result"
    }
   ],
   "source": [
    "\n",
    "SVG(model_to_dot(final_model,show_shapes=True).create(prog='dot', format='svg'))\n"
   ]
  },
  {
   "cell_type": "code",
   "execution_count": 7,
   "metadata": {},
   "outputs": [],
   "source": [
    "np.random.seed(3)\n",
    "# get random partition\n",
    "msk = np.random.rand(np.shape(headers_padded)[0]) < 0.75\n",
    "# test and train split\n",
    "train_matrices_padded = matrices_padded[msk,:,:]\n",
    "train_headers_padded = headers_padded[msk,:]\n",
    "train_connectivities_padded = connectivities_padded[msk,:,:]\n",
    "test_matrices_padded = matrices_padded[~msk,:,:]\n",
    "test_headers_padded = headers_padded[~msk,:]\n",
    "test_connectivities_padded = connectivities_padded[~msk,:,:]"
   ]
  },
  {
   "cell_type": "code",
   "execution_count": 8,
   "metadata": {},
   "outputs": [
    {
     "data": {
      "text/plain": [
       "(2476, 29, 29, 3)"
      ]
     },
     "execution_count": 8,
     "metadata": {},
     "output_type": "execute_result"
    }
   ],
   "source": [
    "test_matrices_padded.shape"
   ]
  },
  {
   "cell_type": "code",
   "execution_count": 9,
   "metadata": {},
   "outputs": [
    {
     "name": "stdout",
     "output_type": "stream",
     "text": [
      "WARNING:tensorflow:From /home/jp/anaconda2/envs/mols3/lib/python2.7/site-packages/tensorflow/python/ops/math_ops.py:3066: to_int32 (from tensorflow.python.ops.math_ops) is deprecated and will be removed in a future version.\n",
      "Instructions for updating:\n",
      "Use tf.cast instead.\n",
      "WARNING:tensorflow:From /home/jp/anaconda2/envs/mols3/lib/python2.7/site-packages/tensorflow/python/ops/math_grad.py:102: div (from tensorflow.python.ops.math_ops) is deprecated and will be removed in a future version.\n",
      "Instructions for updating:\n",
      "Deprecated in favor of operator or tf.math.divide.\n",
      "Train on 6771 samples, validate on 753 samples\n",
      "Epoch 1/75\n",
      "6771/6771 [==============================] - 2s 278us/step - loss: 0.8659 - categorical_accuracy: 0.5535 - categorical_crossentropy: 0.8659 - val_loss: 0.6931 - val_categorical_accuracy: 0.6102 - val_categorical_crossentropy: 0.6931\n",
      "Epoch 2/75\n",
      "6771/6771 [==============================] - 1s 77us/step - loss: 0.6139 - categorical_accuracy: 0.8614 - categorical_crossentropy: 0.6139 - val_loss: 0.5279 - val_categorical_accuracy: 0.9156 - val_categorical_crossentropy: 0.5279\n",
      "Epoch 3/75\n",
      "6771/6771 [==============================] - 1s 78us/step - loss: 0.4466 - categorical_accuracy: 0.9150 - categorical_crossentropy: 0.4466 - val_loss: 0.3633 - val_categorical_accuracy: 0.9156 - val_categorical_crossentropy: 0.3633\n",
      "Epoch 4/75\n",
      "6771/6771 [==============================] - 1s 77us/step - loss: 0.3153 - categorical_accuracy: 0.9149 - categorical_crossentropy: 0.3153 - val_loss: 0.2737 - val_categorical_accuracy: 0.9154 - val_categorical_crossentropy: 0.2737\n",
      "Epoch 5/75\n",
      "6771/6771 [==============================] - 1s 81us/step - loss: 0.2395 - categorical_accuracy: 0.9149 - categorical_crossentropy: 0.2395 - val_loss: 0.2073 - val_categorical_accuracy: 0.9154 - val_categorical_crossentropy: 0.2073\n",
      "Epoch 6/75\n",
      "6771/6771 [==============================] - 1s 80us/step - loss: 0.1840 - categorical_accuracy: 0.9288 - categorical_crossentropy: 0.1840 - val_loss: 0.1631 - val_categorical_accuracy: 0.9395 - val_categorical_crossentropy: 0.1631\n",
      "Epoch 7/75\n",
      "6771/6771 [==============================] - 1s 79us/step - loss: 0.1469 - categorical_accuracy: 0.9606 - categorical_crossentropy: 0.1469 - val_loss: 0.1315 - val_categorical_accuracy: 0.9745 - val_categorical_crossentropy: 0.1315\n",
      "Epoch 8/75\n",
      "6771/6771 [==============================] - 0s 72us/step - loss: 0.1192 - categorical_accuracy: 0.9737 - categorical_crossentropy: 0.1192 - val_loss: 0.1085 - val_categorical_accuracy: 0.9745 - val_categorical_crossentropy: 0.1085\n",
      "Epoch 9/75\n",
      "6771/6771 [==============================] - 0s 69us/step - loss: 0.0984 - categorical_accuracy: 0.9739 - categorical_crossentropy: 0.0984 - val_loss: 0.0903 - val_categorical_accuracy: 0.9786 - val_categorical_crossentropy: 0.0903\n",
      "Epoch 10/75\n",
      "6771/6771 [==============================] - 1s 77us/step - loss: 0.0827 - categorical_accuracy: 0.9784 - categorical_crossentropy: 0.0827 - val_loss: 0.0775 - val_categorical_accuracy: 0.9786 - val_categorical_crossentropy: 0.0775\n",
      "Epoch 11/75\n",
      "6771/6771 [==============================] - 1s 74us/step - loss: 0.0714 - categorical_accuracy: 0.9784 - categorical_crossentropy: 0.0714 - val_loss: 0.0680 - val_categorical_accuracy: 0.9786 - val_categorical_crossentropy: 0.0680\n",
      "Epoch 12/75\n",
      "6771/6771 [==============================] - 1s 78us/step - loss: 0.0629 - categorical_accuracy: 0.9784 - categorical_crossentropy: 0.0629 - val_loss: 0.0607 - val_categorical_accuracy: 0.9786 - val_categorical_crossentropy: 0.0607\n",
      "Epoch 13/75\n",
      "6771/6771 [==============================] - 1s 81us/step - loss: 0.0564 - categorical_accuracy: 0.9784 - categorical_crossentropy: 0.0564 - val_loss: 0.0547 - val_categorical_accuracy: 0.9786 - val_categorical_crossentropy: 0.0547\n",
      "Epoch 14/75\n",
      "6771/6771 [==============================] - 1s 77us/step - loss: 0.0508 - categorical_accuracy: 0.9784 - categorical_crossentropy: 0.0508 - val_loss: 0.0498 - val_categorical_accuracy: 0.9786 - val_categorical_crossentropy: 0.0498\n",
      "Epoch 15/75\n",
      "6771/6771 [==============================] - 1s 75us/step - loss: 0.0446 - categorical_accuracy: 0.9911 - categorical_crossentropy: 0.0446 - val_loss: 0.0431 - val_categorical_accuracy: 0.9957 - val_categorical_crossentropy: 0.0431\n",
      "Epoch 16/75\n",
      "6771/6771 [==============================] - 0s 71us/step - loss: 0.0395 - categorical_accuracy: 0.9954 - categorical_crossentropy: 0.0395 - val_loss: 0.0386 - val_categorical_accuracy: 0.9957 - val_categorical_crossentropy: 0.0386\n",
      "Epoch 17/75\n",
      "6771/6771 [==============================] - 0s 64us/step - loss: 0.0359 - categorical_accuracy: 0.9954 - categorical_crossentropy: 0.0359 - val_loss: 0.0356 - val_categorical_accuracy: 0.9957 - val_categorical_crossentropy: 0.0356\n",
      "Epoch 18/75\n",
      "6771/6771 [==============================] - 0s 61us/step - loss: 0.0331 - categorical_accuracy: 0.9954 - categorical_crossentropy: 0.0331 - val_loss: 0.0327 - val_categorical_accuracy: 0.9957 - val_categorical_crossentropy: 0.0327\n",
      "Epoch 19/75\n",
      "6771/6771 [==============================] - 0s 65us/step - loss: 0.0308 - categorical_accuracy: 0.9954 - categorical_crossentropy: 0.0308 - val_loss: 0.0305 - val_categorical_accuracy: 0.9957 - val_categorical_crossentropy: 0.0305\n",
      "Epoch 20/75\n",
      "6771/6771 [==============================] - 0s 64us/step - loss: 0.0289 - categorical_accuracy: 0.9954 - categorical_crossentropy: 0.0289 - val_loss: 0.0289 - val_categorical_accuracy: 0.9957 - val_categorical_crossentropy: 0.0289\n",
      "Epoch 21/75\n",
      "6771/6771 [==============================] - 0s 62us/step - loss: 0.0275 - categorical_accuracy: 0.9954 - categorical_crossentropy: 0.0275 - val_loss: 0.0273 - val_categorical_accuracy: 0.9957 - val_categorical_crossentropy: 0.0273\n",
      "Epoch 22/75\n",
      "6771/6771 [==============================] - 1s 74us/step - loss: 0.0264 - categorical_accuracy: 0.9954 - categorical_crossentropy: 0.0264 - val_loss: 0.0263 - val_categorical_accuracy: 0.9957 - val_categorical_crossentropy: 0.0263\n",
      "Epoch 23/75\n",
      "6771/6771 [==============================] - 0s 73us/step - loss: 0.0255 - categorical_accuracy: 0.9954 - categorical_crossentropy: 0.0255 - val_loss: 0.0255 - val_categorical_accuracy: 0.9957 - val_categorical_crossentropy: 0.0255\n",
      "Epoch 24/75\n",
      "6771/6771 [==============================] - 1s 79us/step - loss: 0.0250 - categorical_accuracy: 0.9954 - categorical_crossentropy: 0.0250 - val_loss: 0.0251 - val_categorical_accuracy: 0.9957 - val_categorical_crossentropy: 0.0251\n",
      "Epoch 25/75\n",
      "6771/6771 [==============================] - 1s 75us/step - loss: 0.0244 - categorical_accuracy: 0.9954 - categorical_crossentropy: 0.0244 - val_loss: 0.0243 - val_categorical_accuracy: 0.9957 - val_categorical_crossentropy: 0.0243\n",
      "Epoch 26/75\n",
      "6771/6771 [==============================] - 0s 72us/step - loss: 0.0240 - categorical_accuracy: 0.9954 - categorical_crossentropy: 0.0240 - val_loss: 0.0238 - val_categorical_accuracy: 0.9957 - val_categorical_crossentropy: 0.0238\n",
      "Epoch 27/75\n",
      "6771/6771 [==============================] - 0s 62us/step - loss: 0.0237 - categorical_accuracy: 0.9954 - categorical_crossentropy: 0.0237 - val_loss: 0.0236 - val_categorical_accuracy: 0.9957 - val_categorical_crossentropy: 0.0236\n",
      "Epoch 28/75\n",
      "6771/6771 [==============================] - 0s 63us/step - loss: 0.0234 - categorical_accuracy: 0.9954 - categorical_crossentropy: 0.0234 - val_loss: 0.0235 - val_categorical_accuracy: 0.9957 - val_categorical_crossentropy: 0.0235\n",
      "Epoch 29/75\n",
      "6771/6771 [==============================] - 0s 62us/step - loss: 0.0233 - categorical_accuracy: 0.9954 - categorical_crossentropy: 0.0233 - val_loss: 0.0231 - val_categorical_accuracy: 0.9957 - val_categorical_crossentropy: 0.0231\n",
      "Epoch 30/75\n",
      "6771/6771 [==============================] - 0s 63us/step - loss: 0.0230 - categorical_accuracy: 0.9954 - categorical_crossentropy: 0.0230 - val_loss: 0.0228 - val_categorical_accuracy: 0.9957 - val_categorical_crossentropy: 0.0228\n",
      "Epoch 31/75\n",
      "6771/6771 [==============================] - 0s 66us/step - loss: 0.0228 - categorical_accuracy: 0.9954 - categorical_crossentropy: 0.0228 - val_loss: 0.0226 - val_categorical_accuracy: 0.9957 - val_categorical_crossentropy: 0.0226\n",
      "Epoch 32/75\n"
     ]
    },
    {
     "name": "stdout",
     "output_type": "stream",
     "text": [
      "6771/6771 [==============================] - 0s 71us/step - loss: 0.0227 - categorical_accuracy: 0.9954 - categorical_crossentropy: 0.0227 - val_loss: 0.0224 - val_categorical_accuracy: 0.9957 - val_categorical_crossentropy: 0.0224\n",
      "Epoch 33/75\n",
      "6771/6771 [==============================] - 1s 77us/step - loss: 0.0226 - categorical_accuracy: 0.9954 - categorical_crossentropy: 0.0226 - val_loss: 0.0224 - val_categorical_accuracy: 0.9957 - val_categorical_crossentropy: 0.0224\n",
      "Epoch 34/75\n",
      "6771/6771 [==============================] - 1s 74us/step - loss: 0.0225 - categorical_accuracy: 0.9954 - categorical_crossentropy: 0.0225 - val_loss: 0.0223 - val_categorical_accuracy: 0.9957 - val_categorical_crossentropy: 0.0223\n",
      "Epoch 35/75\n",
      "6771/6771 [==============================] - 0s 64us/step - loss: 0.0224 - categorical_accuracy: 0.9954 - categorical_crossentropy: 0.0224 - val_loss: 0.0222 - val_categorical_accuracy: 0.9957 - val_categorical_crossentropy: 0.0222\n",
      "Epoch 36/75\n",
      "6771/6771 [==============================] - 1s 80us/step - loss: 0.0223 - categorical_accuracy: 0.9954 - categorical_crossentropy: 0.0223 - val_loss: 0.0222 - val_categorical_accuracy: 0.9957 - val_categorical_crossentropy: 0.0222\n",
      "Epoch 37/75\n",
      "6771/6771 [==============================] - 0s 70us/step - loss: 0.0222 - categorical_accuracy: 0.9954 - categorical_crossentropy: 0.0222 - val_loss: 0.0222 - val_categorical_accuracy: 0.9957 - val_categorical_crossentropy: 0.0222\n",
      "Epoch 38/75\n",
      "6771/6771 [==============================] - 1s 78us/step - loss: 0.0222 - categorical_accuracy: 0.9954 - categorical_crossentropy: 0.0222 - val_loss: 0.0223 - val_categorical_accuracy: 0.9957 - val_categorical_crossentropy: 0.0223\n",
      "Epoch 39/75\n",
      "6771/6771 [==============================] - 1s 78us/step - loss: 0.0222 - categorical_accuracy: 0.9954 - categorical_crossentropy: 0.0222 - val_loss: 0.0219 - val_categorical_accuracy: 0.9957 - val_categorical_crossentropy: 0.0219\n",
      "Epoch 40/75\n",
      "6771/6771 [==============================] - 1s 77us/step - loss: 0.0221 - categorical_accuracy: 0.9954 - categorical_crossentropy: 0.0221 - val_loss: 0.0219 - val_categorical_accuracy: 0.9957 - val_categorical_crossentropy: 0.0219\n",
      "Epoch 41/75\n",
      "6771/6771 [==============================] - 1s 79us/step - loss: 0.0220 - categorical_accuracy: 0.9954 - categorical_crossentropy: 0.0220 - val_loss: 0.0218 - val_categorical_accuracy: 0.9957 - val_categorical_crossentropy: 0.0218\n",
      "Epoch 42/75\n",
      "6771/6771 [==============================] - 1s 80us/step - loss: 0.0222 - categorical_accuracy: 0.9954 - categorical_crossentropy: 0.0222 - val_loss: 0.0219 - val_categorical_accuracy: 0.9957 - val_categorical_crossentropy: 0.0219\n",
      "Epoch 43/75\n",
      "6771/6771 [==============================] - 1s 80us/step - loss: 0.0221 - categorical_accuracy: 0.9954 - categorical_crossentropy: 0.0221 - val_loss: 0.0216 - val_categorical_accuracy: 0.9957 - val_categorical_crossentropy: 0.0216\n",
      "Epoch 44/75\n",
      "6771/6771 [==============================] - 1s 79us/step - loss: 0.0219 - categorical_accuracy: 0.9954 - categorical_crossentropy: 0.0219 - val_loss: 0.0220 - val_categorical_accuracy: 0.9957 - val_categorical_crossentropy: 0.0220\n",
      "Epoch 45/75\n",
      "6771/6771 [==============================] - 1s 76us/step - loss: 0.0219 - categorical_accuracy: 0.9954 - categorical_crossentropy: 0.0219 - val_loss: 0.0216 - val_categorical_accuracy: 0.9957 - val_categorical_crossentropy: 0.0216\n",
      "Epoch 46/75\n",
      "6771/6771 [==============================] - 1s 76us/step - loss: 0.0219 - categorical_accuracy: 0.9954 - categorical_crossentropy: 0.0219 - val_loss: 0.0215 - val_categorical_accuracy: 0.9957 - val_categorical_crossentropy: 0.0215\n",
      "Epoch 47/75\n",
      "6771/6771 [==============================] - 0s 72us/step - loss: 0.0218 - categorical_accuracy: 0.9954 - categorical_crossentropy: 0.0218 - val_loss: 0.0217 - val_categorical_accuracy: 0.9957 - val_categorical_crossentropy: 0.0217\n",
      "Epoch 48/75\n",
      "6771/6771 [==============================] - 1s 77us/step - loss: 0.0218 - categorical_accuracy: 0.9954 - categorical_crossentropy: 0.0218 - val_loss: 0.0214 - val_categorical_accuracy: 0.9957 - val_categorical_crossentropy: 0.0214\n",
      "Epoch 49/75\n",
      "6771/6771 [==============================] - 1s 79us/step - loss: 0.0219 - categorical_accuracy: 0.9954 - categorical_crossentropy: 0.0219 - val_loss: 0.0216 - val_categorical_accuracy: 0.9957 - val_categorical_crossentropy: 0.0216\n",
      "Epoch 50/75\n",
      "6771/6771 [==============================] - 0s 67us/step - loss: 0.0218 - categorical_accuracy: 0.9954 - categorical_crossentropy: 0.0218 - val_loss: 0.0217 - val_categorical_accuracy: 0.9957 - val_categorical_crossentropy: 0.0217\n",
      "Epoch 51/75\n",
      "6771/6771 [==============================] - 0s 74us/step - loss: 0.0219 - categorical_accuracy: 0.9954 - categorical_crossentropy: 0.0219 - val_loss: 0.0222 - val_categorical_accuracy: 0.9957 - val_categorical_crossentropy: 0.0222\n",
      "Epoch 52/75\n",
      "6771/6771 [==============================] - 0s 71us/step - loss: 0.0217 - categorical_accuracy: 0.9954 - categorical_crossentropy: 0.0217 - val_loss: 0.0224 - val_categorical_accuracy: 0.9957 - val_categorical_crossentropy: 0.0224\n",
      "Epoch 53/75\n",
      "6771/6771 [==============================] - 0s 72us/step - loss: 0.0219 - categorical_accuracy: 0.9954 - categorical_crossentropy: 0.0219 - val_loss: 0.0219 - val_categorical_accuracy: 0.9957 - val_categorical_crossentropy: 0.0219\n",
      "Epoch 54/75\n",
      "6771/6771 [==============================] - 1s 75us/step - loss: 0.0217 - categorical_accuracy: 0.9954 - categorical_crossentropy: 0.0217 - val_loss: 0.0222 - val_categorical_accuracy: 0.9957 - val_categorical_crossentropy: 0.0222\n",
      "Epoch 55/75\n",
      "6771/6771 [==============================] - 1s 80us/step - loss: 0.0217 - categorical_accuracy: 0.9954 - categorical_crossentropy: 0.0217 - val_loss: 0.0215 - val_categorical_accuracy: 0.9957 - val_categorical_crossentropy: 0.0215\n",
      "Epoch 56/75\n",
      "6771/6771 [==============================] - 0s 71us/step - loss: 0.0217 - categorical_accuracy: 0.9954 - categorical_crossentropy: 0.0217 - val_loss: 0.0214 - val_categorical_accuracy: 0.9957 - val_categorical_crossentropy: 0.0214\n",
      "Epoch 57/75\n",
      "6771/6771 [==============================] - 0s 72us/step - loss: 0.0217 - categorical_accuracy: 0.9954 - categorical_crossentropy: 0.0217 - val_loss: 0.0214 - val_categorical_accuracy: 0.9957 - val_categorical_crossentropy: 0.0214\n",
      "Epoch 58/75\n",
      "6771/6771 [==============================] - 1s 77us/step - loss: 0.0217 - categorical_accuracy: 0.9954 - categorical_crossentropy: 0.0217 - val_loss: 0.0213 - val_categorical_accuracy: 0.9957 - val_categorical_crossentropy: 0.0213\n",
      "Epoch 59/75\n",
      "6771/6771 [==============================] - 1s 76us/step - loss: 0.0216 - categorical_accuracy: 0.9954 - categorical_crossentropy: 0.0216 - val_loss: 0.0214 - val_categorical_accuracy: 0.9957 - val_categorical_crossentropy: 0.0214\n",
      "Epoch 60/75\n",
      "6771/6771 [==============================] - 0s 67us/step - loss: 0.0216 - categorical_accuracy: 0.9954 - categorical_crossentropy: 0.0216 - val_loss: 0.0219 - val_categorical_accuracy: 0.9957 - val_categorical_crossentropy: 0.0219\n",
      "Epoch 61/75\n",
      "6771/6771 [==============================] - 0s 69us/step - loss: 0.0216 - categorical_accuracy: 0.9954 - categorical_crossentropy: 0.0216 - val_loss: 0.0220 - val_categorical_accuracy: 0.9957 - val_categorical_crossentropy: 0.0220\n",
      "Epoch 62/75\n",
      "6771/6771 [==============================] - 0s 67us/step - loss: 0.0217 - categorical_accuracy: 0.9954 - categorical_crossentropy: 0.0217 - val_loss: 0.0213 - val_categorical_accuracy: 0.9957 - val_categorical_crossentropy: 0.0213\n",
      "Epoch 63/75\n",
      "6771/6771 [==============================] - 0s 69us/step - loss: 0.0216 - categorical_accuracy: 0.9954 - categorical_crossentropy: 0.0216 - val_loss: 0.0212 - val_categorical_accuracy: 0.9958 - val_categorical_crossentropy: 0.0212\n",
      "Epoch 64/75\n",
      "6771/6771 [==============================] - 0s 69us/step - loss: 0.0217 - categorical_accuracy: 0.9954 - categorical_crossentropy: 0.0217 - val_loss: 0.0212 - val_categorical_accuracy: 0.9957 - val_categorical_crossentropy: 0.0212\n",
      "Epoch 65/75\n",
      "6771/6771 [==============================] - 1s 79us/step - loss: 0.0217 - categorical_accuracy: 0.9954 - categorical_crossentropy: 0.0217 - val_loss: 0.0218 - val_categorical_accuracy: 0.9958 - val_categorical_crossentropy: 0.0218\n"
     ]
    },
    {
     "name": "stdout",
     "output_type": "stream",
     "text": [
      "Epoch 66/75\n",
      "6771/6771 [==============================] - 1s 74us/step - loss: 0.0216 - categorical_accuracy: 0.9954 - categorical_crossentropy: 0.0216 - val_loss: 0.0215 - val_categorical_accuracy: 0.9957 - val_categorical_crossentropy: 0.0215\n",
      "Epoch 67/75\n",
      "6771/6771 [==============================] - 0s 64us/step - loss: 0.0215 - categorical_accuracy: 0.9954 - categorical_crossentropy: 0.0215 - val_loss: 0.0211 - val_categorical_accuracy: 0.9957 - val_categorical_crossentropy: 0.0211\n",
      "Epoch 68/75\n",
      "6771/6771 [==============================] - 0s 59us/step - loss: 0.0215 - categorical_accuracy: 0.9954 - categorical_crossentropy: 0.0215 - val_loss: 0.0215 - val_categorical_accuracy: 0.9958 - val_categorical_crossentropy: 0.0215\n",
      "Epoch 69/75\n",
      "6771/6771 [==============================] - 0s 59us/step - loss: 0.0216 - categorical_accuracy: 0.9954 - categorical_crossentropy: 0.0216 - val_loss: 0.0213 - val_categorical_accuracy: 0.9958 - val_categorical_crossentropy: 0.0213\n",
      "Epoch 70/75\n",
      "6771/6771 [==============================] - 0s 60us/step - loss: 0.0215 - categorical_accuracy: 0.9954 - categorical_crossentropy: 0.0215 - val_loss: 0.0214 - val_categorical_accuracy: 0.9958 - val_categorical_crossentropy: 0.0214\n",
      "Epoch 71/75\n",
      "6771/6771 [==============================] - 0s 66us/step - loss: 0.0216 - categorical_accuracy: 0.9954 - categorical_crossentropy: 0.0216 - val_loss: 0.0212 - val_categorical_accuracy: 0.9957 - val_categorical_crossentropy: 0.0212\n",
      "Epoch 72/75\n",
      "6771/6771 [==============================] - 1s 83us/step - loss: 0.0215 - categorical_accuracy: 0.9954 - categorical_crossentropy: 0.0215 - val_loss: 0.0214 - val_categorical_accuracy: 0.9958 - val_categorical_crossentropy: 0.0214\n",
      "Epoch 73/75\n",
      "6771/6771 [==============================] - 1s 89us/step - loss: 0.0215 - categorical_accuracy: 0.9954 - categorical_crossentropy: 0.0215 - val_loss: 0.0211 - val_categorical_accuracy: 0.9958 - val_categorical_crossentropy: 0.0211\n",
      "Epoch 74/75\n",
      "6771/6771 [==============================] - 1s 87us/step - loss: 0.0216 - categorical_accuracy: 0.9954 - categorical_crossentropy: 0.0216 - val_loss: 0.0213 - val_categorical_accuracy: 0.9958 - val_categorical_crossentropy: 0.0213\n",
      "Epoch 75/75\n",
      "6771/6771 [==============================] - 0s 71us/step - loss: 0.0217 - categorical_accuracy: 0.9954 - categorical_crossentropy: 0.0217 - val_loss: 0.0212 - val_categorical_accuracy: 0.9958 - val_categorical_crossentropy: 0.0212\n"
     ]
    }
   ],
   "source": [
    "final_model.compile(optimizer=keras.optimizers.Adam(lr=0.001),\n",
    "              loss='categorical_crossentropy',\n",
    "              metrics=['categorical_accuracy','categorical_crossentropy'])\n",
    "\n",
    "train_res = final_model.fit([train_matrices_padded, \n",
    "                             train_headers_padded*0.0, train_connectivities_padded],\n",
    "                            train_headers_padded, epochs=75, \n",
    "                            batch_size=100,\n",
    "                            validation_split=0.1,\n",
    "                            verbose=True)"
   ]
  },
  {
   "cell_type": "code",
   "execution_count": 10,
   "metadata": {},
   "outputs": [
    {
     "data": {
      "text/plain": [
       "<Figure size 640x480 with 1 Axes>"
      ]
     },
     "metadata": {},
     "output_type": "display_data"
    }
   ],
   "source": [
    "import matplotlib.pyplot as plt\n",
    "plt.plot(train_res.history['categorical_accuracy'])\n",
    "plt.plot(train_res.history['val_categorical_accuracy'],'r')\n",
    "plt.show()"
   ]
  },
  {
   "cell_type": "code",
   "execution_count": 11,
   "metadata": {},
   "outputs": [
    {
     "data": {
      "image/png": "[encoded data removed]",
      "text/plain": [
       "<Figure size 432x288 with 1 Axes>"
      ]
     },
     "metadata": {
      "needs_background": "light"
     },
     "output_type": "display_data"
    }
   ],
   "source": [
    "import matplotlib.pyplot as plt\n",
    "plt.plot(train_res.history['categorical_crossentropy'],'b')\n",
    "plt.plot(train_res.history['val_categorical_crossentropy'],'r')\n",
    "plt.show()"
   ]
  },
  {
   "cell_type": "code",
   "execution_count": 12,
   "metadata": {},
   "outputs": [],
   "source": [
    "test_predictions = final_model.predict([test_matrices_padded, test_headers_padded, test_connectivities_padded])"
   ]
  },
  {
   "cell_type": "code",
   "execution_count": 13,
   "metadata": {},
   "outputs": [
    {
     "name": "stdout",
     "output_type": "stream",
     "text": [
      "(2476, 29)\n"
     ]
    }
   ],
   "source": [
    "test_class_pred = test_predictions.argmax(axis=2)\n",
    "print(test_class_pred.shape)"
   ]
  },
  {
   "cell_type": "code",
   "execution_count": 14,
   "metadata": {},
   "outputs": [
    {
     "name": "stdout",
     "output_type": "stream",
     "text": [
      "(2476, 29)\n"
     ]
    }
   ],
   "source": [
    "test_class_act = test_headers_padded.argmax(axis=2)\n",
    "print(test_class_act.shape)"
   ]
  },
  {
   "cell_type": "code",
   "execution_count": 15,
   "metadata": {},
   "outputs": [],
   "source": [
    "test_errors = test_class_act != test_class_pred"
   ]
  },
  {
   "cell_type": "code",
   "execution_count": 16,
   "metadata": {},
   "outputs": [
    {
     "name": "stdout",
     "output_type": "stream",
     "text": [
      "test error rate is 55.709988301487385\n"
     ]
    }
   ],
   "source": [
    "err_rate = 100*np.sum(np.sum(test_errors))/float(test_class_act.shape[0]*test_class_act.shape[1])\n",
    "print('test error rate is ' + str(err_rate))"
   ]
  },
  {
   "cell_type": "code",
   "execution_count": null,
   "metadata": {},
   "outputs": [],
   "source": []
  },
  {
   "cell_type": "code",
   "execution_count": 17,
   "metadata": {},
   "outputs": [],
   "source": [
    "def sample_gumbel(shape, eps=1e-20): \n",
    "  \"\"\"Sample from Gumbel(0, 1)\"\"\"\n",
    "  U = tf.random_uniform(shape,minval=0,maxval=1)\n",
    "  return -tf.log(-tf.log(U + eps) + eps)\n",
    "\n",
    "def gumbel_softmax_sample(logits, temperature): \n",
    "  \"\"\" Draw a sample from the Gumbel-Softmax distribution\"\"\"\n",
    "  y = logits + sample_gumbel(tf.shape(logits))\n",
    "  return tf.nn.softmax( y / temperature)\n",
    "\n",
    "def gumbel_softmax(logits, temperature, hard=False):\n",
    "  \"\"\"Sample from the Gumbel-Softmax distribution and optionally discretize.\n",
    "  Args:\n",
    "    logits: [batch_size, n_class] unnormalized log-probs\n",
    "    temperature: non-negative scalar\n",
    "    hard: if True, take argmax, but differentiate w.r.t. soft sample y\n",
    "  Returns:\n",
    "    [batch_size, n_class] sample from the Gumbel-Softmax distribution.\n",
    "    If hard=True, then the returned sample will be one-hot, otherwise it will\n",
    "    be a probabilitiy distribution that sums to 1 across classes\n",
    "  \"\"\"\n",
    "  y = gumbel_softmax_sample(logits, temperature)\n",
    "  if hard:\n",
    "    k = tf.shape(logits)[-1]\n",
    "    #y_hard = tf.cast(tf.one_hot(tf.argmax(y,1),k), y.dtype)\n",
    "    y_hard = tf.cast(tf.equal(y,tf.reduce_max(y,1,keep_dims=True)),y.dtype)\n",
    "    y = tf.stop_gradient(y_hard - y) + y\n",
    "  return y"
   ]
  },
  {
   "cell_type": "code",
   "execution_count": 18,
   "metadata": {},
   "outputs": [],
   "source": [
    "def zero_atom_trimmer(untrimmed_nodes):\n",
    "    trimmed_nodes = untrimmed_nodes[:,:,1:6]\n",
    "    return(trimmed_nodes)\n"
   ]
  },
  {
   "cell_type": "code",
   "execution_count": 19,
   "metadata": {},
   "outputs": [],
   "source": [
    "gumbel_softmax_mask = lambda x: gumbel_softmax(logits=x,temperature=0.05)\n",
    "from keras.layers.advanced_activations import LeakyReLU\n",
    "from keras.layers import Dropout\n",
    "## first step is to generate a node label vector \n",
    "def node_gen(latent_dim,num_nodes,atom_types):\n",
    "    inputLayer = keras.layers.Input(shape=(latent_dim,))\n",
    "    first_dense = keras.layers.Dense(128, name=\"first_gen_dense\")(inputLayer)\n",
    "    first_leaky = LeakyReLU(alpha=0.3,name=\"first_gen_LReLU\")(first_dense)\n",
    "    first_drop = Dropout(rate = 0.15,name=\"first_gen_dropout\")(first_leaky)\n",
    "    second_dense = keras.layers.Dense(128,name=\"second_gen_dense\")(first_drop)\n",
    "    second_leaky = LeakyReLU(alpha=0.3,name=\"second_gen_LReLU\")(second_dense)\n",
    "    second_drop = Dropout(rate = 0.15,name=\"second_gen_dropout\")(second_leaky)\n",
    "    third_dense = keras.layers.Dense(num_nodes*64*atom_types, name=\"third_gen_dense\")(second_drop)\n",
    "    third_leaky = LeakyReLU(alpha=0.3,name=\"third_gen_LReLU\")(third_dense) \n",
    "    first_drop = Dropout(rate = 0.15,name=\"first_gen_dropout\")(first_leaky)\n",
    "    node_reshape = keras.layers.Reshape((num_nodes,64*atom_types),name=\"reshape\")(third_leaky)\n",
    "    #node_probs = keras.layers.Dense(atom_types, activation='softmax')(node_reshape)\n",
    "    node_logits = keras.layers.Dense(atom_types, activation='linear',name=\"linear_logits\")(node_reshape)\n",
    "    node_samples = keras.layers.Lambda(gumbel_softmax_mask,name=\"gumbel_softmax\")(node_logits)\n",
    "    node_trim = keras.layers.Lambda(zero_atom_trimmer,name=\"trim_samples\")(node_samples)\n",
    "    node_model = keras.models.Model(inputs=[inputLayer],outputs=[node_trim])\n",
    "    return(node_model)\n",
    "\n"
   ]
  },
  {
   "cell_type": "code",
   "execution_count": 20,
   "metadata": {},
   "outputs": [
    {
     "name": "stdout",
     "output_type": "stream",
     "text": [
      "WARNING:tensorflow:From /home/jp/anaconda2/envs/mols3/lib/python2.7/site-packages/keras/backend/tensorflow_backend.py:3445: calling dropout (from tensorflow.python.ops.nn_ops) with keep_prob is deprecated and will be removed in a future version.\n",
      "Instructions for updating:\n",
      "Please use `rate` instead of `keep_prob`. Rate should be set to `rate = 1 - keep_prob`.\n"
     ]
    }
   ],
   "source": [
    "gm = node_gen(latent_dim=100,num_nodes=29,atom_types=6)"
   ]
  },
  {
   "cell_type": "code",
   "execution_count": 21,
   "metadata": {},
   "outputs": [
    {
     "data": {
      "image/svg+xml": [
       "<svg height=\"1051pt\" viewBox=\"0.00 0.00 364.00 1051.00\" width=\"364pt\" xmlns=\"http://www.w3.org/2000/svg\" xmlns:xlink=\"http://www.w3.org/1999/xlink\">\n",
       "<g class=\"graph\" id=\"graph0\" transform=\"scale(1 1) rotate(0) translate(4 1047)\">\n",
       "<title>G</title>\n",
       "<polygon fill=\"#ffffff\" points=\"-4,4 -4,-1047 360,-1047 360,4 -4,4\" stroke=\"transparent\"/>\n",
       "<!-- 139701537188688 -->\n",
       "<g class=\"node\" id=\"node1\">\n",
       "<title>139701537188688</title>\n",
       "<polygon fill=\"none\" points=\"40.5,-996.5 40.5,-1042.5 315.5,-1042.5 315.5,-996.5 40.5,-996.5\" stroke=\"#000000\"/>\n",
       "<text fill=\"#000000\" font-family=\"Times,serif\" font-size=\"14.00\" text-anchor=\"middle\" x=\"106.5\" y=\"-1015.8\">input_1: InputLayer</text>\n",
       "<polyline fill=\"none\" points=\"172.5,-996.5 172.5,-1042.5 \" stroke=\"#000000\"/>\n",
       "<text fill=\"#000000\" font-family=\"Times,serif\" font-size=\"14.00\" text-anchor=\"middle\" x=\"201.5\" y=\"-1027.3\">input:</text>\n",
       "<polyline fill=\"none\" points=\"172.5,-1019.5 230.5,-1019.5 \" stroke=\"#000000\"/>\n",
       "<text fill=\"#000000\" font-family=\"Times,serif\" font-size=\"14.00\" text-anchor=\"middle\" x=\"201.5\" y=\"-1004.3\">output:</text>\n",
       "<polyline fill=\"none\" points=\"230.5,-996.5 230.5,-1042.5 \" stroke=\"#000000\"/>\n",
       "<text fill=\"#000000\" font-family=\"Times,serif\" font-size=\"14.00\" text-anchor=\"middle\" x=\"273\" y=\"-1027.3\">(None, 100)</text>\n",
       "<polyline fill=\"none\" points=\"230.5,-1019.5 315.5,-1019.5 \" stroke=\"#000000\"/>\n",
       "<text fill=\"#000000\" font-family=\"Times,serif\" font-size=\"14.00\" text-anchor=\"middle\" x=\"273\" y=\"-1004.3\">(None, 100)</text>\n",
       "</g>\n",
       "<!-- 139699784560144 -->\n",
       "<g class=\"node\" id=\"node2\">\n",
       "<title>139699784560144</title>\n",
       "<polygon fill=\"none\" points=\"32.5,-913.5 32.5,-959.5 323.5,-959.5 323.5,-913.5 32.5,-913.5\" stroke=\"#000000\"/>\n",
       "<text fill=\"#000000\" font-family=\"Times,serif\" font-size=\"14.00\" text-anchor=\"middle\" x=\"106.5\" y=\"-932.8\">first_gen_dense: Dense</text>\n",
       "<polyline fill=\"none\" points=\"180.5,-913.5 180.5,-959.5 \" stroke=\"#000000\"/>\n",
       "<text fill=\"#000000\" font-family=\"Times,serif\" font-size=\"14.00\" text-anchor=\"middle\" x=\"209.5\" y=\"-944.3\">input:</text>\n",
       "<polyline fill=\"none\" points=\"180.5,-936.5 238.5,-936.5 \" stroke=\"#000000\"/>\n",
       "<text fill=\"#000000\" font-family=\"Times,serif\" font-size=\"14.00\" text-anchor=\"middle\" x=\"209.5\" y=\"-921.3\">output:</text>\n",
       "<polyline fill=\"none\" points=\"238.5,-913.5 238.5,-959.5 \" stroke=\"#000000\"/>\n",
       "<text fill=\"#000000\" font-family=\"Times,serif\" font-size=\"14.00\" text-anchor=\"middle\" x=\"281\" y=\"-944.3\">(None, 100)</text>\n",
       "<polyline fill=\"none\" points=\"238.5,-936.5 323.5,-936.5 \" stroke=\"#000000\"/>\n",
       "<text fill=\"#000000\" font-family=\"Times,serif\" font-size=\"14.00\" text-anchor=\"middle\" x=\"281\" y=\"-921.3\">(None, 128)</text>\n",
       "</g>\n",
       "<!-- 139701537188688&#45;&gt;139699784560144 -->\n",
       "<g class=\"edge\" id=\"edge1\">\n",
       "<title>139701537188688-&gt;139699784560144</title>\n",
       "<path d=\"M178,-996.3799C178,-988.1745 178,-978.7679 178,-969.8786\" fill=\"none\" stroke=\"#000000\"/>\n",
       "<polygon fill=\"#000000\" points=\"181.5001,-969.784 178,-959.784 174.5001,-969.784 181.5001,-969.784\" stroke=\"#000000\"/>\n",
       "</g>\n",
       "<!-- 139699784557712 -->\n",
       "<g class=\"node\" id=\"node3\">\n",
       "<title>139699784557712</title>\n",
       "<polygon fill=\"none\" points=\"8.5,-830.5 8.5,-876.5 347.5,-876.5 347.5,-830.5 8.5,-830.5\" stroke=\"#000000\"/>\n",
       "<text fill=\"#000000\" font-family=\"Times,serif\" font-size=\"14.00\" text-anchor=\"middle\" x=\"106.5\" y=\"-849.8\">first_gen_LReLU: LeakyReLU</text>\n",
       "<polyline fill=\"none\" points=\"204.5,-830.5 204.5,-876.5 \" stroke=\"#000000\"/>\n",
       "<text fill=\"#000000\" font-family=\"Times,serif\" font-size=\"14.00\" text-anchor=\"middle\" x=\"233.5\" y=\"-861.3\">input:</text>\n",
       "<polyline fill=\"none\" points=\"204.5,-853.5 262.5,-853.5 \" stroke=\"#000000\"/>\n",
       "<text fill=\"#000000\" font-family=\"Times,serif\" font-size=\"14.00\" text-anchor=\"middle\" x=\"233.5\" y=\"-838.3\">output:</text>\n",
       "<polyline fill=\"none\" points=\"262.5,-830.5 262.5,-876.5 \" stroke=\"#000000\"/>\n",
       "<text fill=\"#000000\" font-family=\"Times,serif\" font-size=\"14.00\" text-anchor=\"middle\" x=\"305\" y=\"-861.3\">(None, 128)</text>\n",
       "<polyline fill=\"none\" points=\"262.5,-853.5 347.5,-853.5 \" stroke=\"#000000\"/>\n",
       "<text fill=\"#000000\" font-family=\"Times,serif\" font-size=\"14.00\" text-anchor=\"middle\" x=\"305\" y=\"-838.3\">(None, 128)</text>\n",
       "</g>\n",
       "<!-- 139699784560144&#45;&gt;139699784557712 -->\n",
       "<g class=\"edge\" id=\"edge2\">\n",
       "<title>139699784560144-&gt;139699784557712</title>\n",
       "<path d=\"M178,-913.3799C178,-905.1745 178,-895.7679 178,-886.8786\" fill=\"none\" stroke=\"#000000\"/>\n",
       "<polygon fill=\"#000000\" points=\"181.5001,-886.784 178,-876.784 174.5001,-886.784 181.5001,-886.784\" stroke=\"#000000\"/>\n",
       "</g>\n",
       "<!-- 139699784557584 -->\n",
       "<g class=\"node\" id=\"node4\">\n",
       "<title>139699784557584</title>\n",
       "<polygon fill=\"none\" points=\"20,-747.5 20,-793.5 336,-793.5 336,-747.5 20,-747.5\" stroke=\"#000000\"/>\n",
       "<text fill=\"#000000\" font-family=\"Times,serif\" font-size=\"14.00\" text-anchor=\"middle\" x=\"106.5\" y=\"-766.8\">first_gen_dropout: Dropout</text>\n",
       "<polyline fill=\"none\" points=\"193,-747.5 193,-793.5 \" stroke=\"#000000\"/>\n",
       "<text fill=\"#000000\" font-family=\"Times,serif\" font-size=\"14.00\" text-anchor=\"middle\" x=\"222\" y=\"-778.3\">input:</text>\n",
       "<polyline fill=\"none\" points=\"193,-770.5 251,-770.5 \" stroke=\"#000000\"/>\n",
       "<text fill=\"#000000\" font-family=\"Times,serif\" font-size=\"14.00\" text-anchor=\"middle\" x=\"222\" y=\"-755.3\">output:</text>\n",
       "<polyline fill=\"none\" points=\"251,-747.5 251,-793.5 \" stroke=\"#000000\"/>\n",
       "<text fill=\"#000000\" font-family=\"Times,serif\" font-size=\"14.00\" text-anchor=\"middle\" x=\"293.5\" y=\"-778.3\">(None, 128)</text>\n",
       "<polyline fill=\"none\" points=\"251,-770.5 336,-770.5 \" stroke=\"#000000\"/>\n",
       "<text fill=\"#000000\" font-family=\"Times,serif\" font-size=\"14.00\" text-anchor=\"middle\" x=\"293.5\" y=\"-755.3\">(None, 128)</text>\n",
       "</g>\n",
       "<!-- 139699784557712&#45;&gt;139699784557584 -->\n",
       "<g class=\"edge\" id=\"edge3\">\n",
       "<title>139699784557712-&gt;139699784557584</title>\n",
       "<path d=\"M178,-830.3799C178,-822.1745 178,-812.7679 178,-803.8786\" fill=\"none\" stroke=\"#000000\"/>\n",
       "<polygon fill=\"#000000\" points=\"181.5001,-803.784 178,-793.784 174.5001,-803.784 181.5001,-803.784\" stroke=\"#000000\"/>\n",
       "</g>\n",
       "<!-- 139699784557904 -->\n",
       "<g class=\"node\" id=\"node5\">\n",
       "<title>139699784557904</title>\n",
       "<polygon fill=\"none\" points=\"25,-664.5 25,-710.5 331,-710.5 331,-664.5 25,-664.5\" stroke=\"#000000\"/>\n",
       "<text fill=\"#000000\" font-family=\"Times,serif\" font-size=\"14.00\" text-anchor=\"middle\" x=\"106.5\" y=\"-683.8\">second_gen_dense: Dense</text>\n",
       "<polyline fill=\"none\" points=\"188,-664.5 188,-710.5 \" stroke=\"#000000\"/>\n",
       "<text fill=\"#000000\" font-family=\"Times,serif\" font-size=\"14.00\" text-anchor=\"middle\" x=\"217\" y=\"-695.3\">input:</text>\n",
       "<polyline fill=\"none\" points=\"188,-687.5 246,-687.5 \" stroke=\"#000000\"/>\n",
       "<text fill=\"#000000\" font-family=\"Times,serif\" font-size=\"14.00\" text-anchor=\"middle\" x=\"217\" y=\"-672.3\">output:</text>\n",
       "<polyline fill=\"none\" points=\"246,-664.5 246,-710.5 \" stroke=\"#000000\"/>\n",
       "<text fill=\"#000000\" font-family=\"Times,serif\" font-size=\"14.00\" text-anchor=\"middle\" x=\"288.5\" y=\"-695.3\">(None, 128)</text>\n",
       "<polyline fill=\"none\" points=\"246,-687.5 331,-687.5 \" stroke=\"#000000\"/>\n",
       "<text fill=\"#000000\" font-family=\"Times,serif\" font-size=\"14.00\" text-anchor=\"middle\" x=\"288.5\" y=\"-672.3\">(None, 128)</text>\n",
       "</g>\n",
       "<!-- 139699784557584&#45;&gt;139699784557904 -->\n",
       "<g class=\"edge\" id=\"edge4\">\n",
       "<title>139699784557584-&gt;139699784557904</title>\n",
       "<path d=\"M178,-747.3799C178,-739.1745 178,-729.7679 178,-720.8786\" fill=\"none\" stroke=\"#000000\"/>\n",
       "<polygon fill=\"#000000\" points=\"181.5001,-720.784 178,-710.784 174.5001,-720.784 181.5001,-720.784\" stroke=\"#000000\"/>\n",
       "</g>\n",
       "<!-- 139699784624016 -->\n",
       "<g class=\"node\" id=\"node6\">\n",
       "<title>139699784624016</title>\n",
       "<polygon fill=\"none\" points=\"1,-581.5 1,-627.5 355,-627.5 355,-581.5 1,-581.5\" stroke=\"#000000\"/>\n",
       "<text fill=\"#000000\" font-family=\"Times,serif\" font-size=\"14.00\" text-anchor=\"middle\" x=\"106.5\" y=\"-600.8\">second_gen_LReLU: LeakyReLU</text>\n",
       "<polyline fill=\"none\" points=\"212,-581.5 212,-627.5 \" stroke=\"#000000\"/>\n",
       "<text fill=\"#000000\" font-family=\"Times,serif\" font-size=\"14.00\" text-anchor=\"middle\" x=\"241\" y=\"-612.3\">input:</text>\n",
       "<polyline fill=\"none\" points=\"212,-604.5 270,-604.5 \" stroke=\"#000000\"/>\n",
       "<text fill=\"#000000\" font-family=\"Times,serif\" font-size=\"14.00\" text-anchor=\"middle\" x=\"241\" y=\"-589.3\">output:</text>\n",
       "<polyline fill=\"none\" points=\"270,-581.5 270,-627.5 \" stroke=\"#000000\"/>\n",
       "<text fill=\"#000000\" font-family=\"Times,serif\" font-size=\"14.00\" text-anchor=\"middle\" x=\"312.5\" y=\"-612.3\">(None, 128)</text>\n",
       "<polyline fill=\"none\" points=\"270,-604.5 355,-604.5 \" stroke=\"#000000\"/>\n",
       "<text fill=\"#000000\" font-family=\"Times,serif\" font-size=\"14.00\" text-anchor=\"middle\" x=\"312.5\" y=\"-589.3\">(None, 128)</text>\n",
       "</g>\n",
       "<!-- 139699784557904&#45;&gt;139699784624016 -->\n",
       "<g class=\"edge\" id=\"edge5\">\n",
       "<title>139699784557904-&gt;139699784624016</title>\n",
       "<path d=\"M178,-664.3799C178,-656.1745 178,-646.7679 178,-637.8786\" fill=\"none\" stroke=\"#000000\"/>\n",
       "<polygon fill=\"#000000\" points=\"181.5001,-637.784 178,-627.784 174.5001,-637.784 181.5001,-637.784\" stroke=\"#000000\"/>\n",
       "</g>\n",
       "<!-- 139699784625808 -->\n",
       "<g class=\"node\" id=\"node7\">\n",
       "<title>139699784625808</title>\n",
       "<polygon fill=\"none\" points=\"12.5,-498.5 12.5,-544.5 343.5,-544.5 343.5,-498.5 12.5,-498.5\" stroke=\"#000000\"/>\n",
       "<text fill=\"#000000\" font-family=\"Times,serif\" font-size=\"14.00\" text-anchor=\"middle\" x=\"106.5\" y=\"-517.8\">second_gen_dropout: Dropout</text>\n",
       "<polyline fill=\"none\" points=\"200.5,-498.5 200.5,-544.5 \" stroke=\"#000000\"/>\n",
       "<text fill=\"#000000\" font-family=\"Times,serif\" font-size=\"14.00\" text-anchor=\"middle\" x=\"229.5\" y=\"-529.3\">input:</text>\n",
       "<polyline fill=\"none\" points=\"200.5,-521.5 258.5,-521.5 \" stroke=\"#000000\"/>\n",
       "<text fill=\"#000000\" font-family=\"Times,serif\" font-size=\"14.00\" text-anchor=\"middle\" x=\"229.5\" y=\"-506.3\">output:</text>\n",
       "<polyline fill=\"none\" points=\"258.5,-498.5 258.5,-544.5 \" stroke=\"#000000\"/>\n",
       "<text fill=\"#000000\" font-family=\"Times,serif\" font-size=\"14.00\" text-anchor=\"middle\" x=\"301\" y=\"-529.3\">(None, 128)</text>\n",
       "<polyline fill=\"none\" points=\"258.5,-521.5 343.5,-521.5 \" stroke=\"#000000\"/>\n",
       "<text fill=\"#000000\" font-family=\"Times,serif\" font-size=\"14.00\" text-anchor=\"middle\" x=\"301\" y=\"-506.3\">(None, 128)</text>\n",
       "</g>\n",
       "<!-- 139699784624016&#45;&gt;139699784625808 -->\n",
       "<g class=\"edge\" id=\"edge6\">\n",
       "<title>139699784624016-&gt;139699784625808</title>\n",
       "<path d=\"M178,-581.3799C178,-573.1745 178,-563.7679 178,-554.8786\" fill=\"none\" stroke=\"#000000\"/>\n",
       "<polygon fill=\"#000000\" points=\"181.5001,-554.784 178,-544.784 174.5001,-554.784 181.5001,-554.784\" stroke=\"#000000\"/>\n",
       "</g>\n",
       "<!-- 139699784622544 -->\n",
       "<g class=\"node\" id=\"node8\">\n",
       "<title>139699784622544</title>\n",
       "<polygon fill=\"none\" points=\"24,-415.5 24,-461.5 332,-461.5 332,-415.5 24,-415.5\" stroke=\"#000000\"/>\n",
       "<text fill=\"#000000\" font-family=\"Times,serif\" font-size=\"14.00\" text-anchor=\"middle\" x=\"100\" y=\"-434.8\">third_gen_dense: Dense</text>\n",
       "<polyline fill=\"none\" points=\"176,-415.5 176,-461.5 \" stroke=\"#000000\"/>\n",
       "<text fill=\"#000000\" font-family=\"Times,serif\" font-size=\"14.00\" text-anchor=\"middle\" x=\"205\" y=\"-446.3\">input:</text>\n",
       "<polyline fill=\"none\" points=\"176,-438.5 234,-438.5 \" stroke=\"#000000\"/>\n",
       "<text fill=\"#000000\" font-family=\"Times,serif\" font-size=\"14.00\" text-anchor=\"middle\" x=\"205\" y=\"-423.3\">output:</text>\n",
       "<polyline fill=\"none\" points=\"234,-415.5 234,-461.5 \" stroke=\"#000000\"/>\n",
       "<text fill=\"#000000\" font-family=\"Times,serif\" font-size=\"14.00\" text-anchor=\"middle\" x=\"283\" y=\"-446.3\">(None, 128)</text>\n",
       "<polyline fill=\"none\" points=\"234,-438.5 332,-438.5 \" stroke=\"#000000\"/>\n",
       "<text fill=\"#000000\" font-family=\"Times,serif\" font-size=\"14.00\" text-anchor=\"middle\" x=\"283\" y=\"-423.3\">(None, 11136)</text>\n",
       "</g>\n",
       "<!-- 139699784625808&#45;&gt;139699784622544 -->\n",
       "<g class=\"edge\" id=\"edge7\">\n",
       "<title>139699784625808-&gt;139699784622544</title>\n",
       "<path d=\"M178,-498.3799C178,-490.1745 178,-480.7679 178,-471.8786\" fill=\"none\" stroke=\"#000000\"/>\n",
       "<polygon fill=\"#000000\" points=\"181.5001,-471.784 178,-461.784 174.5001,-471.784 181.5001,-471.784\" stroke=\"#000000\"/>\n",
       "</g>\n",
       "<!-- 139699784049872 -->\n",
       "<g class=\"node\" id=\"node9\">\n",
       "<title>139699784049872</title>\n",
       "<polygon fill=\"none\" points=\"0,-332.5 0,-378.5 356,-378.5 356,-332.5 0,-332.5\" stroke=\"#000000\"/>\n",
       "<text fill=\"#000000\" font-family=\"Times,serif\" font-size=\"14.00\" text-anchor=\"middle\" x=\"100\" y=\"-351.8\">third_gen_LReLU: LeakyReLU</text>\n",
       "<polyline fill=\"none\" points=\"200,-332.5 200,-378.5 \" stroke=\"#000000\"/>\n",
       "<text fill=\"#000000\" font-family=\"Times,serif\" font-size=\"14.00\" text-anchor=\"middle\" x=\"229\" y=\"-363.3\">input:</text>\n",
       "<polyline fill=\"none\" points=\"200,-355.5 258,-355.5 \" stroke=\"#000000\"/>\n",
       "<text fill=\"#000000\" font-family=\"Times,serif\" font-size=\"14.00\" text-anchor=\"middle\" x=\"229\" y=\"-340.3\">output:</text>\n",
       "<polyline fill=\"none\" points=\"258,-332.5 258,-378.5 \" stroke=\"#000000\"/>\n",
       "<text fill=\"#000000\" font-family=\"Times,serif\" font-size=\"14.00\" text-anchor=\"middle\" x=\"307\" y=\"-363.3\">(None, 11136)</text>\n",
       "<polyline fill=\"none\" points=\"258,-355.5 356,-355.5 \" stroke=\"#000000\"/>\n",
       "<text fill=\"#000000\" font-family=\"Times,serif\" font-size=\"14.00\" text-anchor=\"middle\" x=\"307\" y=\"-340.3\">(None, 11136)</text>\n",
       "</g>\n",
       "<!-- 139699784622544&#45;&gt;139699784049872 -->\n",
       "<g class=\"edge\" id=\"edge8\">\n",
       "<title>139699784622544-&gt;139699784049872</title>\n",
       "<path d=\"M178,-415.3799C178,-407.1745 178,-397.7679 178,-388.8786\" fill=\"none\" stroke=\"#000000\"/>\n",
       "<polygon fill=\"#000000\" points=\"181.5001,-388.784 178,-378.784 174.5001,-388.784 181.5001,-388.784\" stroke=\"#000000\"/>\n",
       "</g>\n",
       "<!-- 139699784049424 -->\n",
       "<g class=\"node\" id=\"node10\">\n",
       "<title>139699784049424</title>\n",
       "<polygon fill=\"none\" points=\"38.5,-249.5 38.5,-295.5 317.5,-295.5 317.5,-249.5 38.5,-249.5\" stroke=\"#000000\"/>\n",
       "<text fill=\"#000000\" font-family=\"Times,serif\" font-size=\"14.00\" text-anchor=\"middle\" x=\"96.5\" y=\"-268.8\">reshape: Reshape</text>\n",
       "<polyline fill=\"none\" points=\"154.5,-249.5 154.5,-295.5 \" stroke=\"#000000\"/>\n",
       "<text fill=\"#000000\" font-family=\"Times,serif\" font-size=\"14.00\" text-anchor=\"middle\" x=\"183.5\" y=\"-280.3\">input:</text>\n",
       "<polyline fill=\"none\" points=\"154.5,-272.5 212.5,-272.5 \" stroke=\"#000000\"/>\n",
       "<text fill=\"#000000\" font-family=\"Times,serif\" font-size=\"14.00\" text-anchor=\"middle\" x=\"183.5\" y=\"-257.3\">output:</text>\n",
       "<polyline fill=\"none\" points=\"212.5,-249.5 212.5,-295.5 \" stroke=\"#000000\"/>\n",
       "<text fill=\"#000000\" font-family=\"Times,serif\" font-size=\"14.00\" text-anchor=\"middle\" x=\"265\" y=\"-280.3\">(None, 11136)</text>\n",
       "<polyline fill=\"none\" points=\"212.5,-272.5 317.5,-272.5 \" stroke=\"#000000\"/>\n",
       "<text fill=\"#000000\" font-family=\"Times,serif\" font-size=\"14.00\" text-anchor=\"middle\" x=\"265\" y=\"-257.3\">(None, 29, 384)</text>\n",
       "</g>\n",
       "<!-- 139699784049872&#45;&gt;139699784049424 -->\n",
       "<g class=\"edge\" id=\"edge9\">\n",
       "<title>139699784049872-&gt;139699784049424</title>\n",
       "<path d=\"M178,-332.3799C178,-324.1745 178,-314.7679 178,-305.8786\" fill=\"none\" stroke=\"#000000\"/>\n",
       "<polygon fill=\"#000000\" points=\"181.5001,-305.784 178,-295.784 174.5001,-305.784 181.5001,-305.784\" stroke=\"#000000\"/>\n",
       "</g>\n",
       "<!-- 139699784049744 -->\n",
       "<g class=\"node\" id=\"node11\">\n",
       "<title>139699784049744</title>\n",
       "<polygon fill=\"none\" points=\"31.5,-166.5 31.5,-212.5 324.5,-212.5 324.5,-166.5 31.5,-166.5\" stroke=\"#000000\"/>\n",
       "<text fill=\"#000000\" font-family=\"Times,serif\" font-size=\"14.00\" text-anchor=\"middle\" x=\"96.5\" y=\"-185.8\">linear_logits: Dense</text>\n",
       "<polyline fill=\"none\" points=\"161.5,-166.5 161.5,-212.5 \" stroke=\"#000000\"/>\n",
       "<text fill=\"#000000\" font-family=\"Times,serif\" font-size=\"14.00\" text-anchor=\"middle\" x=\"190.5\" y=\"-197.3\">input:</text>\n",
       "<polyline fill=\"none\" points=\"161.5,-189.5 219.5,-189.5 \" stroke=\"#000000\"/>\n",
       "<text fill=\"#000000\" font-family=\"Times,serif\" font-size=\"14.00\" text-anchor=\"middle\" x=\"190.5\" y=\"-174.3\">output:</text>\n",
       "<polyline fill=\"none\" points=\"219.5,-166.5 219.5,-212.5 \" stroke=\"#000000\"/>\n",
       "<text fill=\"#000000\" font-family=\"Times,serif\" font-size=\"14.00\" text-anchor=\"middle\" x=\"272\" y=\"-197.3\">(None, 29, 384)</text>\n",
       "<polyline fill=\"none\" points=\"219.5,-189.5 324.5,-189.5 \" stroke=\"#000000\"/>\n",
       "<text fill=\"#000000\" font-family=\"Times,serif\" font-size=\"14.00\" text-anchor=\"middle\" x=\"272\" y=\"-174.3\">(None, 29, 6)</text>\n",
       "</g>\n",
       "<!-- 139699784049424&#45;&gt;139699784049744 -->\n",
       "<g class=\"edge\" id=\"edge10\">\n",
       "<title>139699784049424-&gt;139699784049744</title>\n",
       "<path d=\"M178,-249.3799C178,-241.1745 178,-231.7679 178,-222.8786\" fill=\"none\" stroke=\"#000000\"/>\n",
       "<polygon fill=\"#000000\" points=\"181.5001,-222.784 178,-212.784 174.5001,-222.784 181.5001,-222.784\" stroke=\"#000000\"/>\n",
       "</g>\n",
       "<!-- 139699655563280 -->\n",
       "<g class=\"node\" id=\"node12\">\n",
       "<title>139699655563280</title>\n",
       "<polygon fill=\"none\" points=\"20,-83.5 20,-129.5 336,-129.5 336,-83.5 20,-83.5\" stroke=\"#000000\"/>\n",
       "<text fill=\"#000000\" font-family=\"Times,serif\" font-size=\"14.00\" text-anchor=\"middle\" x=\"103\" y=\"-102.8\">gumbel_softmax: Lambda</text>\n",
       "<polyline fill=\"none\" points=\"186,-83.5 186,-129.5 \" stroke=\"#000000\"/>\n",
       "<text fill=\"#000000\" font-family=\"Times,serif\" font-size=\"14.00\" text-anchor=\"middle\" x=\"215\" y=\"-114.3\">input:</text>\n",
       "<polyline fill=\"none\" points=\"186,-106.5 244,-106.5 \" stroke=\"#000000\"/>\n",
       "<text fill=\"#000000\" font-family=\"Times,serif\" font-size=\"14.00\" text-anchor=\"middle\" x=\"215\" y=\"-91.3\">output:</text>\n",
       "<polyline fill=\"none\" points=\"244,-83.5 244,-129.5 \" stroke=\"#000000\"/>\n",
       "<text fill=\"#000000\" font-family=\"Times,serif\" font-size=\"14.00\" text-anchor=\"middle\" x=\"290\" y=\"-114.3\">(None, 29, 6)</text>\n",
       "<polyline fill=\"none\" points=\"244,-106.5 336,-106.5 \" stroke=\"#000000\"/>\n",
       "<text fill=\"#000000\" font-family=\"Times,serif\" font-size=\"14.00\" text-anchor=\"middle\" x=\"290\" y=\"-91.3\">(None, 29, 6)</text>\n",
       "</g>\n",
       "<!-- 139699784049744&#45;&gt;139699655563280 -->\n",
       "<g class=\"edge\" id=\"edge11\">\n",
       "<title>139699784049744-&gt;139699655563280</title>\n",
       "<path d=\"M178,-166.3799C178,-158.1745 178,-148.7679 178,-139.8786\" fill=\"none\" stroke=\"#000000\"/>\n",
       "<polygon fill=\"#000000\" points=\"181.5001,-139.784 178,-129.784 174.5001,-139.784 181.5001,-139.784\" stroke=\"#000000\"/>\n",
       "</g>\n",
       "<!-- 139699655563408 -->\n",
       "<g class=\"node\" id=\"node13\">\n",
       "<title>139699655563408</title>\n",
       "<polygon fill=\"none\" points=\"29,-.5 29,-46.5 327,-46.5 327,-.5 29,-.5\" stroke=\"#000000\"/>\n",
       "<text fill=\"#000000\" font-family=\"Times,serif\" font-size=\"14.00\" text-anchor=\"middle\" x=\"103\" y=\"-19.8\">trim_samples: Lambda</text>\n",
       "<polyline fill=\"none\" points=\"177,-.5 177,-46.5 \" stroke=\"#000000\"/>\n",
       "<text fill=\"#000000\" font-family=\"Times,serif\" font-size=\"14.00\" text-anchor=\"middle\" x=\"206\" y=\"-31.3\">input:</text>\n",
       "<polyline fill=\"none\" points=\"177,-23.5 235,-23.5 \" stroke=\"#000000\"/>\n",
       "<text fill=\"#000000\" font-family=\"Times,serif\" font-size=\"14.00\" text-anchor=\"middle\" x=\"206\" y=\"-8.3\">output:</text>\n",
       "<polyline fill=\"none\" points=\"235,-.5 235,-46.5 \" stroke=\"#000000\"/>\n",
       "<text fill=\"#000000\" font-family=\"Times,serif\" font-size=\"14.00\" text-anchor=\"middle\" x=\"281\" y=\"-31.3\">(None, 29, 6)</text>\n",
       "<polyline fill=\"none\" points=\"235,-23.5 327,-23.5 \" stroke=\"#000000\"/>\n",
       "<text fill=\"#000000\" font-family=\"Times,serif\" font-size=\"14.00\" text-anchor=\"middle\" x=\"281\" y=\"-8.3\">(None, 29, 5)</text>\n",
       "</g>\n",
       "<!-- 139699655563280&#45;&gt;139699655563408 -->\n",
       "<g class=\"edge\" id=\"edge12\">\n",
       "<title>139699655563280-&gt;139699655563408</title>\n",
       "<path d=\"M178,-83.3799C178,-75.1745 178,-65.7679 178,-56.8786\" fill=\"none\" stroke=\"#000000\"/>\n",
       "<polygon fill=\"#000000\" points=\"181.5001,-56.784 178,-46.784 174.5001,-56.784 181.5001,-56.784\" stroke=\"#000000\"/>\n",
       "</g>\n",
       "</g>\n",
       "</svg>"
      ],
      "text/plain": [
       "<IPython.core.display.SVG object>"
      ]
     },
     "execution_count": 21,
     "metadata": {},
     "output_type": "execute_result"
    }
   ],
   "source": [
    "SVG(model_to_dot(gm,show_shapes=True).create(prog='dot', format='svg'))"
   ]
  },
  {
   "cell_type": "code",
   "execution_count": 22,
   "metadata": {},
   "outputs": [],
   "source": [
    "def node_discriminator(node_size,atom_types):\n",
    "    inputLayer = keras.layers.Input(shape=(node_size,atom_types))\n",
    "    first_dense = keras.layers.Dense(32, activation='relu',name=\"first_desc_dense\")(inputLayer)\n",
    "    second_dense = keras.layers.Dense(16, activation='relu',name=\"second_desc_dense\")(first_dense)\n",
    "    node_reshape = keras.layers.Reshape((num_nodes*16,),name=\"reshape\")(second_dense)\n",
    "    node_probs = keras.layers.Dense(1, activation='sigmoid',name='readout')(node_reshape)\n",
    "    disc_model = keras.models.Model(inputs=[inputLayer],outputs=[node_probs])\n",
    "    return(disc_model)"
   ]
  },
  {
   "cell_type": "code",
   "execution_count": 23,
   "metadata": {},
   "outputs": [],
   "source": [
    "num_input =5 \n",
    "latent_dim = 50\n",
    "noise_input = np.random.randn(num_input,latent_dim)\n",
    "num_nodes = 29"
   ]
  },
  {
   "cell_type": "code",
   "execution_count": 91,
   "metadata": {},
   "outputs": [],
   "source": [
    "class afgan:\n",
    "    def __init__(self,num_nodes, atom_types, latent_dim):\n",
    "        self.num_nodes = num_nodes\n",
    "        self.atom_types = atom_types\n",
    "        self.latent_dim = latent_dim\n",
    "        self.epoch_history = {'G_loss':[],\n",
    "                         'G_accuracy':[],\n",
    "                         'D_loss':[],\n",
    "                         'D_accuracy':[],\n",
    "                        'step':0}\n",
    "        \n",
    "\n",
    "    def create_stacked(self,generator_fun, discriminator_fun):\n",
    "        \n",
    "        stack_input= keras.layers.Input((self.latent_dim,))\n",
    "        self.D  = discriminator_fun(node_size=self.num_nodes,\n",
    "                                    atom_types=self.atom_types)\n",
    "        \n",
    "        self.D.trainable =  True\n",
    "        self.D.compile(loss='binary_crossentropy',optimizer=keras.optimizers.adam(lr=1e-4),\n",
    "                       metrics=['accuracy'])\n",
    "        \n",
    "        \n",
    "        \n",
    "        self.G = generator_fun(latent_dim=self.latent_dim,num_nodes=self.num_nodes,\n",
    "                               atom_types=self.atom_types+1)\n",
    "        \n",
    "        self.D.trainable =  False\n",
    "        self.G.compile(loss='binary_crossentropy',optimizer='adam', metrics=['accuracy'])\n",
    "        self.combined = keras.models.Model(inputs=stack_input, outputs=self.D(self.G(stack_input)))\n",
    "        self.combined.compile(loss='binary_crossentropy',optimizer='Adadelta', metrics=['accuracy'])\n",
    "    def sample_generator(self,samples):\n",
    "        # generate synthetic nodes\n",
    "        gen_noise = np.random.randn(samples,self.latent_dim)\n",
    "        synthetic_nodes = self.G.predict(gen_noise)\n",
    "        \n",
    "        return(synthetic_nodes)\n",
    "    \n",
    "    def training_iteration(self,trainning_data, batch, disc_tol = 0.55, gen_tol = 0.99,\n",
    "                          train_disc=False, train_gen= True):\n",
    "        \n",
    "    \n",
    "        \n",
    "        # create a random shuffle\n",
    "        data_length = trainning_data.shape[0]\n",
    "        this_shuffled_train = copy.copy(trainning_data)\n",
    "        np.random.shuffle(this_shuffled_train)\n",
    "       \n",
    "\n",
    "        num_batches = int(np.ceil(float(data_length)/batch))\n",
    "        start = 0\n",
    "        end = batch\n",
    "        # loop over batches \n",
    "        for i in range(0,num_batches):\n",
    "            self.epoch_history['step'] += 1\n",
    "            this_batch = this_shuffled_train[start:end, :, :]\n",
    "            batchlen = end - start\n",
    "            start += batch\n",
    "            end = min(end+batch,data_length)\n",
    "\n",
    "\n",
    "\n",
    "            # make some fake samples from gen\n",
    "            # generate synthetic nodes\n",
    "            synthetic_nodes = self.sample_generator(samples=batchlen)\n",
    "\n",
    "            # combine real and fake labels\n",
    "            x_combined_batch = np.concatenate((this_batch, synthetic_nodes))\n",
    "            y_combined_batch_noise = np.concatenate((np.abs(np.random.normal(loc=0.9,scale=0.05,size=(np.int64(batchlen), 1))),\n",
    "                                               np.abs(np.random.normal(loc=0.1,scale=0.05,size=(np.int64(batchlen), 1)))))\n",
    "            y_combined_batch_pure = np.concatenate((np.ones((np.int64(batchlen), 1)),                                                    \n",
    "                                                    np.zeros((np.int64(batchlen), 1))))\n",
    "\n",
    "            # train discriminator\n",
    "\n",
    "            if train_disc:\n",
    "                disc_hist_unused = self.D.train_on_batch(x_combined_batch, y_combined_batch_noise)\n",
    "\n",
    "            disc_hist = self.D.evaluate(x_combined_batch, y_combined_batch_pure, verbose=0)\n",
    "\n",
    "            self.epoch_history['D_loss'].append(disc_hist[0])\n",
    "            self.epoch_history['D_accuracy'].append(disc_hist[1])\n",
    "\n",
    "\n",
    "            # make a full sample random input\n",
    "            input_noise = np.random.randn(batchlen,self.latent_dim)\n",
    "            y_mislabled = np.ones((batchlen, 1))\n",
    "\n",
    "\n",
    "            if train_gen:\n",
    "                gen_hist = self.combined.train_on_batch(input_noise, y_mislabled)\n",
    "            else:\n",
    "                gen_hist = self.combined.evaluate(input_noise, y_mislabled, verbose=0)\n",
    "\n",
    "\n",
    "            self.epoch_history['G_loss'].append(gen_hist[0])\n",
    "            self.epoch_history['G_accuracy'].append(gen_hist[1])\n",
    "            \n",
    "            D_acc = disc_hist[1]\n",
    "            G_acc = gen_hist[1]\n",
    "            \n",
    "            if D_acc < disc_tol:\n",
    "                train_disc=True\n",
    "            else:\n",
    "                train_disc=False\n",
    "            if G_acc < gen_tol:\n",
    "                train_gen=True\n",
    "            else:\n",
    "                train_gen=False\n",
    "\n",
    "        return([disc_hist,gen_hist])\n",
    "\n",
    "            \n"
   ]
  },
  {
   "cell_type": "code",
   "execution_count": 159,
   "metadata": {},
   "outputs": [],
   "source": [
    "mygan = afgan(num_nodes=29, atom_types=5, latent_dim=100)"
   ]
  },
  {
   "cell_type": "code",
   "execution_count": 160,
   "metadata": {},
   "outputs": [],
   "source": [
    "mygan.create_stacked(generator_fun = node_gen, discriminator_fun=node_discriminator)"
   ]
  },
  {
   "cell_type": "code",
   "execution_count": 161,
   "metadata": {},
   "outputs": [],
   "source": [
    "#mygan.D.evaluate(headers_padded[0:10,:,:],np.ones((10,1)))"
   ]
  },
  {
   "cell_type": "code",
   "execution_count": 226,
   "metadata": {},
   "outputs": [
    {
     "name": "stdout",
     "output_type": "stream",
     "text": [
      "[[0.6672213177680969, 0.879], [0.6976824, 0.143]]\n"
     ]
    }
   ],
   "source": [
    "\n",
    "for i in range(0,10):\n",
    "  \n",
    "    epoch_history = mygan.training_iteration(trainning_data = headers_padded, batch = 1000,\n",
    "                                             disc_tol = 0.90, gen_tol = 0.90,\n",
    "                                             train_disc=False, train_gen= True)\n",
    "    D_acc = epoch_history[0][1]\n",
    "    G_acc = epoch_history[1][1]\n",
    "print(epoch_history)\n",
    "    "
   ]
  },
  {
   "cell_type": "code",
   "execution_count": 227,
   "metadata": {},
   "outputs": [
    {
     "data": {
      "image/png": "[encoded data removed]",
      "text/plain": [
       "<Figure size 432x288 with 1 Axes>"
      ]
     },
     "metadata": {
      "needs_background": "light"
     },
     "output_type": "display_data"
    }
   ],
   "source": [
    "import matplotlib.pyplot as plt\n",
    "plt.plot(mygan.epoch_history['G_accuracy'],'b')\n",
    "plt.plot(mygan.epoch_history['D_accuracy'],'r')\n",
    "plt.show()"
   ]
  },
  {
   "cell_type": "code",
   "execution_count": 228,
   "metadata": {},
   "outputs": [
    {
     "data": {
      "image/png": "[encoded data removed]",
      "text/plain": [
       "<Figure size 432x288 with 1 Axes>"
      ]
     },
     "metadata": {
      "needs_background": "light"
     },
     "output_type": "display_data"
    }
   ],
   "source": [
    "import matplotlib.pyplot as plt\n",
    "plt.plot(mygan.epoch_history['G_loss'],'b')\n",
    "plt.plot(mygan.epoch_history['D_loss'],'r')\n",
    "plt.show()"
   ]
  },
  {
   "cell_type": "code",
   "execution_count": 237,
   "metadata": {
    "scrolled": true
   },
   "outputs": [
    {
     "name": "stdout",
     "output_type": "stream",
     "text": [
      "CHHHHCOCCHH\n",
      "C:4: H:6: N:0: O:1: F:0\n"
     ]
    }
   ],
   "source": [
    "mapping_dict = {0.0:\"\",1.0:\"H\",2.0:\"C\",3.0:\"N\",4.0:\"O\",5.0:\"F\"}\n",
    "fk = mygan.sample_generator(samples=1).argmax(axis=2)[0]\n",
    "wrd = \"\".join([mapping_dict[float(i)] for i in fk])\n",
    "print(wrd)\n",
    "sensible_wrd = \":\".join(['C',str(wrd.count('C')),' H',str(wrd.count('H')),' N',str(wrd.count('N')),\n",
    "                         ' O',str(wrd.count('O')),' F',str(wrd.count('F'))])\n",
    "print(sensible_wrd)"
   ]
  },
  {
   "cell_type": "code",
   "execution_count": 42,
   "metadata": {},
   "outputs": [
    {
     "name": "stdout",
     "output_type": "stream",
     "text": [
      "OHNHOCNNNHNOC\n",
      "C:2: H:3: N:5: F:0\n"
     ]
    }
   ],
   "source": [
    "mapping_dict = {0.0:\"\",1.0:\"H\",2.0:\"C\",3.0:\"N\",4.0:\"O\",5.0:\"F\"}\n",
    "fk = mygan.sample_generator(samples=1).argmax(axis=2)[0]\n",
    "wrd = \"\".join([mapping_dict[float(i)] for i in fk])\n",
    "print(wrd)\n",
    "sensible_wrd = \":\".join(['C',str(wrd.count('C')),' H',str(wrd.count('H')),' N',str(wrd.count('N')),\n",
    "                         ' F',str(wrd.count('F'))])\n",
    "print(sensible_wrd)"
   ]
  },
  {
   "cell_type": "code",
   "execution_count": null,
   "metadata": {},
   "outputs": [],
   "source": [
    "from IPython.display import SVG\n",
    "from keras.utils.vis_utils import model_to_dot\n",
    "SVG(model_to_dot(mygan.G,show_shapes=True).create(prog='dot', format='svg'))\n"
   ]
  },
  {
   "cell_type": "code",
   "execution_count": null,
   "metadata": {},
   "outputs": [],
   "source": [
    "mygan.G.summary()"
   ]
  },
  {
   "cell_type": "code",
   "execution_count": null,
   "metadata": {},
   "outputs": [],
   "source": [
    "mygan.D.predict(mygan.G.predict(np.random.randn(1,latent_dim)))"
   ]
  },
  {
   "cell_type": "code",
   "execution_count": null,
   "metadata": {},
   "outputs": [],
   "source": [
    "fk=mygan.G.predict(np.random.randn(3,latent_dim)).argmax(axis=2)[0]\n",
    "wrd = \"\".join([mapping_dict[float(i)] for i in fk])"
   ]
  },
  {
   "cell_type": "code",
   "execution_count": null,
   "metadata": {},
   "outputs": [],
   "source": [
    "fk"
   ]
  },
  {
   "cell_type": "code",
   "execution_count": null,
   "metadata": {},
   "outputs": [],
   "source": [
    "bond_types = 3\n",
    "minimal_mats = None\n",
    "for m in matrices_padded:\n",
    "    minimal_m = minimalize_BO_matrix(m,num_nodes)\n",
    "    if minimal_mats is None:\n",
    "        minimal_mats = minimal_m.reshape((1,(num_nodes*num_nodes - num_nodes)/2,bond_types))\n",
    "        print(minimal_mats.shape)\n",
    "    else:    \n",
    "        minimal_mats = np.concatenate([minimal_mats,minimal_m.reshape((1,(num_nodes*num_nodes - num_nodes)/2,bond_types))],\n",
    "                                      axis=0)"
   ]
  },
  {
   "cell_type": "code",
   "execution_count": null,
   "metadata": {},
   "outputs": [],
   "source": [
    "def get_bonding_mask(nodeslist, bond_types=3):\n",
    "    print(nodeslist.shape)\n",
    "    populated_nodes  = np.diag(np.sum(nodeslist,axis=2))\n",
    "    print(populated_nodes.shape)\n",
    "    all_bonds = np.ones((len(nodeslist),len(nodeslist))) - np.identity(len(nodeslist))\n",
    "    vector_mask = generate_vector(np.matmul(populated_nodes,all_bonds),len(nodeslist))\n",
    "    vector_mask=np.repeat(np.reshape(vector_mask,(len(vector_mask),2)),bond_types,axis=1)\n",
    "    return(vector_mask)\n",
    "    "
   ]
  },
  {
   "cell_type": "code",
   "execution_count": null,
   "metadata": {},
   "outputs": [],
   "source": [
    "def zero_bond_trimmer(untrimmed_nodes):\n",
    "    print(untrimmed_nodes.shape)\n",
    "    trimmed_nodes = untrimmed_nodes[:,1:5]\n",
    "    return(trimmed_nodes)    "
   ]
  },
  {
   "cell_type": "code",
   "execution_count": null,
   "metadata": {},
   "outputs": [],
   "source": [
    "from keras.layers import Input, Dense\n",
    "\n",
    "def deterministic_edge_reconstructor(num_nodes=29,atom_types=5,bond_types=3):\n",
    "        num_edges = (num_nodes*num_nodes -num_nodes)/2\n",
    "\n",
    "        inputBOLayer = Input(shape=(num_nodes,atom_types,))\n",
    "        first_dense = keras.layers.Dense(128, name=\"first_BO_dense\")(inputBOLayer)\n",
    "        first_leaky = LeakyReLU(alpha=0.3,name=\"first_BO_LReLU\")(first_dense)\n",
    "\n",
    "        ## find the legal masking\n",
    "        #atomsum = keras.layers.Add(get_bonding_mask, name='bond_masks')(inputBOLayer)\n",
    "        #bo_mask = keras.layers.Lambda(get_bonding_mask, name='bond_masks')(inputBOLayer)\n",
    "\n",
    "\n",
    "        second_dense = keras.layers.Dense(num_edges*(bond_types+1)/num_nodes,name=\"second_BO_dense\")(first_leaky)\n",
    "        second_leaky = LeakyReLU(alpha=0.3,name=\"second_gen_LReLU\")(second_dense)\n",
    "        bo_reshape = keras.layers.Reshape((num_edges,bond_types+1),name=\"reshape\")(second_dense)\n",
    "        #bo_legalize = keras.layers.Multiply(name='mask apply')[bo_reshape,bo_mask]\n",
    "\n",
    "        bo_logits = keras.layers.Dense(bond_types+1, activation='linear',name=\"linear_logits\")(bo_reshape)\n",
    "        bo_samples = keras.layers.Lambda(gumbel_softmax_mask,name=\"gumbel_softmax\")(bo_logits)\n",
    "#        bo_trim = keras.layers.Lambda(zero_bond_trimmer,name=\"trim_samples\")(bo_samples)\n",
    "\n",
    "        bo_model = keras.models.Model(inputs=[inputBOLayer],outputs=[bo_samples])\n",
    "        return(bo_model)"
   ]
  },
  {
   "cell_type": "code",
   "execution_count": null,
   "metadata": {},
   "outputs": [],
   "source": [
    "minimal_mats.shape"
   ]
  },
  {
   "cell_type": "code",
   "execution_count": null,
   "metadata": {},
   "outputs": [],
   "source": [
    "np.random.seed(3)\n",
    "# get random partition\n",
    "msk = np.random.rand(np.shape(headers_padded)[0]) < 0.75\n",
    "# test and train split\n",
    "train_matrices_minimal = minimal_mats[msk,:,:]\n",
    "train_headers_padded = headers_padded[msk,:]\n",
    "train_connectivities_padded = connectivities_padded[msk,:,:]\n",
    "test_matrices_minimal_mats = minimal_mats[~msk,:,:]\n",
    "test_headers_padded = headers_padded[~msk,:]\n",
    "test_connectivities_padded = connectivities_padded[~msk,:,:]"
   ]
  },
  {
   "cell_type": "code",
   "execution_count": null,
   "metadata": {},
   "outputs": [],
   "source": [
    "## def zero-ize bond orders"
   ]
  },
  {
   "cell_type": "code",
   "execution_count": null,
   "metadata": {},
   "outputs": [],
   "source": []
  },
  {
   "cell_type": "code",
   "execution_count": null,
   "metadata": {},
   "outputs": [],
   "source": [
    "test_matrices_minimal_mats.shape"
   ]
  },
  {
   "cell_type": "code",
   "execution_count": null,
   "metadata": {},
   "outputs": [],
   "source": [
    "bo_model_n = deterministic_edge_reconstructor()\n",
    "bo_model_n.compile(optimizer=keras.optimizers.adam(lr=1e-6),loss='categorical_crossentropy',\n",
    "                 metrics=['categorical_accuracy','categorical_crossentropy'])"
   ]
  },
  {
   "cell_type": "code",
   "execution_count": null,
   "metadata": {},
   "outputs": [],
   "source": [
    "bo_model_n.predict(train_headers_padded).shape"
   ]
  },
  {
   "cell_type": "code",
   "execution_count": null,
   "metadata": {},
   "outputs": [],
   "source": [
    "tp = bo_model_n.predict(train_headers_padded)"
   ]
  },
  {
   "cell_type": "code",
   "execution_count": null,
   "metadata": {},
   "outputs": [],
   "source": [
    "tp[0]"
   ]
  },
  {
   "cell_type": "code",
   "execution_count": null,
   "metadata": {},
   "outputs": [],
   "source": [
    "train_matrices_minimal.shape"
   ]
  },
  {
   "cell_type": "code",
   "execution_count": null,
   "metadata": {},
   "outputs": [],
   "source": [
    "SVG(model_to_dot(bo_model_n,show_shapes=True).create(prog='dot', format='svg'))\n"
   ]
  },
  {
   "cell_type": "code",
   "execution_count": null,
   "metadata": {},
   "outputs": [],
   "source": [
    "res = bo_model_n.fit(train_headers_padded,train_matrices_minimal,epochs=1, batch_size=750,\n",
    "                            validation_split=0.1,\n",
    "                            verbose=True)"
   ]
  },
  {
   "cell_type": "code",
   "execution_count": null,
   "metadata": {},
   "outputs": [],
   "source": [
    "import matplotlib.pyplot as plt\n",
    "plt.plot(res.history['categorical_accuracy'])\n",
    "plt.plot(res.history['val_categorical_accuracy'],'r')\n",
    "plt.show()"
   ]
  },
  {
   "cell_type": "code",
   "execution_count": null,
   "metadata": {},
   "outputs": [],
   "source": [
    "# test predictions\n",
    "test_predictions = bo_model.predict(test_headers_padded)\n",
    "test_res = bo_model.evaluate(test_headers_padded,test_matrices_minimal_mats)\n",
    "print(test_res)\n",
    "\n",
    "#test_class_pred = test_predictions.argmax(axis=2)\n",
    "#test_class_pred = test_predictions.argmax(axis=2)\n",
    "#err_rate = 100*np.sum(np.sum(test_errors))/float(test_class_act.shape[0]*test_class_act.shape[1])\n",
    "#print('test error rate is ' + str(err_rate))\n"
   ]
  },
  {
   "cell_type": "code",
   "execution_count": null,
   "metadata": {},
   "outputs": [],
   "source": [
    "test_predictions[0]"
   ]
  },
  {
   "cell_type": "code",
   "execution_count": null,
   "metadata": {},
   "outputs": [],
   "source": [
    "test_predictions"
   ]
  },
  {
   "cell_type": "code",
   "execution_count": null,
   "metadata": {},
   "outputs": [],
   "source": [
    "zta = (0.2)*np.ones((test_predictions.shape[0],test_predictions.shape[1],1))\n",
    "print(zta.shape)"
   ]
  },
  {
   "cell_type": "code",
   "execution_count": null,
   "metadata": {},
   "outputs": [],
   "source": [
    "test_augment = np.concatenate([np.zeros((test_predictions.shape[0],test_predictions.shape[1],1)),test_predictions],axis=2)\n",
    "test_class= test_augment.argmax(axis=2)"
   ]
  },
  {
   "cell_type": "code",
   "execution_count": null,
   "metadata": {},
   "outputs": [],
   "source": [
    "test_augment[0]"
   ]
  },
  {
   "cell_type": "code",
   "execution_count": null,
   "metadata": {},
   "outputs": [],
   "source": [
    "test_augment[0].argmax(axis=1)"
   ]
  },
  {
   "cell_type": "code",
   "execution_count": null,
   "metadata": {},
   "outputs": [],
   "source": [
    "len(msk)"
   ]
  },
  {
   "cell_type": "code",
   "execution_count": null,
   "metadata": {},
   "outputs": [],
   "source": [
    "mm = minimal_mats[0:1].squeeze()\n",
    "bms = mm.argmax(axis=1)\n",
    "print(bms)"
   ]
  },
  {
   "cell_type": "code",
   "execution_count": null,
   "metadata": {},
   "outputs": [],
   "source": [
    "pos.argmax(axis=2)"
   ]
  },
  {
   "cell_type": "code",
   "execution_count": null,
   "metadata": {},
   "outputs": [],
   "source": [
    "headers_padded[0:1]"
   ]
  },
  {
   "cell_type": "code",
   "execution_count": null,
   "metadata": {},
   "outputs": [],
   "source": []
  },
  {
   "cell_type": "code",
   "execution_count": null,
   "metadata": {},
   "outputs": [],
   "source": [
    "gumbel_softmax_mask = lambda x: gumbel_softmax(logits=x,temperature=0.05)\n",
    "from keras.layers.advanced_activations import LeakyReLU\n",
    "from keras.layers import Dropout\n",
    "## first step is to generate a node label vector \n",
    "def bo_gen(latent_dim,num_nodes,atom_types):\n",
    "    inputLayer = keras.layers.Input(shape=(latent_dim,))\n",
    "    first_dense = keras.layers.Dense(128, name=\"first_gen_dense\")(inputLayer)\n",
    "    first_leaky = LeakyReLU(alpha=0.3,name=\"first_gen_LReLU\")(first_dense)\n",
    "    first_drop = Dropout(rate = 0.15,name=\"first_gen_dropout\")(first_leaky)\n",
    "    second_dense = keras.layers.Dense(128,name=\"second_gen_dense\")(first_drop)\n",
    "    second_leaky = LeakyReLU(alpha=0.3,name=\"second_gen_LReLU\")(second_dense)\n",
    "    second_drop = Dropout(rate = 0.15,name=\"second_gen_dropout\")(second_leaky)\n",
    "    third_dense = keras.layers.Dense(num_nodes*64*atom_types, name=\"third_gen_dense\")(second_drop)\n",
    "    third_leaky = LeakyReLU(alpha=0.3,name=\"third_gen_LReLU\")(third_dense) \n",
    "    first_drop = Dropout(rate = 0.15,name=\"first_gen_dropout\")(first_leaky)\n",
    "    node_reshape = keras.layers.Reshape((num_nodes,64*atom_types),name=\"reshape\")(third_leaky)\n",
    "    #node_probs = keras.layers.Dense(atom_types, activation='softmax')(node_reshape)\n",
    "    node_logits = keras.layers.Dense(atom_types, activation='linear',name=\"linear_logits\")(node_reshape)\n",
    "    node_samples = keras.layers.Lambda(gumbel_softmax_mask,name=\"gumbel_softmax\")(node_logits)\n",
    "    node_trim = keras.layers.Lambda(zero_atom_trimmer,name=\"trim_samples\")(node_samples)\n",
    "    node_model = keras.models.Model(inputs=[inputLayer],outputs=[node_trim])\n",
    "    return(node_model)\n"
   ]
  },
  {
   "cell_type": "code",
   "execution_count": null,
   "metadata": {},
   "outputs": [],
   "source": [
    "29*3"
   ]
  },
  {
   "cell_type": "code",
   "execution_count": null,
   "metadata": {},
   "outputs": [],
   "source": [
    "minimal_mats.shape"
   ]
  },
  {
   "cell_type": "code",
   "execution_count": null,
   "metadata": {},
   "outputs": [],
   "source": []
  },
  {
   "cell_type": "code",
   "execution_count": null,
   "metadata": {},
   "outputs": [],
   "source": [
    "\"\".join([mapping_dict[float(i)] for i in fk])"
   ]
  },
  {
   "cell_type": "code",
   "execution_count": null,
   "metadata": {},
   "outputs": [],
   "source": [
    "\"\".join([mapping_dict[float(i)] for i in rl])"
   ]
  },
  {
   "cell_type": "code",
   "execution_count": null,
   "metadata": {},
   "outputs": [],
   "source": []
  },
  {
   "cell_type": "code",
   "execution_count": null,
   "metadata": {},
   "outputs": [],
   "source": [
    "wrd.count('C')"
   ]
  },
  {
   "cell_type": "code",
   "execution_count": null,
   "metadata": {},
   "outputs": [],
   "source": [
    "wrd.count('H')"
   ]
  },
  {
   "cell_type": "code",
   "execution_count": null,
   "metadata": {},
   "outputs": [],
   "source": [
    "headers_onehot_dict"
   ]
  },
  {
   "cell_type": "code",
   "execution_count": null,
   "metadata": {},
   "outputs": [],
   "source": [
    "SVG(model_to_dot(combined,show_shapes=True).create(prog='dot', format='svg'))"
   ]
  },
  {
   "cell_type": "code",
   "execution_count": null,
   "metadata": {},
   "outputs": [],
   "source": [
    "combined.summary()"
   ]
  },
  {
   "cell_type": "code",
   "execution_count": null,
   "metadata": {},
   "outputs": [],
   "source": [
    "combined.predict(noise_input)"
   ]
  },
  {
   "cell_type": "code",
   "execution_count": null,
   "metadata": {},
   "outputs": [],
   "source": [
    "num_input  = 100"
   ]
  },
  {
   "cell_type": "code",
   "execution_count": null,
   "metadata": {},
   "outputs": [],
   "source": [
    "# generate synthetic nodes\n",
    "gen_noise = np.random.randn(num_input,latent_dim)\n",
    "synthetic_nodes = gen_mods.predict(gen_noise)\n",
    "print(synthetic_nodes.shape)"
   ]
  },
  {
   "cell_type": "code",
   "execution_count": null,
   "metadata": {},
   "outputs": [],
   "source": [
    "real_nodes = headers_padded[0:100,:,:]\n",
    "print(real_nodes.shape)\n",
    "batch = 200"
   ]
  },
  {
   "cell_type": "code",
   "execution_count": null,
   "metadata": {},
   "outputs": [],
   "source": [
    "x_combined_batch = np.concatenate((real_nodes, synthetic_nodes))\n",
    "y_combined_batch = np.concatenate((np.ones((np.int64(batch/2), 1)), np.zeros((np.int64(batch/2), 1))))"
   ]
  },
  {
   "cell_type": "code",
   "execution_count": null,
   "metadata": {},
   "outputs": [],
   "source": [
    "y_combined_batch.shape"
   ]
  },
  {
   "cell_type": "code",
   "execution_count": null,
   "metadata": {},
   "outputs": [],
   "source": [
    "## train discriminator\n",
    "disc_hist = disc_model.fit(x_combined_batch, y_combined_batch,epochs=4, verbose=1)"
   ]
  },
  {
   "cell_type": "code",
   "execution_count": null,
   "metadata": {},
   "outputs": [],
   "source": [
    "disc_hist = disc_model.train_on_batch(x_combined_batch, y_combined_batch)"
   ]
  },
  {
   "cell_type": "code",
   "execution_count": null,
   "metadata": {},
   "outputs": [],
   "source": [
    "disc_hist"
   ]
  },
  {
   "cell_type": "code",
   "execution_count": null,
   "metadata": {},
   "outputs": [],
   "source": [
    "# create a batch of synthetic noises\n",
    "noise = np.random.normal(0, 1, (batch, latent_dim))\n",
    "y_mislabled = np.ones((batch, 1))"
   ]
  },
  {
   "cell_type": "code",
   "execution_count": null,
   "metadata": {},
   "outputs": [],
   "source": [
    "gen_hist = combined.fit(noise, y_mislabled,epochs=500, batch_size=10, verbose=1)"
   ]
  },
  {
   "cell_type": "code",
   "execution_count": null,
   "metadata": {},
   "outputs": [],
   "source": []
  },
  {
   "cell_type": "code",
   "execution_count": null,
   "metadata": {},
   "outputs": [],
   "source": [
    "disc_model.predict(synthetic_nodes[0:10,:,:])"
   ]
  },
  {
   "cell_type": "code",
   "execution_count": null,
   "metadata": {},
   "outputs": [],
   "source": [
    "synthetic_nodes[0,:,:].argmax(axis=1)"
   ]
  },
  {
   "cell_type": "code",
   "execution_count": null,
   "metadata": {},
   "outputs": [],
   "source": [
    "headers_padded[0,:,:].argmax(axis=1)"
   ]
  },
  {
   "cell_type": "code",
   "execution_count": null,
   "metadata": {},
   "outputs": [],
   "source": [
    "batch = 120\n",
    "\n",
    "\n",
    "print(data_length)\n"
   ]
  },
  {
   "cell_type": "code",
   "execution_count": null,
   "metadata": {},
   "outputs": [],
   "source": [
    "print(float(data_length)/batch)"
   ]
  },
  {
   "cell_type": "code",
   "execution_count": null,
   "metadata": {},
   "outputs": [],
   "source": [
    "print(num_batches)"
   ]
  },
  {
   "cell_type": "code",
   "execution_count": null,
   "metadata": {},
   "outputs": [],
   "source": []
  },
  {
   "cell_type": "code",
   "execution_count": null,
   "metadata": {},
   "outputs": [],
   "source": []
  },
  {
   "cell_type": "code",
   "execution_count": null,
   "metadata": {},
   "outputs": [],
   "source": []
  },
  {
   "cell_type": "code",
   "execution_count": null,
   "metadata": {},
   "outputs": [],
   "source": [
    "noise_input"
   ]
  }
 ],
 "metadata": {
  "kernelspec": {
   "display_name": "Python [conda env:mols3] *",
   "language": "python",
   "name": "conda-env-mols3-py"
  },
  "language_info": {
   "codemirror_mode": {
    "name": "ipython",
    "version": 2
   },
   "file_extension": ".py",
   "mimetype": "text/x-python",
   "name": "python",
   "nbconvert_exporter": "python",
   "pygments_lexer": "ipython2",
   "version": "2.7.16"
  }
 },
 "nbformat": 4,
 "nbformat_minor": 1
}
