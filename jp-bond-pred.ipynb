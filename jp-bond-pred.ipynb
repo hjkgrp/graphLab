{
 "cells": [
  {
   "cell_type": "code",
   "execution_count": 1,
   "metadata": {},
   "outputs": [],
   "source": [
    "## this is JP's experimental workbook v2.\n",
    "## Please do not modify this file - you are welcome to save a copy\n",
    "## for yourself\n",
    "import os\n",
    "os.environ[\"CUDA_DEVICE_ORDER\"] = \"PCI_BUS_ID\"   # see issue #152\n",
    "os.environ[\"CUDA_VISIBLE_DEVICES\"] = \"\"\n"
   ]
  },
  {
   "cell_type": "code",
   "execution_count": 2,
   "metadata": {},
   "outputs": [
    {
     "name": "stderr",
     "output_type": "stream",
     "text": [
      "Using TensorFlow backend.\n"
     ]
    }
   ],
   "source": [
    "import os, sys, keras, copy\n",
    "import numpy as np\n",
    "import pandas as pd\n",
    "import tensorflow as tf\n",
    "from IPython.display import SVG\n",
    "from keras.utils.vis_utils import model_to_dot\n",
    "import tensorflow as tf"
   ]
  },
  {
   "cell_type": "code",
   "execution_count": 3,
   "metadata": {},
   "outputs": [],
   "source": [
    "from graphTools import *\n",
    "from layerTools import *"
   ]
  },
  {
   "cell_type": "code",
   "execution_count": 4,
   "metadata": {},
   "outputs": [
    {
     "name": "stdout",
     "output_type": "stream",
     "text": [
      "Header One-Hot Map: {0.0: array([1., 0., 0., 0., 0., 0.]), 1.0: array([0., 1., 0., 0., 0., 0.]), 6.0: array([0., 0., 1., 0., 0., 0.]), 7.0: array([0., 0., 0., 1., 0., 0.]), 8.0: array([0., 0., 0., 0., 1., 0.]), 9.0: array([0., 0., 0., 0., 0., 1.])}\n",
      "Bond One-Hot Map: {0.0: array([1., 0., 0., 0.]), 1.0: array([0., 1., 0., 0.]), 2.0: array([0., 0., 1., 0.]), 3.0: array([0., 0., 0., 1.])}\n",
      "Graph Size: 29\n",
      "Number of dropped graphs: 0\n",
      "(10000, 29, 6)\n",
      "(10000, 29, 29, 4)\n",
      "(10000, 29, 29)\n"
     ]
    }
   ],
   "source": [
    "\n",
    "# Read in graphs\n",
    "graph_files = glob.glob('qm9graph/*.csv')[0:10000]\n",
    "mygraphs = [readgraph(fname) for fname in graph_files]\n",
    "headers_onehot_dict, matrices_onehot_dict, mygraphs_standardized = standardize_graphs(mygraphs, max_size=29,skipZero=False)\n",
    "headers_padded = np.array([i['header'] for i in mygraphs_standardized])\n",
    "matrices_padded = np.array([i['matrix'] for i in mygraphs_standardized])\n",
    "connectivities_padded = np.array([i['connectivity'] for i in mygraphs_standardized])\n",
    "origHeaders_padded = np.array([i['origHeader'] for i in mygraphs_standardized])\n",
    "origMatrices_padded = np.array([i['origMatrix'] for i in mygraphs_standardized])\n",
    "print headers_padded.shape\n",
    "print matrices_padded.shape\n",
    "print connectivities_padded.shape"
   ]
  },
  {
   "cell_type": "code",
   "execution_count": 5,
   "metadata": {},
   "outputs": [],
   "source": [
    "gumbel_softmax_mask = lambda x: gumbel_softmax(logits=x,temperature=0.05)"
   ]
  },
  {
   "cell_type": "code",
   "execution_count": 6,
   "metadata": {},
   "outputs": [],
   "source": [
    "num_input =5 \n",
    "latent_dim = 50\n",
    "noise_input = np.random.randn(num_input,latent_dim)\n",
    "num_nodes = 29"
   ]
  },
  {
   "cell_type": "code",
   "execution_count": 7,
   "metadata": {},
   "outputs": [
    {
     "name": "stdout",
     "output_type": "stream",
     "text": [
      "(1, 406, 4)\n"
     ]
    }
   ],
   "source": [
    "bond_types = 4\n",
    "minimal_mats = None\n",
    "for m in matrices_padded:\n",
    "    minimal_m = minimalize_BO_matrix(m,num_nodes)\n",
    "    if minimal_mats is None:\n",
    "        minimal_mats = minimal_m.reshape((1,(num_nodes*num_nodes - num_nodes)/2,bond_types))\n",
    "        print(minimal_mats.shape)\n",
    "    else:    \n",
    "        minimal_mats = np.concatenate([minimal_mats,minimal_m.reshape((1,(num_nodes*num_nodes - num_nodes)/2,bond_types))],\n",
    "                                      axis=0)"
   ]
  },
  {
   "cell_type": "code",
   "execution_count": 8,
   "metadata": {},
   "outputs": [
    {
     "data": {
      "text/plain": [
       "(10000, 406, 4)"
      ]
     },
     "execution_count": 8,
     "metadata": {},
     "output_type": "execute_result"
    }
   ],
   "source": [
    "minimal_mats.shape"
   ]
  },
  {
   "cell_type": "code",
   "execution_count": 9,
   "metadata": {},
   "outputs": [],
   "source": [
    "def get_bonding_mask(nodeslist, bond_types=4):\n",
    "    print(nodeslist.shape)\n",
    "    populated_nodes  = np.diag(np.sum(nodeslist,axis=2))\n",
    "    print(populated_nodes.shape)\n",
    "    all_bonds = np.ones((len(nodeslist),len(nodeslist))) - np.identity(len(nodeslist))\n",
    "    vector_mask = generate_vector(np.matmul(populated_nodes,all_bonds),len(nodeslist))\n",
    "    vector_mask=np.repeat(np.reshape(vector_mask,(len(vector_mask),2)),bond_types,axis=1)\n",
    "    return(vector_mask)\n",
    "    "
   ]
  },
  {
   "cell_type": "code",
   "execution_count": 10,
   "metadata": {},
   "outputs": [],
   "source": [
    "from keras.layers import Input, Dense, Dropout\n",
    "from keras.layers.advanced_activations import LeakyReLU\n",
    "\n",
    "def deterministic_edge_reconstructor(num_nodes=29,atom_types=6,bond_types=4):\n",
    "        num_edges = (num_nodes*num_nodes -num_nodes)/2\n",
    "\n",
    "        inputBOLayer = Input(shape=(num_nodes,atom_types,))\n",
    "        first_dense = keras.layers.Dense(50, name=\"first_BO_dense\")(inputBOLayer)\n",
    "        first_leaky = LeakyReLU(alpha=0.1,name=\"first_BO_LReLU\")(first_dense)\n",
    "        first_dropout = Dropout(rate=0.15,name=\"first_drop\")(first_leaky)\n",
    "\n",
    "        second_dense = keras.layers.Dense(50, name=\"second_BO_dense\")(first_dropout)\n",
    "        second_leaky = LeakyReLU(alpha=0.1,name=\"second_BO_LReLU\")(second_dense)\n",
    "        second_dropout = Dropout(rate=0.15,name=\"second_drop\")(second_leaky)\n",
    "\n",
    "        \n",
    "        third_dense = keras.layers.Dense(num_edges*(bond_types)/num_nodes,name=\"third_BO_dense\")(second_dropout)\n",
    "        third_leaky = LeakyReLU(alpha=0.1,name=\"third_gen_LReLU\")(third_dense)\n",
    "        bo_reshape = keras.layers.Reshape((num_edges,bond_types),name=\"reshape\")(third_leaky)\n",
    "        #bo_legalize = keras.layers.Multiply(name='mask apply')[bo_reshape,bo_mask]\n",
    "\n",
    "        bo_logits = keras.layers.Dense(bond_types, activation='linear',name=\"linear_logits\")(bo_reshape)\n",
    "        bo_samples = keras.layers.Lambda(gumbel_softmax_mask,name=\"gumbel_softmax\")(bo_logits)\n",
    "\n",
    "        bo_model = keras.models.Model(inputs=[inputBOLayer],outputs=[bo_samples])\n",
    "        return(bo_model)"
   ]
  },
  {
   "cell_type": "code",
   "execution_count": 11,
   "metadata": {},
   "outputs": [
    {
     "data": {
      "text/plain": [
       "(10000, 406, 4)"
      ]
     },
     "execution_count": 11,
     "metadata": {},
     "output_type": "execute_result"
    }
   ],
   "source": [
    "minimal_mats.shape"
   ]
  },
  {
   "cell_type": "code",
   "execution_count": 12,
   "metadata": {},
   "outputs": [],
   "source": [
    "np.random.seed(3)\n",
    "# get random partition\n",
    "msk = np.random.rand(np.shape(headers_padded)[0]) < 0.75\n",
    "# test and train split\n",
    "train_matrices_minimal = minimal_mats[msk,:,:]\n",
    "train_headers_padded = headers_padded[msk,:]\n",
    "train_connectivities_padded = connectivities_padded[msk,:,:]\n",
    "test_matrices_minimal_mats = minimal_mats[~msk,:,:]\n",
    "test_headers_padded = headers_padded[~msk,:]\n",
    "test_connectivities_padded = connectivities_padded[~msk,:,:]"
   ]
  },
  {
   "cell_type": "code",
   "execution_count": 13,
   "metadata": {},
   "outputs": [],
   "source": [
    "## def zero-ize bond orders"
   ]
  },
  {
   "cell_type": "code",
   "execution_count": 14,
   "metadata": {},
   "outputs": [
    {
     "data": {
      "text/plain": [
       "(10000, 29, 6)"
      ]
     },
     "execution_count": 14,
     "metadata": {},
     "output_type": "execute_result"
    }
   ],
   "source": [
    "headers_padded.shape"
   ]
  },
  {
   "cell_type": "code",
   "execution_count": 15,
   "metadata": {},
   "outputs": [
    {
     "data": {
      "text/plain": [
       "(2476, 406, 4)"
      ]
     },
     "execution_count": 15,
     "metadata": {},
     "output_type": "execute_result"
    }
   ],
   "source": [
    "test_matrices_minimal_mats.shape"
   ]
  },
  {
   "cell_type": "code",
   "execution_count": 16,
   "metadata": {},
   "outputs": [
    {
     "name": "stdout",
     "output_type": "stream",
     "text": [
      "WARNING:tensorflow:From /home/jp/anaconda2/envs/mols3/lib/python2.7/site-packages/tensorflow/python/framework/op_def_library.py:263: colocate_with (from tensorflow.python.framework.ops) is deprecated and will be removed in a future version.\n",
      "Instructions for updating:\n",
      "Colocations handled automatically by placer.\n",
      "WARNING:tensorflow:From /home/jp/anaconda2/envs/mols3/lib/python2.7/site-packages/keras/backend/tensorflow_backend.py:3445: calling dropout (from tensorflow.python.ops.nn_ops) with keep_prob is deprecated and will be removed in a future version.\n",
      "Instructions for updating:\n",
      "Please use `rate` instead of `keep_prob`. Rate should be set to `rate = 1 - keep_prob`.\n"
     ]
    }
   ],
   "source": [
    "bo_model_n = deterministic_edge_reconstructor()\n",
    "bo_model_n.compile(optimizer='adam',loss='categorical_crossentropy',\n",
    "                 metrics=['categorical_accuracy','categorical_crossentropy'])"
   ]
  },
  {
   "cell_type": "code",
   "execution_count": 17,
   "metadata": {},
   "outputs": [
    {
     "data": {
      "text/plain": [
       "(7524, 406, 4)"
      ]
     },
     "execution_count": 17,
     "metadata": {},
     "output_type": "execute_result"
    }
   ],
   "source": [
    "bo_model_n.predict(train_headers_padded).shape"
   ]
  },
  {
   "cell_type": "code",
   "execution_count": 18,
   "metadata": {},
   "outputs": [],
   "source": [
    "tp = bo_model_n.predict(train_headers_padded)"
   ]
  },
  {
   "cell_type": "code",
   "execution_count": 19,
   "metadata": {},
   "outputs": [
    {
     "data": {
      "text/plain": [
       "array([[9.6716879e-12, 2.4792887e-05, 5.4757500e-18, 9.9997520e-01],\n",
       "       [6.2447319e-36, 1.0000000e+00, 0.0000000e+00, 5.6525600e-16],\n",
       "       [1.0000000e+00, 1.3356673e-18, 9.4643591e-09, 1.1519420e-22],\n",
       "       ...,\n",
       "       [3.9503015e-11, 4.1038454e-01, 3.9630770e-08, 5.8961535e-01],\n",
       "       [5.8466118e-19, 7.4052834e-20, 9.9999905e-01, 8.9683272e-07],\n",
       "       [1.0000000e+00, 2.0152907e-38, 2.2939156e-17, 2.1085932e-38]],\n",
       "      dtype=float32)"
      ]
     },
     "execution_count": 19,
     "metadata": {},
     "output_type": "execute_result"
    }
   ],
   "source": [
    "tp[0]"
   ]
  },
  {
   "cell_type": "code",
   "execution_count": 30,
   "metadata": {},
   "outputs": [
    {
     "data": {
      "text/plain": [
       "array([[0., 0., 0., 0., 1., 0.],\n",
       "       [0., 0., 1., 0., 0., 0.],\n",
       "       [0., 0., 1., 0., 0., 0.],\n",
       "       [0., 0., 1., 0., 0., 0.],\n",
       "       [0., 0., 0., 0., 1., 0.],\n",
       "       [0., 0., 1., 0., 0., 0.],\n",
       "       [0., 0., 1., 0., 0., 0.],\n",
       "       [0., 0., 1., 0., 0., 0.],\n",
       "       [0., 0., 1., 0., 0., 0.],\n",
       "       [0., 1., 0., 0., 0., 0.],\n",
       "       [0., 1., 0., 0., 0., 0.],\n",
       "       [0., 1., 0., 0., 0., 0.],\n",
       "       [0., 1., 0., 0., 0., 0.],\n",
       "       [0., 1., 0., 0., 0., 0.],\n",
       "       [0., 1., 0., 0., 0., 0.],\n",
       "       [0., 1., 0., 0., 0., 0.],\n",
       "       [0., 1., 0., 0., 0., 0.],\n",
       "       [0., 1., 0., 0., 0., 0.],\n",
       "       [0., 1., 0., 0., 0., 0.],\n",
       "       [1., 0., 0., 0., 0., 0.],\n",
       "       [1., 0., 0., 0., 0., 0.],\n",
       "       [1., 0., 0., 0., 0., 0.],\n",
       "       [1., 0., 0., 0., 0., 0.],\n",
       "       [1., 0., 0., 0., 0., 0.],\n",
       "       [1., 0., 0., 0., 0., 0.],\n",
       "       [1., 0., 0., 0., 0., 0.],\n",
       "       [1., 0., 0., 0., 0., 0.],\n",
       "       [1., 0., 0., 0., 0., 0.],\n",
       "       [1., 0., 0., 0., 0., 0.]])"
      ]
     },
     "execution_count": 30,
     "metadata": {},
     "output_type": "execute_result"
    }
   ],
   "source": [
    "headers_padded[0]"
   ]
  },
  {
   "cell_type": "code",
   "execution_count": 21,
   "metadata": {},
   "outputs": [
    {
     "data": {
      "image/svg+xml": [
       "<svg height=\"968pt\" viewBox=\"0.00 0.00 375.00 968.00\" width=\"375pt\" xmlns=\"http://www.w3.org/2000/svg\" xmlns:xlink=\"http://www.w3.org/1999/xlink\">\n",
       "<g class=\"graph\" id=\"graph0\" transform=\"scale(1 1) rotate(0) translate(4 964)\">\n",
       "<title>G</title>\n",
       "<polygon fill=\"#ffffff\" points=\"-4,4 -4,-964 371,-964 371,4 -4,4\" stroke=\"transparent\"/>\n",
       "<!-- 140243054547792 -->\n",
       "<g class=\"node\" id=\"node1\">\n",
       "<title>140243054547792</title>\n",
       "<polygon fill=\"none\" points=\"42.5,-913.5 42.5,-959.5 324.5,-959.5 324.5,-913.5 42.5,-913.5\" stroke=\"#000000\"/>\n",
       "<text fill=\"#000000\" font-family=\"Times,serif\" font-size=\"14.00\" text-anchor=\"middle\" x=\"108.5\" y=\"-932.8\">input_1: InputLayer</text>\n",
       "<polyline fill=\"none\" points=\"174.5,-913.5 174.5,-959.5 \" stroke=\"#000000\"/>\n",
       "<text fill=\"#000000\" font-family=\"Times,serif\" font-size=\"14.00\" text-anchor=\"middle\" x=\"203.5\" y=\"-944.3\">input:</text>\n",
       "<polyline fill=\"none\" points=\"174.5,-936.5 232.5,-936.5 \" stroke=\"#000000\"/>\n",
       "<text fill=\"#000000\" font-family=\"Times,serif\" font-size=\"14.00\" text-anchor=\"middle\" x=\"203.5\" y=\"-921.3\">output:</text>\n",
       "<polyline fill=\"none\" points=\"232.5,-913.5 232.5,-959.5 \" stroke=\"#000000\"/>\n",
       "<text fill=\"#000000\" font-family=\"Times,serif\" font-size=\"14.00\" text-anchor=\"middle\" x=\"278.5\" y=\"-944.3\">(None, 29, 6)</text>\n",
       "<polyline fill=\"none\" points=\"232.5,-936.5 324.5,-936.5 \" stroke=\"#000000\"/>\n",
       "<text fill=\"#000000\" font-family=\"Times,serif\" font-size=\"14.00\" text-anchor=\"middle\" x=\"278.5\" y=\"-921.3\">(None, 29, 6)</text>\n",
       "</g>\n",
       "<!-- 140245212297680 -->\n",
       "<g class=\"node\" id=\"node2\">\n",
       "<title>140245212297680</title>\n",
       "<polygon fill=\"none\" points=\"31.5,-830.5 31.5,-876.5 335.5,-876.5 335.5,-830.5 31.5,-830.5\" stroke=\"#000000\"/>\n",
       "<text fill=\"#000000\" font-family=\"Times,serif\" font-size=\"14.00\" text-anchor=\"middle\" x=\"105.5\" y=\"-849.8\">first_BO_dense: Dense</text>\n",
       "<polyline fill=\"none\" points=\"179.5,-830.5 179.5,-876.5 \" stroke=\"#000000\"/>\n",
       "<text fill=\"#000000\" font-family=\"Times,serif\" font-size=\"14.00\" text-anchor=\"middle\" x=\"208.5\" y=\"-861.3\">input:</text>\n",
       "<polyline fill=\"none\" points=\"179.5,-853.5 237.5,-853.5 \" stroke=\"#000000\"/>\n",
       "<text fill=\"#000000\" font-family=\"Times,serif\" font-size=\"14.00\" text-anchor=\"middle\" x=\"208.5\" y=\"-838.3\">output:</text>\n",
       "<polyline fill=\"none\" points=\"237.5,-830.5 237.5,-876.5 \" stroke=\"#000000\"/>\n",
       "<text fill=\"#000000\" font-family=\"Times,serif\" font-size=\"14.00\" text-anchor=\"middle\" x=\"286.5\" y=\"-861.3\">(None, 29, 6)</text>\n",
       "<polyline fill=\"none\" points=\"237.5,-853.5 335.5,-853.5 \" stroke=\"#000000\"/>\n",
       "<text fill=\"#000000\" font-family=\"Times,serif\" font-size=\"14.00\" text-anchor=\"middle\" x=\"286.5\" y=\"-838.3\">(None, 29, 50)</text>\n",
       "</g>\n",
       "<!-- 140243054547792&#45;&gt;140245212297680 -->\n",
       "<g class=\"edge\" id=\"edge1\">\n",
       "<title>140243054547792-&gt;140245212297680</title>\n",
       "<path d=\"M183.5,-913.3799C183.5,-905.1745 183.5,-895.7679 183.5,-886.8786\" fill=\"none\" stroke=\"#000000\"/>\n",
       "<polygon fill=\"#000000\" points=\"187.0001,-886.784 183.5,-876.784 180.0001,-886.784 187.0001,-886.784\" stroke=\"#000000\"/>\n",
       "</g>\n",
       "<!-- 140243054548240 -->\n",
       "<g class=\"node\" id=\"node3\">\n",
       "<title>140243054548240</title>\n",
       "<polygon fill=\"none\" points=\"7.5,-747.5 7.5,-793.5 359.5,-793.5 359.5,-747.5 7.5,-747.5\" stroke=\"#000000\"/>\n",
       "<text fill=\"#000000\" font-family=\"Times,serif\" font-size=\"14.00\" text-anchor=\"middle\" x=\"105.5\" y=\"-766.8\">first_BO_LReLU: LeakyReLU</text>\n",
       "<polyline fill=\"none\" points=\"203.5,-747.5 203.5,-793.5 \" stroke=\"#000000\"/>\n",
       "<text fill=\"#000000\" font-family=\"Times,serif\" font-size=\"14.00\" text-anchor=\"middle\" x=\"232.5\" y=\"-778.3\">input:</text>\n",
       "<polyline fill=\"none\" points=\"203.5,-770.5 261.5,-770.5 \" stroke=\"#000000\"/>\n",
       "<text fill=\"#000000\" font-family=\"Times,serif\" font-size=\"14.00\" text-anchor=\"middle\" x=\"232.5\" y=\"-755.3\">output:</text>\n",
       "<polyline fill=\"none\" points=\"261.5,-747.5 261.5,-793.5 \" stroke=\"#000000\"/>\n",
       "<text fill=\"#000000\" font-family=\"Times,serif\" font-size=\"14.00\" text-anchor=\"middle\" x=\"310.5\" y=\"-778.3\">(None, 29, 50)</text>\n",
       "<polyline fill=\"none\" points=\"261.5,-770.5 359.5,-770.5 \" stroke=\"#000000\"/>\n",
       "<text fill=\"#000000\" font-family=\"Times,serif\" font-size=\"14.00\" text-anchor=\"middle\" x=\"310.5\" y=\"-755.3\">(None, 29, 50)</text>\n",
       "</g>\n",
       "<!-- 140245212297680&#45;&gt;140243054548240 -->\n",
       "<g class=\"edge\" id=\"edge2\">\n",
       "<title>140245212297680-&gt;140243054548240</title>\n",
       "<path d=\"M183.5,-830.3799C183.5,-822.1745 183.5,-812.7679 183.5,-803.8786\" fill=\"none\" stroke=\"#000000\"/>\n",
       "<polygon fill=\"#000000\" points=\"187.0001,-803.784 183.5,-793.784 180.0001,-803.784 187.0001,-803.784\" stroke=\"#000000\"/>\n",
       "</g>\n",
       "<!-- 140245502070224 -->\n",
       "<g class=\"node\" id=\"node4\">\n",
       "<title>140245502070224</title>\n",
       "<polygon fill=\"none\" points=\"41.5,-664.5 41.5,-710.5 325.5,-710.5 325.5,-664.5 41.5,-664.5\" stroke=\"#000000\"/>\n",
       "<text fill=\"#000000\" font-family=\"Times,serif\" font-size=\"14.00\" text-anchor=\"middle\" x=\"105.5\" y=\"-683.8\">first_drop: Dropout</text>\n",
       "<polyline fill=\"none\" points=\"169.5,-664.5 169.5,-710.5 \" stroke=\"#000000\"/>\n",
       "<text fill=\"#000000\" font-family=\"Times,serif\" font-size=\"14.00\" text-anchor=\"middle\" x=\"198.5\" y=\"-695.3\">input:</text>\n",
       "<polyline fill=\"none\" points=\"169.5,-687.5 227.5,-687.5 \" stroke=\"#000000\"/>\n",
       "<text fill=\"#000000\" font-family=\"Times,serif\" font-size=\"14.00\" text-anchor=\"middle\" x=\"198.5\" y=\"-672.3\">output:</text>\n",
       "<polyline fill=\"none\" points=\"227.5,-664.5 227.5,-710.5 \" stroke=\"#000000\"/>\n",
       "<text fill=\"#000000\" font-family=\"Times,serif\" font-size=\"14.00\" text-anchor=\"middle\" x=\"276.5\" y=\"-695.3\">(None, 29, 50)</text>\n",
       "<polyline fill=\"none\" points=\"227.5,-687.5 325.5,-687.5 \" stroke=\"#000000\"/>\n",
       "<text fill=\"#000000\" font-family=\"Times,serif\" font-size=\"14.00\" text-anchor=\"middle\" x=\"276.5\" y=\"-672.3\">(None, 29, 50)</text>\n",
       "</g>\n",
       "<!-- 140243054548240&#45;&gt;140245502070224 -->\n",
       "<g class=\"edge\" id=\"edge3\">\n",
       "<title>140243054548240-&gt;140245502070224</title>\n",
       "<path d=\"M183.5,-747.3799C183.5,-739.1745 183.5,-729.7679 183.5,-720.8786\" fill=\"none\" stroke=\"#000000\"/>\n",
       "<polygon fill=\"#000000\" points=\"187.0001,-720.784 183.5,-710.784 180.0001,-720.784 187.0001,-720.784\" stroke=\"#000000\"/>\n",
       "</g>\n",
       "<!-- 140243054548368 -->\n",
       "<g class=\"node\" id=\"node5\">\n",
       "<title>140243054548368</title>\n",
       "<polygon fill=\"none\" points=\"24,-581.5 24,-627.5 343,-627.5 343,-581.5 24,-581.5\" stroke=\"#000000\"/>\n",
       "<text fill=\"#000000\" font-family=\"Times,serif\" font-size=\"14.00\" text-anchor=\"middle\" x=\"105.5\" y=\"-600.8\">second_BO_dense: Dense</text>\n",
       "<polyline fill=\"none\" points=\"187,-581.5 187,-627.5 \" stroke=\"#000000\"/>\n",
       "<text fill=\"#000000\" font-family=\"Times,serif\" font-size=\"14.00\" text-anchor=\"middle\" x=\"216\" y=\"-612.3\">input:</text>\n",
       "<polyline fill=\"none\" points=\"187,-604.5 245,-604.5 \" stroke=\"#000000\"/>\n",
       "<text fill=\"#000000\" font-family=\"Times,serif\" font-size=\"14.00\" text-anchor=\"middle\" x=\"216\" y=\"-589.3\">output:</text>\n",
       "<polyline fill=\"none\" points=\"245,-581.5 245,-627.5 \" stroke=\"#000000\"/>\n",
       "<text fill=\"#000000\" font-family=\"Times,serif\" font-size=\"14.00\" text-anchor=\"middle\" x=\"294\" y=\"-612.3\">(None, 29, 50)</text>\n",
       "<polyline fill=\"none\" points=\"245,-604.5 343,-604.5 \" stroke=\"#000000\"/>\n",
       "<text fill=\"#000000\" font-family=\"Times,serif\" font-size=\"14.00\" text-anchor=\"middle\" x=\"294\" y=\"-589.3\">(None, 29, 50)</text>\n",
       "</g>\n",
       "<!-- 140245502070224&#45;&gt;140243054548368 -->\n",
       "<g class=\"edge\" id=\"edge4\">\n",
       "<title>140245502070224-&gt;140243054548368</title>\n",
       "<path d=\"M183.5,-664.3799C183.5,-656.1745 183.5,-646.7679 183.5,-637.8786\" fill=\"none\" stroke=\"#000000\"/>\n",
       "<polygon fill=\"#000000\" points=\"187.0001,-637.784 183.5,-627.784 180.0001,-637.784 187.0001,-637.784\" stroke=\"#000000\"/>\n",
       "</g>\n",
       "<!-- 140243053628176 -->\n",
       "<g class=\"node\" id=\"node6\">\n",
       "<title>140243053628176</title>\n",
       "<polygon fill=\"none\" points=\"0,-498.5 0,-544.5 367,-544.5 367,-498.5 0,-498.5\" stroke=\"#000000\"/>\n",
       "<text fill=\"#000000\" font-family=\"Times,serif\" font-size=\"14.00\" text-anchor=\"middle\" x=\"105.5\" y=\"-517.8\">second_BO_LReLU: LeakyReLU</text>\n",
       "<polyline fill=\"none\" points=\"211,-498.5 211,-544.5 \" stroke=\"#000000\"/>\n",
       "<text fill=\"#000000\" font-family=\"Times,serif\" font-size=\"14.00\" text-anchor=\"middle\" x=\"240\" y=\"-529.3\">input:</text>\n",
       "<polyline fill=\"none\" points=\"211,-521.5 269,-521.5 \" stroke=\"#000000\"/>\n",
       "<text fill=\"#000000\" font-family=\"Times,serif\" font-size=\"14.00\" text-anchor=\"middle\" x=\"240\" y=\"-506.3\">output:</text>\n",
       "<polyline fill=\"none\" points=\"269,-498.5 269,-544.5 \" stroke=\"#000000\"/>\n",
       "<text fill=\"#000000\" font-family=\"Times,serif\" font-size=\"14.00\" text-anchor=\"middle\" x=\"318\" y=\"-529.3\">(None, 29, 50)</text>\n",
       "<polyline fill=\"none\" points=\"269,-521.5 367,-521.5 \" stroke=\"#000000\"/>\n",
       "<text fill=\"#000000\" font-family=\"Times,serif\" font-size=\"14.00\" text-anchor=\"middle\" x=\"318\" y=\"-506.3\">(None, 29, 50)</text>\n",
       "</g>\n",
       "<!-- 140243054548368&#45;&gt;140243053628176 -->\n",
       "<g class=\"edge\" id=\"edge5\">\n",
       "<title>140243054548368-&gt;140243053628176</title>\n",
       "<path d=\"M183.5,-581.3799C183.5,-573.1745 183.5,-563.7679 183.5,-554.8786\" fill=\"none\" stroke=\"#000000\"/>\n",
       "<polygon fill=\"#000000\" points=\"187.0001,-554.784 183.5,-544.784 180.0001,-554.784 187.0001,-554.784\" stroke=\"#000000\"/>\n",
       "</g>\n",
       "<!-- 140242561965840 -->\n",
       "<g class=\"node\" id=\"node7\">\n",
       "<title>140242561965840</title>\n",
       "<polygon fill=\"none\" points=\"34,-415.5 34,-461.5 333,-461.5 333,-415.5 34,-415.5\" stroke=\"#000000\"/>\n",
       "<text fill=\"#000000\" font-family=\"Times,serif\" font-size=\"14.00\" text-anchor=\"middle\" x=\"105.5\" y=\"-434.8\">second_drop: Dropout</text>\n",
       "<polyline fill=\"none\" points=\"177,-415.5 177,-461.5 \" stroke=\"#000000\"/>\n",
       "<text fill=\"#000000\" font-family=\"Times,serif\" font-size=\"14.00\" text-anchor=\"middle\" x=\"206\" y=\"-446.3\">input:</text>\n",
       "<polyline fill=\"none\" points=\"177,-438.5 235,-438.5 \" stroke=\"#000000\"/>\n",
       "<text fill=\"#000000\" font-family=\"Times,serif\" font-size=\"14.00\" text-anchor=\"middle\" x=\"206\" y=\"-423.3\">output:</text>\n",
       "<polyline fill=\"none\" points=\"235,-415.5 235,-461.5 \" stroke=\"#000000\"/>\n",
       "<text fill=\"#000000\" font-family=\"Times,serif\" font-size=\"14.00\" text-anchor=\"middle\" x=\"284\" y=\"-446.3\">(None, 29, 50)</text>\n",
       "<polyline fill=\"none\" points=\"235,-438.5 333,-438.5 \" stroke=\"#000000\"/>\n",
       "<text fill=\"#000000\" font-family=\"Times,serif\" font-size=\"14.00\" text-anchor=\"middle\" x=\"284\" y=\"-423.3\">(None, 29, 50)</text>\n",
       "</g>\n",
       "<!-- 140243053628176&#45;&gt;140242561965840 -->\n",
       "<g class=\"edge\" id=\"edge6\">\n",
       "<title>140243053628176-&gt;140242561965840</title>\n",
       "<path d=\"M183.5,-498.3799C183.5,-490.1745 183.5,-480.7679 183.5,-471.8786\" fill=\"none\" stroke=\"#000000\"/>\n",
       "<polygon fill=\"#000000\" points=\"187.0001,-471.784 183.5,-461.784 180.0001,-471.784 187.0001,-471.784\" stroke=\"#000000\"/>\n",
       "</g>\n",
       "<!-- 140242562097808 -->\n",
       "<g class=\"node\" id=\"node8\">\n",
       "<title>140242562097808</title>\n",
       "<polygon fill=\"none\" points=\"29.5,-332.5 29.5,-378.5 337.5,-378.5 337.5,-332.5 29.5,-332.5\" stroke=\"#000000\"/>\n",
       "<text fill=\"#000000\" font-family=\"Times,serif\" font-size=\"14.00\" text-anchor=\"middle\" x=\"105.5\" y=\"-351.8\">third_BO_dense: Dense</text>\n",
       "<polyline fill=\"none\" points=\"181.5,-332.5 181.5,-378.5 \" stroke=\"#000000\"/>\n",
       "<text fill=\"#000000\" font-family=\"Times,serif\" font-size=\"14.00\" text-anchor=\"middle\" x=\"210.5\" y=\"-363.3\">input:</text>\n",
       "<polyline fill=\"none\" points=\"181.5,-355.5 239.5,-355.5 \" stroke=\"#000000\"/>\n",
       "<text fill=\"#000000\" font-family=\"Times,serif\" font-size=\"14.00\" text-anchor=\"middle\" x=\"210.5\" y=\"-340.3\">output:</text>\n",
       "<polyline fill=\"none\" points=\"239.5,-332.5 239.5,-378.5 \" stroke=\"#000000\"/>\n",
       "<text fill=\"#000000\" font-family=\"Times,serif\" font-size=\"14.00\" text-anchor=\"middle\" x=\"288.5\" y=\"-363.3\">(None, 29, 50)</text>\n",
       "<polyline fill=\"none\" points=\"239.5,-355.5 337.5,-355.5 \" stroke=\"#000000\"/>\n",
       "<text fill=\"#000000\" font-family=\"Times,serif\" font-size=\"14.00\" text-anchor=\"middle\" x=\"288.5\" y=\"-340.3\">(None, 29, 56)</text>\n",
       "</g>\n",
       "<!-- 140242561965840&#45;&gt;140242562097808 -->\n",
       "<g class=\"edge\" id=\"edge7\">\n",
       "<title>140242561965840-&gt;140242562097808</title>\n",
       "<path d=\"M183.5,-415.3799C183.5,-407.1745 183.5,-397.7679 183.5,-388.8786\" fill=\"none\" stroke=\"#000000\"/>\n",
       "<polygon fill=\"#000000\" points=\"187.0001,-388.784 183.5,-378.784 180.0001,-388.784 187.0001,-388.784\" stroke=\"#000000\"/>\n",
       "</g>\n",
       "<!-- 140242561301840 -->\n",
       "<g class=\"node\" id=\"node9\">\n",
       "<title>140242561301840</title>\n",
       "<polygon fill=\"none\" points=\"5.5,-249.5 5.5,-295.5 361.5,-295.5 361.5,-249.5 5.5,-249.5\" stroke=\"#000000\"/>\n",
       "<text fill=\"#000000\" font-family=\"Times,serif\" font-size=\"14.00\" text-anchor=\"middle\" x=\"105.5\" y=\"-268.8\">third_gen_LReLU: LeakyReLU</text>\n",
       "<polyline fill=\"none\" points=\"205.5,-249.5 205.5,-295.5 \" stroke=\"#000000\"/>\n",
       "<text fill=\"#000000\" font-family=\"Times,serif\" font-size=\"14.00\" text-anchor=\"middle\" x=\"234.5\" y=\"-280.3\">input:</text>\n",
       "<polyline fill=\"none\" points=\"205.5,-272.5 263.5,-272.5 \" stroke=\"#000000\"/>\n",
       "<text fill=\"#000000\" font-family=\"Times,serif\" font-size=\"14.00\" text-anchor=\"middle\" x=\"234.5\" y=\"-257.3\">output:</text>\n",
       "<polyline fill=\"none\" points=\"263.5,-249.5 263.5,-295.5 \" stroke=\"#000000\"/>\n",
       "<text fill=\"#000000\" font-family=\"Times,serif\" font-size=\"14.00\" text-anchor=\"middle\" x=\"312.5\" y=\"-280.3\">(None, 29, 56)</text>\n",
       "<polyline fill=\"none\" points=\"263.5,-272.5 361.5,-272.5 \" stroke=\"#000000\"/>\n",
       "<text fill=\"#000000\" font-family=\"Times,serif\" font-size=\"14.00\" text-anchor=\"middle\" x=\"312.5\" y=\"-257.3\">(None, 29, 56)</text>\n",
       "</g>\n",
       "<!-- 140242562097808&#45;&gt;140242561301840 -->\n",
       "<g class=\"edge\" id=\"edge8\">\n",
       "<title>140242562097808-&gt;140242561301840</title>\n",
       "<path d=\"M183.5,-332.3799C183.5,-324.1745 183.5,-314.7679 183.5,-305.8786\" fill=\"none\" stroke=\"#000000\"/>\n",
       "<polygon fill=\"#000000\" points=\"187.0001,-305.784 183.5,-295.784 180.0001,-305.784 187.0001,-305.784\" stroke=\"#000000\"/>\n",
       "</g>\n",
       "<!-- 140242562034896 -->\n",
       "<g class=\"node\" id=\"node10\">\n",
       "<title>140242562034896</title>\n",
       "<polygon fill=\"none\" points=\"47.5,-166.5 47.5,-212.5 319.5,-212.5 319.5,-166.5 47.5,-166.5\" stroke=\"#000000\"/>\n",
       "<text fill=\"#000000\" font-family=\"Times,serif\" font-size=\"14.00\" text-anchor=\"middle\" x=\"105.5\" y=\"-185.8\">reshape: Reshape</text>\n",
       "<polyline fill=\"none\" points=\"163.5,-166.5 163.5,-212.5 \" stroke=\"#000000\"/>\n",
       "<text fill=\"#000000\" font-family=\"Times,serif\" font-size=\"14.00\" text-anchor=\"middle\" x=\"192.5\" y=\"-197.3\">input:</text>\n",
       "<polyline fill=\"none\" points=\"163.5,-189.5 221.5,-189.5 \" stroke=\"#000000\"/>\n",
       "<text fill=\"#000000\" font-family=\"Times,serif\" font-size=\"14.00\" text-anchor=\"middle\" x=\"192.5\" y=\"-174.3\">output:</text>\n",
       "<polyline fill=\"none\" points=\"221.5,-166.5 221.5,-212.5 \" stroke=\"#000000\"/>\n",
       "<text fill=\"#000000\" font-family=\"Times,serif\" font-size=\"14.00\" text-anchor=\"middle\" x=\"270.5\" y=\"-197.3\">(None, 29, 56)</text>\n",
       "<polyline fill=\"none\" points=\"221.5,-189.5 319.5,-189.5 \" stroke=\"#000000\"/>\n",
       "<text fill=\"#000000\" font-family=\"Times,serif\" font-size=\"14.00\" text-anchor=\"middle\" x=\"270.5\" y=\"-174.3\">(None, 406, 4)</text>\n",
       "</g>\n",
       "<!-- 140242561301840&#45;&gt;140242562034896 -->\n",
       "<g class=\"edge\" id=\"edge9\">\n",
       "<title>140242561301840-&gt;140242562034896</title>\n",
       "<path d=\"M183.5,-249.3799C183.5,-241.1745 183.5,-231.7679 183.5,-222.8786\" fill=\"none\" stroke=\"#000000\"/>\n",
       "<polygon fill=\"#000000\" points=\"187.0001,-222.784 183.5,-212.784 180.0001,-222.784 187.0001,-222.784\" stroke=\"#000000\"/>\n",
       "</g>\n",
       "<!-- 140242562034000 -->\n",
       "<g class=\"node\" id=\"node11\">\n",
       "<title>140242562034000</title>\n",
       "<polygon fill=\"none\" points=\"40.5,-83.5 40.5,-129.5 326.5,-129.5 326.5,-83.5 40.5,-83.5\" stroke=\"#000000\"/>\n",
       "<text fill=\"#000000\" font-family=\"Times,serif\" font-size=\"14.00\" text-anchor=\"middle\" x=\"105.5\" y=\"-102.8\">linear_logits: Dense</text>\n",
       "<polyline fill=\"none\" points=\"170.5,-83.5 170.5,-129.5 \" stroke=\"#000000\"/>\n",
       "<text fill=\"#000000\" font-family=\"Times,serif\" font-size=\"14.00\" text-anchor=\"middle\" x=\"199.5\" y=\"-114.3\">input:</text>\n",
       "<polyline fill=\"none\" points=\"170.5,-106.5 228.5,-106.5 \" stroke=\"#000000\"/>\n",
       "<text fill=\"#000000\" font-family=\"Times,serif\" font-size=\"14.00\" text-anchor=\"middle\" x=\"199.5\" y=\"-91.3\">output:</text>\n",
       "<polyline fill=\"none\" points=\"228.5,-83.5 228.5,-129.5 \" stroke=\"#000000\"/>\n",
       "<text fill=\"#000000\" font-family=\"Times,serif\" font-size=\"14.00\" text-anchor=\"middle\" x=\"277.5\" y=\"-114.3\">(None, 406, 4)</text>\n",
       "<polyline fill=\"none\" points=\"228.5,-106.5 326.5,-106.5 \" stroke=\"#000000\"/>\n",
       "<text fill=\"#000000\" font-family=\"Times,serif\" font-size=\"14.00\" text-anchor=\"middle\" x=\"277.5\" y=\"-91.3\">(None, 406, 4)</text>\n",
       "</g>\n",
       "<!-- 140242562034896&#45;&gt;140242562034000 -->\n",
       "<g class=\"edge\" id=\"edge10\">\n",
       "<title>140242562034896-&gt;140242562034000</title>\n",
       "<path d=\"M183.5,-166.3799C183.5,-158.1745 183.5,-148.7679 183.5,-139.8786\" fill=\"none\" stroke=\"#000000\"/>\n",
       "<polygon fill=\"#000000\" points=\"187.0001,-139.784 183.5,-129.784 180.0001,-139.784 187.0001,-139.784\" stroke=\"#000000\"/>\n",
       "</g>\n",
       "<!-- 140242561057808 -->\n",
       "<g class=\"node\" id=\"node12\">\n",
       "<title>140242561057808</title>\n",
       "<polygon fill=\"none\" points=\"22.5,-.5 22.5,-46.5 344.5,-46.5 344.5,-.5 22.5,-.5\" stroke=\"#000000\"/>\n",
       "<text fill=\"#000000\" font-family=\"Times,serif\" font-size=\"14.00\" text-anchor=\"middle\" x=\"105.5\" y=\"-19.8\">gumbel_softmax: Lambda</text>\n",
       "<polyline fill=\"none\" points=\"188.5,-.5 188.5,-46.5 \" stroke=\"#000000\"/>\n",
       "<text fill=\"#000000\" font-family=\"Times,serif\" font-size=\"14.00\" text-anchor=\"middle\" x=\"217.5\" y=\"-31.3\">input:</text>\n",
       "<polyline fill=\"none\" points=\"188.5,-23.5 246.5,-23.5 \" stroke=\"#000000\"/>\n",
       "<text fill=\"#000000\" font-family=\"Times,serif\" font-size=\"14.00\" text-anchor=\"middle\" x=\"217.5\" y=\"-8.3\">output:</text>\n",
       "<polyline fill=\"none\" points=\"246.5,-.5 246.5,-46.5 \" stroke=\"#000000\"/>\n",
       "<text fill=\"#000000\" font-family=\"Times,serif\" font-size=\"14.00\" text-anchor=\"middle\" x=\"295.5\" y=\"-31.3\">(None, 406, 4)</text>\n",
       "<polyline fill=\"none\" points=\"246.5,-23.5 344.5,-23.5 \" stroke=\"#000000\"/>\n",
       "<text fill=\"#000000\" font-family=\"Times,serif\" font-size=\"14.00\" text-anchor=\"middle\" x=\"295.5\" y=\"-8.3\">(None, 406, 4)</text>\n",
       "</g>\n",
       "<!-- 140242562034000&#45;&gt;140242561057808 -->\n",
       "<g class=\"edge\" id=\"edge11\">\n",
       "<title>140242562034000-&gt;140242561057808</title>\n",
       "<path d=\"M183.5,-83.3799C183.5,-75.1745 183.5,-65.7679 183.5,-56.8786\" fill=\"none\" stroke=\"#000000\"/>\n",
       "<polygon fill=\"#000000\" points=\"187.0001,-56.784 183.5,-46.784 180.0001,-56.784 187.0001,-56.784\" stroke=\"#000000\"/>\n",
       "</g>\n",
       "</g>\n",
       "</svg>"
      ],
      "text/plain": [
       "<IPython.core.display.SVG object>"
      ]
     },
     "execution_count": 21,
     "metadata": {},
     "output_type": "execute_result"
    }
   ],
   "source": [
    "SVG(model_to_dot(bo_model_n,show_shapes=True).create(prog='dot', format='svg'))\n"
   ]
  },
  {
   "cell_type": "code",
   "execution_count": 22,
   "metadata": {},
   "outputs": [
    {
     "name": "stdout",
     "output_type": "stream",
     "text": [
      "WARNING:tensorflow:From /home/jp/anaconda2/envs/mols3/lib/python2.7/site-packages/tensorflow/python/ops/math_ops.py:3066: to_int32 (from tensorflow.python.ops.math_ops) is deprecated and will be removed in a future version.\n",
      "Instructions for updating:\n",
      "Use tf.cast instead.\n",
      "Train on 6771 samples, validate on 753 samples\n",
      "Epoch 1/100\n",
      "6771/6771 [==============================] - 1s 193us/step - loss: 10.9605 - categorical_accuracy: 0.2389 - categorical_crossentropy: 10.9605 - val_loss: 10.7513 - val_categorical_accuracy: 0.2492 - val_categorical_crossentropy: 10.7513\n",
      "Epoch 2/100\n",
      "6771/6771 [==============================] - 1s 113us/step - loss: 10.6914 - categorical_accuracy: 0.2529 - categorical_crossentropy: 10.6915 - val_loss: 10.5273 - val_categorical_accuracy: 0.2617 - val_categorical_crossentropy: 10.5273\n",
      "Epoch 3/100\n",
      "6771/6771 [==============================] - 1s 111us/step - loss: 10.4880 - categorical_accuracy: 0.2637 - categorical_crossentropy: 10.4881 - val_loss: 10.3633 - val_categorical_accuracy: 0.2704 - val_categorical_crossentropy: 10.3634\n",
      "Epoch 4/100\n",
      "6771/6771 [==============================] - 1s 111us/step - loss: 10.3040 - categorical_accuracy: 0.2738 - categorical_crossentropy: 10.3041 - val_loss: 10.1759 - val_categorical_accuracy: 0.2801 - val_categorical_crossentropy: 10.1759\n",
      "Epoch 5/100\n",
      "6771/6771 [==============================] - 1s 110us/step - loss: 10.0956 - categorical_accuracy: 0.2849 - categorical_crossentropy: 10.0956 - val_loss: 9.9468 - val_categorical_accuracy: 0.2928 - val_categorical_crossentropy: 9.9468\n",
      "Epoch 6/100\n",
      "6771/6771 [==============================] - 1s 110us/step - loss: 9.8127 - categorical_accuracy: 0.3009 - categorical_crossentropy: 9.8127 - val_loss: 9.6046 - val_categorical_accuracy: 0.3128 - val_categorical_crossentropy: 9.6046\n",
      "Epoch 7/100\n",
      "6771/6771 [==============================] - 1s 110us/step - loss: 9.4076 - categorical_accuracy: 0.3241 - categorical_crossentropy: 9.4077 - val_loss: 9.0899 - val_categorical_accuracy: 0.3420 - val_categorical_crossentropy: 9.0899\n",
      "Epoch 8/100\n",
      "6771/6771 [==============================] - 1s 108us/step - loss: 8.7827 - categorical_accuracy: 0.3605 - categorical_crossentropy: 8.7827 - val_loss: 8.3224 - val_categorical_accuracy: 0.3884 - val_categorical_crossentropy: 8.3224\n",
      "Epoch 9/100\n",
      "6771/6771 [==============================] - 1s 118us/step - loss: 7.8862 - categorical_accuracy: 0.4155 - categorical_crossentropy: 7.8862 - val_loss: 7.2275 - val_categorical_accuracy: 0.4576 - val_categorical_crossentropy: 7.2275\n",
      "Epoch 10/100\n",
      "6771/6771 [==============================] - 1s 125us/step - loss: 6.6388 - categorical_accuracy: 0.4967 - categorical_crossentropy: 6.6388 - val_loss: 5.7616 - val_categorical_accuracy: 0.5560 - val_categorical_crossentropy: 5.7616\n",
      "Epoch 11/100\n",
      "6771/6771 [==============================] - 1s 109us/step - loss: 5.1220 - categorical_accuracy: 0.6023 - categorical_crossentropy: 5.1220 - val_loss: 4.1422 - val_categorical_accuracy: 0.6739 - val_categorical_crossentropy: 4.1422\n",
      "Epoch 12/100\n",
      "6771/6771 [==============================] - 1s 115us/step - loss: 3.5652 - categorical_accuracy: 0.7188 - categorical_crossentropy: 3.5652 - val_loss: 2.7310 - val_categorical_accuracy: 0.7847 - val_categorical_crossentropy: 2.7310\n",
      "Epoch 13/100\n",
      "6771/6771 [==============================] - 1s 114us/step - loss: 2.3388 - categorical_accuracy: 0.8168 - categorical_crossentropy: 2.3388 - val_loss: 1.7845 - val_categorical_accuracy: 0.8635 - val_categorical_crossentropy: 1.7845\n",
      "Epoch 14/100\n",
      "6771/6771 [==============================] - 1s 116us/step - loss: 1.5799 - categorical_accuracy: 0.8806 - categorical_crossentropy: 1.5799 - val_loss: 1.2650 - val_categorical_accuracy: 0.9077 - val_categorical_crossentropy: 1.2650\n",
      "Epoch 15/100\n",
      "6771/6771 [==============================] - 1s 118us/step - loss: 1.1845 - categorical_accuracy: 0.9149 - categorical_crossentropy: 1.1845 - val_loss: 1.0240 - val_categorical_accuracy: 0.9289 - val_categorical_crossentropy: 1.0240\n",
      "Epoch 16/100\n",
      "6771/6771 [==============================] - 1s 117us/step - loss: 0.9980 - categorical_accuracy: 0.9314 - categorical_crossentropy: 0.9980 - val_loss: 0.9125 - val_categorical_accuracy: 0.9389 - val_categorical_crossentropy: 0.9125\n",
      "Epoch 17/100\n",
      "6771/6771 [==============================] - 1s 113us/step - loss: 0.9055 - categorical_accuracy: 0.9395 - categorical_crossentropy: 0.9055 - val_loss: 0.8615 - val_categorical_accuracy: 0.9435 - val_categorical_crossentropy: 0.8615\n",
      "Epoch 18/100\n",
      "6771/6771 [==============================] - 1s 117us/step - loss: 0.8586 - categorical_accuracy: 0.9437 - categorical_crossentropy: 0.8586 - val_loss: 0.8293 - val_categorical_accuracy: 0.9463 - val_categorical_crossentropy: 0.8293\n",
      "Epoch 19/100\n",
      "6771/6771 [==============================] - 1s 109us/step - loss: 0.8300 - categorical_accuracy: 0.9462 - categorical_crossentropy: 0.8300 - val_loss: 0.8129 - val_categorical_accuracy: 0.9479 - val_categorical_crossentropy: 0.8129\n",
      "Epoch 20/100\n",
      "6771/6771 [==============================] - 1s 109us/step - loss: 0.8136 - categorical_accuracy: 0.9477 - categorical_crossentropy: 0.8136 - val_loss: 0.7984 - val_categorical_accuracy: 0.9492 - val_categorical_crossentropy: 0.7984\n",
      "Epoch 21/100\n",
      "6771/6771 [==============================] - 1s 110us/step - loss: 0.8025 - categorical_accuracy: 0.9487 - categorical_crossentropy: 0.8025 - val_loss: 0.7924 - val_categorical_accuracy: 0.9498 - val_categorical_crossentropy: 0.7924\n",
      "Epoch 22/100\n",
      "6771/6771 [==============================] - 1s 109us/step - loss: 0.7946 - categorical_accuracy: 0.9494 - categorical_crossentropy: 0.7946 - val_loss: 0.7850 - val_categorical_accuracy: 0.9504 - val_categorical_crossentropy: 0.7850\n",
      "Epoch 23/100\n",
      "6771/6771 [==============================] - 1s 117us/step - loss: 0.7888 - categorical_accuracy: 0.9500 - categorical_crossentropy: 0.7888 - val_loss: 0.7840 - val_categorical_accuracy: 0.9505 - val_categorical_crossentropy: 0.7840\n",
      "Epoch 24/100\n",
      "6771/6771 [==============================] - 1s 112us/step - loss: 0.7841 - categorical_accuracy: 0.9504 - categorical_crossentropy: 0.7841 - val_loss: 0.7766 - val_categorical_accuracy: 0.9511 - val_categorical_crossentropy: 0.7766\n",
      "Epoch 25/100\n",
      "6771/6771 [==============================] - 1s 111us/step - loss: 0.7803 - categorical_accuracy: 0.9507 - categorical_crossentropy: 0.7803 - val_loss: 0.7732 - val_categorical_accuracy: 0.9514 - val_categorical_crossentropy: 0.7732\n",
      "Epoch 26/100\n",
      "6771/6771 [==============================] - 1s 108us/step - loss: 0.7769 - categorical_accuracy: 0.9510 - categorical_crossentropy: 0.7769 - val_loss: 0.7727 - val_categorical_accuracy: 0.9514 - val_categorical_crossentropy: 0.7727\n",
      "Epoch 27/100\n",
      "6771/6771 [==============================] - 1s 108us/step - loss: 0.7748 - categorical_accuracy: 0.9512 - categorical_crossentropy: 0.7748 - val_loss: 0.7716 - val_categorical_accuracy: 0.9516 - val_categorical_crossentropy: 0.7716\n",
      "Epoch 28/100\n",
      "6771/6771 [==============================] - 1s 109us/step - loss: 0.7720 - categorical_accuracy: 0.9515 - categorical_crossentropy: 0.7720 - val_loss: 0.7672 - val_categorical_accuracy: 0.9520 - val_categorical_crossentropy: 0.7672\n",
      "Epoch 29/100\n",
      "6771/6771 [==============================] - 1s 114us/step - loss: 0.7695 - categorical_accuracy: 0.9517 - categorical_crossentropy: 0.7695 - val_loss: 0.7673 - val_categorical_accuracy: 0.9519 - val_categorical_crossentropy: 0.7673\n",
      "Epoch 30/100\n",
      "6771/6771 [==============================] - 1s 121us/step - loss: 0.7677 - categorical_accuracy: 0.9518 - categorical_crossentropy: 0.7677 - val_loss: 0.7642 - val_categorical_accuracy: 0.9522 - val_categorical_crossentropy: 0.7642\n",
      "Epoch 31/100\n",
      "6771/6771 [==============================] - 1s 110us/step - loss: 0.7668 - categorical_accuracy: 0.9519 - categorical_crossentropy: 0.7668 - val_loss: 0.7647 - val_categorical_accuracy: 0.9522 - val_categorical_crossentropy: 0.7647\n",
      "Epoch 32/100\n",
      "6771/6771 [==============================] - 1s 109us/step - loss: 0.7654 - categorical_accuracy: 0.9521 - categorical_crossentropy: 0.7654 - val_loss: 0.7628 - val_categorical_accuracy: 0.9524 - val_categorical_crossentropy: 0.7628\n"
     ]
    },
    {
     "name": "stdout",
     "output_type": "stream",
     "text": [
      "Epoch 33/100\n",
      "6771/6771 [==============================] - 1s 111us/step - loss: 0.7647 - categorical_accuracy: 0.9521 - categorical_crossentropy: 0.7647 - val_loss: 0.7617 - val_categorical_accuracy: 0.9524 - val_categorical_crossentropy: 0.7617\n",
      "Epoch 34/100\n",
      "6771/6771 [==============================] - 1s 114us/step - loss: 0.7634 - categorical_accuracy: 0.9522 - categorical_crossentropy: 0.7634 - val_loss: 0.7625 - val_categorical_accuracy: 0.9524 - val_categorical_crossentropy: 0.7625\n",
      "Epoch 35/100\n",
      "6771/6771 [==============================] - 1s 113us/step - loss: 0.7623 - categorical_accuracy: 0.9523 - categorical_crossentropy: 0.7623 - val_loss: 0.7608 - val_categorical_accuracy: 0.9525 - val_categorical_crossentropy: 0.7608\n",
      "Epoch 36/100\n",
      "6771/6771 [==============================] - 1s 109us/step - loss: 0.7613 - categorical_accuracy: 0.9524 - categorical_crossentropy: 0.7613 - val_loss: 0.7599 - val_categorical_accuracy: 0.9526 - val_categorical_crossentropy: 0.7599\n",
      "Epoch 37/100\n",
      "6771/6771 [==============================] - 1s 122us/step - loss: 0.7608 - categorical_accuracy: 0.9525 - categorical_crossentropy: 0.7608 - val_loss: 0.7612 - val_categorical_accuracy: 0.9526 - val_categorical_crossentropy: 0.7612\n",
      "Epoch 38/100\n",
      "6771/6771 [==============================] - 1s 126us/step - loss: 0.7599 - categorical_accuracy: 0.9525 - categorical_crossentropy: 0.7599 - val_loss: 0.7600 - val_categorical_accuracy: 0.9526 - val_categorical_crossentropy: 0.7600\n",
      "Epoch 39/100\n",
      "6771/6771 [==============================] - 1s 119us/step - loss: 0.7590 - categorical_accuracy: 0.9526 - categorical_crossentropy: 0.7590 - val_loss: 0.7582 - val_categorical_accuracy: 0.9527 - val_categorical_crossentropy: 0.7582\n",
      "Epoch 40/100\n",
      "6771/6771 [==============================] - 1s 118us/step - loss: 0.7587 - categorical_accuracy: 0.9527 - categorical_crossentropy: 0.7587 - val_loss: 0.7589 - val_categorical_accuracy: 0.9527 - val_categorical_crossentropy: 0.7589\n",
      "Epoch 41/100\n",
      "6771/6771 [==============================] - 1s 125us/step - loss: 0.7578 - categorical_accuracy: 0.9527 - categorical_crossentropy: 0.7578 - val_loss: 0.7576 - val_categorical_accuracy: 0.9528 - val_categorical_crossentropy: 0.7576\n",
      "Epoch 42/100\n",
      "6771/6771 [==============================] - 1s 121us/step - loss: 0.7573 - categorical_accuracy: 0.9528 - categorical_crossentropy: 0.7573 - val_loss: 0.7573 - val_categorical_accuracy: 0.9528 - val_categorical_crossentropy: 0.7573\n",
      "Epoch 43/100\n",
      "6771/6771 [==============================] - 1s 118us/step - loss: 0.7568 - categorical_accuracy: 0.9528 - categorical_crossentropy: 0.7568 - val_loss: 0.7566 - val_categorical_accuracy: 0.9529 - val_categorical_crossentropy: 0.7566\n",
      "Epoch 44/100\n",
      "6771/6771 [==============================] - 1s 120us/step - loss: 0.7565 - categorical_accuracy: 0.9529 - categorical_crossentropy: 0.7565 - val_loss: 0.7566 - val_categorical_accuracy: 0.9529 - val_categorical_crossentropy: 0.7566\n",
      "Epoch 45/100\n",
      "6771/6771 [==============================] - 1s 127us/step - loss: 0.7565 - categorical_accuracy: 0.9529 - categorical_crossentropy: 0.7565 - val_loss: 0.7570 - val_categorical_accuracy: 0.9529 - val_categorical_crossentropy: 0.7570\n",
      "Epoch 46/100\n",
      "6771/6771 [==============================] - 1s 122us/step - loss: 0.7558 - categorical_accuracy: 0.9529 - categorical_crossentropy: 0.7558 - val_loss: 0.7559 - val_categorical_accuracy: 0.9529 - val_categorical_crossentropy: 0.7559\n",
      "Epoch 47/100\n",
      "6771/6771 [==============================] - 1s 119us/step - loss: 0.7555 - categorical_accuracy: 0.9529 - categorical_crossentropy: 0.7555 - val_loss: 0.7561 - val_categorical_accuracy: 0.9530 - val_categorical_crossentropy: 0.7561\n",
      "Epoch 48/100\n",
      "6771/6771 [==============================] - 1s 116us/step - loss: 0.7551 - categorical_accuracy: 0.9530 - categorical_crossentropy: 0.7551 - val_loss: 0.7559 - val_categorical_accuracy: 0.9530 - val_categorical_crossentropy: 0.7559\n",
      "Epoch 49/100\n",
      "6771/6771 [==============================] - 1s 129us/step - loss: 0.7552 - categorical_accuracy: 0.9530 - categorical_crossentropy: 0.7552 - val_loss: 0.7550 - val_categorical_accuracy: 0.9531 - val_categorical_crossentropy: 0.7550\n",
      "Epoch 50/100\n",
      "6771/6771 [==============================] - 1s 119us/step - loss: 0.7546 - categorical_accuracy: 0.9530 - categorical_crossentropy: 0.7546 - val_loss: 0.7561 - val_categorical_accuracy: 0.9530 - val_categorical_crossentropy: 0.7561\n",
      "Epoch 51/100\n",
      "6771/6771 [==============================] - 1s 121us/step - loss: 0.7544 - categorical_accuracy: 0.9530 - categorical_crossentropy: 0.7544 - val_loss: 0.7556 - val_categorical_accuracy: 0.9530 - val_categorical_crossentropy: 0.7556\n",
      "Epoch 52/100\n",
      "6771/6771 [==============================] - 1s 127us/step - loss: 0.7541 - categorical_accuracy: 0.9531 - categorical_crossentropy: 0.7541 - val_loss: 0.7544 - val_categorical_accuracy: 0.9531 - val_categorical_crossentropy: 0.7544\n",
      "Epoch 53/100\n",
      "6771/6771 [==============================] - 1s 123us/step - loss: 0.7537 - categorical_accuracy: 0.9531 - categorical_crossentropy: 0.7537 - val_loss: 0.7542 - val_categorical_accuracy: 0.9531 - val_categorical_crossentropy: 0.7542\n",
      "Epoch 54/100\n",
      "6771/6771 [==============================] - 1s 118us/step - loss: 0.7537 - categorical_accuracy: 0.9531 - categorical_crossentropy: 0.7537 - val_loss: 0.7542 - val_categorical_accuracy: 0.9531 - val_categorical_crossentropy: 0.7542\n",
      "Epoch 55/100\n",
      "6771/6771 [==============================] - 1s 117us/step - loss: 0.7533 - categorical_accuracy: 0.9531 - categorical_crossentropy: 0.7533 - val_loss: 0.7544 - val_categorical_accuracy: 0.9531 - val_categorical_crossentropy: 0.7544\n",
      "Epoch 56/100\n",
      "6771/6771 [==============================] - 1s 111us/step - loss: 0.7531 - categorical_accuracy: 0.9532 - categorical_crossentropy: 0.7531 - val_loss: 0.7538 - val_categorical_accuracy: 0.9531 - val_categorical_crossentropy: 0.7538\n",
      "Epoch 57/100\n",
      "6771/6771 [==============================] - 1s 111us/step - loss: 0.7528 - categorical_accuracy: 0.9532 - categorical_crossentropy: 0.7528 - val_loss: 0.7541 - val_categorical_accuracy: 0.9531 - val_categorical_crossentropy: 0.7541\n",
      "Epoch 58/100\n",
      "6771/6771 [==============================] - 1s 106us/step - loss: 0.7526 - categorical_accuracy: 0.9532 - categorical_crossentropy: 0.7526 - val_loss: 0.7541 - val_categorical_accuracy: 0.9531 - val_categorical_crossentropy: 0.7541\n",
      "Epoch 59/100\n",
      "6771/6771 [==============================] - 1s 109us/step - loss: 0.7526 - categorical_accuracy: 0.9532 - categorical_crossentropy: 0.7526 - val_loss: 0.7540 - val_categorical_accuracy: 0.9532 - val_categorical_crossentropy: 0.7540\n",
      "Epoch 60/100\n",
      "6771/6771 [==============================] - 1s 107us/step - loss: 0.7524 - categorical_accuracy: 0.9532 - categorical_crossentropy: 0.7524 - val_loss: 0.7532 - val_categorical_accuracy: 0.9532 - val_categorical_crossentropy: 0.7532\n",
      "Epoch 61/100\n",
      "6771/6771 [==============================] - 1s 108us/step - loss: 0.7524 - categorical_accuracy: 0.9532 - categorical_crossentropy: 0.7524 - val_loss: 0.7537 - val_categorical_accuracy: 0.9532 - val_categorical_crossentropy: 0.7537\n",
      "Epoch 62/100\n",
      "6771/6771 [==============================] - 1s 107us/step - loss: 0.7522 - categorical_accuracy: 0.9532 - categorical_crossentropy: 0.7522 - val_loss: 0.7535 - val_categorical_accuracy: 0.9532 - val_categorical_crossentropy: 0.7535\n",
      "Epoch 63/100\n",
      "6771/6771 [==============================] - 1s 107us/step - loss: 0.7520 - categorical_accuracy: 0.9533 - categorical_crossentropy: 0.7520 - val_loss: 0.7531 - val_categorical_accuracy: 0.9532 - val_categorical_crossentropy: 0.7531\n",
      "Epoch 64/100\n",
      "6771/6771 [==============================] - 1s 109us/step - loss: 0.7518 - categorical_accuracy: 0.9533 - categorical_crossentropy: 0.7518 - val_loss: 0.7533 - val_categorical_accuracy: 0.9532 - val_categorical_crossentropy: 0.7533\n",
      "Epoch 65/100\n",
      "6771/6771 [==============================] - 1s 108us/step - loss: 0.7519 - categorical_accuracy: 0.9533 - categorical_crossentropy: 0.7519 - val_loss: 0.7535 - val_categorical_accuracy: 0.9532 - val_categorical_crossentropy: 0.7535\n",
      "Epoch 66/100\n"
     ]
    },
    {
     "name": "stdout",
     "output_type": "stream",
     "text": [
      "6771/6771 [==============================] - 1s 106us/step - loss: 0.7517 - categorical_accuracy: 0.9533 - categorical_crossentropy: 0.7517 - val_loss: 0.7532 - val_categorical_accuracy: 0.9532 - val_categorical_crossentropy: 0.7532\n",
      "Epoch 67/100\n",
      "6771/6771 [==============================] - 1s 104us/step - loss: 0.7516 - categorical_accuracy: 0.9533 - categorical_crossentropy: 0.7516 - val_loss: 0.7531 - val_categorical_accuracy: 0.9532 - val_categorical_crossentropy: 0.7531\n",
      "Epoch 68/100\n",
      "6771/6771 [==============================] - 1s 110us/step - loss: 0.7515 - categorical_accuracy: 0.9533 - categorical_crossentropy: 0.7515 - val_loss: 0.7536 - val_categorical_accuracy: 0.9532 - val_categorical_crossentropy: 0.7536\n",
      "Epoch 69/100\n",
      "6771/6771 [==============================] - 1s 110us/step - loss: 0.7515 - categorical_accuracy: 0.9533 - categorical_crossentropy: 0.7515 - val_loss: 0.7527 - val_categorical_accuracy: 0.9533 - val_categorical_crossentropy: 0.7527\n",
      "Epoch 70/100\n",
      "6771/6771 [==============================] - 1s 109us/step - loss: 0.7514 - categorical_accuracy: 0.9533 - categorical_crossentropy: 0.7514 - val_loss: 0.7532 - val_categorical_accuracy: 0.9532 - val_categorical_crossentropy: 0.7532\n",
      "Epoch 71/100\n",
      "6771/6771 [==============================] - 1s 110us/step - loss: 0.7513 - categorical_accuracy: 0.9533 - categorical_crossentropy: 0.7513 - val_loss: 0.7529 - val_categorical_accuracy: 0.9532 - val_categorical_crossentropy: 0.7529\n",
      "Epoch 72/100\n",
      "6771/6771 [==============================] - 1s 108us/step - loss: 0.7511 - categorical_accuracy: 0.9533 - categorical_crossentropy: 0.7511 - val_loss: 0.7527 - val_categorical_accuracy: 0.9533 - val_categorical_crossentropy: 0.7527\n",
      "Epoch 73/100\n",
      "6771/6771 [==============================] - 1s 105us/step - loss: 0.7513 - categorical_accuracy: 0.9533 - categorical_crossentropy: 0.7513 - val_loss: 0.7532 - val_categorical_accuracy: 0.9532 - val_categorical_crossentropy: 0.7532\n",
      "Epoch 74/100\n",
      "6771/6771 [==============================] - 1s 107us/step - loss: 0.7512 - categorical_accuracy: 0.9533 - categorical_crossentropy: 0.7512 - val_loss: 0.7527 - val_categorical_accuracy: 0.9533 - val_categorical_crossentropy: 0.7527\n",
      "Epoch 75/100\n",
      "6771/6771 [==============================] - 1s 112us/step - loss: 0.7508 - categorical_accuracy: 0.9534 - categorical_crossentropy: 0.7508 - val_loss: 0.7527 - val_categorical_accuracy: 0.9533 - val_categorical_crossentropy: 0.7527\n",
      "Epoch 76/100\n",
      "6771/6771 [==============================] - 1s 108us/step - loss: 0.7508 - categorical_accuracy: 0.9534 - categorical_crossentropy: 0.7508 - val_loss: 0.7528 - val_categorical_accuracy: 0.9533 - val_categorical_crossentropy: 0.7528\n",
      "Epoch 77/100\n",
      "6771/6771 [==============================] - 1s 110us/step - loss: 0.7511 - categorical_accuracy: 0.9533 - categorical_crossentropy: 0.7511 - val_loss: 0.7526 - val_categorical_accuracy: 0.9533 - val_categorical_crossentropy: 0.7526\n",
      "Epoch 78/100\n",
      "6771/6771 [==============================] - 1s 106us/step - loss: 0.7508 - categorical_accuracy: 0.9534 - categorical_crossentropy: 0.7508 - val_loss: 0.7524 - val_categorical_accuracy: 0.9533 - val_categorical_crossentropy: 0.7524\n",
      "Epoch 79/100\n",
      "6771/6771 [==============================] - 1s 108us/step - loss: 0.7509 - categorical_accuracy: 0.9534 - categorical_crossentropy: 0.7509 - val_loss: 0.7525 - val_categorical_accuracy: 0.9533 - val_categorical_crossentropy: 0.7525\n",
      "Epoch 80/100\n",
      "6771/6771 [==============================] - 1s 107us/step - loss: 0.7508 - categorical_accuracy: 0.9534 - categorical_crossentropy: 0.7508 - val_loss: 0.7528 - val_categorical_accuracy: 0.9533 - val_categorical_crossentropy: 0.7528\n",
      "Epoch 81/100\n",
      "6771/6771 [==============================] - 1s 107us/step - loss: 0.7506 - categorical_accuracy: 0.9534 - categorical_crossentropy: 0.7506 - val_loss: 0.7527 - val_categorical_accuracy: 0.9533 - val_categorical_crossentropy: 0.7527\n",
      "Epoch 82/100\n",
      "6771/6771 [==============================] - 1s 108us/step - loss: 0.7506 - categorical_accuracy: 0.9534 - categorical_crossentropy: 0.7506 - val_loss: 0.7521 - val_categorical_accuracy: 0.9533 - val_categorical_crossentropy: 0.7521\n",
      "Epoch 83/100\n",
      "6771/6771 [==============================] - 1s 109us/step - loss: 0.7505 - categorical_accuracy: 0.9534 - categorical_crossentropy: 0.7505 - val_loss: 0.7522 - val_categorical_accuracy: 0.9533 - val_categorical_crossentropy: 0.7522\n",
      "Epoch 84/100\n",
      "6771/6771 [==============================] - 1s 115us/step - loss: 0.7506 - categorical_accuracy: 0.9534 - categorical_crossentropy: 0.7506 - val_loss: 0.7520 - val_categorical_accuracy: 0.9533 - val_categorical_crossentropy: 0.7520\n",
      "Epoch 85/100\n",
      "6771/6771 [==============================] - 1s 112us/step - loss: 0.7504 - categorical_accuracy: 0.9534 - categorical_crossentropy: 0.7504 - val_loss: 0.7523 - val_categorical_accuracy: 0.9533 - val_categorical_crossentropy: 0.7523\n",
      "Epoch 86/100\n",
      "6771/6771 [==============================] - 1s 110us/step - loss: 0.7504 - categorical_accuracy: 0.9534 - categorical_crossentropy: 0.7504 - val_loss: 0.7523 - val_categorical_accuracy: 0.9533 - val_categorical_crossentropy: 0.7523\n",
      "Epoch 87/100\n",
      "6771/6771 [==============================] - 1s 113us/step - loss: 0.7504 - categorical_accuracy: 0.9534 - categorical_crossentropy: 0.7504 - val_loss: 0.7523 - val_categorical_accuracy: 0.9533 - val_categorical_crossentropy: 0.7523\n",
      "Epoch 88/100\n",
      "6771/6771 [==============================] - 1s 110us/step - loss: 0.7504 - categorical_accuracy: 0.9534 - categorical_crossentropy: 0.7504 - val_loss: 0.7523 - val_categorical_accuracy: 0.9533 - val_categorical_crossentropy: 0.7523\n",
      "Epoch 89/100\n",
      "6771/6771 [==============================] - 1s 115us/step - loss: 0.7502 - categorical_accuracy: 0.9534 - categorical_crossentropy: 0.7502 - val_loss: 0.7522 - val_categorical_accuracy: 0.9533 - val_categorical_crossentropy: 0.7522\n",
      "Epoch 90/100\n",
      "6771/6771 [==============================] - 1s 110us/step - loss: 0.7504 - categorical_accuracy: 0.9534 - categorical_crossentropy: 0.7504 - val_loss: 0.7523 - val_categorical_accuracy: 0.9533 - val_categorical_crossentropy: 0.7523\n",
      "Epoch 91/100\n",
      "6771/6771 [==============================] - 1s 109us/step - loss: 0.7501 - categorical_accuracy: 0.9534 - categorical_crossentropy: 0.7501 - val_loss: 0.7518 - val_categorical_accuracy: 0.9533 - val_categorical_crossentropy: 0.7518\n",
      "Epoch 92/100\n",
      "6771/6771 [==============================] - 1s 112us/step - loss: 0.7502 - categorical_accuracy: 0.9534 - categorical_crossentropy: 0.7503 - val_loss: 0.7519 - val_categorical_accuracy: 0.9533 - val_categorical_crossentropy: 0.7519\n",
      "Epoch 93/100\n",
      "6771/6771 [==============================] - 1s 110us/step - loss: 0.7502 - categorical_accuracy: 0.9534 - categorical_crossentropy: 0.7502 - val_loss: 0.7521 - val_categorical_accuracy: 0.9533 - val_categorical_crossentropy: 0.7521\n",
      "Epoch 94/100\n",
      "6771/6771 [==============================] - 1s 109us/step - loss: 0.7501 - categorical_accuracy: 0.9534 - categorical_crossentropy: 0.7501 - val_loss: 0.7520 - val_categorical_accuracy: 0.9533 - val_categorical_crossentropy: 0.7520\n",
      "Epoch 95/100\n",
      "6771/6771 [==============================] - 1s 107us/step - loss: 0.7502 - categorical_accuracy: 0.9534 - categorical_crossentropy: 0.7502 - val_loss: 0.7520 - val_categorical_accuracy: 0.9533 - val_categorical_crossentropy: 0.7520\n",
      "Epoch 96/100\n",
      "6771/6771 [==============================] - 1s 111us/step - loss: 0.7501 - categorical_accuracy: 0.9534 - categorical_crossentropy: 0.7501 - val_loss: 0.7523 - val_categorical_accuracy: 0.9533 - val_categorical_crossentropy: 0.7523\n",
      "Epoch 97/100\n",
      "6771/6771 [==============================] - 1s 108us/step - loss: 0.7500 - categorical_accuracy: 0.9534 - categorical_crossentropy: 0.7500 - val_loss: 0.7523 - val_categorical_accuracy: 0.9533 - val_categorical_crossentropy: 0.7523\n",
      "Epoch 98/100\n",
      "6771/6771 [==============================] - 1s 108us/step - loss: 0.7500 - categorical_accuracy: 0.9534 - categorical_crossentropy: 0.7500 - val_loss: 0.7517 - val_categorical_accuracy: 0.9533 - val_categorical_crossentropy: 0.7517\n",
      "Epoch 99/100\n"
     ]
    },
    {
     "name": "stdout",
     "output_type": "stream",
     "text": [
      "6771/6771 [==============================] - 1s 105us/step - loss: 0.7500 - categorical_accuracy: 0.9534 - categorical_crossentropy: 0.7500 - val_loss: 0.7521 - val_categorical_accuracy: 0.9533 - val_categorical_crossentropy: 0.7521\n",
      "Epoch 100/100\n",
      "6771/6771 [==============================] - 1s 107us/step - loss: 0.7500 - categorical_accuracy: 0.9534 - categorical_crossentropy: 0.7500 - val_loss: 0.7520 - val_categorical_accuracy: 0.9533 - val_categorical_crossentropy: 0.7520\n"
     ]
    }
   ],
   "source": [
    "res = bo_model_n.fit(train_headers_padded,train_matrices_minimal,epochs=100, batch_size=1000,\n",
    "                            validation_split=0.1,\n",
    "                            verbose=True)"
   ]
  },
  {
   "cell_type": "code",
   "execution_count": 25,
   "metadata": {},
   "outputs": [
    {
     "data": {
      "image/png": "[encoded data removed]",
      "text/plain": [
       "<Figure size 432x288 with 1 Axes>"
      ]
     },
     "metadata": {
      "needs_background": "light"
     },
     "output_type": "display_data"
    }
   ],
   "source": [
    "import matplotlib.pyplot as plt\n",
    "plt.plot(res.history['categorical_accuracy'])\n",
    "plt.plot(res.history['val_categorical_accuracy'],'r')\n",
    "plt.show()"
   ]
  },
  {
   "cell_type": "code",
   "execution_count": 24,
   "metadata": {},
   "outputs": [
    {
     "data": {
      "image/png": "[encoded data removed]",
      "text/plain": [
       "<Figure size 432x288 with 1 Axes>"
      ]
     },
     "metadata": {
      "needs_background": "light"
     },
     "output_type": "display_data"
    }
   ],
   "source": [
    "import matplotlib.pyplot as plt\n",
    "plt.plot(res.history['loss'])\n",
    "plt.plot(res.history['val_loss'],'r')\n",
    "plt.show()"
   ]
  },
  {
   "cell_type": "code",
   "execution_count": 26,
   "metadata": {},
   "outputs": [
    {
     "name": "stdout",
     "output_type": "stream",
     "text": [
      "2476/2476 [==============================] - 0s 81us/step\n",
      "[0.7455040440805895, 0.9537242208043285, 0.7455043074387533]\n"
     ]
    }
   ],
   "source": [
    "# test predictions\n",
    "test_predictions = bo_model_n.predict(test_headers_padded)\n",
    "test_res = bo_model_n.evaluate(test_headers_padded,test_matrices_minimal_mats)\n",
    "print(test_res)\n",
    "\n",
    "test_class_pred = test_predictions.argmax(axis=2)\n",
    "test_erroors = test_matrices_minimal_mats.argmax(axis=2)\n",
    "\n",
    "#err_rate = 100*np.sum(np.sum(test_errors))/float(test_class_act.shape[0]*test_class_act.shape[1])\n",
    "#print('test error rate is ' + str(err_rate))\n"
   ]
  },
  {
   "cell_type": "code",
   "execution_count": 27,
   "metadata": {},
   "outputs": [
    {
     "data": {
      "text/plain": [
       "array([[0, 0, 0, ..., 0, 0, 0],\n",
       "       [0, 0, 0, ..., 0, 0, 0],\n",
       "       [0, 0, 0, ..., 0, 0, 0],\n",
       "       ...,\n",
       "       [0, 0, 0, ..., 0, 0, 0],\n",
       "       [0, 0, 0, ..., 0, 0, 0],\n",
       "       [0, 0, 0, ..., 0, 0, 0]])"
      ]
     },
     "execution_count": 27,
     "metadata": {},
     "output_type": "execute_result"
    }
   ],
   "source": [
    "test_predictions.argmax(axis=2)"
   ]
  },
  {
   "cell_type": "code",
   "execution_count": 28,
   "metadata": {},
   "outputs": [
    {
     "data": {
      "text/plain": [
       "array([[1., 0., 0., 0.],\n",
       "       [1., 0., 0., 0.],\n",
       "       [1., 0., 0., 0.],\n",
       "       ...,\n",
       "       [1., 0., 0., 0.],\n",
       "       [1., 0., 0., 0.],\n",
       "       [1., 0., 0., 0.]], dtype=float32)"
      ]
     },
     "execution_count": 28,
     "metadata": {},
     "output_type": "execute_result"
    }
   ],
   "source": [
    "test_predictions[0]"
   ]
  },
  {
   "cell_type": "code",
   "execution_count": 29,
   "metadata": {},
   "outputs": [
    {
     "data": {
      "text/plain": [
       "array([0, 0, 0, 0, 0, 0, 0, 0, 0, 0, 0, 0, 0, 0, 0, 0, 0, 0, 0, 0, 0, 0,\n",
       "       0, 0, 0, 0, 0, 0, 0, 0, 0, 0, 0, 0, 0, 0, 0, 0, 0, 0, 0, 0, 0, 0,\n",
       "       0, 0, 0, 0, 0, 0, 0, 0, 0, 0, 0, 0, 0, 0, 0, 0, 0, 0, 0, 0, 0, 0,\n",
       "       0, 0, 0, 0, 0, 0, 0, 0, 0, 0, 0, 0, 0, 0, 0, 0, 0, 0, 0, 0, 0, 0,\n",
       "       0, 0, 0, 0, 0, 0, 0, 0, 0, 0, 0, 0, 0, 0, 0, 0, 0, 0, 0, 0, 0, 0,\n",
       "       0, 0, 0, 0, 0, 0, 0, 0, 0, 0, 0, 0, 0, 0, 0, 0, 0, 0, 0, 0, 0, 0,\n",
       "       0, 0, 0, 0, 0, 0, 0, 0, 0, 0, 0, 0, 0, 0, 0, 0, 0, 0, 0, 0, 0, 0,\n",
       "       0, 0, 0, 0, 0, 0, 0, 0, 0, 0, 0, 0, 0, 0, 0, 0, 0, 0, 0, 0, 0, 0,\n",
       "       0, 0, 0, 0, 0, 0, 0, 0, 0, 0, 0, 0, 0, 0, 0, 0, 0, 0, 0, 0, 0, 0,\n",
       "       0, 0, 0, 0, 0, 0, 0, 0, 0, 0, 0, 0, 0, 0, 0, 0, 0, 0, 0, 0, 0, 0,\n",
       "       0, 0, 0, 0, 0, 0, 0, 0, 0, 0, 0, 0, 0, 0, 0, 0, 0, 0, 0, 0, 0, 0,\n",
       "       0, 0, 0, 0, 0, 0, 0, 0, 0, 0, 0, 0, 0, 0, 0, 0, 0, 0, 0, 0, 0, 0,\n",
       "       0, 0, 0, 0, 0, 0, 0, 0, 0, 0, 0, 0, 0, 0, 0, 0, 0, 0, 0, 0, 0, 0,\n",
       "       0, 0, 0, 0, 0, 0, 0, 0, 0, 0, 0, 0, 0, 0, 0, 0, 0, 0, 0, 0, 0, 0,\n",
       "       0, 0, 0, 0, 0, 0, 0, 0, 0, 0, 0, 0, 0, 0, 0, 0, 0, 0, 0, 0, 0, 0,\n",
       "       0, 0, 0, 0, 0, 0, 0, 0, 0, 0, 0, 0, 0, 0, 0, 0, 0, 0, 0, 0, 0, 0,\n",
       "       0, 0, 0, 0, 0, 0, 0, 0, 0, 0, 0, 0, 0, 0, 0, 0, 0, 0, 0, 0, 0, 0,\n",
       "       0, 0, 0, 0, 0, 0, 0, 0, 0, 0, 0, 0, 0, 0, 0, 0, 0, 0, 0, 0, 0, 0,\n",
       "       0, 0, 0, 0, 0, 0, 0, 0, 0, 0])"
      ]
     },
     "execution_count": 29,
     "metadata": {},
     "output_type": "execute_result"
    }
   ],
   "source": [
    "test_class_pred[0]"
   ]
  },
  {
   "cell_type": "code",
   "execution_count": null,
   "metadata": {},
   "outputs": [],
   "source": [
    "test_matrices_minimal_mats[0].argmax(axis=1)"
   ]
  },
  {
   "cell_type": "code",
   "execution_count": null,
   "metadata": {},
   "outputs": [],
   "source": [
    "test_class_pred = test_predictions.argmax(axis=2)"
   ]
  },
  {
   "cell_type": "code",
   "execution_count": null,
   "metadata": {},
   "outputs": [],
   "source": [
    "test_class_pred.shape"
   ]
  },
  {
   "cell_type": "code",
   "execution_count": null,
   "metadata": {},
   "outputs": [],
   "source": [
    "test_predictions[0]"
   ]
  },
  {
   "cell_type": "code",
   "execution_count": null,
   "metadata": {},
   "outputs": [],
   "source": [
    "test_predictions"
   ]
  },
  {
   "cell_type": "code",
   "execution_count": null,
   "metadata": {},
   "outputs": [],
   "source": [
    "zta = (0.2)*np.ones((test_predictions.shape[0],test_predictions.shape[1],1))\n",
    "print(zta.shape)"
   ]
  },
  {
   "cell_type": "code",
   "execution_count": null,
   "metadata": {},
   "outputs": [],
   "source": [
    "test_augment = np.concatenate([np.zeros((test_predictions.shape[0],test_predictions.shape[1],1)),test_predictions],axis=2)\n",
    "test_class= test_augment.argmax(axis=2)"
   ]
  },
  {
   "cell_type": "code",
   "execution_count": null,
   "metadata": {},
   "outputs": [],
   "source": [
    "test_augment[0]"
   ]
  },
  {
   "cell_type": "code",
   "execution_count": null,
   "metadata": {},
   "outputs": [],
   "source": [
    "test_augment[0].argmax(axis=1)"
   ]
  },
  {
   "cell_type": "code",
   "execution_count": null,
   "metadata": {},
   "outputs": [],
   "source": [
    "len(msk)"
   ]
  },
  {
   "cell_type": "code",
   "execution_count": null,
   "metadata": {},
   "outputs": [],
   "source": [
    "mm = minimal_mats[0:1].squeeze()\n",
    "bms = mm.argmax(axis=1)\n",
    "print(bms)"
   ]
  },
  {
   "cell_type": "code",
   "execution_count": null,
   "metadata": {},
   "outputs": [],
   "source": [
    "pos.argmax(axis=2)"
   ]
  },
  {
   "cell_type": "code",
   "execution_count": null,
   "metadata": {},
   "outputs": [],
   "source": [
    "headers_padded[0:1]"
   ]
  },
  {
   "cell_type": "code",
   "execution_count": null,
   "metadata": {},
   "outputs": [],
   "source": []
  },
  {
   "cell_type": "code",
   "execution_count": null,
   "metadata": {},
   "outputs": [],
   "source": [
    "gumbel_softmax_mask = lambda x: gumbel_softmax(logits=x,temperature=0.05)\n",
    "from keras.layers.advanced_activations import LeakyReLU\n",
    "from keras.layers import Dropout\n",
    "## first step is to generate a node label vector \n",
    "def bo_gen(latent_dim,num_nodes,atom_types):\n",
    "    inputLayer = keras.layers.Input(shape=(latent_dim,))\n",
    "    first_dense = keras.layers.Dense(128, name=\"first_gen_dense\")(inputLayer)\n",
    "    first_leaky = LeakyReLU(alpha=0.3,name=\"first_gen_LReLU\")(first_dense)\n",
    "    first_drop = Dropout(rate = 0.15,name=\"first_gen_dropout\")(first_leaky)\n",
    "    second_dense = keras.layers.Dense(128,name=\"second_gen_dense\")(first_drop)\n",
    "    second_leaky = LeakyReLU(alpha=0.3,name=\"second_gen_LReLU\")(second_dense)\n",
    "    second_drop = Dropout(rate = 0.15,name=\"second_gen_dropout\")(second_leaky)\n",
    "    third_dense = keras.layers.Dense(num_nodes*64*atom_types, name=\"third_gen_dense\")(second_drop)\n",
    "    third_leaky = LeakyReLU(alpha=0.3,name=\"third_gen_LReLU\")(third_dense) \n",
    "    first_drop = Dropout(rate = 0.15,name=\"first_gen_dropout\")(first_leaky)\n",
    "    node_reshape = keras.layers.Reshape((num_nodes,64*atom_types),name=\"reshape\")(third_leaky)\n",
    "    #node_probs = keras.layers.Dense(atom_types, activation='softmax')(node_reshape)\n",
    "    node_logits = keras.layers.Dense(atom_types, activation='linear',name=\"linear_logits\")(node_reshape)\n",
    "    node_samples = keras.layers.Lambda(gumbel_softmax_mask,name=\"gumbel_softmax\")(node_logits)\n",
    "    node_trim = keras.layers.Lambda(zero_atom_trimmer,name=\"trim_samples\")(node_samples)\n",
    "    node_model = keras.models.Model(inputs=[inputLayer],outputs=[node_trim])\n",
    "    return(node_model)\n"
   ]
  },
  {
   "cell_type": "code",
   "execution_count": 31,
   "metadata": {},
   "outputs": [
    {
     "data": {
      "text/plain": [
       "841"
      ]
     },
     "execution_count": 31,
     "metadata": {},
     "output_type": "execute_result"
    }
   ],
   "source": [
    "29*29"
   ]
  },
  {
   "cell_type": "code",
   "execution_count": null,
   "metadata": {},
   "outputs": [],
   "source": [
    "minimal_mats.shape"
   ]
  },
  {
   "cell_type": "code",
   "execution_count": null,
   "metadata": {},
   "outputs": [],
   "source": []
  },
  {
   "cell_type": "code",
   "execution_count": null,
   "metadata": {},
   "outputs": [],
   "source": [
    "\"\".join([mapping_dict[float(i)] for i in fk])"
   ]
  },
  {
   "cell_type": "code",
   "execution_count": null,
   "metadata": {},
   "outputs": [],
   "source": [
    "\"\".join([mapping_dict[float(i)] for i in rl])"
   ]
  },
  {
   "cell_type": "code",
   "execution_count": null,
   "metadata": {},
   "outputs": [],
   "source": []
  },
  {
   "cell_type": "code",
   "execution_count": null,
   "metadata": {},
   "outputs": [],
   "source": [
    "wrd.count('C')"
   ]
  },
  {
   "cell_type": "code",
   "execution_count": null,
   "metadata": {},
   "outputs": [],
   "source": [
    "wrd.count('H')"
   ]
  },
  {
   "cell_type": "code",
   "execution_count": null,
   "metadata": {},
   "outputs": [],
   "source": [
    "headers_onehot_dict"
   ]
  },
  {
   "cell_type": "code",
   "execution_count": null,
   "metadata": {},
   "outputs": [],
   "source": [
    "SVG(model_to_dot(combined,show_shapes=True).create(prog='dot', format='svg'))"
   ]
  },
  {
   "cell_type": "code",
   "execution_count": null,
   "metadata": {},
   "outputs": [],
   "source": [
    "combined.summary()"
   ]
  },
  {
   "cell_type": "code",
   "execution_count": null,
   "metadata": {},
   "outputs": [],
   "source": [
    "combined.predict(noise_input)"
   ]
  },
  {
   "cell_type": "code",
   "execution_count": null,
   "metadata": {},
   "outputs": [],
   "source": [
    "num_input  = 100"
   ]
  },
  {
   "cell_type": "code",
   "execution_count": null,
   "metadata": {},
   "outputs": [],
   "source": [
    "# generate synthetic nodes\n",
    "gen_noise = np.random.randn(num_input,latent_dim)\n",
    "synthetic_nodes = gen_mods.predict(gen_noise)\n",
    "print(synthetic_nodes.shape)"
   ]
  },
  {
   "cell_type": "code",
   "execution_count": null,
   "metadata": {},
   "outputs": [],
   "source": [
    "real_nodes = headers_padded[0:100,:,:]\n",
    "print(real_nodes.shape)\n",
    "batch = 200"
   ]
  },
  {
   "cell_type": "code",
   "execution_count": null,
   "metadata": {},
   "outputs": [],
   "source": [
    "x_combined_batch = np.concatenate((real_nodes, synthetic_nodes))\n",
    "y_combined_batch = np.concatenate((np.ones((np.int64(batch/2), 1)), np.zeros((np.int64(batch/2), 1))))"
   ]
  },
  {
   "cell_type": "code",
   "execution_count": null,
   "metadata": {},
   "outputs": [],
   "source": [
    "y_combined_batch.shape"
   ]
  },
  {
   "cell_type": "code",
   "execution_count": null,
   "metadata": {},
   "outputs": [],
   "source": [
    "## train discriminator\n",
    "disc_hist = disc_model.fit(x_combined_batch, y_combined_batch,epochs=4, verbose=1)"
   ]
  },
  {
   "cell_type": "code",
   "execution_count": null,
   "metadata": {},
   "outputs": [],
   "source": [
    "disc_hist = disc_model.train_on_batch(x_combined_batch, y_combined_batch)"
   ]
  },
  {
   "cell_type": "code",
   "execution_count": null,
   "metadata": {},
   "outputs": [],
   "source": [
    "disc_hist"
   ]
  },
  {
   "cell_type": "code",
   "execution_count": null,
   "metadata": {},
   "outputs": [],
   "source": [
    "# create a batch of synthetic noises\n",
    "noise = np.random.normal(0, 1, (batch, latent_dim))\n",
    "y_mislabled = np.ones((batch, 1))"
   ]
  },
  {
   "cell_type": "code",
   "execution_count": null,
   "metadata": {},
   "outputs": [],
   "source": [
    "gen_hist = combined.fit(noise, y_mislabled,epochs=500, batch_size=10, verbose=1)"
   ]
  },
  {
   "cell_type": "code",
   "execution_count": null,
   "metadata": {},
   "outputs": [],
   "source": []
  },
  {
   "cell_type": "code",
   "execution_count": null,
   "metadata": {},
   "outputs": [],
   "source": [
    "disc_model.predict(synthetic_nodes[0:10,:,:])"
   ]
  },
  {
   "cell_type": "code",
   "execution_count": null,
   "metadata": {},
   "outputs": [],
   "source": [
    "synthetic_nodes[0,:,:].argmax(axis=1)"
   ]
  },
  {
   "cell_type": "code",
   "execution_count": null,
   "metadata": {},
   "outputs": [],
   "source": [
    "headers_padded[0,:,:].argmax(axis=1)"
   ]
  },
  {
   "cell_type": "code",
   "execution_count": null,
   "metadata": {},
   "outputs": [],
   "source": [
    "batch = 120\n",
    "\n",
    "\n",
    "print(data_length)\n"
   ]
  },
  {
   "cell_type": "code",
   "execution_count": null,
   "metadata": {},
   "outputs": [],
   "source": [
    "print(float(data_length)/batch)"
   ]
  },
  {
   "cell_type": "code",
   "execution_count": null,
   "metadata": {},
   "outputs": [],
   "source": [
    "print(num_batches)"
   ]
  },
  {
   "cell_type": "code",
   "execution_count": null,
   "metadata": {},
   "outputs": [],
   "source": []
  },
  {
   "cell_type": "code",
   "execution_count": null,
   "metadata": {},
   "outputs": [],
   "source": []
  },
  {
   "cell_type": "code",
   "execution_count": null,
   "metadata": {},
   "outputs": [],
   "source": []
  },
  {
   "cell_type": "code",
   "execution_count": null,
   "metadata": {},
   "outputs": [],
   "source": [
    "noise_input"
   ]
  }
 ],
 "metadata": {
  "kernelspec": {
   "display_name": "Python [conda env:mols3] *",
   "language": "python",
   "name": "conda-env-mols3-py"
  },
  "language_info": {
   "codemirror_mode": {
    "name": "ipython",
    "version": 2
   },
   "file_extension": ".py",
   "mimetype": "text/x-python",
   "name": "python",
   "nbconvert_exporter": "python",
   "pygments_lexer": "ipython2",
   "version": "2.7.16"
  }
 },
 "nbformat": 4,
 "nbformat_minor": 1
}
