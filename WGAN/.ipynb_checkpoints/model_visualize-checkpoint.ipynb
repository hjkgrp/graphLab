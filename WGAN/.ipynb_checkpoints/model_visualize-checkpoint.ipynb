{
 "cells": [
  {
   "cell_type": "code",
   "execution_count": 1,
   "metadata": {},
   "outputs": [
    {
     "name": "stderr",
     "output_type": "stream",
     "text": [
      "Using TensorFlow backend.\n"
     ]
    }
   ],
   "source": [
    "import os\n",
    "import numpy as np\n",
    "import pickle\n",
    "from functools import partial\n",
    "from PIL import Image\n",
    "from keras.layers import Input\n",
    "from keras.models import Model\n",
    "from keras.optimizers import Adam\n",
    "from model import make_generator, make_discriminator\n",
    "from loss import wloss, gradient_penalty_wloss\n",
    "from utils import tile_images, generate_images, parsing, RandomWeightedAverage\n",
    "from prepare_data import get_mnist"
   ]
  },
  {
   "cell_type": "code",
   "execution_count": 2,
   "metadata": {},
   "outputs": [
    {
     "name": "stdout",
     "output_type": "stream",
     "text": [
      "---loading MNIST---\n",
      "---loaded----\n"
     ]
    }
   ],
   "source": [
    "X_train = get_mnist()\n",
    "generator = make_generator()\n",
    "discriminator = make_discriminator()"
   ]
  },
  {
   "cell_type": "markdown",
   "metadata": {},
   "source": [
    "### Build generator"
   ]
  },
  {
   "cell_type": "code",
   "execution_count": 3,
   "metadata": {},
   "outputs": [],
   "source": [
    "for layer in discriminator.layers:\n",
    "    layer.trainable = False\n",
    "    discriminator.trainable = False\n",
    "generator_input = Input(shape=(100,))\n",
    "generator_layers = generator(generator_input)\n",
    "discriminator_layers_for_generator = discriminator(generator_layers)\n",
    "generator_model = Model(inputs=[generator_input],\n",
    "                        outputs=[discriminator_layers_for_generator])\n",
    "# We use the Adam paramaters from Gulrajani et al.\n",
    "generator_model.compile(optimizer=Adam(0.0001, beta_1=0.5, beta_2=0.9),\n",
    "                        loss=wloss)"
   ]
  },
  {
   "cell_type": "code",
   "execution_count": 4,
   "metadata": {},
   "outputs": [
    {
     "name": "stdout",
     "output_type": "stream",
     "text": [
      "_________________________________________________________________\n",
      "Layer (type)                 Output Shape              Param #   \n",
      "=================================================================\n",
      "input_1 (InputLayer)         (None, 100)               0         \n",
      "_________________________________________________________________\n",
      "sequential_1 (Sequential)    (None, 28, 28, 1)         7276993   \n",
      "_________________________________________________________________\n",
      "sequential_2 (Sequential)    (None, 1)                 5336961   \n",
      "=================================================================\n",
      "Total params: 12,613,954\n",
      "Trainable params: 7,263,937\n",
      "Non-trainable params: 5,350,017\n",
      "_________________________________________________________________\n"
     ]
    }
   ],
   "source": [
    "generator_model.summary()"
   ]
  },
  {
   "cell_type": "code",
   "execution_count": 11,
   "metadata": {},
   "outputs": [
    {
     "data": {
      "image/svg+xml": [
       "<svg height=\"191pt\" viewBox=\"0.00 0.00 157.00 191.00\" width=\"157pt\" xmlns=\"http://www.w3.org/2000/svg\" xmlns:xlink=\"http://www.w3.org/1999/xlink\">\n",
       "<g class=\"graph\" id=\"graph0\" transform=\"scale(1 1) rotate(0) translate(4 187)\">\n",
       "<title>G</title>\n",
       "<polygon fill=\"#ffffff\" points=\"-4,4 -4,-187 153,-187 153,4 -4,4\" stroke=\"transparent\"/>\n",
       "<!-- 139917545562768 -->\n",
       "<g class=\"node\" id=\"node1\">\n",
       "<title>139917545562768</title>\n",
       "<polygon fill=\"none\" points=\"12,-146.5 12,-182.5 137,-182.5 137,-146.5 12,-146.5\" stroke=\"#000000\"/>\n",
       "<text fill=\"#000000\" font-family=\"Times,serif\" font-size=\"14.00\" text-anchor=\"middle\" x=\"74.5\" y=\"-160.8\">input_1: InputLayer</text>\n",
       "</g>\n",
       "<!-- 139917624581328 -->\n",
       "<g class=\"node\" id=\"node2\">\n",
       "<title>139917624581328</title>\n",
       "<polygon fill=\"none\" points=\"0,-73.5 0,-109.5 149,-109.5 149,-73.5 0,-73.5\" stroke=\"#000000\"/>\n",
       "<text fill=\"#000000\" font-family=\"Times,serif\" font-size=\"14.00\" text-anchor=\"middle\" x=\"74.5\" y=\"-87.8\">sequential_1: Sequential</text>\n",
       "</g>\n",
       "<!-- 139917545562768&#45;&gt;139917624581328 -->\n",
       "<g class=\"edge\" id=\"edge1\">\n",
       "<title>139917545562768-&gt;139917624581328</title>\n",
       "<path d=\"M74.5,-146.4551C74.5,-138.3828 74.5,-128.6764 74.5,-119.6817\" fill=\"none\" stroke=\"#000000\"/>\n",
       "<polygon fill=\"#000000\" points=\"78.0001,-119.5903 74.5,-109.5904 71.0001,-119.5904 78.0001,-119.5903\" stroke=\"#000000\"/>\n",
       "</g>\n",
       "<!-- 139917624582096 -->\n",
       "<g class=\"node\" id=\"node3\">\n",
       "<title>139917624582096</title>\n",
       "<polygon fill=\"none\" points=\"0,-.5 0,-36.5 149,-36.5 149,-.5 0,-.5\" stroke=\"#000000\"/>\n",
       "<text fill=\"#000000\" font-family=\"Times,serif\" font-size=\"14.00\" text-anchor=\"middle\" x=\"74.5\" y=\"-14.8\">sequential_2: Sequential</text>\n",
       "</g>\n",
       "<!-- 139917624581328&#45;&gt;139917624582096 -->\n",
       "<g class=\"edge\" id=\"edge2\">\n",
       "<title>139917624581328-&gt;139917624582096</title>\n",
       "<path d=\"M74.5,-73.4551C74.5,-65.3828 74.5,-55.6764 74.5,-46.6817\" fill=\"none\" stroke=\"#000000\"/>\n",
       "<polygon fill=\"#000000\" points=\"78.0001,-46.5903 74.5,-36.5904 71.0001,-46.5904 78.0001,-46.5903\" stroke=\"#000000\"/>\n",
       "</g>\n",
       "</g>\n",
       "</svg>"
      ],
      "text/plain": [
       "<IPython.core.display.SVG object>"
      ]
     },
     "execution_count": 11,
     "metadata": {},
     "output_type": "execute_result"
    }
   ],
   "source": [
    "from IPython.display import SVG\n",
    "from keras.utils.vis_utils import model_to_dot\n",
    "\n",
    "SVG(model_to_dot(generator_model).create(prog='dot', format='svg'))"
   ]
  },
  {
   "cell_type": "code",
   "execution_count": 12,
   "metadata": {},
   "outputs": [],
   "source": [
    "BATCH_SIZE = 64\n",
    "GRADIENT_PENALTY_WEIGHT = 10\n",
    "\n",
    "for layer in discriminator.layers:\n",
    "    layer.trainable = True\n",
    "for layer in generator.layers:\n",
    "    layer.trainable = False\n",
    "discriminator.trainable = True\n",
    "generator.trainable = False\n",
    "\n",
    "real_samples = Input(shape=X_train.shape[1:])\n",
    "generator_input_for_discriminator = Input(shape=(100,))\n",
    "generated_samples_for_discriminator = generator(generator_input_for_discriminator)\n",
    "discriminator_output_from_generator = discriminator(generated_samples_for_discriminator)\n",
    "discriminator_output_from_real_samples = discriminator(real_samples)\n",
    "\n",
    "averaged_samples = RandomWeightedAverage(BATCH_SIZE)([real_samples,\n",
    "                                                      generated_samples_for_discriminator])\n",
    "\n",
    "averaged_samples_out = discriminator(averaged_samples)\n",
    "\n",
    "partial_gp_loss = partial(gradient_penalty_wloss,\n",
    "                          averaged_samples=averaged_samples,\n",
    "                          gradient_penalty_weight=GRADIENT_PENALTY_WEIGHT)\n",
    "# Functions need names or Keras will throw an error\n",
    "partial_gp_loss.__name__ = 'gradient_penalty'\n",
    "\n",
    "\n",
    "discriminator_model = Model(inputs=[real_samples,\n",
    "                                    generator_input_for_discriminator],\n",
    "                            outputs=[discriminator_output_from_real_samples,\n",
    "                                     discriminator_output_from_generator,\n",
    "                                     averaged_samples_out])\n",
    "\n",
    "discriminator_model.compile(optimizer=Adam(0.0001, beta_1=0.5, beta_2=0.9),\n",
    "                            loss=[wloss,\n",
    "                                  wloss,\n",
    "                                  partial_gp_loss])"
   ]
  },
  {
   "cell_type": "code",
   "execution_count": 13,
   "metadata": {},
   "outputs": [
    {
     "name": "stdout",
     "output_type": "stream",
     "text": [
      "__________________________________________________________________________________________________\n",
      "Layer (type)                    Output Shape         Param #     Connected to                     \n",
      "==================================================================================================\n",
      "input_3 (InputLayer)            (None, 100)          0                                            \n",
      "__________________________________________________________________________________________________\n",
      "input_2 (InputLayer)            (None, 28, 28, 1)    0                                            \n",
      "__________________________________________________________________________________________________\n",
      "sequential_1 (Sequential)       (None, 28, 28, 1)    7276993     input_3[0][0]                    \n",
      "__________________________________________________________________________________________________\n",
      "random_weighted_average_1 (Rand (None, 28, 28, 1)    0           input_2[0][0]                    \n",
      "                                                                 sequential_1[2][0]               \n",
      "__________________________________________________________________________________________________\n",
      "sequential_2 (Sequential)       (None, 1)            5336961     sequential_1[2][0]               \n",
      "                                                                 input_2[0][0]                    \n",
      "                                                                 random_weighted_average_1[0][0]  \n",
      "==================================================================================================\n",
      "Total params: 12,613,954\n",
      "Trainable params: 5,336,961\n",
      "Non-trainable params: 7,276,993\n",
      "__________________________________________________________________________________________________\n"
     ]
    }
   ],
   "source": [
    "discriminator_model.summary()"
   ]
  },
  {
   "cell_type": "code",
   "execution_count": 14,
   "metadata": {},
   "outputs": [
    {
     "data": {
      "image/svg+xml": [
       "<svg height=\"264pt\" viewBox=\"0.00 0.00 369.50 264.00\" width=\"369pt\" xmlns=\"http://www.w3.org/2000/svg\" xmlns:xlink=\"http://www.w3.org/1999/xlink\">\n",
       "<g class=\"graph\" id=\"graph0\" transform=\"scale(1 1) rotate(0) translate(4 260)\">\n",
       "<title>G</title>\n",
       "<polygon fill=\"#ffffff\" points=\"-4,4 -4,-260 365.497,-260 365.497,4 -4,4\" stroke=\"transparent\"/>\n",
       "<!-- 139917540857040 -->\n",
       "<g class=\"node\" id=\"node1\">\n",
       "<title>139917540857040</title>\n",
       "<polygon fill=\"none\" points=\"31.2485,-219.5 31.2485,-255.5 156.2485,-255.5 156.2485,-219.5 31.2485,-219.5\" stroke=\"#000000\"/>\n",
       "<text fill=\"#000000\" font-family=\"Times,serif\" font-size=\"14.00\" text-anchor=\"middle\" x=\"93.7485\" y=\"-233.8\">input_3: InputLayer</text>\n",
       "</g>\n",
       "<!-- 139917624581328 -->\n",
       "<g class=\"node\" id=\"node3\">\n",
       "<title>139917624581328</title>\n",
       "<polygon fill=\"none\" points=\"19.2485,-146.5 19.2485,-182.5 168.2485,-182.5 168.2485,-146.5 19.2485,-146.5\" stroke=\"#000000\"/>\n",
       "<text fill=\"#000000\" font-family=\"Times,serif\" font-size=\"14.00\" text-anchor=\"middle\" x=\"93.7485\" y=\"-160.8\">sequential_1: Sequential</text>\n",
       "</g>\n",
       "<!-- 139917540857040&#45;&gt;139917624581328 -->\n",
       "<g class=\"edge\" id=\"edge1\">\n",
       "<title>139917540857040-&gt;139917624581328</title>\n",
       "<path d=\"M93.7485,-219.4551C93.7485,-211.3828 93.7485,-201.6764 93.7485,-192.6817\" fill=\"none\" stroke=\"#000000\"/>\n",
       "<polygon fill=\"#000000\" points=\"97.2486,-192.5903 93.7485,-182.5904 90.2486,-192.5904 97.2486,-192.5903\" stroke=\"#000000\"/>\n",
       "</g>\n",
       "<!-- 139917540849168 -->\n",
       "<g class=\"node\" id=\"node2\">\n",
       "<title>139917540849168</title>\n",
       "<polygon fill=\"none\" points=\"205.2485,-146.5 205.2485,-182.5 330.2485,-182.5 330.2485,-146.5 205.2485,-146.5\" stroke=\"#000000\"/>\n",
       "<text fill=\"#000000\" font-family=\"Times,serif\" font-size=\"14.00\" text-anchor=\"middle\" x=\"267.7485\" y=\"-160.8\">input_2: InputLayer</text>\n",
       "</g>\n",
       "<!-- 139917540436048 -->\n",
       "<g class=\"node\" id=\"node4\">\n",
       "<title>139917540436048</title>\n",
       "<polygon fill=\"none\" points=\"15.7485,-73.5 15.7485,-109.5 345.7485,-109.5 345.7485,-73.5 15.7485,-73.5\" stroke=\"#000000\"/>\n",
       "<text fill=\"#000000\" font-family=\"Times,serif\" font-size=\"14.00\" text-anchor=\"middle\" x=\"180.7485\" y=\"-87.8\">random_weighted_average_1: RandomWeightedAverage</text>\n",
       "</g>\n",
       "<!-- 139917540849168&#45;&gt;139917540436048 -->\n",
       "<g class=\"edge\" id=\"edge2\">\n",
       "<title>139917540849168-&gt;139917540436048</title>\n",
       "<path d=\"M246.2429,-146.4551C235.3677,-137.3299 222.0037,-126.1165 210.1898,-116.2036\" fill=\"none\" stroke=\"#000000\"/>\n",
       "<polygon fill=\"#000000\" points=\"212.2185,-113.337 202.3082,-109.5904 207.719,-118.6994 212.2185,-113.337\" stroke=\"#000000\"/>\n",
       "</g>\n",
       "<!-- 139917624582096 -->\n",
       "<g class=\"node\" id=\"node5\">\n",
       "<title>139917624582096</title>\n",
       "<polygon fill=\"none\" points=\"106.2485,-.5 106.2485,-36.5 255.2485,-36.5 255.2485,-.5 106.2485,-.5\" stroke=\"#000000\"/>\n",
       "<text fill=\"#000000\" font-family=\"Times,serif\" font-size=\"14.00\" text-anchor=\"middle\" x=\"180.7485\" y=\"-14.8\">sequential_2: Sequential</text>\n",
       "</g>\n",
       "<!-- 139917540849168&#45;&gt;139917624582096 -->\n",
       "<g class=\"edge\" id=\"edge5\">\n",
       "<title>139917540849168-&gt;139917624582096</title>\n",
       "<path d=\"M314.7615,-146.3286C330.3439,-137.7879 345.9438,-125.9051 354.7485,-110 362.7128,-95.6129 364.4848,-86.2523 354.7485,-73 343.3881,-57.5372 303.769,-44.4977 265.2019,-35.054\" fill=\"none\" stroke=\"#000000\"/>\n",
       "<polygon fill=\"#000000\" points=\"265.9758,-31.6405 255.4372,-32.7312 264.3558,-38.4505 265.9758,-31.6405\" stroke=\"#000000\"/>\n",
       "</g>\n",
       "<!-- 139917624581328&#45;&gt;139917540436048 -->\n",
       "<g class=\"edge\" id=\"edge3\">\n",
       "<title>139917624581328-&gt;139917540436048</title>\n",
       "<path d=\"M115.2541,-146.4551C126.1292,-137.3299 139.4933,-126.1165 151.3072,-116.2036\" fill=\"none\" stroke=\"#000000\"/>\n",
       "<polygon fill=\"#000000\" points=\"153.7779,-118.6994 159.1887,-109.5904 149.2785,-113.337 153.7779,-118.6994\" stroke=\"#000000\"/>\n",
       "</g>\n",
       "<!-- 139917624581328&#45;&gt;139917624582096 -->\n",
       "<g class=\"edge\" id=\"edge4\">\n",
       "<title>139917624581328-&gt;139917624582096</title>\n",
       "<path d=\"M46.7355,-146.3286C31.153,-137.7879 15.5531,-125.9051 6.7485,-110 -1.2158,-95.6129 -2.9878,-86.2523 6.7485,-73 18.1088,-57.5372 57.728,-44.4977 96.2951,-35.054\" fill=\"none\" stroke=\"#000000\"/>\n",
       "<polygon fill=\"#000000\" points=\"97.1412,-38.4505 106.0597,-32.7312 95.5212,-31.6405 97.1412,-38.4505\" stroke=\"#000000\"/>\n",
       "</g>\n",
       "<!-- 139917540436048&#45;&gt;139917624582096 -->\n",
       "<g class=\"edge\" id=\"edge6\">\n",
       "<title>139917540436048-&gt;139917624582096</title>\n",
       "<path d=\"M180.7485,-73.4551C180.7485,-65.3828 180.7485,-55.6764 180.7485,-46.6817\" fill=\"none\" stroke=\"#000000\"/>\n",
       "<polygon fill=\"#000000\" points=\"184.2486,-46.5903 180.7485,-36.5904 177.2486,-46.5904 184.2486,-46.5903\" stroke=\"#000000\"/>\n",
       "</g>\n",
       "</g>\n",
       "</svg>"
      ],
      "text/plain": [
       "<IPython.core.display.SVG object>"
      ]
     },
     "execution_count": 14,
     "metadata": {},
     "output_type": "execute_result"
    }
   ],
   "source": [
    "SVG(model_to_dot(discriminator_model).create(prog='dot', format='svg'))"
   ]
  },
  {
   "cell_type": "code",
   "execution_count": null,
   "metadata": {},
   "outputs": [],
   "source": []
  }
 ],
 "metadata": {
  "kernelspec": {
   "display_name": "Python [conda env:.conda-mols_keras]",
   "language": "python",
   "name": "conda-env-.conda-mols_keras-py"
  },
  "language_info": {
   "codemirror_mode": {
    "name": "ipython",
    "version": 2
   },
   "file_extension": ".py",
   "mimetype": "text/x-python",
   "name": "python",
   "nbconvert_exporter": "python",
   "pygments_lexer": "ipython2",
   "version": "2.7.16"
  }
 },
 "nbformat": 4,
 "nbformat_minor": 2
}
