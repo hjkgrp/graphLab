{
 "cells": [
  {
   "cell_type": "code",
   "execution_count": 1,
   "metadata": {
    "collapsed": false
   },
   "outputs": [
    {
     "name": "stderr",
     "output_type": "stream",
     "text": [
      "Using TensorFlow backend.\n"
     ]
    }
   ],
   "source": [
    "import os, sys, keras\n",
    "import numpy as np\n",
    "import pandas as pd"
   ]
  },
  {
   "cell_type": "code",
   "execution_count": 2,
   "metadata": {
    "collapsed": false
   },
   "outputs": [],
   "source": [
    "from graphTools import *\n",
    "from layerTools import *"
   ]
  },
  {
   "cell_type": "code",
   "execution_count": 103,
   "metadata": {
    "collapsed": false
   },
   "outputs": [
    {
     "name": "stdout",
     "output_type": "stream",
     "text": [
      "Header One-Hot Map: {8.0: array([0., 0., 0., 1., 0.]), 1.0: array([1., 0., 0., 0., 0.]), 9.0: array([0., 0., 0., 0., 1.]), 6.0: array([0., 1., 0., 0., 0.]), 7.0: array([0., 0., 1., 0., 0.])}\n",
      "Bond One-Hot Map: {1.0: array([1., 0., 0.]), 2.0: array([0., 1., 0.]), 3.0: array([0., 0., 1.])}\n",
      "Graph Size: 29\n",
      "Number of dropped graphs: 0\n",
      "(1000, 29, 5)\n",
      "(1000, 29, 29, 3)\n",
      "(1000, 29, 29)\n"
     ]
    }
   ],
   "source": [
    "\n",
    "# Read in graphs\n",
    "graph_files = glob.glob('qm9graph/*.csv')[0:1000]\n",
    "mygraphs = [readgraph(fname) for fname in graph_files]\n",
    "headers_onehot_dict, matrices_onehot_dict, mygraphs_standardized = standardize_graphs(mygraphs, max_size=29)\n",
    "headers_padded = np.array([i['header'] for i in mygraphs_standardized])\n",
    "matrices_padded = np.array([i['matrix'] for i in mygraphs_standardized])\n",
    "connectivities_padded = np.array([i['connectivity'] for i in mygraphs_standardized])\n",
    "origHeaders_padded = np.array([i['origHeader'] for i in mygraphs_standardized])\n",
    "origMatrices_padded = np.array([i['origMatrix'] for i in mygraphs_standardized])\n",
    "print headers_padded.shape\n",
    "print matrices_padded.shape\n",
    "print connectivities_padded.shape"
   ]
  },
  {
   "cell_type": "code",
   "execution_count": 192,
   "metadata": {
    "collapsed": false
   },
   "outputs": [
    {
     "name": "stdout",
     "output_type": "stream",
     "text": [
      "combined shape is (?, 29, 10)\n",
      "bond_hiddens_input shape is (?, 29, 29, 3)\n",
      "atom_hiddens_input shape is (?, 29, 5)\n",
      "connectivity_input shape is (?, 29, 29)\n",
      "message_to_out shape is (?, 29, 5)\n"
     ]
    }
   ],
   "source": [
    "from layerTools import generate_gc_atom_layer\n",
    "inital_atom_layer_1 = generate_gc_atom_layer(num_nodes=29, atom_hidden_length=5, bond_hidden_length=3, hide_atoms=False,\\\n",
    "                      message_dense_resize=5, atom_dense_resize=None,  nonlinear_state_update = False)\n",
    "dense_read = keras.layers.Dense(32,activation='relu')(inital_atom_layer_1.output)\n",
    "softmax_ouput = keras.layers.Dense(5,activation='softmax')(dense_read)\n",
    "\n",
    "\n",
    "final_model = keras.models.Model(inputs=inital_atom_layer_1.inputs, outputs=[softmax_ouput])"
   ]
  },
  {
   "cell_type": "code",
   "execution_count": 193,
   "metadata": {
    "collapsed": false
   },
   "outputs": [
    {
     "data": {
      "image/svg+xml": [
       "<svg height=\"644pt\" viewBox=\"0.00 0.00 834.00 644.00\" width=\"834pt\" xmlns=\"http://www.w3.org/2000/svg\" xmlns:xlink=\"http://www.w3.org/1999/xlink\">\n",
       "<g class=\"graph\" id=\"graph0\" transform=\"scale(1 1) rotate(0) translate(4 640)\">\n",
       "<title>G</title>\n",
       "<polygon fill=\"white\" points=\"-4,4 -4,-640 830,-640 830,4 -4,4\" stroke=\"none\"/>\n",
       "<!-- 140175350742416 -->\n",
       "<g class=\"node\" id=\"node1\"><title>140175350742416</title>\n",
       "<polygon fill=\"none\" points=\"459.5,-589 459.5,-635 764.5,-635 764.5,-589 459.5,-589\" stroke=\"black\"/>\n",
       "<text font-family=\"Times,serif\" font-size=\"14.00\" text-anchor=\"middle\" x=\"539.5\" y=\"-608.3\">atom_input_1: InputLayer</text>\n",
       "<polyline fill=\"none\" points=\"619.5,-589 619.5,-635 \" stroke=\"black\"/>\n",
       "<text font-family=\"Times,serif\" font-size=\"14.00\" text-anchor=\"middle\" x=\"647\" y=\"-619.8\">input:</text>\n",
       "<polyline fill=\"none\" points=\"619.5,-612 674.5,-612 \" stroke=\"black\"/>\n",
       "<text font-family=\"Times,serif\" font-size=\"14.00\" text-anchor=\"middle\" x=\"647\" y=\"-596.8\">output:</text>\n",
       "<polyline fill=\"none\" points=\"674.5,-589 674.5,-635 \" stroke=\"black\"/>\n",
       "<text font-family=\"Times,serif\" font-size=\"14.00\" text-anchor=\"middle\" x=\"719.5\" y=\"-619.8\">(None, 29, 5)</text>\n",
       "<polyline fill=\"none\" points=\"674.5,-612 764.5,-612 \" stroke=\"black\"/>\n",
       "<text font-family=\"Times,serif\" font-size=\"14.00\" text-anchor=\"middle\" x=\"719.5\" y=\"-596.8\">(None, 29, 5)</text>\n",
       "</g>\n",
       "<!-- 140175355666256 -->\n",
       "<g class=\"node\" id=\"node3\"><title>140175355666256</title>\n",
       "<polygon fill=\"none\" points=\"32.5,-505 32.5,-551 409.5,-551 409.5,-505 32.5,-505\" stroke=\"black\"/>\n",
       "<text font-family=\"Times,serif\" font-size=\"14.00\" text-anchor=\"middle\" x=\"93\" y=\"-524.3\">stacker_1: Lambda</text>\n",
       "<polyline fill=\"none\" points=\"153.5,-505 153.5,-551 \" stroke=\"black\"/>\n",
       "<text font-family=\"Times,serif\" font-size=\"14.00\" text-anchor=\"middle\" x=\"181\" y=\"-535.8\">input:</text>\n",
       "<polyline fill=\"none\" points=\"153.5,-528 208.5,-528 \" stroke=\"black\"/>\n",
       "<text font-family=\"Times,serif\" font-size=\"14.00\" text-anchor=\"middle\" x=\"181\" y=\"-512.8\">output:</text>\n",
       "<polyline fill=\"none\" points=\"208.5,-505 208.5,-551 \" stroke=\"black\"/>\n",
       "<text font-family=\"Times,serif\" font-size=\"14.00\" text-anchor=\"middle\" x=\"309\" y=\"-535.8\">[(None, 29, 29, 3), (None, 29, 5)]</text>\n",
       "<polyline fill=\"none\" points=\"208.5,-528 409.5,-528 \" stroke=\"black\"/>\n",
       "<text font-family=\"Times,serif\" font-size=\"14.00\" text-anchor=\"middle\" x=\"309\" y=\"-512.8\">(None, 29, 29, 13)</text>\n",
       "</g>\n",
       "<!-- 140175350742416&#45;&gt;140175355666256 -->\n",
       "<g class=\"edge\" id=\"edge2\"><title>140175350742416-&gt;140175355666256</title>\n",
       "<path d=\"M506.962,-588.972C454.152,-577.896 390.044,-564.452 335.922,-553.101\" fill=\"none\" stroke=\"black\"/>\n",
       "<polygon fill=\"black\" points=\"336.443,-549.634 325.937,-551.007 335.006,-556.485 336.443,-549.634\" stroke=\"black\"/>\n",
       "</g>\n",
       "<!-- 140175350203984 -->\n",
       "<g class=\"node\" id=\"node7\"><title>140175350203984</title>\n",
       "<polygon fill=\"none\" points=\"386,-253 386,-299 826,-299 826,-253 386,-253\" stroke=\"black\"/>\n",
       "<text font-family=\"Times,serif\" font-size=\"14.00\" text-anchor=\"middle\" x=\"488.5\" y=\"-272.3\">combine_message_1: Concatenate</text>\n",
       "<polyline fill=\"none\" points=\"591,-253 591,-299 \" stroke=\"black\"/>\n",
       "<text font-family=\"Times,serif\" font-size=\"14.00\" text-anchor=\"middle\" x=\"618.5\" y=\"-283.8\">input:</text>\n",
       "<polyline fill=\"none\" points=\"591,-276 646,-276 \" stroke=\"black\"/>\n",
       "<text font-family=\"Times,serif\" font-size=\"14.00\" text-anchor=\"middle\" x=\"618.5\" y=\"-260.8\">output:</text>\n",
       "<polyline fill=\"none\" points=\"646,-253 646,-299 \" stroke=\"black\"/>\n",
       "<text font-family=\"Times,serif\" font-size=\"14.00\" text-anchor=\"middle\" x=\"736\" y=\"-283.8\">[(None, 29, 5), (None, 29, 5)]</text>\n",
       "<polyline fill=\"none\" points=\"646,-276 826,-276 \" stroke=\"black\"/>\n",
       "<text font-family=\"Times,serif\" font-size=\"14.00\" text-anchor=\"middle\" x=\"736\" y=\"-260.8\">(None, 29, 10)</text>\n",
       "</g>\n",
       "<!-- 140175350742416&#45;&gt;140175350203984 -->\n",
       "<g class=\"edge\" id=\"edge6\"><title>140175350742416-&gt;140175350203984</title>\n",
       "<path d=\"M631.779,-588.773C672.304,-540.402 756.912,-422.96 707,-336 699.567,-323.049 688.071,-312.671 675.46,-304.455\" fill=\"none\" stroke=\"black\"/>\n",
       "<polygon fill=\"black\" points=\"676.958,-301.272 666.587,-299.108 673.345,-307.267 676.958,-301.272\" stroke=\"black\"/>\n",
       "</g>\n",
       "<!-- 140175360116816 -->\n",
       "<g class=\"node\" id=\"node2\"><title>140175360116816</title>\n",
       "<polygon fill=\"none\" points=\"58.5,-589 58.5,-635 383.5,-635 383.5,-589 58.5,-589\" stroke=\"black\"/>\n",
       "<text font-family=\"Times,serif\" font-size=\"14.00\" text-anchor=\"middle\" x=\"138\" y=\"-608.3\">bond_input_1: InputLayer</text>\n",
       "<polyline fill=\"none\" points=\"217.5,-589 217.5,-635 \" stroke=\"black\"/>\n",
       "<text font-family=\"Times,serif\" font-size=\"14.00\" text-anchor=\"middle\" x=\"245\" y=\"-619.8\">input:</text>\n",
       "<polyline fill=\"none\" points=\"217.5,-612 272.5,-612 \" stroke=\"black\"/>\n",
       "<text font-family=\"Times,serif\" font-size=\"14.00\" text-anchor=\"middle\" x=\"245\" y=\"-596.8\">output:</text>\n",
       "<polyline fill=\"none\" points=\"272.5,-589 272.5,-635 \" stroke=\"black\"/>\n",
       "<text font-family=\"Times,serif\" font-size=\"14.00\" text-anchor=\"middle\" x=\"328\" y=\"-619.8\">(None, 29, 29, 3)</text>\n",
       "<polyline fill=\"none\" points=\"272.5,-612 383.5,-612 \" stroke=\"black\"/>\n",
       "<text font-family=\"Times,serif\" font-size=\"14.00\" text-anchor=\"middle\" x=\"328\" y=\"-596.8\">(None, 29, 29, 3)</text>\n",
       "</g>\n",
       "<!-- 140175360116816&#45;&gt;140175355666256 -->\n",
       "<g class=\"edge\" id=\"edge1\"><title>140175360116816-&gt;140175355666256</title>\n",
       "<path d=\"M221,-588.593C221,-580.118 221,-570.297 221,-561.104\" fill=\"none\" stroke=\"black\"/>\n",
       "<polygon fill=\"black\" points=\"224.5,-561.096 221,-551.096 217.5,-561.096 224.5,-561.096\" stroke=\"black\"/>\n",
       "</g>\n",
       "<!-- 140175351353744 -->\n",
       "<g class=\"node\" id=\"node4\"><title>140175351353744</title>\n",
       "<polygon fill=\"none\" points=\"0,-421 0,-467 328,-467 328,-421 0,-421\" stroke=\"black\"/>\n",
       "<text font-family=\"Times,serif\" font-size=\"14.00\" text-anchor=\"middle\" x=\"77.5\" y=\"-440.3\">message_dense_1: Dense</text>\n",
       "<polyline fill=\"none\" points=\"155,-421 155,-467 \" stroke=\"black\"/>\n",
       "<text font-family=\"Times,serif\" font-size=\"14.00\" text-anchor=\"middle\" x=\"182.5\" y=\"-451.8\">input:</text>\n",
       "<polyline fill=\"none\" points=\"155,-444 210,-444 \" stroke=\"black\"/>\n",
       "<text font-family=\"Times,serif\" font-size=\"14.00\" text-anchor=\"middle\" x=\"182.5\" y=\"-428.8\">output:</text>\n",
       "<polyline fill=\"none\" points=\"210,-421 210,-467 \" stroke=\"black\"/>\n",
       "<text font-family=\"Times,serif\" font-size=\"14.00\" text-anchor=\"middle\" x=\"269\" y=\"-451.8\">(None, 29, 29, 13)</text>\n",
       "<polyline fill=\"none\" points=\"210,-444 328,-444 \" stroke=\"black\"/>\n",
       "<text font-family=\"Times,serif\" font-size=\"14.00\" text-anchor=\"middle\" x=\"269\" y=\"-428.8\">(None, 29, 29, 5)</text>\n",
       "</g>\n",
       "<!-- 140175355666256&#45;&gt;140175351353744 -->\n",
       "<g class=\"edge\" id=\"edge3\"><title>140175355666256-&gt;140175351353744</title>\n",
       "<path d=\"M205.424,-504.593C199.153,-495.571 191.822,-485.025 185.085,-475.333\" fill=\"none\" stroke=\"black\"/>\n",
       "<polygon fill=\"black\" points=\"187.941,-473.309 179.359,-467.096 182.193,-477.305 187.941,-473.309\" stroke=\"black\"/>\n",
       "</g>\n",
       "<!-- 140175355701008 -->\n",
       "<g class=\"node\" id=\"node6\"><title>140175355701008</title>\n",
       "<polygon fill=\"none\" points=\"276,-337 276,-383 698,-383 698,-337 276,-337\" stroke=\"black\"/>\n",
       "<text font-family=\"Times,serif\" font-size=\"14.00\" text-anchor=\"middle\" x=\"355.5\" y=\"-356.3\">message_sum_1: Lambda</text>\n",
       "<polyline fill=\"none\" points=\"435,-337 435,-383 \" stroke=\"black\"/>\n",
       "<text font-family=\"Times,serif\" font-size=\"14.00\" text-anchor=\"middle\" x=\"462.5\" y=\"-367.8\">input:</text>\n",
       "<polyline fill=\"none\" points=\"435,-360 490,-360 \" stroke=\"black\"/>\n",
       "<text font-family=\"Times,serif\" font-size=\"14.00\" text-anchor=\"middle\" x=\"462.5\" y=\"-344.8\">output:</text>\n",
       "<polyline fill=\"none\" points=\"490,-337 490,-383 \" stroke=\"black\"/>\n",
       "<text font-family=\"Times,serif\" font-size=\"14.00\" text-anchor=\"middle\" x=\"594\" y=\"-367.8\">[(None, 29, 29, 5), (None, 29, 29)]</text>\n",
       "<polyline fill=\"none\" points=\"490,-360 698,-360 \" stroke=\"black\"/>\n",
       "<text font-family=\"Times,serif\" font-size=\"14.00\" text-anchor=\"middle\" x=\"594\" y=\"-344.8\">(None, 29, 5)</text>\n",
       "</g>\n",
       "<!-- 140175351353744&#45;&gt;140175355701008 -->\n",
       "<g class=\"edge\" id=\"edge4\"><title>140175351353744-&gt;140175355701008</title>\n",
       "<path d=\"M250.983,-420.918C293.977,-410.003 345.995,-396.797 390.243,-385.564\" fill=\"none\" stroke=\"black\"/>\n",
       "<polygon fill=\"black\" points=\"391.311,-388.904 400.142,-383.051 389.588,-382.119 391.311,-388.904\" stroke=\"black\"/>\n",
       "</g>\n",
       "<!-- 140175355666128 -->\n",
       "<g class=\"node\" id=\"node5\"><title>140175355666128</title>\n",
       "<polygon fill=\"none\" points=\"346.5,-421 346.5,-467 697.5,-467 697.5,-421 346.5,-421\" stroke=\"black\"/>\n",
       "<text font-family=\"Times,serif\" font-size=\"14.00\" text-anchor=\"middle\" x=\"446\" y=\"-440.3\">connectivity_input_1: InputLayer</text>\n",
       "<polyline fill=\"none\" points=\"545.5,-421 545.5,-467 \" stroke=\"black\"/>\n",
       "<text font-family=\"Times,serif\" font-size=\"14.00\" text-anchor=\"middle\" x=\"573\" y=\"-451.8\">input:</text>\n",
       "<polyline fill=\"none\" points=\"545.5,-444 600.5,-444 \" stroke=\"black\"/>\n",
       "<text font-family=\"Times,serif\" font-size=\"14.00\" text-anchor=\"middle\" x=\"573\" y=\"-428.8\">output:</text>\n",
       "<polyline fill=\"none\" points=\"600.5,-421 600.5,-467 \" stroke=\"black\"/>\n",
       "<text font-family=\"Times,serif\" font-size=\"14.00\" text-anchor=\"middle\" x=\"649\" y=\"-451.8\">(None, 29, 29)</text>\n",
       "<polyline fill=\"none\" points=\"600.5,-444 697.5,-444 \" stroke=\"black\"/>\n",
       "<text font-family=\"Times,serif\" font-size=\"14.00\" text-anchor=\"middle\" x=\"649\" y=\"-428.8\">(None, 29, 29)</text>\n",
       "</g>\n",
       "<!-- 140175355666128&#45;&gt;140175355701008 -->\n",
       "<g class=\"edge\" id=\"edge5\"><title>140175355666128-&gt;140175355701008</title>\n",
       "<path d=\"M512.436,-420.593C508.741,-411.935 504.446,-401.874 500.45,-392.512\" fill=\"none\" stroke=\"black\"/>\n",
       "<polygon fill=\"black\" points=\"503.576,-390.919 496.431,-383.096 497.138,-393.667 503.576,-390.919\" stroke=\"black\"/>\n",
       "</g>\n",
       "<!-- 140175355701008&#45;&gt;140175350203984 -->\n",
       "<g class=\"edge\" id=\"edge7\"><title>140175355701008-&gt;140175350203984</title>\n",
       "<path d=\"M519.203,-336.81C533.358,-327.056 550.144,-315.489 565.165,-305.139\" fill=\"none\" stroke=\"black\"/>\n",
       "<polygon fill=\"black\" points=\"567.523,-307.764 573.771,-299.208 563.551,-302 567.523,-307.764\" stroke=\"black\"/>\n",
       "</g>\n",
       "<!-- 140175349834448 -->\n",
       "<g class=\"node\" id=\"node8\"><title>140175349834448</title>\n",
       "<polygon fill=\"none\" points=\"452,-169 452,-215 760,-215 760,-169 452,-169\" stroke=\"black\"/>\n",
       "<text font-family=\"Times,serif\" font-size=\"14.00\" text-anchor=\"middle\" x=\"530\" y=\"-188.3\">linear_combine_1: Dense</text>\n",
       "<polyline fill=\"none\" points=\"608,-169 608,-215 \" stroke=\"black\"/>\n",
       "<text font-family=\"Times,serif\" font-size=\"14.00\" text-anchor=\"middle\" x=\"635.5\" y=\"-199.8\">input:</text>\n",
       "<polyline fill=\"none\" points=\"608,-192 663,-192 \" stroke=\"black\"/>\n",
       "<text font-family=\"Times,serif\" font-size=\"14.00\" text-anchor=\"middle\" x=\"635.5\" y=\"-176.8\">output:</text>\n",
       "<polyline fill=\"none\" points=\"663,-169 663,-215 \" stroke=\"black\"/>\n",
       "<text font-family=\"Times,serif\" font-size=\"14.00\" text-anchor=\"middle\" x=\"711.5\" y=\"-199.8\">(None, 29, 10)</text>\n",
       "<polyline fill=\"none\" points=\"663,-192 760,-192 \" stroke=\"black\"/>\n",
       "<text font-family=\"Times,serif\" font-size=\"14.00\" text-anchor=\"middle\" x=\"711.5\" y=\"-176.8\">(None, 29, 5)</text>\n",
       "</g>\n",
       "<!-- 140175350203984&#45;&gt;140175349834448 -->\n",
       "<g class=\"edge\" id=\"edge8\"><title>140175350203984-&gt;140175349834448</title>\n",
       "<path d=\"M606,-252.593C606,-244.118 606,-234.297 606,-225.104\" fill=\"none\" stroke=\"black\"/>\n",
       "<polygon fill=\"black\" points=\"609.5,-225.096 606,-215.096 602.5,-225.096 609.5,-225.096\" stroke=\"black\"/>\n",
       "</g>\n",
       "<!-- 140175350341264 -->\n",
       "<g class=\"node\" id=\"node9\"><title>140175350341264</title>\n",
       "<polygon fill=\"none\" points=\"475.5,-85 475.5,-131 736.5,-131 736.5,-85 475.5,-85\" stroke=\"black\"/>\n",
       "<text font-family=\"Times,serif\" font-size=\"14.00\" text-anchor=\"middle\" x=\"530\" y=\"-104.3\">dense_31: Dense</text>\n",
       "<polyline fill=\"none\" points=\"584.5,-85 584.5,-131 \" stroke=\"black\"/>\n",
       "<text font-family=\"Times,serif\" font-size=\"14.00\" text-anchor=\"middle\" x=\"612\" y=\"-115.8\">input:</text>\n",
       "<polyline fill=\"none\" points=\"584.5,-108 639.5,-108 \" stroke=\"black\"/>\n",
       "<text font-family=\"Times,serif\" font-size=\"14.00\" text-anchor=\"middle\" x=\"612\" y=\"-92.8\">output:</text>\n",
       "<polyline fill=\"none\" points=\"639.5,-85 639.5,-131 \" stroke=\"black\"/>\n",
       "<text font-family=\"Times,serif\" font-size=\"14.00\" text-anchor=\"middle\" x=\"688\" y=\"-115.8\">(None, 29, 5)</text>\n",
       "<polyline fill=\"none\" points=\"639.5,-108 736.5,-108 \" stroke=\"black\"/>\n",
       "<text font-family=\"Times,serif\" font-size=\"14.00\" text-anchor=\"middle\" x=\"688\" y=\"-92.8\">(None, 29, 32)</text>\n",
       "</g>\n",
       "<!-- 140175349834448&#45;&gt;140175350341264 -->\n",
       "<g class=\"edge\" id=\"edge9\"><title>140175349834448-&gt;140175350341264</title>\n",
       "<path d=\"M606,-168.593C606,-160.118 606,-150.297 606,-141.104\" fill=\"none\" stroke=\"black\"/>\n",
       "<polygon fill=\"black\" points=\"609.5,-141.096 606,-131.096 602.5,-141.096 609.5,-141.096\" stroke=\"black\"/>\n",
       "</g>\n",
       "<!-- 140175349558288 -->\n",
       "<g class=\"node\" id=\"node10\"><title>140175349558288</title>\n",
       "<polygon fill=\"none\" points=\"475.5,-1 475.5,-47 736.5,-47 736.5,-1 475.5,-1\" stroke=\"black\"/>\n",
       "<text font-family=\"Times,serif\" font-size=\"14.00\" text-anchor=\"middle\" x=\"530\" y=\"-20.3\">dense_32: Dense</text>\n",
       "<polyline fill=\"none\" points=\"584.5,-1 584.5,-47 \" stroke=\"black\"/>\n",
       "<text font-family=\"Times,serif\" font-size=\"14.00\" text-anchor=\"middle\" x=\"612\" y=\"-31.8\">input:</text>\n",
       "<polyline fill=\"none\" points=\"584.5,-24 639.5,-24 \" stroke=\"black\"/>\n",
       "<text font-family=\"Times,serif\" font-size=\"14.00\" text-anchor=\"middle\" x=\"612\" y=\"-8.8\">output:</text>\n",
       "<polyline fill=\"none\" points=\"639.5,-1 639.5,-47 \" stroke=\"black\"/>\n",
       "<text font-family=\"Times,serif\" font-size=\"14.00\" text-anchor=\"middle\" x=\"688\" y=\"-31.8\">(None, 29, 32)</text>\n",
       "<polyline fill=\"none\" points=\"639.5,-24 736.5,-24 \" stroke=\"black\"/>\n",
       "<text font-family=\"Times,serif\" font-size=\"14.00\" text-anchor=\"middle\" x=\"688\" y=\"-8.8\">(None, 29, 5)</text>\n",
       "</g>\n",
       "<!-- 140175350341264&#45;&gt;140175349558288 -->\n",
       "<g class=\"edge\" id=\"edge10\"><title>140175350341264-&gt;140175349558288</title>\n",
       "<path d=\"M606,-84.5931C606,-76.1177 606,-66.2974 606,-57.104\" fill=\"none\" stroke=\"black\"/>\n",
       "<polygon fill=\"black\" points=\"609.5,-57.0958 606,-47.0959 602.5,-57.0959 609.5,-57.0958\" stroke=\"black\"/>\n",
       "</g>\n",
       "</g>\n",
       "</svg>"
      ],
      "text/plain": [
       "<IPython.core.display.SVG object>"
      ]
     },
     "execution_count": 193,
     "metadata": {},
     "output_type": "execute_result"
    }
   ],
   "source": [
    "from IPython.display import SVG\n",
    "from keras.utils.vis_utils import model_to_dot\n",
    "SVG(model_to_dot(final_model,show_shapes=True).create(prog='dot', format='svg'))\n"
   ]
  },
  {
   "cell_type": "code",
   "execution_count": 194,
   "metadata": {
    "collapsed": false
   },
   "outputs": [
    {
     "data": {
      "text/plain": [
       "array([[0.1750212 , 0.20989479, 0.19894926, 0.23941587, 0.1767189 ],\n",
       "       [0.17653237, 0.21615066, 0.2551099 , 0.2707561 , 0.08145095],\n",
       "       [0.20922959, 0.20975462, 0.24628009, 0.2110709 , 0.12366485],\n",
       "       [0.17653237, 0.21615066, 0.2551099 , 0.2707561 , 0.08145095],\n",
       "       [0.16978125, 0.21143371, 0.19737393, 0.2555654 , 0.16584575],\n",
       "       [0.19891453, 0.21559583, 0.25664717, 0.23587132, 0.09297116],\n",
       "       [0.16530502, 0.21253638, 0.2394689 , 0.2876955 , 0.09499424],\n",
       "       [0.19031103, 0.208367  , 0.24318099, 0.24051432, 0.11762671],\n",
       "       [0.19031103, 0.208367  , 0.24318099, 0.24051432, 0.11762671],\n",
       "       [0.23939127, 0.20936109, 0.21219324, 0.2012115 , 0.13784291],\n",
       "       [0.22377427, 0.20312333, 0.20555672, 0.2172423 , 0.1503034 ],\n",
       "       [0.22377427, 0.20312333, 0.20555672, 0.2172423 , 0.1503034 ],\n",
       "       [0.22377427, 0.20312333, 0.20555672, 0.2172423 , 0.1503034 ],\n",
       "       [0.22377427, 0.20312333, 0.20555672, 0.2172423 , 0.1503034 ],\n",
       "       [0.22377427, 0.20312333, 0.20555672, 0.2172423 , 0.1503034 ],\n",
       "       [0.22377427, 0.20312333, 0.20555672, 0.2172423 , 0.1503034 ],\n",
       "       [0.22377427, 0.20312333, 0.20555672, 0.2172423 , 0.1503034 ],\n",
       "       [0.22377427, 0.20312333, 0.20555672, 0.2172423 , 0.1503034 ],\n",
       "       [0.22377427, 0.20312333, 0.20555672, 0.2172423 , 0.1503034 ],\n",
       "       [0.2       , 0.2       , 0.2       , 0.2       , 0.2       ],\n",
       "       [0.2       , 0.2       , 0.2       , 0.2       , 0.2       ],\n",
       "       [0.2       , 0.2       , 0.2       , 0.2       , 0.2       ],\n",
       "       [0.2       , 0.2       , 0.2       , 0.2       , 0.2       ],\n",
       "       [0.2       , 0.2       , 0.2       , 0.2       , 0.2       ],\n",
       "       [0.2       , 0.2       , 0.2       , 0.2       , 0.2       ],\n",
       "       [0.2       , 0.2       , 0.2       , 0.2       , 0.2       ],\n",
       "       [0.2       , 0.2       , 0.2       , 0.2       , 0.2       ],\n",
       "       [0.2       , 0.2       , 0.2       , 0.2       , 0.2       ],\n",
       "       [0.2       , 0.2       , 0.2       , 0.2       , 0.2       ]],\n",
       "      dtype=float32)"
      ]
     },
     "execution_count": 194,
     "metadata": {},
     "output_type": "execute_result"
    }
   ],
   "source": [
    "final_model.predict([matrices_padded, headers_padded, connectivities_padded])[0]"
   ]
  },
  {
   "cell_type": "code",
   "execution_count": 195,
   "metadata": {
    "collapsed": true
   },
   "outputs": [],
   "source": [
    "np.random.seed(3)\n",
    "# get random partition\n",
    "msk = np.random.rand(np.shape(headers_padded)[0]) < 0.75"
   ]
  },
  {
   "cell_type": "code",
   "execution_count": 196,
   "metadata": {
    "collapsed": false
   },
   "outputs": [],
   "source": [
    "# test and train split\n",
    "train_matrices_padded = matrices_padded[msk,:,:]\n",
    "train_headers_padded = headers_padded[msk,:]\n",
    "train_connectivities_padded = connectivities_padded[msk,:,:]\n",
    "test_matrices_padded = matrices_padded[~msk,:,:]\n",
    "test_headers_padded = headers_padded[~msk,:]\n",
    "test_connectivities_padded = connectivities_padded[~msk,:,:]"
   ]
  },
  {
   "cell_type": "code",
   "execution_count": 197,
   "metadata": {
    "collapsed": false
   },
   "outputs": [
    {
     "data": {
      "text/plain": [
       "(231, 29, 29, 3)"
      ]
     },
     "execution_count": 197,
     "metadata": {},
     "output_type": "execute_result"
    }
   ],
   "source": [
    "test_matrices_padded.shape"
   ]
  },
  {
   "cell_type": "code",
   "execution_count": 198,
   "metadata": {
    "collapsed": false
   },
   "outputs": [
    {
     "name": "stdout",
     "output_type": "stream",
     "text": [
      "Train on 692 samples, validate on 77 samples\n",
      "Epoch 1/50\n",
      "692/692 [==============================] - 2s 3ms/step - loss: 0.9990 - categorical_accuracy: 0.5863 - categorical_crossentropy: 0.9990 - val_loss: 0.9787 - val_categorical_accuracy: 0.7179 - val_categorical_crossentropy: 0.9787\n",
      "Epoch 2/50\n",
      "692/692 [==============================] - 0s 72us/step - loss: 0.9780 - categorical_accuracy: 0.7186 - categorical_crossentropy: 0.9780 - val_loss: 0.9564 - val_categorical_accuracy: 0.7179 - val_categorical_crossentropy: 0.9564\n",
      "Epoch 3/50\n",
      "692/692 [==============================] - 0s 81us/step - loss: 0.9544 - categorical_accuracy: 0.7186 - categorical_crossentropy: 0.9544 - val_loss: 0.9317 - val_categorical_accuracy: 0.7179 - val_categorical_crossentropy: 0.9317\n",
      "Epoch 4/50\n",
      "692/692 [==============================] - 0s 68us/step - loss: 0.9282 - categorical_accuracy: 0.7186 - categorical_crossentropy: 0.9282 - val_loss: 0.9045 - val_categorical_accuracy: 0.7179 - val_categorical_crossentropy: 0.9045\n",
      "Epoch 5/50\n",
      "692/692 [==============================] - 0s 77us/step - loss: 0.8997 - categorical_accuracy: 0.7152 - categorical_crossentropy: 0.8997 - val_loss: 0.8748 - val_categorical_accuracy: 0.8710 - val_categorical_crossentropy: 0.8748\n",
      "Epoch 6/50\n",
      "692/692 [==============================] - 0s 72us/step - loss: 0.8684 - categorical_accuracy: 0.8711 - categorical_crossentropy: 0.8684 - val_loss: 0.8432 - val_categorical_accuracy: 0.9172 - val_categorical_crossentropy: 0.8432\n",
      "Epoch 7/50\n",
      "692/692 [==============================] - 0s 74us/step - loss: 0.8358 - categorical_accuracy: 0.9279 - categorical_crossentropy: 0.8358 - val_loss: 0.8103 - val_categorical_accuracy: 0.9288 - val_categorical_crossentropy: 0.8103\n",
      "Epoch 8/50\n",
      "692/692 [==============================] - 0s 69us/step - loss: 0.8021 - categorical_accuracy: 0.9295 - categorical_crossentropy: 0.8021 - val_loss: 0.7773 - val_categorical_accuracy: 0.9288 - val_categorical_crossentropy: 0.7773\n",
      "Epoch 9/50\n",
      "692/692 [==============================] - 0s 73us/step - loss: 0.7693 - categorical_accuracy: 0.9295 - categorical_crossentropy: 0.7693 - val_loss: 0.7453 - val_categorical_accuracy: 0.9288 - val_categorical_crossentropy: 0.7453\n",
      "Epoch 10/50\n",
      "692/692 [==============================] - 0s 78us/step - loss: 0.7374 - categorical_accuracy: 0.9294 - categorical_crossentropy: 0.7374 - val_loss: 0.7157 - val_categorical_accuracy: 0.9288 - val_categorical_crossentropy: 0.7157\n",
      "Epoch 11/50\n",
      "692/692 [==============================] - 0s 73us/step - loss: 0.7084 - categorical_accuracy: 0.9295 - categorical_crossentropy: 0.7084 - val_loss: 0.6889 - val_categorical_accuracy: 0.9288 - val_categorical_crossentropy: 0.6889\n",
      "Epoch 12/50\n",
      "692/692 [==============================] - 0s 71us/step - loss: 0.6819 - categorical_accuracy: 0.9295 - categorical_crossentropy: 0.6819 - val_loss: 0.6649 - val_categorical_accuracy: 0.9288 - val_categorical_crossentropy: 0.6649\n",
      "Epoch 13/50\n",
      "692/692 [==============================] - 0s 71us/step - loss: 0.6584 - categorical_accuracy: 0.9295 - categorical_crossentropy: 0.6584 - val_loss: 0.6436 - val_categorical_accuracy: 0.9288 - val_categorical_crossentropy: 0.6436\n",
      "Epoch 14/50\n",
      "692/692 [==============================] - 0s 73us/step - loss: 0.6374 - categorical_accuracy: 0.9295 - categorical_crossentropy: 0.6374 - val_loss: 0.6246 - val_categorical_accuracy: 0.9288 - val_categorical_crossentropy: 0.6246\n",
      "Epoch 15/50\n",
      "692/692 [==============================] - 0s 69us/step - loss: 0.6179 - categorical_accuracy: 0.9294 - categorical_crossentropy: 0.6179 - val_loss: 0.6059 - val_categorical_accuracy: 0.9288 - val_categorical_crossentropy: 0.6059\n",
      "Epoch 16/50\n",
      "692/692 [==============================] - 0s 76us/step - loss: 0.5981 - categorical_accuracy: 0.9294 - categorical_crossentropy: 0.5981 - val_loss: 0.5866 - val_categorical_accuracy: 0.9288 - val_categorical_crossentropy: 0.5866\n",
      "Epoch 17/50\n",
      "692/692 [==============================] - 0s 67us/step - loss: 0.5775 - categorical_accuracy: 0.9294 - categorical_crossentropy: 0.5775 - val_loss: 0.5654 - val_categorical_accuracy: 0.9288 - val_categorical_crossentropy: 0.5654\n",
      "Epoch 18/50\n",
      "692/692 [==============================] - 0s 70us/step - loss: 0.5552 - categorical_accuracy: 0.9294 - categorical_crossentropy: 0.5552 - val_loss: 0.5428 - val_categorical_accuracy: 0.9288 - val_categorical_crossentropy: 0.5428\n",
      "Epoch 19/50\n",
      "692/692 [==============================] - 0s 72us/step - loss: 0.5318 - categorical_accuracy: 0.9294 - categorical_crossentropy: 0.5318 - val_loss: 0.5195 - val_categorical_accuracy: 0.9288 - val_categorical_crossentropy: 0.5195\n",
      "Epoch 20/50\n",
      "692/692 [==============================] - 0s 80us/step - loss: 0.5079 - categorical_accuracy: 0.9294 - categorical_crossentropy: 0.5079 - val_loss: 0.4960 - val_categorical_accuracy: 0.9288 - val_categorical_crossentropy: 0.4960\n",
      "Epoch 21/50\n",
      "692/692 [==============================] - 0s 75us/step - loss: 0.4841 - categorical_accuracy: 0.9294 - categorical_crossentropy: 0.4841 - val_loss: 0.4725 - val_categorical_accuracy: 0.9288 - val_categorical_crossentropy: 0.4725\n",
      "Epoch 22/50\n",
      "692/692 [==============================] - 0s 82us/step - loss: 0.4604 - categorical_accuracy: 0.9294 - categorical_crossentropy: 0.4604 - val_loss: 0.4493 - val_categorical_accuracy: 0.9288 - val_categorical_crossentropy: 0.4493\n",
      "Epoch 23/50\n",
      "692/692 [==============================] - 0s 84us/step - loss: 0.4372 - categorical_accuracy: 0.9294 - categorical_crossentropy: 0.4372 - val_loss: 0.4267 - val_categorical_accuracy: 0.9288 - val_categorical_crossentropy: 0.4267\n",
      "Epoch 24/50\n",
      "692/692 [==============================] - 0s 80us/step - loss: 0.4144 - categorical_accuracy: 0.9294 - categorical_crossentropy: 0.4144 - val_loss: 0.4042 - val_categorical_accuracy: 0.9288 - val_categorical_crossentropy: 0.4042\n",
      "Epoch 25/50\n",
      "692/692 [==============================] - 0s 77us/step - loss: 0.3922 - categorical_accuracy: 0.9294 - categorical_crossentropy: 0.3922 - val_loss: 0.3829 - val_categorical_accuracy: 0.9288 - val_categorical_crossentropy: 0.3829\n",
      "Epoch 26/50\n",
      "692/692 [==============================] - 0s 77us/step - loss: 0.3714 - categorical_accuracy: 0.9294 - categorical_crossentropy: 0.3714 - val_loss: 0.3630 - val_categorical_accuracy: 0.9288 - val_categorical_crossentropy: 0.3630\n",
      "Epoch 27/50\n",
      "692/692 [==============================] - 0s 79us/step - loss: 0.3520 - categorical_accuracy: 0.9294 - categorical_crossentropy: 0.3520 - val_loss: 0.3447 - val_categorical_accuracy: 0.9288 - val_categorical_crossentropy: 0.3447\n",
      "Epoch 28/50\n",
      "692/692 [==============================] - 0s 71us/step - loss: 0.3343 - categorical_accuracy: 0.9294 - categorical_crossentropy: 0.3343 - val_loss: 0.3280 - val_categorical_accuracy: 0.9288 - val_categorical_crossentropy: 0.3280\n",
      "Epoch 29/50\n",
      "692/692 [==============================] - 0s 85us/step - loss: 0.3182 - categorical_accuracy: 0.9294 - categorical_crossentropy: 0.3182 - val_loss: 0.3129 - val_categorical_accuracy: 0.9288 - val_categorical_crossentropy: 0.3129\n",
      "Epoch 30/50\n",
      "692/692 [==============================] - 0s 81us/step - loss: 0.3037 - categorical_accuracy: 0.9294 - categorical_crossentropy: 0.3037 - val_loss: 0.2991 - val_categorical_accuracy: 0.9288 - val_categorical_crossentropy: 0.2991\n",
      "Epoch 31/50\n",
      "692/692 [==============================] - 0s 95us/step - loss: 0.2906 - categorical_accuracy: 0.9294 - categorical_crossentropy: 0.2906 - val_loss: 0.2868 - val_categorical_accuracy: 0.9288 - val_categorical_crossentropy: 0.2868\n",
      "Epoch 32/50\n",
      "692/692 [==============================] - 0s 74us/step - loss: 0.2787 - categorical_accuracy: 0.9294 - categorical_crossentropy: 0.2787 - val_loss: 0.2756 - val_categorical_accuracy: 0.9288 - val_categorical_crossentropy: 0.2756\n",
      "Epoch 33/50\n",
      "692/692 [==============================] - 0s 74us/step - loss: 0.2679 - categorical_accuracy: 0.9294 - categorical_crossentropy: 0.2679 - val_loss: 0.2652 - val_categorical_accuracy: 0.9288 - val_categorical_crossentropy: 0.2652\n",
      "Epoch 34/50\n",
      "692/692 [==============================] - 0s 74us/step - loss: 0.2580 - categorical_accuracy: 0.9294 - categorical_crossentropy: 0.2580 - val_loss: 0.2558 - val_categorical_accuracy: 0.9288 - val_categorical_crossentropy: 0.2558\n",
      "Epoch 35/50\n",
      "692/692 [==============================] - 0s 77us/step - loss: 0.2489 - categorical_accuracy: 0.9294 - categorical_crossentropy: 0.2489 - val_loss: 0.2472 - val_categorical_accuracy: 0.9288 - val_categorical_crossentropy: 0.2472\n",
      "Epoch 36/50\n",
      "692/692 [==============================] - 0s 75us/step - loss: 0.2407 - categorical_accuracy: 0.9294 - categorical_crossentropy: 0.2407 - val_loss: 0.2392 - val_categorical_accuracy: 0.9288 - val_categorical_crossentropy: 0.2392\n",
      "Epoch 37/50\n",
      "692/692 [==============================] - 0s 78us/step - loss: 0.2330 - categorical_accuracy: 0.9295 - categorical_crossentropy: 0.2330 - val_loss: 0.2319 - val_categorical_accuracy: 0.9288 - val_categorical_crossentropy: 0.2319\n",
      "Epoch 38/50\n",
      "692/692 [==============================] - 0s 83us/step - loss: 0.2260 - categorical_accuracy: 0.9295 - categorical_crossentropy: 0.2260 - val_loss: 0.2251 - val_categorical_accuracy: 0.9288 - val_categorical_crossentropy: 0.2251\n",
      "Epoch 39/50\n",
      "692/692 [==============================] - 0s 71us/step - loss: 0.2195 - categorical_accuracy: 0.9295 - categorical_crossentropy: 0.2195 - val_loss: 0.2189 - val_categorical_accuracy: 0.9288 - val_categorical_crossentropy: 0.2189\n",
      "Epoch 40/50\n",
      "692/692 [==============================] - 0s 76us/step - loss: 0.2135 - categorical_accuracy: 0.9295 - categorical_crossentropy: 0.2135 - val_loss: 0.2130 - val_categorical_accuracy: 0.9288 - val_categorical_crossentropy: 0.2130\n",
      "Epoch 41/50\n",
      "692/692 [==============================] - 0s 77us/step - loss: 0.2077 - categorical_accuracy: 0.9295 - categorical_crossentropy: 0.2077 - val_loss: 0.2073 - val_categorical_accuracy: 0.9288 - val_categorical_crossentropy: 0.2073\n",
      "Epoch 42/50\n",
      "692/692 [==============================] - 0s 78us/step - loss: 0.2023 - categorical_accuracy: 0.9295 - categorical_crossentropy: 0.2023 - val_loss: 0.2021 - val_categorical_accuracy: 0.9288 - val_categorical_crossentropy: 0.2021\n",
      "Epoch 43/50\n",
      "692/692 [==============================] - 0s 87us/step - loss: 0.1972 - categorical_accuracy: 0.9295 - categorical_crossentropy: 0.1972 - val_loss: 0.1971 - val_categorical_accuracy: 0.9288 - val_categorical_crossentropy: 0.1971\n",
      "Epoch 44/50\n",
      "692/692 [==============================] - 0s 83us/step - loss: 0.1923 - categorical_accuracy: 0.9295 - categorical_crossentropy: 0.1923 - val_loss: 0.1922 - val_categorical_accuracy: 0.9288 - val_categorical_crossentropy: 0.1922\n",
      "Epoch 45/50\n",
      "692/692 [==============================] - 0s 82us/step - loss: 0.1876 - categorical_accuracy: 0.9295 - categorical_crossentropy: 0.1876 - val_loss: 0.1876 - val_categorical_accuracy: 0.9288 - val_categorical_crossentropy: 0.1876\n",
      "Epoch 46/50\n",
      "692/692 [==============================] - 0s 76us/step - loss: 0.1831 - categorical_accuracy: 0.9295 - categorical_crossentropy: 0.1831 - val_loss: 0.1833 - val_categorical_accuracy: 0.9288 - val_categorical_crossentropy: 0.1833\n",
      "Epoch 47/50\n",
      "692/692 [==============================] - 0s 75us/step - loss: 0.1789 - categorical_accuracy: 0.9315 - categorical_crossentropy: 0.1789 - val_loss: 0.1790 - val_categorical_accuracy: 0.9360 - val_categorical_crossentropy: 0.1790\n",
      "Epoch 48/50\n",
      "692/692 [==============================] - 0s 77us/step - loss: 0.1747 - categorical_accuracy: 0.9404 - categorical_crossentropy: 0.1747 - val_loss: 0.1750 - val_categorical_accuracy: 0.9422 - val_categorical_crossentropy: 0.1750\n",
      "Epoch 49/50\n",
      "692/692 [==============================] - 0s 63us/step - loss: 0.1707 - categorical_accuracy: 0.9448 - categorical_crossentropy: 0.1707 - val_loss: 0.1710 - val_categorical_accuracy: 0.9422 - val_categorical_crossentropy: 0.1710\n",
      "Epoch 50/50\n",
      "692/692 [==============================] - 0s 60us/step - loss: 0.1669 - categorical_accuracy: 0.9446 - categorical_crossentropy: 0.1669 - val_loss: 0.1672 - val_categorical_accuracy: 0.9422 - val_categorical_crossentropy: 0.1672\n"
     ]
    }
   ],
   "source": [
    "final_model.compile(optimizer=keras.optimizers.Adam(lr=0.001),\n",
    "              loss='categorical_crossentropy',\n",
    "              metrics=['categorical_accuracy','categorical_crossentropy'])\n",
    "\n",
    "train_res = final_model.fit([train_matrices_padded, \n",
    "                             train_headers_padded*0.0, train_connectivities_padded],\n",
    "                            train_headers_padded, epochs=50, \n",
    "                            batch_size=100,\n",
    "                            validation_split=0.1,\n",
    "                            verbose=True)"
   ]
  },
  {
   "cell_type": "code",
   "execution_count": 199,
   "metadata": {
    "collapsed": false
   },
   "outputs": [
    {
     "data": {
      "image/png": "[encoded data removed]",
      "text/plain": [
       "<Figure size 432x288 with 1 Axes>"
      ]
     },
     "metadata": {
      "needs_background": "light"
     },
     "output_type": "display_data"
    }
   ],
   "source": [
    "import matplotlib.pyplot as plt\n",
    "plt.plot(train_res.history['categorical_accuracy'])\n",
    "plt.plot(train_res.history['val_categorical_accuracy'],'r')\n",
    "plt.show()"
   ]
  },
  {
   "cell_type": "code",
   "execution_count": 200,
   "metadata": {
    "collapsed": false
   },
   "outputs": [
    {
     "data": {
      "image/png": "[encoded data removed]",
      "text/plain": [
       "<Figure size 432x288 with 1 Axes>"
      ]
     },
     "metadata": {
      "needs_background": "light"
     },
     "output_type": "display_data"
    }
   ],
   "source": [
    "import matplotlib.pyplot as plt\n",
    "plt.plot(train_res.history['categorical_crossentropy'],'b')\n",
    "plt.plot(train_res.history['val_categorical_crossentropy'],'r')\n",
    "plt.show()"
   ]
  },
  {
   "cell_type": "code",
   "execution_count": 201,
   "metadata": {
    "collapsed": false
   },
   "outputs": [],
   "source": [
    "test_predictions = final_model.predict([test_matrices_padded, test_headers_padded, test_connectivities_padded])"
   ]
  },
  {
   "cell_type": "code",
   "execution_count": 202,
   "metadata": {
    "collapsed": false
   },
   "outputs": [
    {
     "name": "stdout",
     "output_type": "stream",
     "text": [
      "(231, 29)\n"
     ]
    }
   ],
   "source": [
    "test_class_pred = test_predictions.argmax(axis=2)\n",
    "print(test_class_pred.shape)"
   ]
  },
  {
   "cell_type": "code",
   "execution_count": 203,
   "metadata": {
    "collapsed": false
   },
   "outputs": [
    {
     "name": "stdout",
     "output_type": "stream",
     "text": [
      "(231, 29)\n"
     ]
    }
   ],
   "source": [
    "test_class_act = test_headers_padded.argmax(axis=2)\n",
    "print(test_class_act.shape)"
   ]
  },
  {
   "cell_type": "code",
   "execution_count": 207,
   "metadata": {
    "collapsed": false
   },
   "outputs": [
    {
     "name": "stdout",
     "output_type": "stream",
     "text": [
      "test error rate is 7.687714584266309\n"
     ]
    }
   ],
   "source": [
    "err_rate = 100*np.sum(np.sum(test_errors))/float(test_class_act.shape[0]*test_class_act.shape[1])\n",
    "print('test error rate is ' + str(err_rate))"
   ]
  },
  {
   "cell_type": "code",
   "execution_count": null,
   "metadata": {
    "collapsed": true
   },
   "outputs": [],
   "source": [
    "#Generator\n",
    "\n",
    "def image_categorical_crossentropy(y_true, y_pred):\n",
    "    # Boilerplate off the internet to do crossentropy for multi-classification tasks,\n",
    "    # in this case assigning one-hot atom labels to atoms\n",
    "    __EPS = 1e-5\n",
    "    y_pred = K.clip(y_pred, __EPS, 1 - __EPS)\n",
    "    return -K.mean(y_true * K.log(y_pred) + (1 - y_true) * K.log(1 - y_pred))\n",
    "    \n",
    "def gen_generator_model(num_nodes=29, input_shape=(1,), BO_dense_resize=200, BO_softmax_resize=4, labelator=None, labelatorTrainable=False):\n",
    "    # Creates a Generator model. I chose the architecture arbitrarily\n",
    "    # The architecture is random vector -> dense BO matrix -> softmax to dense 3D BO matrix\n",
    "    # -> symmetrize -> dense -> dense to 29x29x6 matrix.\n",
    "    \n",
    "    inputLayer = keras.layers.Input(shape=input_shape)\n",
    "\n",
    "    output__ = keras.layers.Dense(num_nodes*num_nodes, activation='relu')(inputLayer)\n",
    "    output_ = keras.layers.Reshape((num_nodes,num_nodes))(output__)\n",
    "    output_1 = keras.layers.Lambda(lambda x: K.expand_dims(x + K.permute_dimensions(x,(0,2,1)), axis=3))(output_)\n",
    "    output_1_interpret = keras.layers.Dense(BO_dense_resize)(output_1)\n",
    "    #print output_1\n",
    "    #output_as_BO_mat = keras.layers.Dense(BO_dense_resize, activation='relu')(output_1)\n",
    "    #output_as_BO_mat_stacked = keras.layers.Lambda(lambda x: K.concatenate([x, K.permute_dimensions(x,(0,2,1,3))], axis=3))(output_as_BO_mat)\n",
    "    \n",
    "    BO_mat_softmax_ = keras.layers.Dense(BO_softmax_resize, activation='softmax')(output_1_interpret)\n",
    "    \n",
    "    # Symmetrize the BO matrix\n",
    "    BO_mat_softmax = keras.layers.Lambda(lambda x: (x+K.permute_dimensions(x,(0,2,1,3)))/2.0)(BO_mat_softmax_)\n",
    "    \n",
    "    connectivity = keras.layers.Lambda(lambda x: K.sum(x[:,:,:,1:], axis=3))(BO_mat_softmax)\n",
    "    assert len(inputLayer.shape) == 2, \"Unhandled Input Layer size.\"\n",
    "\n",
    "    annotations__ = keras.layers.Dense(num_nodes)(inputLayer)\n",
    "    annotations_ = keras.layers.Reshape((num_nodes,1))(annotations__)\n",
    "    annotations = keras.layers.Dense(6, activation='softmax')(annotations_)\n",
    "    if labelator == 'default':\n",
    "        pass\n",
    "    else:\n",
    "        # Labelator is a pretrained network (legacy code)\n",
    "        if labelator == None:\n",
    "            annotations = keras.layers.Lambda(lambda x: x*0)(annotations)\n",
    "            annotations.trainable = False\n",
    "        else:\n",
    "            # Labelator is an NN.\n",
    "            labelator.trainable = labelatorTrainable\n",
    "            annotations = labelator([BO_mat_softmax, annotations, connectivity])[1]\n",
    "    model = keras.models.Model(inputs=inputLayer, outputs=[BO_mat_softmax, annotations, connectivity])\n",
    "    return model\n",
    "\n",
    "generator_input = keras.layers.Input(shape=(15,))\n",
    "#bond_hiddens_input = keras.layers.Input(shape=(num_nodes,num_nodes,bond_hidden_length))\n",
    "#atom_hiddens_input = keras.layers.Input(shape=(num_nodes,atom_hidden_length))\n",
    "#connectivity_input = keras.layers.Input(shape=(num_nodes,num_nodes))\n",
    "\n",
    "\n",
    "# Construct generator portion of GAN\n",
    "myGen_intermediate = gen_generator_model(num_nodes=29, input_shape=(15,), BO_dense_resize=30, BO_softmax_resize=4,\\\n",
    "                            labelator=None, labelatorTrainable=False)\n",
    "myGen_conv_1 = generate_gc_model(num_nodes=29, atom_hidden_length=6, bond_hidden_length=4, hide_atoms=False,\\\n",
    "                      message_dense_resize=30, atom_dense_resize=30, bond_dense_resize=1000, do_readout = False)\n",
    "\n",
    "myGen_intermediate_output = myGen_intermediate(generator_input)\n",
    "myGen_output_1 = myGen_conv_1(myGen_intermediate_output)\n",
    "#myGen_output_2 = myGen_conv_1(myGen_output_1)\n",
    "myGen = keras.models.Model(inputs=generator_input, outputs=myGen_output_1)\n",
    "\n",
    "# Construct discriminator portion of GAN\n",
    "myDisc = generate_gc_model(num_nodes=29, atom_hidden_length=6, bond_hidden_length=4, hide_atoms=False,\\\n",
    "                      message_dense_resize=30, atom_dense_resize=30, bond_dense_resize=None, do_readout = True)\n",
    "\n",
    "myDisc.compile(optimizer=keras.optimizers.Adam(lr=0.001),\n",
    "              loss='binary_crossentropy',\n",
    "              metrics=['mean_squared_error', 'mean_absolute_error','binary_crossentropy'])\n",
    "\n",
    "# Hook everything up together\n",
    "myGenOutput = myGen(generator_input)\n",
    "myDiscOutput = myDisc(myGenOutput)\n",
    "myBigModel = keras.models.Model(inputs=generator_input, outputs=myDiscOutput)\n",
    "\n",
    "myDisc.trainable = False\n",
    "\n",
    "# Compile the GAN\n",
    "myBigModel.compile(optimizer=keras.optimizers.Adam(lr=0.001),\n",
    "              loss='binary_crossentropy',\n",
    "              metrics=['mean_squared_error', 'mean_absolute_error','binary_crossentropy'])\n",
    "#myDisc.trainable = True\n",
    "#inputs = np.random.random((len(connectivities_padded),))\n",
    "\n",
    "\n",
    "# Input the training data\n",
    "inputs = [matrices_padded, headers_padded, connectivities_padded]\n",
    "\n",
    "def train_discriminator(D, G, noise_in):\n",
    "    fakeInputs = G.predict(noise_in)\n",
    "    allInputs = [np.vstack((i,j)) for i,j in zip(inputs, fakeInputs)]\n",
    "    \n",
    "    allOutputs = [1]*len(inputs[0]) + [0]*len(fakeInputs[0])\n",
    "    inputObjects = zip(*allInputs)\n",
    "\n",
    "    X_train, X_test, y_train, y_test = sklearn.model_selection.train_test_split(inputObjects, allOutputs, test_size=0.33)\n",
    "\n",
    "    D.fit(map(list,zip(*X_train)),y_train, epochs=1, verbose=True)\n",
    "\n",
    "# Train the GAN\n",
    "for j in range(10):\n",
    "    print \"Iteration:\", j\n",
    "    noise_input = np.random.normal(0,1,(len(inputs[0]),15))\n",
    "    train_discriminator(myDisc,myGen,noise_input)\n",
    "    myBigModel.fit(noise_input, [1]*len(noise_input), epochs=1, verbose=True)\n",
    "print \"done\""
   ]
  },
  {
   "cell_type": "code",
   "execution_count": null,
   "metadata": {
    "collapsed": false
   },
   "outputs": [],
   "source": [
    "gen_onehot_dict_default(headers_padded)"
   ]
  }
 ],
 "metadata": {
  "kernelspec": {
   "display_name": "Python [conda env:mols3]",
   "language": "python",
   "name": "conda-env-mols3-py"
  },
  "language_info": {
   "codemirror_mode": {
    "name": "ipython",
    "version": 2
   },
   "file_extension": ".py",
   "mimetype": "text/x-python",
   "name": "python",
   "nbconvert_exporter": "python",
   "pygments_lexer": "ipython2",
   "version": "2.7.16"
  }
 },
 "nbformat": 4,
 "nbformat_minor": 1
}
