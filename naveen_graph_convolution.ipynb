{
 "cells": [
  {
   "cell_type": "code",
   "execution_count": 1,
   "metadata": {
    "collapsed": false
   },
   "outputs": [
    {
     "name": "stdout",
     "output_type": "stream",
     "text": [
      "Header One-Hot Map: {0.0: array([1., 0., 0., 0., 0., 0.]), 1.0: array([0., 1., 0., 0., 0., 0.]), 6.0: array([0., 0., 1., 0., 0., 0.]), 7.0: array([0., 0., 0., 1., 0., 0.]), 8.0: array([0., 0., 0., 0., 1., 0.]), 9.0: array([0., 0., 0., 0., 0., 1.])}\n",
      "Bond One-Hot Map: {0.0: array([1., 0., 0., 0.]), 1.0: array([0., 1., 0., 0.]), 2.0: array([0., 0., 1., 0.]), 3.0: array([0., 0., 0., 1.])}\n",
      "Graph Size: 29\n",
      "Number of dropped graphs: 0\n",
      "(665, 29, 6)\n",
      "(665, 29, 29, 4)\n",
      "(665, 29, 29)\n"
     ]
    }
   ],
   "source": [
    "# Convert's JP's QM9 pull into attributed graph objects.\n",
    "\n",
    "# Very intentionally construct input matrices myself - this ensures that the matrices are what I mean them to be.\n",
    "# Can be effectively replaced with scikit-learn preprocessing methods.\n",
    "\n",
    "# TODO: rename the onehot dicts to feature dicts\n",
    "\n",
    "import os, sys, glob\n",
    "import numpy as np\n",
    "import scipy as sp\n",
    "import copy\n",
    "#import keras\n",
    "import itertools as it\n",
    "\n",
    "def pad_to_dimensions(array, dimensions):\n",
    "    # Return a right-padded N-dimensional array to the specified dimensions\n",
    "    # If a dimension is None, then padding is not done for that dimensions\n",
    "    assert type(dimensions) == tuple, 'Dimensions must be a tuple.'\n",
    "    assert len(array.shape) == len(dimensions), 'Mismatch between array dimension and number of dimensions provided.'\n",
    "    pad_lengths = [requestDim - arrDim if requestDim != None else arrDim for arrDim, requestDim in zip(array.shape, dimensions)]\n",
    "    assert all(i>=0 for i in pad_lengths), 'Array larger than provided dimensions.'\n",
    "    pad_lengths_formatted = [(0, pad_length) for pad_length in pad_lengths]\n",
    "    return np.pad(array, pad_lengths_formatted, mode='constant', constant_values=0)\n",
    "\n",
    "def gen_onehot_dict_default(cohort):\n",
    "    # Return an int -> vector map for each unique element in cohort of arrays\n",
    "    # TODO: Should you zero out the case when an entry is 0, at least for the graph matrices???\n",
    "    def genVector(entryNum, numEntries):\n",
    "        onehot_vec = np.zeros((numEntries,))\n",
    "        onehot_vec[entryNum] = 1\n",
    "        return onehot_vec\n",
    "    uniqueEntries = np.unique(np.concatenate([np.unique(array) for array in cohort]))\n",
    "    numUniques = len(uniqueEntries)\n",
    "    return {uniqueEntry: genVector(idx, numUniques) for idx, uniqueEntry in enumerate(uniqueEntries)}\n",
    "\n",
    "def standardize_array_shapes(arrays):\n",
    "    # Pad arrays to the same size\n",
    "    array_shapes = [array.shape for array in arrays]\n",
    "    dims = tuple([max(lengths) for lengths in zip(*[np.shape(array) for array in arrays])])\n",
    "    return [pad_to_dimensions(array, dims) for array in arrays]\n",
    "    \n",
    "def make_onehot(cohort, onehot_dict=None, verbose=False):\n",
    "    # Makes a cohort of arrays onehot, then pads arrays to the same size.\n",
    "    # Returns (onehot dictionary, arrays)\n",
    "\n",
    "    def gen_onehot(array, onehot_dict):\n",
    "        # Should be parallelized for better performance\n",
    "        extension_length = len(onehot_dict.values()[0])\n",
    "        new_dims = tuple(list(array.shape) + [extension_length])\n",
    "        onehot_array = np.zeros(new_dims)\n",
    "        for index in np.ndindex(array.shape):\n",
    "            onehot_index_full = tuple(list(index) + [None]) # Slice whole remaining dimension\n",
    "            onehot_array[onehot_index_full] = onehot_dict[array[index]]\n",
    "        return onehot_array\n",
    "\n",
    "    if onehot_dict == None:\n",
    "        onehot_dict = gen_onehot_dict_default(cohort)\n",
    "    onehot_cohort = [gen_onehot(array, onehot_dict) for array in cohort]\n",
    "    return onehot_dict, onehot_cohort\n",
    "\n",
    "def readgraph(fname):\n",
    "    # Returns a header/IntArray and matrix/IntArray. Assert header and matrix have same length.\n",
    "    a = open(fname); b = a.readlines(); a.close()\n",
    "    csv_as_float_2D = [map(float,i.strip().split(',')) for i in b]\n",
    "    header = np.array(csv_as_float_2D[0])\n",
    "    matrix = np.array(csv_as_float_2D[1:])\n",
    "    return {'header':header, 'matrix':matrix}\n",
    "\n",
    "def standardize_graphs(graphs, max_size=None, verbose=True):\n",
    "    # Graphs is an iterable of dictionaries {'header': header, 'matrix': matrix}\n",
    "    # Take in a N-length atom list, NxN matrix, assert all entries are in one-hot dictionaries\n",
    "    if max_size == None:\n",
    "        max_size = max(len(graph['header']) for graph in graphs)\n",
    "        \n",
    "    kept_graphs = [graph for graph in graphs if len(graph['header']) <= max_size]\n",
    "    assert len(kept_graphs) > 0, 'No graphs are smaller than the provided max size'\n",
    "    headers = [i['header'] for i in kept_graphs]\n",
    "    matrices = [i['matrix'] for i in kept_graphs]\n",
    "    headers_padded = standardize_array_shapes(headers)\n",
    "    matrices_padded = standardize_array_shapes(matrices)\n",
    "    connectivities = [(i!=0).astype(float) for i in matrices_padded]\n",
    "\n",
    "    headers_onehot_dict, headers_new = make_onehot(headers_padded)\n",
    "    matrices_onehot_dict, matrices_new = make_onehot(matrices_padded)\n",
    "    \n",
    "    outputGraphs = [{'header': header, 'matrix': matrix, 'connectivity': connectivity, 'origHeader': origHeader, 'origMatrix': origMatrix}\n",
    "                    for header,matrix,connectivity,origHeader,origMatrix\n",
    "                    in zip(headers_new, matrices_new, connectivities,headers_padded,matrices_padded)]\n",
    "    \n",
    "    if verbose:\n",
    "        print 'Header One-Hot Map:', headers_onehot_dict\n",
    "        print 'Bond One-Hot Map:', matrices_onehot_dict\n",
    "        print 'Graph Size:', max_size\n",
    "        print 'Number of dropped graphs:', len(graphs) - len(kept_graphs)\n",
    "        \n",
    "    return headers_onehot_dict, matrices_onehot_dict, outputGraphs\n",
    "\n",
    "# Read in graphs\n",
    "graph_files = glob.glob('qm9graph/*.csv')\n",
    "mygraphs = [readgraph(fname) for fname in graph_files]\n",
    "headers_onehot_dict, matrices_onehot_dict, mygraphs_standardized = standardize_graphs(mygraphs, max_size=29)\n",
    "headers_padded = np.array([i['header'] for i in mygraphs_standardized])\n",
    "matrices_padded = np.array([i['matrix'] for i in mygraphs_standardized])\n",
    "connectivities_padded = np.array([i['connectivity'] for i in mygraphs_standardized])\n",
    "origHeaders_padded = np.array([i['origHeader'] for i in mygraphs_standardized])\n",
    "origMatrices_padded = np.array([i['origMatrix'] for i in mygraphs_standardized])\n",
    "print headers_padded.shape\n",
    "print matrices_padded.shape\n",
    "print connectivities_padded.shape"
   ]
  },
  {
   "cell_type": "code",
   "execution_count": 2,
   "metadata": {
    "collapsed": false
   },
   "outputs": [
    {
     "name": "stderr",
     "output_type": "stream",
     "text": [
      "Using TensorFlow backend.\n"
     ]
    },
    {
     "name": "stdout",
     "output_type": "stream",
     "text": [
      "Epoch 1/30\n",
      "665/665 [==============================] - 2s 2ms/step - loss: 1.5428 - lambda_5_loss: 0.0000e+00 - dense_2_loss: 1.5428 - lambda_4_loss: 0.0000e+00 - lambda_5_mean_squared_error: 0.0000e+00 - lambda_5_mean_absolute_error: 0.0000e+00 - lambda_5_categorical_crossentropy: 1.1921e-07 - dense_2_mean_squared_error: 0.1216 - dense_2_mean_absolute_error: 0.2532 - dense_2_categorical_crossentropy: 1.5428 - lambda_4_mean_squared_error: 0.0000e+00 - lambda_4_mean_absolute_error: 0.0000e+00 - lambda_4_categorical_crossentropy: nan\n",
      "Epoch 2/30\n",
      "665/665 [==============================] - 0s 517us/step - loss: 1.2297 - lambda_5_loss: 0.0000e+00 - dense_2_loss: 1.2297 - lambda_4_loss: 0.0000e+00 - lambda_5_mean_squared_error: 0.0000e+00 - lambda_5_mean_absolute_error: 0.0000e+00 - lambda_5_categorical_crossentropy: 1.1921e-07 - dense_2_mean_squared_error: 0.0981 - dense_2_mean_absolute_error: 0.2172 - dense_2_categorical_crossentropy: 1.2297 - lambda_4_mean_squared_error: 0.0000e+00 - lambda_4_mean_absolute_error: 0.0000e+00 - lambda_4_categorical_crossentropy: nan\n",
      "Epoch 3/30\n",
      "665/665 [==============================] - 0s 518us/step - loss: 0.8583 - lambda_5_loss: 0.0000e+00 - dense_2_loss: 0.8583 - lambda_4_loss: 0.0000e+00 - lambda_5_mean_squared_error: 0.0000e+00 - lambda_5_mean_absolute_error: 0.0000e+00 - lambda_5_categorical_crossentropy: 1.1921e-07 - dense_2_mean_squared_error: 0.0661 - dense_2_mean_absolute_error: 0.1746 - dense_2_categorical_crossentropy: 0.8583 - lambda_4_mean_squared_error: 0.0000e+00 - lambda_4_mean_absolute_error: 0.0000e+00 - lambda_4_categorical_crossentropy: nan\n",
      "Epoch 4/30\n",
      "665/665 [==============================] - 0s 485us/step - loss: 0.5064 - lambda_5_loss: 0.0000e+00 - dense_2_loss: 0.5064 - lambda_4_loss: 0.0000e+00 - lambda_5_mean_squared_error: 0.0000e+00 - lambda_5_mean_absolute_error: 0.0000e+00 - lambda_5_categorical_crossentropy: 1.1921e-07 - dense_2_mean_squared_error: 0.0333 - dense_2_mean_absolute_error: 0.1127 - dense_2_categorical_crossentropy: 0.5064 - lambda_4_mean_squared_error: 0.0000e+00 - lambda_4_mean_absolute_error: 0.0000e+00 - lambda_4_categorical_crossentropy: nan\n",
      "Epoch 5/30\n",
      "665/665 [==============================] - 0s 536us/step - loss: 0.3270 - lambda_5_loss: 0.0000e+00 - dense_2_loss: 0.3270 - lambda_4_loss: 0.0000e+00 - lambda_5_mean_squared_error: 0.0000e+00 - lambda_5_mean_absolute_error: 0.0000e+00 - lambda_5_categorical_crossentropy: 1.1921e-07 - dense_2_mean_squared_error: 0.0203 - dense_2_mean_absolute_error: 0.0715 - dense_2_categorical_crossentropy: 0.3270 - lambda_4_mean_squared_error: 0.0000e+00 - lambda_4_mean_absolute_error: 0.0000e+00 - lambda_4_categorical_crossentropy: nan\n",
      "Epoch 6/30\n",
      "665/665 [==============================] - 0s 485us/step - loss: 0.2485 - lambda_5_loss: 0.0000e+00 - dense_2_loss: 0.2485 - lambda_4_loss: 0.0000e+00 - lambda_5_mean_squared_error: 0.0000e+00 - lambda_5_mean_absolute_error: 0.0000e+00 - lambda_5_categorical_crossentropy: 1.1921e-07 - dense_2_mean_squared_error: 0.0161 - dense_2_mean_absolute_error: 0.0532 - dense_2_categorical_crossentropy: 0.2485 - lambda_4_mean_squared_error: 0.0000e+00 - lambda_4_mean_absolute_error: 0.0000e+00 - lambda_4_categorical_crossentropy: nan\n",
      "Epoch 7/30\n",
      "665/665 [==============================] - 0s 496us/step - loss: 0.2058 - lambda_5_loss: 0.0000e+00 - dense_2_loss: 0.2058 - lambda_4_loss: 0.0000e+00 - lambda_5_mean_squared_error: 0.0000e+00 - lambda_5_mean_absolute_error: 0.0000e+00 - lambda_5_categorical_crossentropy: 1.1921e-07 - dense_2_mean_squared_error: 0.0138 - dense_2_mean_absolute_error: 0.0440 - dense_2_categorical_crossentropy: 0.2058 - lambda_4_mean_squared_error: 0.0000e+00 - lambda_4_mean_absolute_error: 0.0000e+00 - lambda_4_categorical_crossentropy: nan\n",
      "Epoch 8/30\n",
      "665/665 [==============================] - 0s 511us/step - loss: 0.1776 - lambda_5_loss: 0.0000e+00 - dense_2_loss: 0.1776 - lambda_4_loss: 0.0000e+00 - lambda_5_mean_squared_error: 0.0000e+00 - lambda_5_mean_absolute_error: 0.0000e+00 - lambda_5_categorical_crossentropy: 1.1921e-07 - dense_2_mean_squared_error: 0.0121 - dense_2_mean_absolute_error: 0.0384 - dense_2_categorical_crossentropy: 0.1776 - lambda_4_mean_squared_error: 0.0000e+00 - lambda_4_mean_absolute_error: 0.0000e+00 - lambda_4_categorical_crossentropy: nan\n",
      "Epoch 9/30\n",
      "665/665 [==============================] - 0s 505us/step - loss: 0.1567 - lambda_5_loss: 0.0000e+00 - dense_2_loss: 0.1567 - lambda_4_loss: 0.0000e+00 - lambda_5_mean_squared_error: 0.0000e+00 - lambda_5_mean_absolute_error: 0.0000e+00 - lambda_5_categorical_crossentropy: 1.1921e-07 - dense_2_mean_squared_error: 0.0107 - dense_2_mean_absolute_error: 0.0338 - dense_2_categorical_crossentropy: 0.1567 - lambda_4_mean_squared_error: 0.0000e+00 - lambda_4_mean_absolute_error: 0.0000e+00 - lambda_4_categorical_crossentropy: nan\n",
      "Epoch 10/30\n",
      "665/665 [==============================] - 0s 504us/step - loss: 0.1405 - lambda_5_loss: 0.0000e+00 - dense_2_loss: 0.1405 - lambda_4_loss: 0.0000e+00 - lambda_5_mean_squared_error: 0.0000e+00 - lambda_5_mean_absolute_error: 0.0000e+00 - lambda_5_categorical_crossentropy: 1.1921e-07 - dense_2_mean_squared_error: 0.0096 - dense_2_mean_absolute_error: 0.0304 - dense_2_categorical_crossentropy: 0.1405 - lambda_4_mean_squared_error: 0.0000e+00 - lambda_4_mean_absolute_error: 0.0000e+00 - lambda_4_categorical_crossentropy: nan\n",
      "Epoch 11/30\n",
      "665/665 [==============================] - 0s 502us/step - loss: 0.1275 - lambda_5_loss: 0.0000e+00 - dense_2_loss: 0.1275 - lambda_4_loss: 0.0000e+00 - lambda_5_mean_squared_error: 0.0000e+00 - lambda_5_mean_absolute_error: 0.0000e+00 - lambda_5_categorical_crossentropy: 1.1921e-07 - dense_2_mean_squared_error: 0.0087 - dense_2_mean_absolute_error: 0.0276 - dense_2_categorical_crossentropy: 0.1275 - lambda_4_mean_squared_error: 0.0000e+00 - lambda_4_mean_absolute_error: 0.0000e+00 - lambda_4_categorical_crossentropy: nan\n",
      "Epoch 12/30\n",
      "665/665 [==============================] - 0s 501us/step - loss: 0.1168 - lambda_5_loss: 0.0000e+00 - dense_2_loss: 0.1168 - lambda_4_loss: 0.0000e+00 - lambda_5_mean_squared_error: 0.0000e+00 - lambda_5_mean_absolute_error: 0.0000e+00 - lambda_5_categorical_crossentropy: 1.1921e-07 - dense_2_mean_squared_error: 0.0079 - dense_2_mean_absolute_error: 0.0252 - dense_2_categorical_crossentropy: 0.1168 - lambda_4_mean_squared_error: 0.0000e+00 - lambda_4_mean_absolute_error: 0.0000e+00 - lambda_4_categorical_crossentropy: nan\n",
      "Epoch 13/30\n",
      "665/665 [==============================] - 0s 483us/step - loss: 0.1080 - lambda_5_loss: 0.0000e+00 - dense_2_loss: 0.1080 - lambda_4_loss: 0.0000e+00 - lambda_5_mean_squared_error: 0.0000e+00 - lambda_5_mean_absolute_error: 0.0000e+00 - lambda_5_categorical_crossentropy: 1.1921e-07 - dense_2_mean_squared_error: 0.0073 - dense_2_mean_absolute_error: 0.0232 - dense_2_categorical_crossentropy: 0.1080 - lambda_4_mean_squared_error: 0.0000e+00 - lambda_4_mean_absolute_error: 0.0000e+00 - lambda_4_categorical_crossentropy: nan\n",
      "Epoch 14/30\n",
      "665/665 [==============================] - 0s 514us/step - loss: 0.1003 - lambda_5_loss: 0.0000e+00 - dense_2_loss: 0.1003 - lambda_4_loss: 0.0000e+00 - lambda_5_mean_squared_error: 0.0000e+00 - lambda_5_mean_absolute_error: 0.0000e+00 - lambda_5_categorical_crossentropy: 1.1921e-07 - dense_2_mean_squared_error: 0.0068 - dense_2_mean_absolute_error: 0.0214 - dense_2_categorical_crossentropy: 0.1003 - lambda_4_mean_squared_error: 0.0000e+00 - lambda_4_mean_absolute_error: 0.0000e+00 - lambda_4_categorical_crossentropy: nan\n",
      "Epoch 15/30\n",
      "665/665 [==============================] - 0s 515us/step - loss: 0.0939 - lambda_5_loss: 0.0000e+00 - dense_2_loss: 0.0939 - lambda_4_loss: 0.0000e+00 - lambda_5_mean_squared_error: 0.0000e+00 - lambda_5_mean_absolute_error: 0.0000e+00 - lambda_5_categorical_crossentropy: 1.1921e-07 - dense_2_mean_squared_error: 0.0063 - dense_2_mean_absolute_error: 0.0200 - dense_2_categorical_crossentropy: 0.0939 - lambda_4_mean_squared_error: 0.0000e+00 - lambda_4_mean_absolute_error: 0.0000e+00 - lambda_4_categorical_crossentropy: nan\n",
      "Epoch 16/30\n",
      "665/665 [==============================] - 0s 494us/step - loss: 0.0883 - lambda_5_loss: 0.0000e+00 - dense_2_loss: 0.0883 - lambda_4_loss: 0.0000e+00 - lambda_5_mean_squared_error: 0.0000e+00 - lambda_5_mean_absolute_error: 0.0000e+00 - lambda_5_categorical_crossentropy: 1.1921e-07 - dense_2_mean_squared_error: 0.0059 - dense_2_mean_absolute_error: 0.0187 - dense_2_categorical_crossentropy: 0.0883 - lambda_4_mean_squared_error: 0.0000e+00 - lambda_4_mean_absolute_error: 0.0000e+00 - lambda_4_categorical_crossentropy: nan\n",
      "Epoch 17/30\n",
      "665/665 [==============================] - 0s 480us/step - loss: 0.0832 - lambda_5_loss: 0.0000e+00 - dense_2_loss: 0.0832 - lambda_4_loss: 0.0000e+00 - lambda_5_mean_squared_error: 0.0000e+00 - lambda_5_mean_absolute_error: 0.0000e+00 - lambda_5_categorical_crossentropy: 1.1921e-07 - dense_2_mean_squared_error: 0.0056 - dense_2_mean_absolute_error: 0.0177 - dense_2_categorical_crossentropy: 0.0832 - lambda_4_mean_squared_error: 0.0000e+00 - lambda_4_mean_absolute_error: 0.0000e+00 - lambda_4_categorical_crossentropy: nan\n",
      "Epoch 18/30\n",
      "665/665 [==============================] - 0s 489us/step - loss: 0.0790 - lambda_5_loss: 0.0000e+00 - dense_2_loss: 0.0790 - lambda_4_loss: 0.0000e+00 - lambda_5_mean_squared_error: 0.0000e+00 - lambda_5_mean_absolute_error: 0.0000e+00 - lambda_5_categorical_crossentropy: 1.1921e-07 - dense_2_mean_squared_error: 0.0054 - dense_2_mean_absolute_error: 0.0166 - dense_2_categorical_crossentropy: 0.0790 - lambda_4_mean_squared_error: 0.0000e+00 - lambda_4_mean_absolute_error: 0.0000e+00 - lambda_4_categorical_crossentropy: nan\n",
      "Epoch 19/30\n",
      "665/665 [==============================] - 0s 508us/step - loss: 0.0750 - lambda_5_loss: 0.0000e+00 - dense_2_loss: 0.0750 - lambda_4_loss: 0.0000e+00 - lambda_5_mean_squared_error: 0.0000e+00 - lambda_5_mean_absolute_error: 0.0000e+00 - lambda_5_categorical_crossentropy: 1.1921e-07 - dense_2_mean_squared_error: 0.0050 - dense_2_mean_absolute_error: 0.0159 - dense_2_categorical_crossentropy: 0.0750 - lambda_4_mean_squared_error: 0.0000e+00 - lambda_4_mean_absolute_error: 0.0000e+00 - lambda_4_categorical_crossentropy: nan\n",
      "Epoch 20/30\n",
      "665/665 [==============================] - 0s 493us/step - loss: 0.0717 - lambda_5_loss: 0.0000e+00 - dense_2_loss: 0.0717 - lambda_4_loss: 0.0000e+00 - lambda_5_mean_squared_error: 0.0000e+00 - lambda_5_mean_absolute_error: 0.0000e+00 - lambda_5_categorical_crossentropy: 1.1921e-07 - dense_2_mean_squared_error: 0.0049 - dense_2_mean_absolute_error: 0.0151 - dense_2_categorical_crossentropy: 0.0717 - lambda_4_mean_squared_error: 0.0000e+00 - lambda_4_mean_absolute_error: 0.0000e+00 - lambda_4_categorical_crossentropy: nan\n",
      "Epoch 21/30\n",
      "665/665 [==============================] - 0s 505us/step - loss: 0.0683 - lambda_5_loss: 0.0000e+00 - dense_2_loss: 0.0683 - lambda_4_loss: 0.0000e+00 - lambda_5_mean_squared_error: 0.0000e+00 - lambda_5_mean_absolute_error: 0.0000e+00 - lambda_5_categorical_crossentropy: 1.1921e-07 - dense_2_mean_squared_error: 0.0047 - dense_2_mean_absolute_error: 0.0143 - dense_2_categorical_crossentropy: 0.0683 - lambda_4_mean_squared_error: 0.0000e+00 - lambda_4_mean_absolute_error: 0.0000e+00 - lambda_4_categorical_crossentropy: nan\n",
      "Epoch 22/30\n",
      "665/665 [==============================] - 0s 512us/step - loss: 0.0652 - lambda_5_loss: 0.0000e+00 - dense_2_loss: 0.0652 - lambda_4_loss: 0.0000e+00 - lambda_5_mean_squared_error: 0.0000e+00 - lambda_5_mean_absolute_error: 0.0000e+00 - lambda_5_categorical_crossentropy: 1.1921e-07 - dense_2_mean_squared_error: 0.0044 - dense_2_mean_absolute_error: 0.0139 - dense_2_categorical_crossentropy: 0.0652 - lambda_4_mean_squared_error: 0.0000e+00 - lambda_4_mean_absolute_error: 0.0000e+00 - lambda_4_categorical_crossentropy: nan\n",
      "Epoch 23/30\n",
      "665/665 [==============================] - 0s 523us/step - loss: 0.0622 - lambda_5_loss: 0.0000e+00 - dense_2_loss: 0.0622 - lambda_4_loss: 0.0000e+00 - lambda_5_mean_squared_error: 0.0000e+00 - lambda_5_mean_absolute_error: 0.0000e+00 - lambda_5_categorical_crossentropy: 1.1921e-07 - dense_2_mean_squared_error: 0.0042 - dense_2_mean_absolute_error: 0.0131 - dense_2_categorical_crossentropy: 0.0622 - lambda_4_mean_squared_error: 0.0000e+00 - lambda_4_mean_absolute_error: 0.0000e+00 - lambda_4_categorical_crossentropy: nan\n",
      "Epoch 24/30\n",
      "665/665 [==============================] - 0s 506us/step - loss: 0.0596 - lambda_5_loss: 0.0000e+00 - dense_2_loss: 0.0596 - lambda_4_loss: 0.0000e+00 - lambda_5_mean_squared_error: 0.0000e+00 - lambda_5_mean_absolute_error: 0.0000e+00 - lambda_5_categorical_crossentropy: 1.1921e-07 - dense_2_mean_squared_error: 0.0040 - dense_2_mean_absolute_error: 0.0126 - dense_2_categorical_crossentropy: 0.0596 - lambda_4_mean_squared_error: 0.0000e+00 - lambda_4_mean_absolute_error: 0.0000e+00 - lambda_4_categorical_crossentropy: nan\n",
      "Epoch 25/30\n",
      "665/665 [==============================] - 0s 511us/step - loss: 0.0572 - lambda_5_loss: 0.0000e+00 - dense_2_loss: 0.0572 - lambda_4_loss: 0.0000e+00 - lambda_5_mean_squared_error: 0.0000e+00 - lambda_5_mean_absolute_error: 0.0000e+00 - lambda_5_categorical_crossentropy: 1.1921e-07 - dense_2_mean_squared_error: 0.0038 - dense_2_mean_absolute_error: 0.0121 - dense_2_categorical_crossentropy: 0.0572 - lambda_4_mean_squared_error: 0.0000e+00 - lambda_4_mean_absolute_error: 0.0000e+00 - lambda_4_categorical_crossentropy: nan\n",
      "Epoch 26/30\n",
      "665/665 [==============================] - 0s 507us/step - loss: 0.0550 - lambda_5_loss: 0.0000e+00 - dense_2_loss: 0.0550 - lambda_4_loss: 0.0000e+00 - lambda_5_mean_squared_error: 0.0000e+00 - lambda_5_mean_absolute_error: 0.0000e+00 - lambda_5_categorical_crossentropy: 1.1921e-07 - dense_2_mean_squared_error: 0.0036 - dense_2_mean_absolute_error: 0.0116 - dense_2_categorical_crossentropy: 0.0550 - lambda_4_mean_squared_error: 0.0000e+00 - lambda_4_mean_absolute_error: 0.0000e+00 - lambda_4_categorical_crossentropy: nan\n",
      "Epoch 27/30\n",
      "665/665 [==============================] - 0s 542us/step - loss: 0.0528 - lambda_5_loss: 0.0000e+00 - dense_2_loss: 0.0528 - lambda_4_loss: 0.0000e+00 - lambda_5_mean_squared_error: 0.0000e+00 - lambda_5_mean_absolute_error: 0.0000e+00 - lambda_5_categorical_crossentropy: 1.1921e-07 - dense_2_mean_squared_error: 0.0034 - dense_2_mean_absolute_error: 0.0111 - dense_2_categorical_crossentropy: 0.0528 - lambda_4_mean_squared_error: 0.0000e+00 - lambda_4_mean_absolute_error: 0.0000e+00 - lambda_4_categorical_crossentropy: nan\n",
      "Epoch 28/30\n",
      "665/665 [==============================] - 0s 505us/step - loss: 0.0510 - lambda_5_loss: 0.0000e+00 - dense_2_loss: 0.0510 - lambda_4_loss: 0.0000e+00 - lambda_5_mean_squared_error: 0.0000e+00 - lambda_5_mean_absolute_error: 0.0000e+00 - lambda_5_categorical_crossentropy: 1.1921e-07 - dense_2_mean_squared_error: 0.0033 - dense_2_mean_absolute_error: 0.0107 - dense_2_categorical_crossentropy: 0.0510 - lambda_4_mean_squared_error: 0.0000e+00 - lambda_4_mean_absolute_error: 0.0000e+00 - lambda_4_categorical_crossentropy: nan\n",
      "Epoch 29/30\n",
      "665/665 [==============================] - 0s 505us/step - loss: 0.0495 - lambda_5_loss: 0.0000e+00 - dense_2_loss: 0.0495 - lambda_4_loss: 0.0000e+00 - lambda_5_mean_squared_error: 0.0000e+00 - lambda_5_mean_absolute_error: 0.0000e+00 - lambda_5_categorical_crossentropy: 1.1921e-07 - dense_2_mean_squared_error: 0.0032 - dense_2_mean_absolute_error: 0.0104 - dense_2_categorical_crossentropy: 0.0495 - lambda_4_mean_squared_error: 0.0000e+00 - lambda_4_mean_absolute_error: 0.0000e+00 - lambda_4_categorical_crossentropy: nan\n",
      "Epoch 30/30\n",
      "665/665 [==============================] - 0s 514us/step - loss: 0.0475 - lambda_5_loss: 0.0000e+00 - dense_2_loss: 0.0475 - lambda_4_loss: 0.0000e+00 - lambda_5_mean_squared_error: 0.0000e+00 - lambda_5_mean_absolute_error: 0.0000e+00 - lambda_5_categorical_crossentropy: 1.1921e-07 - dense_2_mean_squared_error: 0.0031 - dense_2_mean_absolute_error: 0.0099 - dense_2_categorical_crossentropy: 0.0475 - lambda_4_mean_squared_error: 0.0000e+00 - lambda_4_mean_absolute_error: 0.0000e+00 - lambda_4_categorical_crossentropy: nan\n"
     ]
    },
    {
     "data": {
      "text/plain": [
       "<keras.callbacks.History at 0x1a34380310>"
      ]
     },
     "execution_count": 2,
     "metadata": {},
     "output_type": "execute_result"
    }
   ],
   "source": [
    "import os\n",
    "os.environ['KMP_DUPLICATE_LIB_OK']='True' # Need if Conda environment isn't resolved properly\n",
    "import keras\n",
    "import sklearn.model_selection\n",
    "import keras.backend as K\n",
    "\n",
    "def stacker(tensorList):\n",
    "    # This is a layer.\n",
    "    # Stack the bond hidden vectors and atom hidden vectors (29x29x(2*size(atom hidden) + size(bond_hidden)))\n",
    "    bond_hiddens = tensorList[0]\n",
    "    atom_hiddens = tensorList[1]\n",
    "    vertical_atom_hiddens = keras.backend.expand_dims(atom_hiddens,axis=2)\n",
    "    vertical_atom_hiddens_horizontal = keras.backend.repeat_elements(vertical_atom_hiddens,29,2)\n",
    "    horiz_atom_hiddens = keras.backend.expand_dims(atom_hiddens,axis=1)\n",
    "    horiz_atom_hiddens_vertical = keras.backend.repeat_elements(horiz_atom_hiddens,29,1)\n",
    "    \n",
    "    hidden_vector_matrix = keras.backend.concatenate([vertical_atom_hiddens_horizontal, horiz_atom_hiddens_vertical, bond_hiddens], axis=3)\n",
    "    return hidden_vector_matrix\n",
    "\n",
    "def summer(tensorList):\n",
    "    # This is a layer.\n",
    "    # Sums the message matrix (29x29x(size(message))) horizontally into 29x(size(message))\n",
    "    messages = tensorList[0]\n",
    "    connectivity = tensorList[1]\n",
    "    # Zero out all unconnected messages\n",
    "    connectivity_expanded = keras.backend.expand_dims(connectivity, axis=3)\n",
    "    # Add all messages horizontally (29xsize(message))\n",
    "    filtered = messages*connectivity_expanded # note: * is element-wise, keras.dot is matrix multiplication\n",
    "    summed_horiz = keras.backend.sum(filtered, axis=2)\n",
    "    return summed_horiz\n",
    "\n",
    "def generate_gc_model(num_nodes=29, atom_hidden_length=6, bond_hidden_length=4, hide_atoms=False,\\\n",
    "                      message_dense_resize=None, atom_dense_resize=None, bond_dense_resize=None, do_readout = False):\n",
    "    # Generates a graph convolution model based on the provided parameters.\n",
    "    \n",
    "    bond_hiddens_input = keras.layers.Input(shape=(num_nodes,num_nodes,bond_hidden_length))\n",
    "    atom_hiddens_input = keras.layers.Input(shape=(num_nodes,atom_hidden_length))\n",
    "    connectivity_input = keras.layers.Input(shape=(num_nodes,num_nodes))\n",
    "    \n",
    "    # For JP's task\n",
    "    if hide_atoms:\n",
    "        atom_hiddens = keras.layers.Lambda(lambda x: x*0.0)(atom_hiddens_input) # For JP's exercise - eliminate atom info.\n",
    "    else:\n",
    "        atom_hiddens = atom_hiddens_input\n",
    "    \n",
    "    message_stack = keras.layers.Lambda(stacker)([bond_hiddens_input, atom_hiddens])\n",
    "    \n",
    "    # Should we dense the total hidden vector?\n",
    "    if message_dense_resize != None:\n",
    "        messages = keras.layers.Dense(message_dense_resize, activation='relu')(message_stack)\n",
    "    else:\n",
    "        messages = message_stack\n",
    "    \n",
    "    message_sum = keras.layers.Lambda(summer)([messages, connectivity_input])\n",
    "    \n",
    "    # Should we dense the atom hidden vector?\n",
    "    if atom_dense_resize != None:\n",
    "        message_interpret = keras.layers.Dense(atom_dense_resize, activation='relu')(message_sum)\n",
    "    else:\n",
    "        message_interpret = message_sum\n",
    "    \n",
    "    message_to_onehot = keras.layers.Dense(atom_hidden_length, activation='softmax')(message_interpret)\n",
    "    \n",
    "    if do_readout:\n",
    "        message_to_readout__ = keras.layers.Lambda(lambda x: K.sum(x, axis=1))(message_to_onehot)\n",
    "        message_to_readout_ = keras.layers.Dense(30)(message_to_readout__)\n",
    "        message_to_readout = keras.layers.Dense(1, activation='sigmoid')(message_to_readout_)\n",
    "        model = keras.models.Model(inputs=[bond_hiddens_input, atom_hiddens_input, connectivity_input], outputs=message_to_readout)\n",
    "        return model\n",
    "    else:\n",
    "        if bond_dense_resize == None:\n",
    "            connectivity_output = keras.layers.Lambda(lambda x: K.identity(x))(connectivity_input)\n",
    "            bond_hiddens_output = keras.layers.Lambda(lambda x: K.identity(x))(bond_hiddens_input)\n",
    "        else:\n",
    "            bond_hiddens_output_ = keras.layers.Dense(bond_dense_resize)(messages)\n",
    "            bond_hiddens_output = keras.layers.Dense(bond_hidden_length,activation='softmax')(bond_hiddens_output_)\n",
    "            connectivity_output = keras.layers.Lambda(lambda x: K.sum(x[:,:,:,1:], axis=3))(bond_hiddens_output)\n",
    "        model = keras.models.Model(inputs=[bond_hiddens_input, atom_hiddens_input, connectivity_input], outputs=[bond_hiddens_output, message_to_onehot, connectivity_output])\n",
    "        return model\n",
    "\n",
    "# See if we can predict atoms from graph structure (we blank out the atoms)\n",
    "labelator = generate_gc_model(num_nodes=29, atom_hidden_length=6, bond_hidden_length=4, hide_atoms=True,\\\n",
    "                    message_dense_resize=None, atom_dense_resize=1000, bond_dense_resize=None, do_readout = False)\n",
    "\n",
    "labelator.compile(optimizer='adam',\n",
    "              loss=[lambda y1,y2: y2*0, 'categorical_crossentropy', lambda y1,y2:y2*0],\n",
    "              metrics=['mean_squared_error', 'mean_absolute_error','categorical_crossentropy'])\n",
    "\n",
    "#inputObjects = [[matrix, header, connectivity] for matrix, header, connectivity in zip(matrices_padded, headers_padded, connectivities_padded)]\n",
    "#X_train, X_test, y_train, y_test = sklearn.model_selection.train_test_split(inputObjects, headers_padded, test_size=0.33)\n",
    "\n",
    "labelator.fit([matrices_padded, headers_padded, connectivities_padded], [matrices_padded, headers_padded, connectivities_padded], epochs=30, verbose=True)"
   ]
  },
  {
   "cell_type": "code",
   "execution_count": 3,
   "metadata": {
    "collapsed": false
   },
   "outputs": [
    {
     "data": {
      "text/plain": [
       "array([[8206,    0,    0,    0,    0,    0],\n",
       "       [   0, 5356,    0,    0,    0,    0],\n",
       "       [   0,    0, 3777,   43,    2,    0],\n",
       "       [   0,    3,    3,  754,   45,    0],\n",
       "       [   0,    1,    0,    0, 1064,    0],\n",
       "       [   0,   31,    0,    0,    0,    0]])"
      ]
     },
     "metadata": {},
     "output_type": "display_data"
    }
   ],
   "source": [
    "# Test whether we've successfully been able to predict atoms from connectivity graph without atom labels.\n",
    "\n",
    "import sklearn.metrics\n",
    "import matplotlib.pyplot as plt\n",
    "import seaborn as sn\n",
    "\n",
    "my_predictions = labelator.predict([matrices_padded, headers_padded, connectivities_padded])\n",
    "y_pred = np.ndarray.flatten(np.argmax(my_predictions[1], axis=2))\n",
    "y_true = np.ndarray.flatten(np.argmax(headers_padded, axis=2))\n",
    "confusion = sklearn.metrics.confusion_matrix(y_true, y_pred).astype(float)\n",
    "normalize_confusion = confusion/np.array([np.sum(confusion,axis=1)]).T\n",
    "sn.heatmap(confusion)\n",
    "display(confusion.astype(int))"
   ]
  },
  {
   "cell_type": "code",
   "execution_count": 5,
   "metadata": {
    "collapsed": false,
    "scrolled": true
   },
   "outputs": [
    {
     "name": "stdout",
     "output_type": "stream",
     "text": [
      "Iteration: 0\n"
     ]
    },
    {
     "name": "stderr",
     "output_type": "stream",
     "text": [
      "/Users/narunach/anaconda3/envs/molSimplify/lib/python2.7/site-packages/keras/engine/training.py:490: UserWarning: Discrepancy between trainable weights and collected trainable weights, did you set `model.trainable` without calling `model.compile` after ?\n",
      "  'Discrepancy between trainable weights and collected trainable'\n"
     ]
    },
    {
     "name": "stdout",
     "output_type": "stream",
     "text": [
      "Epoch 1/1\n",
      "891/891 [==============================] - 2s 2ms/step - loss: 2.1472 - mean_squared_error: 0.2956 - mean_absolute_error: 0.3249 - binary_crossentropy: 2.1472\n",
      "Epoch 1/1\n",
      "665/665 [==============================] - 12s 19ms/step - loss: 2.5193 - mean_squared_error: 0.6056 - mean_absolute_error: 0.6404 - binary_crossentropy: 2.5193\n",
      "Iteration: 1\n",
      "Epoch 1/1\n",
      "192/891 [=====>........................] - ETA: 0s - loss: 5.4554 - mean_squared_error: 0.5351 - mean_absolute_error: 0.5555 - binary_crossentropy: 5.4554"
     ]
    },
    {
     "name": "stderr",
     "output_type": "stream",
     "text": [
      "/Users/narunach/anaconda3/envs/molSimplify/lib/python2.7/site-packages/keras/engine/training.py:490: UserWarning: Discrepancy between trainable weights and collected trainable weights, did you set `model.trainable` without calling `model.compile` after ?\n",
      "  'Discrepancy between trainable weights and collected trainable'\n"
     ]
    },
    {
     "name": "stdout",
     "output_type": "stream",
     "text": [
      "891/891 [==============================] - 1s 770us/step - loss: 1.2405 - mean_squared_error: 0.1290 - mean_absolute_error: 0.1716 - binary_crossentropy: 1.2405\n",
      "Epoch 1/1\n",
      "665/665 [==============================] - 9s 14ms/step - loss: 6.5249 - mean_squared_error: 0.9968 - mean_absolute_error: 0.9984 - binary_crossentropy: 6.5249\n",
      "Iteration: 2\n",
      "Epoch 1/1\n",
      "224/891 [======>.......................] - ETA: 0s - loss: 0.0174 - mean_squared_error: 5.8677e-04 - mean_absolute_error: 0.0171 - binary_crossentropy: 0.0174"
     ]
    },
    {
     "name": "stderr",
     "output_type": "stream",
     "text": [
      "/Users/narunach/anaconda3/envs/molSimplify/lib/python2.7/site-packages/keras/engine/training.py:490: UserWarning: Discrepancy between trainable weights and collected trainable weights, did you set `model.trainable` without calling `model.compile` after ?\n",
      "  'Discrepancy between trainable weights and collected trainable'\n"
     ]
    },
    {
     "name": "stdout",
     "output_type": "stream",
     "text": [
      "891/891 [==============================] - 1s 763us/step - loss: 0.0100 - mean_squared_error: 2.4198e-04 - mean_absolute_error: 0.0099 - binary_crossentropy: 0.0100\n",
      "Epoch 1/1\n",
      "665/665 [==============================] - 9s 14ms/step - loss: 6.1632 - mean_squared_error: 0.9957 - mean_absolute_error: 0.9978 - binary_crossentropy: 6.1632\n",
      "Iteration: 3\n",
      "Epoch 1/1\n",
      "224/891 [======>.......................] - ETA: 0s - loss: 0.0044 - mean_squared_error: 3.7705e-05 - mean_absolute_error: 0.0044 - binary_crossentropy: 0.0044"
     ]
    },
    {
     "name": "stderr",
     "output_type": "stream",
     "text": [
      "/Users/narunach/anaconda3/envs/molSimplify/lib/python2.7/site-packages/keras/engine/training.py:490: UserWarning: Discrepancy between trainable weights and collected trainable weights, did you set `model.trainable` without calling `model.compile` after ?\n",
      "  'Discrepancy between trainable weights and collected trainable'\n"
     ]
    },
    {
     "name": "stdout",
     "output_type": "stream",
     "text": [
      "891/891 [==============================] - 1s 732us/step - loss: 0.0033 - mean_squared_error: 2.1848e-05 - mean_absolute_error: 0.0033 - binary_crossentropy: 0.0033\n",
      "Epoch 1/1\n",
      "665/665 [==============================] - 10s 15ms/step - loss: 6.7469 - mean_squared_error: 0.9977 - mean_absolute_error: 0.9988 - binary_crossentropy: 6.7469\n",
      "Iteration: 4\n",
      "Epoch 1/1\n",
      "224/891 [======>.......................] - ETA: 0s - loss: 0.0023 - mean_squared_error: 1.0220e-05 - mean_absolute_error: 0.0023 - binary_crossentropy: 0.0023"
     ]
    },
    {
     "name": "stderr",
     "output_type": "stream",
     "text": [
      "/Users/narunach/anaconda3/envs/molSimplify/lib/python2.7/site-packages/keras/engine/training.py:490: UserWarning: Discrepancy between trainable weights and collected trainable weights, did you set `model.trainable` without calling `model.compile` after ?\n",
      "  'Discrepancy between trainable weights and collected trainable'\n"
     ]
    },
    {
     "name": "stdout",
     "output_type": "stream",
     "text": [
      "891/891 [==============================] - 1s 752us/step - loss: 0.0021 - mean_squared_error: 8.1497e-06 - mean_absolute_error: 0.0021 - binary_crossentropy: 0.0021\n",
      "Epoch 1/1\n",
      "665/665 [==============================] - 9s 14ms/step - loss: 6.8987 - mean_squared_error: 0.9980 - mean_absolute_error: 0.9990 - binary_crossentropy: 6.8987\n",
      "Iteration: 5\n",
      "Epoch 1/1\n",
      "224/891 [======>.......................] - ETA: 0s - loss: 0.0018 - mean_squared_error: 6.8750e-06 - mean_absolute_error: 0.0018 - binary_crossentropy: 0.0018"
     ]
    },
    {
     "name": "stderr",
     "output_type": "stream",
     "text": [
      "/Users/narunach/anaconda3/envs/molSimplify/lib/python2.7/site-packages/keras/engine/training.py:490: UserWarning: Discrepancy between trainable weights and collected trainable weights, did you set `model.trainable` without calling `model.compile` after ?\n",
      "  'Discrepancy between trainable weights and collected trainable'\n"
     ]
    },
    {
     "name": "stdout",
     "output_type": "stream",
     "text": [
      "891/891 [==============================] - 1s 742us/step - loss: 0.0015 - mean_squared_error: 4.2422e-06 - mean_absolute_error: 0.0015 - binary_crossentropy: 0.0015\n",
      "Epoch 1/1\n",
      "665/665 [==============================] - 9s 13ms/step - loss: 6.9986 - mean_squared_error: 0.9982 - mean_absolute_error: 0.9991 - binary_crossentropy: 6.9986\n",
      "Iteration: 6\n",
      "Epoch 1/1\n",
      "224/891 [======>.......................] - ETA: 0s - loss: 0.0012 - mean_squared_error: 2.4185e-06 - mean_absolute_error: 0.0012 - binary_crossentropy: 0.0012"
     ]
    },
    {
     "name": "stderr",
     "output_type": "stream",
     "text": [
      "/Users/narunach/anaconda3/envs/molSimplify/lib/python2.7/site-packages/keras/engine/training.py:490: UserWarning: Discrepancy between trainable weights and collected trainable weights, did you set `model.trainable` without calling `model.compile` after ?\n",
      "  'Discrepancy between trainable weights and collected trainable'\n"
     ]
    },
    {
     "name": "stdout",
     "output_type": "stream",
     "text": [
      "891/891 [==============================] - 1s 718us/step - loss: 0.0012 - mean_squared_error: 2.2616e-06 - mean_absolute_error: 0.0012 - binary_crossentropy: 0.0012\n",
      "Epoch 1/1\n",
      "665/665 [==============================] - 9s 14ms/step - loss: 7.1020 - mean_squared_error: 0.9984 - mean_absolute_error: 0.9992 - binary_crossentropy: 7.1020\n",
      "Iteration: 7\n",
      "Epoch 1/1\n",
      "224/891 [======>.......................] - ETA: 0s - loss: 0.0011 - mean_squared_error: 2.1153e-06 - mean_absolute_error: 0.0011 - binary_crossentropy: 0.0011"
     ]
    },
    {
     "name": "stderr",
     "output_type": "stream",
     "text": [
      "/Users/narunach/anaconda3/envs/molSimplify/lib/python2.7/site-packages/keras/engine/training.py:490: UserWarning: Discrepancy between trainable weights and collected trainable weights, did you set `model.trainable` without calling `model.compile` after ?\n",
      "  'Discrepancy between trainable weights and collected trainable'\n"
     ]
    },
    {
     "name": "stdout",
     "output_type": "stream",
     "text": [
      "891/891 [==============================] - 1s 711us/step - loss: 9.9334e-04 - mean_squared_error: 1.5779e-06 - mean_absolute_error: 9.9255e-04 - binary_crossentropy: 9.9334e-04\n",
      "Epoch 1/1\n",
      "665/665 [==============================] - 10s 15ms/step - loss: 7.1953 - mean_squared_error: 0.9985 - mean_absolute_error: 0.9992 - binary_crossentropy: 7.1953\n",
      "Iteration: 8\n",
      "Epoch 1/1\n",
      "224/891 [======>.......................] - ETA: 0s - loss: 8.7159e-04 - mean_squared_error: 1.1873e-06 - mean_absolute_error: 8.7100e-04 - binary_crossentropy: 8.7159e-04"
     ]
    },
    {
     "name": "stderr",
     "output_type": "stream",
     "text": [
      "/Users/narunach/anaconda3/envs/molSimplify/lib/python2.7/site-packages/keras/engine/training.py:490: UserWarning: Discrepancy between trainable weights and collected trainable weights, did you set `model.trainable` without calling `model.compile` after ?\n",
      "  'Discrepancy between trainable weights and collected trainable'\n"
     ]
    },
    {
     "name": "stdout",
     "output_type": "stream",
     "text": [
      "891/891 [==============================] - 1s 764us/step - loss: 8.6478e-04 - mean_squared_error: 1.1942e-06 - mean_absolute_error: 8.6419e-04 - binary_crossentropy: 8.6478e-04\n",
      "Epoch 1/1\n",
      "665/665 [==============================] - 9s 14ms/step - loss: 7.2776 - mean_squared_error: 0.9986 - mean_absolute_error: 0.9993 - binary_crossentropy: 7.2776\n",
      "Iteration: 9\n",
      "Epoch 1/1\n",
      "224/891 [======>.......................] - ETA: 0s - loss: 7.8814e-04 - mean_squared_error: 9.2384e-07 - mean_absolute_error: 7.8768e-04 - binary_crossentropy: 7.8814e-04"
     ]
    },
    {
     "name": "stderr",
     "output_type": "stream",
     "text": [
      "/Users/narunach/anaconda3/envs/molSimplify/lib/python2.7/site-packages/keras/engine/training.py:490: UserWarning: Discrepancy between trainable weights and collected trainable weights, did you set `model.trainable` without calling `model.compile` after ?\n",
      "  'Discrepancy between trainable weights and collected trainable'\n"
     ]
    },
    {
     "name": "stdout",
     "output_type": "stream",
     "text": [
      "891/891 [==============================] - 1s 706us/step - loss: 7.2252e-04 - mean_squared_error: 7.5528e-07 - mean_absolute_error: 7.2214e-04 - binary_crossentropy: 7.2252e-04\n",
      "Epoch 1/1\n",
      "665/665 [==============================] - 9s 14ms/step - loss: 7.3580 - mean_squared_error: 0.9987 - mean_absolute_error: 0.9994 - binary_crossentropy: 7.3580\n",
      "done\n"
     ]
    }
   ],
   "source": [
    "#-\n",
    "# Output structure, e.g. for Generator:\n",
    "# [array of output 1 (BO matrix), array of output 2 (charges), array of output 3 (connectivity masks)]"
   ]
  },
  {
   "cell_type": "code",
   "execution_count": 6,
   "metadata": {
    "collapsed": false
   },
   "outputs": [
    {
     "data": {
      "text/plain": [
       "<matplotlib.axes._subplots.AxesSubplot at 0x1a80a6db10>"
      ]
     },
     "execution_count": 6,
     "metadata": {},
     "output_type": "execute_result"
    },
    {
     "data": {
      "image/png": "[encoded data removed]",
      "text/plain": [
       "<Figure size 432x288 with 2 Axes>"
      ]
     },
     "metadata": {
      "needs_background": "light"
     },
     "output_type": "display_data"
    },
    {
     "data": {
      "image/png": "[encoded data removed]",
      "text/plain": [
       "<Figure size 432x288 with 2 Axes>"
      ]
     },
     "metadata": {
      "needs_background": "light"
     },
     "output_type": "display_data"
    }
   ],
   "source": [
    "# Let's see what the generator output looks like:\n",
    "\n",
    "import seaborn as sn\n",
    "import matplotlib.pyplot as plt\n",
    "sn.heatmap(myGen.predict(noise_input)[2][5])\n",
    "plt.figure()\n",
    "sn.heatmap(myGen.predict(noise_input)[1][5])"
   ]
  },
  {
   "cell_type": "code",
   "execution_count": 7,
   "metadata": {
    "collapsed": false,
    "scrolled": false
   },
   "outputs": [
    {
     "name": "stdout",
     "output_type": "stream",
     "text": [
      "0\n"
     ]
    },
    {
     "name": "stderr",
     "output_type": "stream",
     "text": [
      "RDKit WARNING: [08:24:26] WARNING: could not find number of expected rings. Switching to an approximate ring finding algorithm.\n"
     ]
    },
    {
     "data": {
      "image/png": "[encoded data removed]",
      "text/plain": [
       "<rdkit.Chem.rdchem.RWMol at 0x1a58ac5310>"
      ]
     },
     "metadata": {},
     "output_type": "display_data"
    },
    {
     "name": "stdout",
     "output_type": "stream",
     "text": [
      "1\n"
     ]
    },
    {
     "name": "stderr",
     "output_type": "stream",
     "text": [
      "RDKit WARNING: [08:24:26] WARNING: could not find number of expected rings. Switching to an approximate ring finding algorithm.\n"
     ]
    },
    {
     "data": {
      "image/png": "[encoded data removed]",
      "text/plain": [
       "<rdkit.Chem.rdchem.RWMol at 0x1a58ac5310>"
      ]
     },
     "metadata": {},
     "output_type": "display_data"
    },
    {
     "name": "stdout",
     "output_type": "stream",
     "text": [
      "2\n"
     ]
    },
    {
     "name": "stderr",
     "output_type": "stream",
     "text": [
      "RDKit WARNING: [08:24:26] WARNING: could not find number of expected rings. Switching to an approximate ring finding algorithm.\n"
     ]
    },
    {
     "data": {
      "image/png": "[encoded data removed]",
      "text/plain": [
       "<rdkit.Chem.rdchem.RWMol at 0x1a58ac5310>"
      ]
     },
     "metadata": {},
     "output_type": "display_data"
    },
    {
     "name": "stdout",
     "output_type": "stream",
     "text": [
      "3\n"
     ]
    },
    {
     "name": "stderr",
     "output_type": "stream",
     "text": [
      "RDKit WARNING: [08:24:26] WARNING: could not find number of expected rings. Switching to an approximate ring finding algorithm.\n"
     ]
    },
    {
     "data": {
      "image/png": "[encoded data removed]",
      "text/plain": [
       "<rdkit.Chem.rdchem.RWMol at 0x1a58ac5310>"
      ]
     },
     "metadata": {},
     "output_type": "display_data"
    },
    {
     "name": "stdout",
     "output_type": "stream",
     "text": [
      "4\n"
     ]
    },
    {
     "name": "stderr",
     "output_type": "stream",
     "text": [
      "RDKit WARNING: [08:24:26] WARNING: could not find number of expected rings. Switching to an approximate ring finding algorithm.\n"
     ]
    },
    {
     "data": {
      "image/png": "[encoded data removed]",
      "text/plain": [
       "<rdkit.Chem.rdchem.RWMol at 0x1a58ac5310>"
      ]
     },
     "metadata": {},
     "output_type": "display_data"
    },
    {
     "name": "stdout",
     "output_type": "stream",
     "text": [
      "5\n"
     ]
    },
    {
     "name": "stderr",
     "output_type": "stream",
     "text": [
      "RDKit WARNING: [08:24:26] WARNING: could not find number of expected rings. Switching to an approximate ring finding algorithm.\n"
     ]
    },
    {
     "data": {
      "image/png": "[encoded data removed]",
      "text/plain": [
       "<rdkit.Chem.rdchem.RWMol at 0x1a58ac5310>"
      ]
     },
     "metadata": {},
     "output_type": "display_data"
    },
    {
     "name": "stdout",
     "output_type": "stream",
     "text": [
      "6\n"
     ]
    },
    {
     "name": "stderr",
     "output_type": "stream",
     "text": [
      "RDKit WARNING: [08:24:26] WARNING: could not find number of expected rings. Switching to an approximate ring finding algorithm.\n"
     ]
    },
    {
     "data": {
      "image/png": "[encoded data removed]",
      "text/plain": [
       "<rdkit.Chem.rdchem.RWMol at 0x1a58ac5310>"
      ]
     },
     "metadata": {},
     "output_type": "display_data"
    },
    {
     "name": "stdout",
     "output_type": "stream",
     "text": [
      "7\n"
     ]
    },
    {
     "name": "stderr",
     "output_type": "stream",
     "text": [
      "RDKit WARNING: [08:24:26] WARNING: could not find number of expected rings. Switching to an approximate ring finding algorithm.\n"
     ]
    },
    {
     "data": {
      "image/png": "[encoded data removed]",
      "text/plain": [
       "<rdkit.Chem.rdchem.RWMol at 0x1a58ac5310>"
      ]
     },
     "metadata": {},
     "output_type": "display_data"
    },
    {
     "name": "stdout",
     "output_type": "stream",
     "text": [
      "8\n"
     ]
    },
    {
     "name": "stderr",
     "output_type": "stream",
     "text": [
      "RDKit WARNING: [08:24:26] WARNING: could not find number of expected rings. Switching to an approximate ring finding algorithm.\n"
     ]
    },
    {
     "data": {
      "image/png": "[encoded data removed]",
      "text/plain": [
       "<rdkit.Chem.rdchem.RWMol at 0x1a58ac5310>"
      ]
     },
     "metadata": {},
     "output_type": "display_data"
    },
    {
     "name": "stdout",
     "output_type": "stream",
     "text": [
      "9\n"
     ]
    },
    {
     "name": "stderr",
     "output_type": "stream",
     "text": [
      "RDKit WARNING: [08:24:26] WARNING: could not find number of expected rings. Switching to an approximate ring finding algorithm.\n"
     ]
    },
    {
     "data": {
      "image/png": "[encoded data removed]",
      "text/plain": [
       "<rdkit.Chem.rdchem.RWMol at 0x1a58ac5310>"
      ]
     },
     "metadata": {},
     "output_type": "display_data"
    },
    {
     "name": "stdout",
     "output_type": "stream",
     "text": [
      "10\n"
     ]
    },
    {
     "name": "stderr",
     "output_type": "stream",
     "text": [
      "RDKit WARNING: [08:24:26] WARNING: could not find number of expected rings. Switching to an approximate ring finding algorithm.\n"
     ]
    },
    {
     "data": {
      "image/png": "[encoded data removed]",
      "text/plain": [
       "<rdkit.Chem.rdchem.RWMol at 0x1a58ac5310>"
      ]
     },
     "metadata": {},
     "output_type": "display_data"
    },
    {
     "name": "stdout",
     "output_type": "stream",
     "text": [
      "11\n"
     ]
    },
    {
     "name": "stderr",
     "output_type": "stream",
     "text": [
      "RDKit WARNING: [08:24:27] WARNING: could not find number of expected rings. Switching to an approximate ring finding algorithm.\n"
     ]
    },
    {
     "data": {
      "image/png": "[encoded data removed]",
      "text/plain": [
       "<rdkit.Chem.rdchem.RWMol at 0x1a58ac5310>"
      ]
     },
     "metadata": {},
     "output_type": "display_data"
    },
    {
     "name": "stdout",
     "output_type": "stream",
     "text": [
      "12\n"
     ]
    },
    {
     "name": "stderr",
     "output_type": "stream",
     "text": [
      "RDKit WARNING: [08:24:27] WARNING: could not find number of expected rings. Switching to an approximate ring finding algorithm.\n"
     ]
    },
    {
     "data": {
      "image/png": "[encoded data removed]",
      "text/plain": [
       "<rdkit.Chem.rdchem.RWMol at 0x1a58ac5310>"
      ]
     },
     "metadata": {},
     "output_type": "display_data"
    },
    {
     "name": "stdout",
     "output_type": "stream",
     "text": [
      "13\n"
     ]
    },
    {
     "name": "stderr",
     "output_type": "stream",
     "text": [
      "RDKit WARNING: [08:24:27] WARNING: could not find number of expected rings. Switching to an approximate ring finding algorithm.\n"
     ]
    },
    {
     "data": {
      "image/png": "[encoded data removed]",
      "text/plain": [
       "<rdkit.Chem.rdchem.RWMol at 0x1a58ac5310>"
      ]
     },
     "metadata": {},
     "output_type": "display_data"
    },
    {
     "name": "stdout",
     "output_type": "stream",
     "text": [
      "14\n"
     ]
    },
    {
     "name": "stderr",
     "output_type": "stream",
     "text": [
      "RDKit ERROR: [08:24:26] \n",
      "RDKit ERROR: \n",
      "RDKit ERROR: ****\n",
      "RDKit ERROR: Pre-condition Violation\n",
      "RDKit ERROR: getExplicitValence() called without call to calcExplicitValence()\n",
      "RDKit ERROR: Violation occurred on line 162 in file /Users/glandrum/anaconda5/conda-bld/rdkit_1553786961726/work/Code/GraphMol/Atom.cpp\n",
      "RDKit ERROR: Failed Expression: d_explicitValence > -1\n",
      "RDKit ERROR: ****\n",
      "RDKit ERROR: \n",
      "RDKit ERROR: [08:24:26] \n",
      "RDKit ERROR: \n",
      "RDKit ERROR: ****\n",
      "RDKit ERROR: Pre-condition Violation\n",
      "RDKit ERROR: getExplicitValence() called without call to calcExplicitValence()\n",
      "RDKit ERROR: Violation occurred on line 162 in file /Users/glandrum/anaconda5/conda-bld/rdkit_1553786961726/work/Code/GraphMol/Atom.cpp\n",
      "RDKit ERROR: Failed Expression: d_explicitValence > -1\n",
      "RDKit ERROR: ****\n",
      "RDKit ERROR: \n",
      "RDKit ERROR: [08:24:26] \n",
      "RDKit ERROR: \n",
      "RDKit ERROR: ****\n",
      "RDKit ERROR: Pre-condition Violation\n",
      "RDKit ERROR: getExplicitValence() called without call to calcExplicitValence()\n",
      "RDKit ERROR: Violation occurred on line 162 in file /Users/glandrum/anaconda5/conda-bld/rdkit_1553786961726/work/Code/GraphMol/Atom.cpp\n",
      "RDKit ERROR: Failed Expression: d_explicitValence > -1\n",
      "RDKit ERROR: ****\n",
      "RDKit ERROR: \n",
      "RDKit ERROR: [08:24:26] \n",
      "RDKit ERROR: \n",
      "RDKit ERROR: ****\n",
      "RDKit ERROR: Pre-condition Violation\n",
      "RDKit ERROR: getExplicitValence() called without call to calcExplicitValence()\n",
      "RDKit ERROR: Violation occurred on line 162 in file /Users/glandrum/anaconda5/conda-bld/rdkit_1553786961726/work/Code/GraphMol/Atom.cpp\n",
      "RDKit ERROR: Failed Expression: d_explicitValence > -1\n",
      "RDKit ERROR: ****\n",
      "RDKit ERROR: \n",
      "RDKit ERROR: [08:24:26] \n",
      "RDKit ERROR: \n",
      "RDKit ERROR: ****\n",
      "RDKit ERROR: Pre-condition Violation\n",
      "RDKit ERROR: getExplicitValence() called without call to calcExplicitValence()\n",
      "RDKit ERROR: Violation occurred on line 162 in file /Users/glandrum/anaconda5/conda-bld/rdkit_1553786961726/work/Code/GraphMol/Atom.cpp\n",
      "RDKit ERROR: Failed Expression: d_explicitValence > -1\n",
      "RDKit ERROR: ****\n",
      "RDKit ERROR: \n",
      "RDKit ERROR: [08:24:26] \n",
      "RDKit ERROR: \n",
      "RDKit ERROR: ****\n",
      "RDKit ERROR: Pre-condition Violation\n",
      "RDKit ERROR: getExplicitValence() called without call to calcExplicitValence()\n",
      "RDKit ERROR: Violation occurred on line 162 in file /Users/glandrum/anaconda5/conda-bld/rdkit_1553786961726/work/Code/GraphMol/Atom.cpp\n",
      "RDKit ERROR: Failed Expression: d_explicitValence > -1\n",
      "RDKit ERROR: ****\n",
      "RDKit ERROR: \n",
      "RDKit ERROR: [08:24:26] \n",
      "RDKit ERROR: \n",
      "RDKit ERROR: ****\n",
      "RDKit ERROR: Pre-condition Violation\n",
      "RDKit ERROR: getExplicitValence() called without call to calcExplicitValence()\n",
      "RDKit ERROR: Violation occurred on line 162 in file /Users/glandrum/anaconda5/conda-bld/rdkit_1553786961726/work/Code/GraphMol/Atom.cpp\n",
      "RDKit ERROR: Failed Expression: d_explicitValence > -1\n",
      "RDKit ERROR: ****\n",
      "RDKit ERROR: \n",
      "RDKit ERROR: [08:24:26] \n",
      "RDKit ERROR: \n",
      "RDKit ERROR: ****\n",
      "RDKit ERROR: Pre-condition Violation\n",
      "RDKit ERROR: getExplicitValence() called without call to calcExplicitValence()\n",
      "RDKit ERROR: Violation occurred on line 162 in file /Users/glandrum/anaconda5/conda-bld/rdkit_1553786961726/work/Code/GraphMol/Atom.cpp\n",
      "RDKit ERROR: Failed Expression: d_explicitValence > -1\n",
      "RDKit ERROR: ****\n",
      "RDKit ERROR: \n",
      "RDKit ERROR: [08:24:26] \n",
      "RDKit ERROR: \n",
      "RDKit ERROR: ****\n",
      "RDKit ERROR: Pre-condition Violation\n",
      "RDKit ERROR: getExplicitValence() called without call to calcExplicitValence()\n",
      "RDKit ERROR: Violation occurred on line 162 in file /Users/glandrum/anaconda5/conda-bld/rdkit_1553786961726/work/Code/GraphMol/Atom.cpp\n",
      "RDKit ERROR: Failed Expression: d_explicitValence > -1\n",
      "RDKit ERROR: ****\n",
      "RDKit ERROR: \n",
      "RDKit ERROR: [08:24:26] \n",
      "RDKit ERROR: \n",
      "RDKit ERROR: ****\n",
      "RDKit ERROR: Pre-condition Violation\n",
      "RDKit ERROR: getExplicitValence() called without call to calcExplicitValence()\n",
      "RDKit ERROR: Violation occurred on line 162 in file /Users/glandrum/anaconda5/conda-bld/rdkit_1553786961726/work/Code/GraphMol/Atom.cpp\n",
      "RDKit ERROR: Failed Expression: d_explicitValence > -1\n",
      "RDKit ERROR: ****\n",
      "RDKit ERROR: \n",
      "RDKit ERROR: [08:24:26] \n",
      "RDKit ERROR: \n",
      "RDKit ERROR: ****\n",
      "RDKit ERROR: Pre-condition Violation\n",
      "RDKit ERROR: getExplicitValence() called without call to calcExplicitValence()\n",
      "RDKit ERROR: Violation occurred on line 162 in file /Users/glandrum/anaconda5/conda-bld/rdkit_1553786961726/work/Code/GraphMol/Atom.cpp\n",
      "RDKit ERROR: Failed Expression: d_explicitValence > -1\n",
      "RDKit ERROR: ****\n",
      "RDKit ERROR: \n",
      "RDKit ERROR: [08:24:27] \n",
      "RDKit ERROR: \n",
      "RDKit ERROR: ****\n",
      "RDKit ERROR: Pre-condition Violation\n",
      "RDKit ERROR: getExplicitValence() called without call to calcExplicitValence()\n",
      "RDKit ERROR: Violation occurred on line 162 in file /Users/glandrum/anaconda5/conda-bld/rdkit_1553786961726/work/Code/GraphMol/Atom.cpp\n",
      "RDKit ERROR: Failed Expression: d_explicitValence > -1\n",
      "RDKit ERROR: ****\n",
      "RDKit ERROR: \n",
      "RDKit ERROR: [08:24:27] \n",
      "RDKit ERROR: \n",
      "RDKit ERROR: ****\n",
      "RDKit ERROR: Pre-condition Violation\n",
      "RDKit ERROR: getExplicitValence() called without call to calcExplicitValence()\n",
      "RDKit ERROR: Violation occurred on line 162 in file /Users/glandrum/anaconda5/conda-bld/rdkit_1553786961726/work/Code/GraphMol/Atom.cpp\n",
      "RDKit ERROR: Failed Expression: d_explicitValence > -1\n",
      "RDKit ERROR: ****\n",
      "RDKit ERROR: \n",
      "RDKit ERROR: [08:24:27] \n",
      "RDKit ERROR: \n",
      "RDKit ERROR: ****\n",
      "RDKit ERROR: Pre-condition Violation\n",
      "RDKit ERROR: getExplicitValence() called without call to calcExplicitValence()\n",
      "RDKit ERROR: Violation occurred on line 162 in file /Users/glandrum/anaconda5/conda-bld/rdkit_1553786961726/work/Code/GraphMol/Atom.cpp\n",
      "RDKit ERROR: Failed Expression: d_explicitValence > -1\n",
      "RDKit ERROR: ****\n",
      "RDKit ERROR: \n",
      "RDKit ERROR: [08:24:27] \n",
      "RDKit ERROR: \n",
      "RDKit ERROR: ****\n",
      "RDKit ERROR: Pre-condition Violation\n",
      "RDKit ERROR: getExplicitValence() called without call to calcExplicitValence()\n",
      "RDKit WARNING: Violation occurred on line 162 in file /Users/glandrum/anaconda5/conda-bld/rdkit_1[08:24:27] WARNING: could not find number of expected rings. Switching to an approximate ring finding algorithm.\n"
     ]
    },
    {
     "data": {
      "image/png": "[encoded data removed]",
      "text/plain": [
       "<rdkit.Chem.rdchem.RWMol at 0x1a58ac5310>"
      ]
     },
     "metadata": {},
     "output_type": "display_data"
    }
   ],
   "source": [
    "# Let's draw some of the generator output:\n",
    "\n",
    "import rdkit.Chem as Chem\n",
    "from rdkit.Chem.Draw import IPythonConsole #Needed to show molecules\n",
    "\n",
    "def fingerprint_to_rdmol(header, bondmat):\n",
    "    rdmol = Chem.RWMol()\n",
    "    atoms_29 = []\n",
    "    staged_atoms = []\n",
    "    numAtoms = len(header)\n",
    "    atomDict = {1: 'H', 6: 'C', 7: 'N', 8: 'O', 9: 'F'}\n",
    "    for i in header:\n",
    "        staged_atoms += [None]\n",
    "        if i != 0:\n",
    "            atoms_29 = atoms_29 + [Chem.Atom(atomDict[i])]\n",
    "        else:\n",
    "            atoms_29 = atoms_29 + [None]\n",
    "    try:\n",
    "        for j in range(numAtoms):\n",
    "            for k in range(j+1, numAtoms):\n",
    "                bondOrder = bondmat[j][k]\n",
    "                if bondOrder == 7 or bondOrder == 9:\n",
    "                    #print \"delocalized or Pi bond... unhandled\"\n",
    "                    raise ValueError(\"delocalized or Pi bond... unhandled\")\n",
    "                bondTypes = Chem.rdchem.BondType\n",
    "                bondOrders = {1:bondTypes.SINGLE, 2:bondTypes.DOUBLE, 3:bondTypes.TRIPLE,\n",
    "                              4:bondTypes.QUADRUPLE, 5:bondTypes.AROMATIC, 7:bondTypes.AROMATIC, 9:bondTypes.AROMATIC}\n",
    "                if bondOrder in bondOrders and atoms_29[j] != None and atoms_29[k] != None:\n",
    "                    if staged_atoms[j] == None:\n",
    "                        staged_atoms[j] = rdmol.AddAtom(atoms_29[j])\n",
    "                    if staged_atoms[k] == None:\n",
    "                        staged_atoms[k] = rdmol.AddAtom(atoms_29[k])\n",
    "                    rdmol.AddBond(staged_atoms[j], staged_atoms[k], bondOrders[bondOrder])\n",
    "        return rdmol\n",
    "    except:\n",
    "        return None\n",
    "bondmats, headers, connectivities = myGen.predict(noise_input)\n",
    "\n",
    "header_idx_to_atom = {np.argmax(j): i for i,j in headers_onehot_dict.items()}\n",
    "def probabilistic_bondmat(raw_bondmat):\n",
    "    new_bondmat = np.zeros((raw_bondmat.shape[0], raw_bondmat.shape[1]))\n",
    "    for i in range(raw_bondmat.shape[0]):\n",
    "        for j in range(raw_bondmat.shape[1]):\n",
    "            new_bondmat[i,j] = np.random.choice(range(len(raw_bondmat[i,j,:])), p=raw_bondmat[i,j,:])\n",
    "    return new_bondmat\n",
    "\n",
    "headers_reformatted = [[header_idx_to_atom[i] for i in [np.random.choice(range(len(hidden)),p=hidden) for hidden in header]] for header in headers]\n",
    "bondmats_reformatted = [probabilistic_bondmat(bondmat) for bondmat in bondmats[0:20]]\n",
    "for i in range(15):\n",
    "    print(i)\n",
    "    display(fingerprint_to_rdmol(headers_reformatted[i],bondmats_reformatted[i]))\n",
    "    "
   ]
  },
  {
   "cell_type": "code",
   "execution_count": null,
   "metadata": {
    "collapsed": true
   },
   "outputs": [],
   "source": []
  },
  {
   "cell_type": "code",
   "execution_count": null,
   "metadata": {
    "collapsed": true
   },
   "outputs": [],
   "source": []
  },
  {
   "cell_type": "code",
   "execution_count": null,
   "metadata": {
    "collapsed": true
   },
   "outputs": [],
   "source": []
  },
  {
   "cell_type": "code",
   "execution_count": null,
   "metadata": {
    "collapsed": true
   },
   "outputs": [],
   "source": []
  },
  {
   "cell_type": "code",
   "execution_count": null,
   "metadata": {
    "collapsed": true
   },
   "outputs": [],
   "source": []
  },
  {
   "cell_type": "code",
   "execution_count": null,
   "metadata": {
    "collapsed": true
   },
   "outputs": [],
   "source": []
  },
  {
   "cell_type": "code",
   "execution_count": 38,
   "metadata": {
    "collapsed": false
   },
   "outputs": [
    {
     "name": "stdout",
     "output_type": "stream",
     "text": [
      "Epoch 1/30\n"
     ]
    },
    {
     "ename": "KeyboardInterrupt",
     "evalue": "",
     "output_type": "error",
     "traceback": [
      "\u001b[0;31m---------------------------------------------------------------------------\u001b[0m",
      "\u001b[0;31mKeyboardInterrupt\u001b[0m                         Traceback (most recent call last)",
      "\u001b[0;32m<ipython-input-38-f894fa281289>\u001b[0m in \u001b[0;36m<module>\u001b[0;34m()\u001b[0m\n\u001b[1;32m    117\u001b[0m \u001b[0mX_train\u001b[0m\u001b[0;34m,\u001b[0m \u001b[0mX_test\u001b[0m\u001b[0;34m,\u001b[0m \u001b[0my_train\u001b[0m\u001b[0;34m,\u001b[0m \u001b[0my_test\u001b[0m \u001b[0;34m=\u001b[0m \u001b[0msklearn\u001b[0m\u001b[0;34m.\u001b[0m\u001b[0mmodel_selection\u001b[0m\u001b[0;34m.\u001b[0m\u001b[0mtrain_test_split\u001b[0m\u001b[0;34m(\u001b[0m\u001b[0minputObjects\u001b[0m\u001b[0;34m,\u001b[0m \u001b[0mheaders_padded\u001b[0m\u001b[0;34m,\u001b[0m \u001b[0mtest_size\u001b[0m\u001b[0;34m=\u001b[0m\u001b[0;36m0.33\u001b[0m\u001b[0;34m)\u001b[0m\u001b[0;34m\u001b[0m\u001b[0m\n\u001b[1;32m    118\u001b[0m \u001b[0;34m\u001b[0m\u001b[0m\n\u001b[0;32m--> 119\u001b[0;31m \u001b[0mbiggerModel\u001b[0m\u001b[0;34m.\u001b[0m\u001b[0mfit\u001b[0m\u001b[0;34m(\u001b[0m\u001b[0mmap\u001b[0m\u001b[0;34m(\u001b[0m\u001b[0mlist\u001b[0m\u001b[0;34m,\u001b[0m\u001b[0mzip\u001b[0m\u001b[0;34m(\u001b[0m\u001b[0;34m*\u001b[0m\u001b[0mX_train\u001b[0m\u001b[0;34m)\u001b[0m\u001b[0;34m)\u001b[0m\u001b[0;34m,\u001b[0m \u001b[0my_train\u001b[0m\u001b[0;34m,\u001b[0m \u001b[0mepochs\u001b[0m\u001b[0;34m=\u001b[0m\u001b[0;36m30\u001b[0m\u001b[0;34m,\u001b[0m \u001b[0mverbose\u001b[0m\u001b[0;34m=\u001b[0m\u001b[0mTrue\u001b[0m\u001b[0;34m)\u001b[0m\u001b[0;34m\u001b[0m\u001b[0m\n\u001b[0m",
      "\u001b[0;32m/Users/narunach/anaconda3/envs/molSimplify/lib/python2.7/site-packages/keras/engine/training.pyc\u001b[0m in \u001b[0;36mfit\u001b[0;34m(self, x, y, batch_size, epochs, verbose, callbacks, validation_split, validation_data, shuffle, class_weight, sample_weight, initial_epoch, steps_per_epoch, validation_steps, **kwargs)\u001b[0m\n\u001b[1;32m   1037\u001b[0m                                         \u001b[0minitial_epoch\u001b[0m\u001b[0;34m=\u001b[0m\u001b[0minitial_epoch\u001b[0m\u001b[0;34m,\u001b[0m\u001b[0;34m\u001b[0m\u001b[0m\n\u001b[1;32m   1038\u001b[0m                                         \u001b[0msteps_per_epoch\u001b[0m\u001b[0;34m=\u001b[0m\u001b[0msteps_per_epoch\u001b[0m\u001b[0;34m,\u001b[0m\u001b[0;34m\u001b[0m\u001b[0m\n\u001b[0;32m-> 1039\u001b[0;31m                                         validation_steps=validation_steps)\n\u001b[0m\u001b[1;32m   1040\u001b[0m \u001b[0;34m\u001b[0m\u001b[0m\n\u001b[1;32m   1041\u001b[0m     def evaluate(self, x=None, y=None,\n",
      "\u001b[0;32m/Users/narunach/anaconda3/envs/molSimplify/lib/python2.7/site-packages/keras/engine/training_arrays.pyc\u001b[0m in \u001b[0;36mfit_loop\u001b[0;34m(model, f, ins, out_labels, batch_size, epochs, verbose, callbacks, val_f, val_ins, shuffle, callback_metrics, initial_epoch, steps_per_epoch, validation_steps)\u001b[0m\n\u001b[1;32m    197\u001b[0m                     \u001b[0mins_batch\u001b[0m\u001b[0;34m[\u001b[0m\u001b[0mi\u001b[0m\u001b[0;34m]\u001b[0m \u001b[0;34m=\u001b[0m \u001b[0mins_batch\u001b[0m\u001b[0;34m[\u001b[0m\u001b[0mi\u001b[0m\u001b[0;34m]\u001b[0m\u001b[0;34m.\u001b[0m\u001b[0mtoarray\u001b[0m\u001b[0;34m(\u001b[0m\u001b[0;34m)\u001b[0m\u001b[0;34m\u001b[0m\u001b[0m\n\u001b[1;32m    198\u001b[0m \u001b[0;34m\u001b[0m\u001b[0m\n\u001b[0;32m--> 199\u001b[0;31m                 \u001b[0mouts\u001b[0m \u001b[0;34m=\u001b[0m \u001b[0mf\u001b[0m\u001b[0;34m(\u001b[0m\u001b[0mins_batch\u001b[0m\u001b[0;34m)\u001b[0m\u001b[0;34m\u001b[0m\u001b[0m\n\u001b[0m\u001b[1;32m    200\u001b[0m                 \u001b[0mouts\u001b[0m \u001b[0;34m=\u001b[0m \u001b[0mto_list\u001b[0m\u001b[0;34m(\u001b[0m\u001b[0mouts\u001b[0m\u001b[0;34m)\u001b[0m\u001b[0;34m\u001b[0m\u001b[0m\n\u001b[1;32m    201\u001b[0m                 \u001b[0;32mfor\u001b[0m \u001b[0ml\u001b[0m\u001b[0;34m,\u001b[0m \u001b[0mo\u001b[0m \u001b[0;32min\u001b[0m \u001b[0mzip\u001b[0m\u001b[0;34m(\u001b[0m\u001b[0mout_labels\u001b[0m\u001b[0;34m,\u001b[0m \u001b[0mouts\u001b[0m\u001b[0;34m)\u001b[0m\u001b[0;34m:\u001b[0m\u001b[0;34m\u001b[0m\u001b[0m\n",
      "\u001b[0;32m/Users/narunach/anaconda3/envs/molSimplify/lib/python2.7/site-packages/keras/backend/tensorflow_backend.pyc\u001b[0m in \u001b[0;36m__call__\u001b[0;34m(self, inputs)\u001b[0m\n\u001b[1;32m   2713\u001b[0m                 \u001b[0;32mreturn\u001b[0m \u001b[0mself\u001b[0m\u001b[0;34m.\u001b[0m\u001b[0m_legacy_call\u001b[0m\u001b[0;34m(\u001b[0m\u001b[0minputs\u001b[0m\u001b[0;34m)\u001b[0m\u001b[0;34m\u001b[0m\u001b[0m\n\u001b[1;32m   2714\u001b[0m \u001b[0;34m\u001b[0m\u001b[0m\n\u001b[0;32m-> 2715\u001b[0;31m             \u001b[0;32mreturn\u001b[0m \u001b[0mself\u001b[0m\u001b[0;34m.\u001b[0m\u001b[0m_call\u001b[0m\u001b[0;34m(\u001b[0m\u001b[0minputs\u001b[0m\u001b[0;34m)\u001b[0m\u001b[0;34m\u001b[0m\u001b[0m\n\u001b[0m\u001b[1;32m   2716\u001b[0m         \u001b[0;32melse\u001b[0m\u001b[0;34m:\u001b[0m\u001b[0;34m\u001b[0m\u001b[0m\n\u001b[1;32m   2717\u001b[0m             \u001b[0;32mif\u001b[0m \u001b[0mpy_any\u001b[0m\u001b[0;34m(\u001b[0m\u001b[0mis_tensor\u001b[0m\u001b[0;34m(\u001b[0m\u001b[0mx\u001b[0m\u001b[0;34m)\u001b[0m \u001b[0;32mfor\u001b[0m \u001b[0mx\u001b[0m \u001b[0;32min\u001b[0m \u001b[0minputs\u001b[0m\u001b[0;34m)\u001b[0m\u001b[0;34m:\u001b[0m\u001b[0;34m\u001b[0m\u001b[0m\n",
      "\u001b[0;32m/Users/narunach/anaconda3/envs/molSimplify/lib/python2.7/site-packages/keras/backend/tensorflow_backend.pyc\u001b[0m in \u001b[0;36m_call\u001b[0;34m(self, inputs)\u001b[0m\n\u001b[1;32m   2669\u001b[0m                                 \u001b[0mfeed_symbols\u001b[0m\u001b[0;34m,\u001b[0m\u001b[0;34m\u001b[0m\u001b[0m\n\u001b[1;32m   2670\u001b[0m                                 \u001b[0msymbol_vals\u001b[0m\u001b[0;34m,\u001b[0m\u001b[0;34m\u001b[0m\u001b[0m\n\u001b[0;32m-> 2671\u001b[0;31m                                 session)\n\u001b[0m\u001b[1;32m   2672\u001b[0m         \u001b[0;32mif\u001b[0m \u001b[0mself\u001b[0m\u001b[0;34m.\u001b[0m\u001b[0mrun_metadata\u001b[0m\u001b[0;34m:\u001b[0m\u001b[0;34m\u001b[0m\u001b[0m\n\u001b[1;32m   2673\u001b[0m             \u001b[0mfetched\u001b[0m \u001b[0;34m=\u001b[0m \u001b[0mself\u001b[0m\u001b[0;34m.\u001b[0m\u001b[0m_callable_fn\u001b[0m\u001b[0;34m(\u001b[0m\u001b[0;34m*\u001b[0m\u001b[0marray_vals\u001b[0m\u001b[0;34m,\u001b[0m \u001b[0mrun_metadata\u001b[0m\u001b[0;34m=\u001b[0m\u001b[0mself\u001b[0m\u001b[0;34m.\u001b[0m\u001b[0mrun_metadata\u001b[0m\u001b[0;34m)\u001b[0m\u001b[0;34m\u001b[0m\u001b[0m\n",
      "\u001b[0;32m/Users/narunach/anaconda3/envs/molSimplify/lib/python2.7/site-packages/keras/backend/tensorflow_backend.pyc\u001b[0m in \u001b[0;36m_make_callable\u001b[0;34m(self, feed_arrays, feed_symbols, symbol_vals, session)\u001b[0m\n\u001b[1;32m   2621\u001b[0m             \u001b[0mcallable_opts\u001b[0m\u001b[0;34m.\u001b[0m\u001b[0mrun_options\u001b[0m\u001b[0;34m.\u001b[0m\u001b[0mCopyFrom\u001b[0m\u001b[0;34m(\u001b[0m\u001b[0mself\u001b[0m\u001b[0;34m.\u001b[0m\u001b[0mrun_options\u001b[0m\u001b[0;34m)\u001b[0m\u001b[0;34m\u001b[0m\u001b[0m\n\u001b[1;32m   2622\u001b[0m         \u001b[0;31m# Create callable.\u001b[0m\u001b[0;34m\u001b[0m\u001b[0;34m\u001b[0m\u001b[0m\n\u001b[0;32m-> 2623\u001b[0;31m         \u001b[0mcallable_fn\u001b[0m \u001b[0;34m=\u001b[0m \u001b[0msession\u001b[0m\u001b[0;34m.\u001b[0m\u001b[0m_make_callable_from_options\u001b[0m\u001b[0;34m(\u001b[0m\u001b[0mcallable_opts\u001b[0m\u001b[0;34m)\u001b[0m\u001b[0;34m\u001b[0m\u001b[0m\n\u001b[0m\u001b[1;32m   2624\u001b[0m         \u001b[0;31m# Cache parameters corresponding to the generated callable, so that\u001b[0m\u001b[0;34m\u001b[0m\u001b[0;34m\u001b[0m\u001b[0m\n\u001b[1;32m   2625\u001b[0m         \u001b[0;31m# we can detect future mismatches and refresh the callable.\u001b[0m\u001b[0;34m\u001b[0m\u001b[0;34m\u001b[0m\u001b[0m\n",
      "\u001b[0;32m/Users/narunach/anaconda3/envs/molSimplify/lib/python2.7/site-packages/tensorflow/python/client/session.pyc\u001b[0m in \u001b[0;36m_make_callable_from_options\u001b[0;34m(self, callable_options)\u001b[0m\n\u001b[1;32m   1469\u001b[0m     \"\"\"\n\u001b[1;32m   1470\u001b[0m     \u001b[0mself\u001b[0m\u001b[0;34m.\u001b[0m\u001b[0m_extend_graph\u001b[0m\u001b[0;34m(\u001b[0m\u001b[0;34m)\u001b[0m\u001b[0;34m\u001b[0m\u001b[0m\n\u001b[0;32m-> 1471\u001b[0;31m     \u001b[0;32mreturn\u001b[0m \u001b[0mBaseSession\u001b[0m\u001b[0;34m.\u001b[0m\u001b[0m_Callable\u001b[0m\u001b[0;34m(\u001b[0m\u001b[0mself\u001b[0m\u001b[0;34m,\u001b[0m \u001b[0mcallable_options\u001b[0m\u001b[0;34m)\u001b[0m\u001b[0;34m\u001b[0m\u001b[0m\n\u001b[0m\u001b[1;32m   1472\u001b[0m \u001b[0;34m\u001b[0m\u001b[0m\n\u001b[1;32m   1473\u001b[0m \u001b[0;34m\u001b[0m\u001b[0m\n",
      "\u001b[0;32m/Users/narunach/anaconda3/envs/molSimplify/lib/python2.7/site-packages/tensorflow/python/client/session.pyc\u001b[0m in \u001b[0;36m__init__\u001b[0;34m(self, session, callable_options)\u001b[0m\n\u001b[1;32m   1423\u001b[0m         \u001b[0;32mwith\u001b[0m \u001b[0merrors\u001b[0m\u001b[0;34m.\u001b[0m\u001b[0mraise_exception_on_not_ok_status\u001b[0m\u001b[0;34m(\u001b[0m\u001b[0;34m)\u001b[0m \u001b[0;32mas\u001b[0m \u001b[0mstatus\u001b[0m\u001b[0;34m:\u001b[0m\u001b[0;34m\u001b[0m\u001b[0m\n\u001b[1;32m   1424\u001b[0m           self._handle = tf_session.TF_SessionMakeCallable(\n\u001b[0;32m-> 1425\u001b[0;31m               session._session, options_ptr, status)\n\u001b[0m\u001b[1;32m   1426\u001b[0m       \u001b[0;32mfinally\u001b[0m\u001b[0;34m:\u001b[0m\u001b[0;34m\u001b[0m\u001b[0m\n\u001b[1;32m   1427\u001b[0m         \u001b[0mtf_session\u001b[0m\u001b[0;34m.\u001b[0m\u001b[0mTF_DeleteBuffer\u001b[0m\u001b[0;34m(\u001b[0m\u001b[0moptions_ptr\u001b[0m\u001b[0;34m)\u001b[0m\u001b[0;34m\u001b[0m\u001b[0m\n",
      "\u001b[0;31mKeyboardInterrupt\u001b[0m: "
     ]
    }
   ],
   "source": [
    "# Legacy code from here on out.\n",
    "# Graph convolution model\n",
    "# DO NOT CHANGE this code block.\n",
    "\n",
    "import os\n",
    "os.environ['KMP_DUPLICATE_LIB_OK']='True' # Need if Conda environment isn't resolved properly\n",
    "import keras\n",
    "import sklearn.model_selection\n",
    "import keras.backend as K\n",
    "\n",
    "def stacker(tensorList):\n",
    "    # Stack the bond hidden vectors and atom hidden vectors (29x29x(2*size(atom hidden) + size(bond_hidden)))\n",
    "    bond_hiddens = tensorList[0]\n",
    "    atom_hiddens = tensorList[1]\n",
    "    vertical_atom_hiddens = keras.backend.expand_dims(atom_hiddens,axis=2)\n",
    "    vertical_atom_hiddens_horizontal = keras.backend.repeat_elements(vertical_atom_hiddens,29,2)\n",
    "    horiz_atom_hiddens = keras.backend.expand_dims(atom_hiddens,axis=1)\n",
    "    horiz_atom_hiddens_vertical = keras.backend.repeat_elements(horiz_atom_hiddens,29,1)\n",
    "    \n",
    "    big_hidden_boi = keras.backend.concatenate([vertical_atom_hiddens_horizontal, horiz_atom_hiddens_vertical, bond_hiddens], axis=3)\n",
    "    return big_hidden_boi\n",
    "\n",
    "def summer(tensorList):\n",
    "    # Sums the message matrix (29x29x(size(message)))\n",
    "    messages = tensorList[0]\n",
    "    connectivity = tensorList[1]\n",
    "    # Zero out all unconnected messages\n",
    "    connectivity_expanded = keras.backend.expand_dims(connectivity, axis=3)\n",
    "    # Add all messages horizontally (29xsize(message))\n",
    "    filtered = messages*connectivity_expanded # note: * is element-wise, keras.dot is matrix multiplication\n",
    "    summed_horiz = keras.backend.sum(filtered, axis=2)\n",
    "    return summed_horiz\n",
    "\n",
    "def image_categorical_crossentropy(y_true, y_pred):\n",
    "    # Boilerplate off the internet to do crossentropy for multi-classification tasks,\n",
    "    # in this case assigning one-hot atom labels to atoms\n",
    "    __EPS = 1e-5\n",
    "    y_pred = K.clip(y_pred, __EPS, 1 - __EPS)\n",
    "    return -K.mean(y_true * K.log(y_pred) + (1 - y_true) * K.log(1 - y_pred))\n",
    "\n",
    "def generate_gc_model(num_nodes=29, atom_hidden_length=6, bond_hidden_length=4, hide_atoms=False,\\\n",
    "                      message_dense_resize=None, atom_dense_resize=None, do_readout = False):\n",
    "    bond_hiddens_input = keras.layers.Input(shape=(num_nodes,num_nodes,bond_hidden_length))\n",
    "    atom_hiddens_input = keras.layers.Input(shape=(num_nodes,atom_hidden_length))\n",
    "    connectivity_input = keras.layers.Input(shape=(num_nodes,num_nodes))\n",
    "    \n",
    "    # For JP's task\n",
    "    if hide_atoms:\n",
    "        atom_hiddens = keras.layers.Lambda(lambda x: x*0.0)(atom_hiddens_input) # For JP's exercise - eliminate atom info.\n",
    "    else:\n",
    "        atom_hiddens = atom_hiddens_input\n",
    "    \n",
    "    message_stack = keras.layers.Lambda(stacker)([bond_hiddens_input, atom_hiddens])\n",
    "    \n",
    "    # Should we dense the total hidden vector?\n",
    "    if message_dense_resize != None:\n",
    "        messages = keras.layers.Dense(message_dense_resize, activation='relu')(message_stack)\n",
    "    else:\n",
    "        messages = message_stack\n",
    "    \n",
    "    message_sum = keras.layers.Lambda(summer)([messages, connectivity_input])\n",
    "    \n",
    "    # Should we dense the atom hidden vector?\n",
    "    if atom_dense_resize != None:\n",
    "        message_interpret = keras.layers.Dense(atom_dense_resize, activation='relu')(message_sum)\n",
    "    else:\n",
    "        message_interpret = message_sum\n",
    "    \n",
    "    if do_readout:\n",
    "        raise ValueError('Not supported yet.')\n",
    "    else:\n",
    "        message_to_onehot = keras.layers.Dense(atom_hidden_length, activation='softmax')(message_interpret)\n",
    "        model = keras.models.Model(inputs=[bond_hiddens_input, atom_hiddens_input, connectivity_input], outputs=[bond_hiddens_input, message_to_onehot, connectivity_input])\n",
    "        return model\n",
    "'''\n",
    "bond_hiddens_input = keras.layers.Input(shape=(29,29,4)) # For now, has the same dimension as bond feature vector\n",
    "atom_hiddens_input = keras.layers.Input(shape=(29,6)) # For now, has the same dimension as atom feature vector\n",
    "atom_hiddens_zeroed = keras.layers.Lambda(lambda x: x*0.0)(atom_hiddens_input) # For JP's exercise - eliminate atom info.\n",
    "connectivity_input = keras.layers.Input(shape=(29,29))\n",
    "\n",
    "message_stack = keras.layers.Lambda(stacker)([bond_hiddens_input, atom_hiddens_zeroed])\n",
    "\n",
    "# You can use an NN on all 29*29 concatenated hidden vectors\n",
    "#messages = keras.layers.Dense(30, activation='relu')(message_stack)\n",
    "\n",
    "message_sum = keras.layers.Lambda(summer)([message_stack, connectivity_input])\n",
    "\n",
    "# You can use an NN on all 29 messages (each message is a sum of incoming messages)\n",
    "message_interpret = keras.layers.Dense(6, activation='tanh')(message_sum)\n",
    "\n",
    "# Read out the atom identities\n",
    "message_to_onehot = keras.layers.Dense(6, activation='softmax')(message_interpret)\n",
    "\n",
    "model = keras.models.Model(inputs=[bond_hiddens_input, atom_hiddens_input, connectivity_input], outputs=message_to_onehot)\n",
    "\n",
    "model.compile(optimizer='adam',\n",
    "              loss=image_categorical_crossentropy,\n",
    "              metrics=['mean_squared_error', 'mean_absolute_error','categorical_crossentropy'])\n",
    "'''\n",
    "\n",
    "num_nodes = 29\n",
    "bond_hidden_length = 4\n",
    "atom_hidden_length = 6\n",
    "\n",
    "bond_hiddens_input = keras.layers.Input(shape=(num_nodes,num_nodes,bond_hidden_length))\n",
    "atom_hiddens_input = keras.layers.Input(shape=(num_nodes,atom_hidden_length))\n",
    "connectivity_input = keras.layers.Input(shape=(num_nodes,num_nodes))\n",
    "\n",
    "gcModel = generate_gc_model(num_nodes=29, atom_hidden_length=6, bond_hidden_length=4, hide_atoms=True,\\\n",
    "                    message_dense_resize=None, atom_dense_resize=100, do_readout = False)\n",
    "\n",
    "post_gc = gcModel([bond_hiddens_input, atom_hiddens_input, connectivity_input])\n",
    "\n",
    "biggerModel = keras.models.Model(inputs=[bond_hiddens_input, atom_hiddens_input, connectivity_input], outputs=post_gc[1])\n",
    "biggerModel.compile(optimizer='adam',\n",
    "              loss=image_categorical_crossentropy,\n",
    "              metrics=['mean_squared_error', 'mean_absolute_error','categorical_crossentropy'])\n",
    "\n",
    "inputObjects = [[matrix, header, connectivity] for matrix, header, connectivity in zip(matrices_padded, headers_padded, connectivities_padded)]\n",
    "X_train, X_test, y_train, y_test = sklearn.model_selection.train_test_split(inputObjects, headers_padded, test_size=0.33)\n",
    "\n",
    "biggerModel.fit(map(list,zip(*X_train)), y_train, epochs=30, verbose=True)"
   ]
  },
  {
   "cell_type": "code",
   "execution_count": 37,
   "metadata": {
    "collapsed": false
   },
   "outputs": [
    {
     "data": {
      "text/plain": [
       "445"
      ]
     },
     "execution_count": 37,
     "metadata": {},
     "output_type": "execute_result"
    }
   ],
   "source": [
    "len(map(list,zip(*X_train))[0])"
   ]
  },
  {
   "cell_type": "code",
   "execution_count": 40,
   "metadata": {
    "collapsed": false
   },
   "outputs": [
    {
     "data": {
      "text/plain": [
       "array([[2745,    0,    0,    0,    0,    0],\n",
       "       [   0, 1755,    0,    0,    0,    0],\n",
       "       [   0,    0, 1257,    4,    0,    0],\n",
       "       [   0,   15,  132,  117,    2,    0],\n",
       "       [   0,  212,    0,    0,  128,    0],\n",
       "       [   0,   13,    0,    0,    0,    0]])"
      ]
     },
     "metadata": {},
     "output_type": "display_data"
    },
    {
     "data": {
      "image/png": "[encoded data removed]",
      "text/plain": [
       "<Figure size 432x288 with 2 Axes>"
      ]
     },
     "metadata": {
      "needs_background": "light"
     },
     "output_type": "display_data"
    }
   ],
   "source": [
    "# Print confusion matrix\n",
    "\n",
    "import sklearn.metrics\n",
    "import matplotlib.pyplot as plt\n",
    "import seaborn as sn\n",
    "\n",
    "y_pred = np.ndarray.flatten(np.argmax(biggerModel.predict(map(list,zip(*X_test))), axis=2))\n",
    "y_true = np.ndarray.flatten(np.argmax(y_test, axis=2))\n",
    "confusion = sklearn.metrics.confusion_matrix(y_true, y_pred).astype(float)\n",
    "normalize_confusion = confusion/np.array([np.sum(confusion,axis=1)]).T\n",
    "sn.heatmap(confusion)\n",
    "display(confusion.astype(int))"
   ]
  },
  {
   "cell_type": "code",
   "execution_count": 241,
   "metadata": {
    "collapsed": false
   },
   "outputs": [
    {
     "data": {
      "text/plain": [
       "144"
      ]
     },
     "execution_count": 241,
     "metadata": {},
     "output_type": "execute_result"
    }
   ],
   "source": [
    "model.count_params()"
   ]
  },
  {
   "cell_type": "code",
   "execution_count": null,
   "metadata": {
    "collapsed": true
   },
   "outputs": [],
   "source": [
    "# Everything after this is trash lol"
   ]
  },
  {
   "cell_type": "code",
   "execution_count": null,
   "metadata": {
    "collapsed": true
   },
   "outputs": [],
   "source": []
  },
  {
   "cell_type": "code",
   "execution_count": null,
   "metadata": {
    "collapsed": true
   },
   "outputs": [],
   "source": []
  },
  {
   "cell_type": "code",
   "execution_count": 208,
   "metadata": {
    "collapsed": false
   },
   "outputs": [
    {
     "name": "stdout",
     "output_type": "stream",
     "text": [
      "[2 4 4 2 4 2 4 4 1 1 1 1 0 0 0 0 0 0 0 0 0 0 0 0 0 0 0 0 0]\n",
      "[4 2 2 4 2 4 2 2 1 1 1 1 0 0 0 0 0 0 0 0 0 0 0 0 0 0 0 0 0]\n"
     ]
    }
   ],
   "source": [
    "header_vec = np.zeros(headers_padded[0].shape)\n",
    "connectivity_graph = connectivities_padded[0]\n",
    "bondmat = matrices_padded[0]\n",
    "\n",
    "horiz_repeat = np.repeat(np.expand_dims(header_vec, axis=1), 29, axis=1)\n",
    "vert_repeat = np.repeat(np.expand_dims(header_vec, axis=0), 29, axis=0)\n",
    "combined = np.concatenate([horiz_repeat, vert_repeat,bondmat],axis=2)\n",
    "mystates = np.sum(combined * np.expand_dims(connectivity_graph, axis=2), axis=1)\n",
    "print (mystates[:,-3]+2*mystates[:,-2]+3*mystates[:,-1]).astype(int)\n",
    "print np.argmax(headers_padded[0], axis=1)"
   ]
  },
  {
   "cell_type": "code",
   "execution_count": 205,
   "metadata": {
    "collapsed": false
   },
   "outputs": [
    {
     "data": {
      "image/png": "[encoded data removed]",
      "text/plain": [
       "<rdkit.Chem.rdchem.RWMol at 0x1a66a82cb0>"
      ]
     },
     "execution_count": 205,
     "metadata": {},
     "output_type": "execute_result"
    }
   ],
   "source": [
    "import rdkit.Chem as Chem\n",
    "from rdkit.Chem.Draw import IPythonConsole #Needed to show molecules\n",
    "\n",
    "def fingerprint_to_rdmol(header, bondmat):\n",
    "    rdmol = Chem.RWMol()\n",
    "    indices = []\n",
    "    numAtoms = len(header)\n",
    "    atomDict = {1: 'H', 6: 'C', 7: 'N', 8: 'O', 9: 'F'}\n",
    "    for i in header:\n",
    "        if i != 0:\n",
    "            indices = indices + [rdmol.AddAtom(Chem.Atom(atomDict[i]))]\n",
    "    for j in range(numAtoms):\n",
    "        for k in range(j, numAtoms):\n",
    "            bondOrder = bondmat[j][k]\n",
    "            if bondOrder == 7 or bondOrder == 9:\n",
    "                #print \"delocalized or Pi bond... unhandled\"\n",
    "                raise ValueError(\"delocalized or Pi bond... unhandled\")\n",
    "            bondTypes = Chem.rdchem.BondType\n",
    "            bondOrders = {1:bondTypes.SINGLE, 2:bondTypes.DOUBLE, 3:bondTypes.TRIPLE,\n",
    "                          4:bondTypes.QUADRUPLE, 5:bondTypes.AROMATIC, 7:bondTypes.AROMATIC, 9:bondTypes.AROMATIC}\n",
    "            if bondOrder in bondOrders:\n",
    "                rdmol.AddBond(indices[j], indices[k], bondOrders[bondOrder])\n",
    "    return rdmol\n",
    "fingerprint_to_rdmol(origHeaders_padded[4],origMatrices_padded[4])"
   ]
  },
  {
   "cell_type": "code",
   "execution_count": 212,
   "metadata": {
    "collapsed": false
   },
   "outputs": [
    {
     "data": {
      "text/plain": [
       "<matplotlib.axes._subplots.AxesSubplot at 0x1a72154610>"
      ]
     },
     "execution_count": 212,
     "metadata": {},
     "output_type": "execute_result"
    },
    {
     "data": {
      "image/png": "[encoded data removed]",
      "text/plain": [
       "<Figure size 432x288 with 2 Axes>"
      ]
     },
     "metadata": {
      "needs_background": "light"
     },
     "output_type": "display_data"
    },
    {
     "data": {
      "image/png": "[encoded data removed]",
      "text/plain": [
       "<Figure size 432x288 with 2 Axes>"
      ]
     },
     "metadata": {
      "needs_background": "light"
     },
     "output_type": "display_data"
    }
   ],
   "source": [
    "sampleNum = 4\n",
    "prediction = model.predict([matrices_padded[sampleNum:sampleNum+1], headers_padded[sampleNum:sampleNum+1], connectivities_padded[sampleNum:sampleNum+1]])\n",
    "sn.heatmap(prediction[0])\n",
    "plt.figure()\n",
    "sn.heatmap(headers_padded[sampleNum])"
   ]
  },
  {
   "cell_type": "code",
   "execution_count": 243,
   "metadata": {
    "collapsed": false
   },
   "outputs": [
    {
     "name": "stdout",
     "output_type": "stream",
     "text": [
      "585510\n",
      "Epoch 1/300\n"
     ]
    },
    {
     "ename": "KeyboardInterrupt",
     "evalue": "",
     "output_type": "error",
     "traceback": [
      "\u001b[0;31m---------------------------------------------------------------------------\u001b[0m",
      "\u001b[0;31mKeyboardInterrupt\u001b[0m                         Traceback (most recent call last)",
      "\u001b[0;32m<ipython-input-243-dcce80e32ed0>\u001b[0m in \u001b[0;36m<module>\u001b[0;34m()\u001b[0m\n\u001b[1;32m     20\u001b[0m               metrics=['mean_squared_error', 'mean_absolute_error','categorical_crossentropy'])\n\u001b[1;32m     21\u001b[0m \u001b[0;32mprint\u001b[0m \u001b[0mmodel\u001b[0m\u001b[0;34m.\u001b[0m\u001b[0mcount_params\u001b[0m\u001b[0;34m(\u001b[0m\u001b[0;34m)\u001b[0m\u001b[0;34m\u001b[0m\u001b[0m\n\u001b[0;32m---> 22\u001b[0;31m \u001b[0mmodel\u001b[0m\u001b[0;34m.\u001b[0m\u001b[0mfit\u001b[0m\u001b[0;34m(\u001b[0m\u001b[0mX_train\u001b[0m\u001b[0;34m,\u001b[0m \u001b[0my_train\u001b[0m\u001b[0;34m,\u001b[0m \u001b[0mepochs\u001b[0m\u001b[0;34m=\u001b[0m\u001b[0;36m300\u001b[0m\u001b[0;34m,\u001b[0m \u001b[0mverbose\u001b[0m\u001b[0;34m=\u001b[0m\u001b[0mTrue\u001b[0m\u001b[0;34m)\u001b[0m\u001b[0;34m\u001b[0m\u001b[0m\n\u001b[0m\u001b[1;32m     23\u001b[0m \u001b[0;34m\u001b[0m\u001b[0m\n",
      "\u001b[0;32m/Users/narunach/anaconda3/envs/molSimplify/lib/python2.7/site-packages/keras/engine/training.pyc\u001b[0m in \u001b[0;36mfit\u001b[0;34m(self, x, y, batch_size, epochs, verbose, callbacks, validation_split, validation_data, shuffle, class_weight, sample_weight, initial_epoch, steps_per_epoch, validation_steps, **kwargs)\u001b[0m\n\u001b[1;32m   1037\u001b[0m                                         \u001b[0minitial_epoch\u001b[0m\u001b[0;34m=\u001b[0m\u001b[0minitial_epoch\u001b[0m\u001b[0;34m,\u001b[0m\u001b[0;34m\u001b[0m\u001b[0m\n\u001b[1;32m   1038\u001b[0m                                         \u001b[0msteps_per_epoch\u001b[0m\u001b[0;34m=\u001b[0m\u001b[0msteps_per_epoch\u001b[0m\u001b[0;34m,\u001b[0m\u001b[0;34m\u001b[0m\u001b[0m\n\u001b[0;32m-> 1039\u001b[0;31m                                         validation_steps=validation_steps)\n\u001b[0m\u001b[1;32m   1040\u001b[0m \u001b[0;34m\u001b[0m\u001b[0m\n\u001b[1;32m   1041\u001b[0m     def evaluate(self, x=None, y=None,\n",
      "\u001b[0;32m/Users/narunach/anaconda3/envs/molSimplify/lib/python2.7/site-packages/keras/engine/training_arrays.pyc\u001b[0m in \u001b[0;36mfit_loop\u001b[0;34m(model, f, ins, out_labels, batch_size, epochs, verbose, callbacks, val_f, val_ins, shuffle, callback_metrics, initial_epoch, steps_per_epoch, validation_steps)\u001b[0m\n\u001b[1;32m    197\u001b[0m                     \u001b[0mins_batch\u001b[0m\u001b[0;34m[\u001b[0m\u001b[0mi\u001b[0m\u001b[0;34m]\u001b[0m \u001b[0;34m=\u001b[0m \u001b[0mins_batch\u001b[0m\u001b[0;34m[\u001b[0m\u001b[0mi\u001b[0m\u001b[0;34m]\u001b[0m\u001b[0;34m.\u001b[0m\u001b[0mtoarray\u001b[0m\u001b[0;34m(\u001b[0m\u001b[0;34m)\u001b[0m\u001b[0;34m\u001b[0m\u001b[0m\n\u001b[1;32m    198\u001b[0m \u001b[0;34m\u001b[0m\u001b[0m\n\u001b[0;32m--> 199\u001b[0;31m                 \u001b[0mouts\u001b[0m \u001b[0;34m=\u001b[0m \u001b[0mf\u001b[0m\u001b[0;34m(\u001b[0m\u001b[0mins_batch\u001b[0m\u001b[0;34m)\u001b[0m\u001b[0;34m\u001b[0m\u001b[0m\n\u001b[0m\u001b[1;32m    200\u001b[0m                 \u001b[0mouts\u001b[0m \u001b[0;34m=\u001b[0m \u001b[0mto_list\u001b[0m\u001b[0;34m(\u001b[0m\u001b[0mouts\u001b[0m\u001b[0;34m)\u001b[0m\u001b[0;34m\u001b[0m\u001b[0m\n\u001b[1;32m    201\u001b[0m                 \u001b[0;32mfor\u001b[0m \u001b[0ml\u001b[0m\u001b[0;34m,\u001b[0m \u001b[0mo\u001b[0m \u001b[0;32min\u001b[0m \u001b[0mzip\u001b[0m\u001b[0;34m(\u001b[0m\u001b[0mout_labels\u001b[0m\u001b[0;34m,\u001b[0m \u001b[0mouts\u001b[0m\u001b[0;34m)\u001b[0m\u001b[0;34m:\u001b[0m\u001b[0;34m\u001b[0m\u001b[0m\n",
      "\u001b[0;32m/Users/narunach/anaconda3/envs/molSimplify/lib/python2.7/site-packages/keras/backend/tensorflow_backend.pyc\u001b[0m in \u001b[0;36m__call__\u001b[0;34m(self, inputs)\u001b[0m\n\u001b[1;32m   2713\u001b[0m                 \u001b[0;32mreturn\u001b[0m \u001b[0mself\u001b[0m\u001b[0;34m.\u001b[0m\u001b[0m_legacy_call\u001b[0m\u001b[0;34m(\u001b[0m\u001b[0minputs\u001b[0m\u001b[0;34m)\u001b[0m\u001b[0;34m\u001b[0m\u001b[0m\n\u001b[1;32m   2714\u001b[0m \u001b[0;34m\u001b[0m\u001b[0m\n\u001b[0;32m-> 2715\u001b[0;31m             \u001b[0;32mreturn\u001b[0m \u001b[0mself\u001b[0m\u001b[0;34m.\u001b[0m\u001b[0m_call\u001b[0m\u001b[0;34m(\u001b[0m\u001b[0minputs\u001b[0m\u001b[0;34m)\u001b[0m\u001b[0;34m\u001b[0m\u001b[0m\n\u001b[0m\u001b[1;32m   2716\u001b[0m         \u001b[0;32melse\u001b[0m\u001b[0;34m:\u001b[0m\u001b[0;34m\u001b[0m\u001b[0m\n\u001b[1;32m   2717\u001b[0m             \u001b[0;32mif\u001b[0m \u001b[0mpy_any\u001b[0m\u001b[0;34m(\u001b[0m\u001b[0mis_tensor\u001b[0m\u001b[0;34m(\u001b[0m\u001b[0mx\u001b[0m\u001b[0;34m)\u001b[0m \u001b[0;32mfor\u001b[0m \u001b[0mx\u001b[0m \u001b[0;32min\u001b[0m \u001b[0minputs\u001b[0m\u001b[0;34m)\u001b[0m\u001b[0;34m:\u001b[0m\u001b[0;34m\u001b[0m\u001b[0m\n",
      "\u001b[0;32m/Users/narunach/anaconda3/envs/molSimplify/lib/python2.7/site-packages/keras/backend/tensorflow_backend.pyc\u001b[0m in \u001b[0;36m_call\u001b[0;34m(self, inputs)\u001b[0m\n\u001b[1;32m   2669\u001b[0m                                 \u001b[0mfeed_symbols\u001b[0m\u001b[0;34m,\u001b[0m\u001b[0;34m\u001b[0m\u001b[0m\n\u001b[1;32m   2670\u001b[0m                                 \u001b[0msymbol_vals\u001b[0m\u001b[0;34m,\u001b[0m\u001b[0;34m\u001b[0m\u001b[0m\n\u001b[0;32m-> 2671\u001b[0;31m                                 session)\n\u001b[0m\u001b[1;32m   2672\u001b[0m         \u001b[0;32mif\u001b[0m \u001b[0mself\u001b[0m\u001b[0;34m.\u001b[0m\u001b[0mrun_metadata\u001b[0m\u001b[0;34m:\u001b[0m\u001b[0;34m\u001b[0m\u001b[0m\n\u001b[1;32m   2673\u001b[0m             \u001b[0mfetched\u001b[0m \u001b[0;34m=\u001b[0m \u001b[0mself\u001b[0m\u001b[0;34m.\u001b[0m\u001b[0m_callable_fn\u001b[0m\u001b[0;34m(\u001b[0m\u001b[0;34m*\u001b[0m\u001b[0marray_vals\u001b[0m\u001b[0;34m,\u001b[0m \u001b[0mrun_metadata\u001b[0m\u001b[0;34m=\u001b[0m\u001b[0mself\u001b[0m\u001b[0;34m.\u001b[0m\u001b[0mrun_metadata\u001b[0m\u001b[0;34m)\u001b[0m\u001b[0;34m\u001b[0m\u001b[0m\n",
      "\u001b[0;32m/Users/narunach/anaconda3/envs/molSimplify/lib/python2.7/site-packages/keras/backend/tensorflow_backend.pyc\u001b[0m in \u001b[0;36m_make_callable\u001b[0;34m(self, feed_arrays, feed_symbols, symbol_vals, session)\u001b[0m\n\u001b[1;32m   2621\u001b[0m             \u001b[0mcallable_opts\u001b[0m\u001b[0;34m.\u001b[0m\u001b[0mrun_options\u001b[0m\u001b[0;34m.\u001b[0m\u001b[0mCopyFrom\u001b[0m\u001b[0;34m(\u001b[0m\u001b[0mself\u001b[0m\u001b[0;34m.\u001b[0m\u001b[0mrun_options\u001b[0m\u001b[0;34m)\u001b[0m\u001b[0;34m\u001b[0m\u001b[0m\n\u001b[1;32m   2622\u001b[0m         \u001b[0;31m# Create callable.\u001b[0m\u001b[0;34m\u001b[0m\u001b[0;34m\u001b[0m\u001b[0m\n\u001b[0;32m-> 2623\u001b[0;31m         \u001b[0mcallable_fn\u001b[0m \u001b[0;34m=\u001b[0m \u001b[0msession\u001b[0m\u001b[0;34m.\u001b[0m\u001b[0m_make_callable_from_options\u001b[0m\u001b[0;34m(\u001b[0m\u001b[0mcallable_opts\u001b[0m\u001b[0;34m)\u001b[0m\u001b[0;34m\u001b[0m\u001b[0m\n\u001b[0m\u001b[1;32m   2624\u001b[0m         \u001b[0;31m# Cache parameters corresponding to the generated callable, so that\u001b[0m\u001b[0;34m\u001b[0m\u001b[0;34m\u001b[0m\u001b[0m\n\u001b[1;32m   2625\u001b[0m         \u001b[0;31m# we can detect future mismatches and refresh the callable.\u001b[0m\u001b[0;34m\u001b[0m\u001b[0;34m\u001b[0m\u001b[0m\n",
      "\u001b[0;32m/Users/narunach/anaconda3/envs/molSimplify/lib/python2.7/site-packages/tensorflow/python/client/session.pyc\u001b[0m in \u001b[0;36m_make_callable_from_options\u001b[0;34m(self, callable_options)\u001b[0m\n\u001b[1;32m   1469\u001b[0m     \"\"\"\n\u001b[1;32m   1470\u001b[0m     \u001b[0mself\u001b[0m\u001b[0;34m.\u001b[0m\u001b[0m_extend_graph\u001b[0m\u001b[0;34m(\u001b[0m\u001b[0;34m)\u001b[0m\u001b[0;34m\u001b[0m\u001b[0m\n\u001b[0;32m-> 1471\u001b[0;31m     \u001b[0;32mreturn\u001b[0m \u001b[0mBaseSession\u001b[0m\u001b[0;34m.\u001b[0m\u001b[0m_Callable\u001b[0m\u001b[0;34m(\u001b[0m\u001b[0mself\u001b[0m\u001b[0;34m,\u001b[0m \u001b[0mcallable_options\u001b[0m\u001b[0;34m)\u001b[0m\u001b[0;34m\u001b[0m\u001b[0m\n\u001b[0m\u001b[1;32m   1472\u001b[0m \u001b[0;34m\u001b[0m\u001b[0m\n\u001b[1;32m   1473\u001b[0m \u001b[0;34m\u001b[0m\u001b[0m\n",
      "\u001b[0;32m/Users/narunach/anaconda3/envs/molSimplify/lib/python2.7/site-packages/tensorflow/python/client/session.pyc\u001b[0m in \u001b[0;36m__init__\u001b[0;34m(self, session, callable_options)\u001b[0m\n\u001b[1;32m   1423\u001b[0m         \u001b[0;32mwith\u001b[0m \u001b[0merrors\u001b[0m\u001b[0;34m.\u001b[0m\u001b[0mraise_exception_on_not_ok_status\u001b[0m\u001b[0;34m(\u001b[0m\u001b[0;34m)\u001b[0m \u001b[0;32mas\u001b[0m \u001b[0mstatus\u001b[0m\u001b[0;34m:\u001b[0m\u001b[0;34m\u001b[0m\u001b[0m\n\u001b[1;32m   1424\u001b[0m           self._handle = tf_session.TF_SessionMakeCallable(\n\u001b[0;32m-> 1425\u001b[0;31m               session._session, options_ptr, status)\n\u001b[0m\u001b[1;32m   1426\u001b[0m       \u001b[0;32mfinally\u001b[0m\u001b[0;34m:\u001b[0m\u001b[0;34m\u001b[0m\u001b[0m\n\u001b[1;32m   1427\u001b[0m         \u001b[0mtf_session\u001b[0m\u001b[0;34m.\u001b[0m\u001b[0mTF_DeleteBuffer\u001b[0m\u001b[0;34m(\u001b[0m\u001b[0moptions_ptr\u001b[0m\u001b[0;34m)\u001b[0m\u001b[0;34m\u001b[0m\u001b[0m\n",
      "\u001b[0;31mKeyboardInterrupt\u001b[0m: "
     ]
    }
   ],
   "source": [
    "# How good is a \"dumb\" fully-connected network followed by softmax? Pretty good, it seems...\n",
    "\n",
    "\n",
    "X_train, X_test, y_train, y_test = sklearn.model_selection.train_test_split(matrices_padded, headers_padded, test_size=0.33)\n",
    "\n",
    "inputLayer = keras.layers.Input(shape=(29,29,4))\n",
    "flattenLayer = keras.layers.Flatten()(inputLayer)\n",
    "denseLayer = keras.layers.Dense(29*6,activation='relu')(flattenLayer)\n",
    "reshapeLayer = keras.layers.Reshape((29,6))(denseLayer)\n",
    "choiceLayer = keras.layers.Softmax(axis=2)(reshapeLayer)\n",
    "\n",
    "\n",
    "model = keras.models.Model(inputs=inputLayer, outputs=choiceLayer)\n",
    "\n",
    "model.compile(optimizer='adam',\n",
    "              loss='categorical_crossentropy',\n",
    "              metrics=['mean_squared_error', 'mean_absolute_error','categorical_crossentropy'])\n",
    "print model.count_params()\n",
    "model.fit(X_train, y_train, epochs=300, verbose=True)\n",
    "\n"
   ]
  },
  {
   "cell_type": "code",
   "execution_count": 214,
   "metadata": {
    "collapsed": false
   },
   "outputs": [
    {
     "data": {
      "text/plain": [
       "array([[2596,   32,    0,    0,    0,    0],\n",
       "       [ 137, 1712,    4,    0,    0,    0],\n",
       "       [ 485,    1,  807,    8,    0,    0],\n",
       "       [ 127,    6,   77,   14,   16,    0],\n",
       "       [ 230,   11,   35,   15,   54,    0],\n",
       "       [  10,    1,    0,    1,    1,    0]])"
      ]
     },
     "metadata": {},
     "output_type": "display_data"
    },
    {
     "data": {
      "image/png": "[encoded data removed]",
      "text/plain": [
       "<Figure size 432x288 with 2 Axes>"
      ]
     },
     "metadata": {
      "needs_background": "light"
     },
     "output_type": "display_data"
    }
   ],
   "source": [
    "import sklearn.metrics\n",
    "import matplotlib.pyplot as plt\n",
    "import seaborn as sn\n",
    "\n",
    "y_pred = np.ndarray.flatten(np.argmax(model.predict(X_test), axis=2))\n",
    "y_true = np.ndarray.flatten(np.argmax(y_test, axis=2))\n",
    "confusion = sklearn.metrics.confusion_matrix(y_true, y_pred).astype(float)\n",
    "normalize_confusion = confusion/np.array([np.sum(confusion,axis=1)]).T\n",
    "sn.heatmap(confusion)\n",
    "display(confusion.astype(int))"
   ]
  },
  {
   "cell_type": "code",
   "execution_count": 26,
   "metadata": {
    "collapsed": false
   },
   "outputs": [
    {
     "data": {
      "text/plain": [
       "array([[8001,  204,    1,    0,    0,    0],\n",
       "       [2445, 2884,   26,    0,    1,    0],\n",
       "       [ 477,    1, 3333,    9,    2,    0],\n",
       "       [ 131,   13,  505,   58,   98,    0],\n",
       "       [ 239,    2,  244,   13,  567,    0],\n",
       "       [   8,    0,    6,    0,   17,    0]])"
      ]
     },
     "execution_count": 26,
     "metadata": {},
     "output_type": "execute_result"
    }
   ],
   "source": []
  },
  {
   "cell_type": "code",
   "execution_count": 190,
   "metadata": {
    "collapsed": false
   },
   "outputs": [
    {
     "data": {
      "text/plain": [
       "[4, 4]"
      ]
     },
     "execution_count": 190,
     "metadata": {},
     "output_type": "execute_result"
    }
   ],
   "source": [
    "array_cohort = [np.zeros((np.random.randint(5),np.random.randint(5))) for _ in range(200)]\n"
   ]
  },
  {
   "cell_type": "code",
   "execution_count": null,
   "metadata": {
    "collapsed": true
   },
   "outputs": [],
   "source": []
  },
  {
   "cell_type": "code",
   "execution_count": null,
   "metadata": {
    "collapsed": true
   },
   "outputs": [],
   "source": []
  },
  {
   "cell_type": "code",
   "execution_count": null,
   "metadata": {
    "collapsed": true
   },
   "outputs": [],
   "source": []
  },
  {
   "cell_type": "code",
   "execution_count": null,
   "metadata": {
    "collapsed": true
   },
   "outputs": [],
   "source": []
  },
  {
   "cell_type": "code",
   "execution_count": null,
   "metadata": {
    "collapsed": true
   },
   "outputs": [],
   "source": []
  },
  {
   "cell_type": "code",
   "execution_count": null,
   "metadata": {
    "collapsed": true
   },
   "outputs": [],
   "source": []
  },
  {
   "cell_type": "code",
   "execution_count": null,
   "metadata": {
    "collapsed": true
   },
   "outputs": [],
   "source": []
  },
  {
   "cell_type": "code",
   "execution_count": 6,
   "metadata": {
    "collapsed": false
   },
   "outputs": [
    {
     "name": "stdout",
     "output_type": "stream",
     "text": [
      "Epoch 1/250\n",
      "1/1 [==============================] - 1s 673ms/step - loss: 90.4713 - mean_squared_error: 90.4713 - mean_absolute_error: 8.8135\n",
      "Epoch 2/250\n",
      "1/1 [==============================] - 0s 3ms/step - loss: 76.2980 - mean_squared_error: 76.2980 - mean_absolute_error: 8.0571\n",
      "Epoch 3/250\n",
      "1/1 [==============================] - 0s 3ms/step - loss: 67.5285 - mean_squared_error: 67.5285 - mean_absolute_error: 7.5781\n",
      "Epoch 4/250\n",
      "1/1 [==============================] - 0s 3ms/step - loss: 61.0061 - mean_squared_error: 61.0061 - mean_absolute_error: 7.2016\n",
      "Epoch 5/250\n",
      "1/1 [==============================] - 0s 2ms/step - loss: 55.7775 - mean_squared_error: 55.7775 - mean_absolute_error: 6.8856\n",
      "Epoch 6/250\n",
      "1/1 [==============================] - 0s 2ms/step - loss: 51.4083 - mean_squared_error: 51.4083 - mean_absolute_error: 6.6101\n",
      "Epoch 7/250\n",
      "1/1 [==============================] - 0s 2ms/step - loss: 47.6589 - mean_squared_error: 47.6589 - mean_absolute_error: 6.3641\n",
      "Epoch 8/250\n",
      "1/1 [==============================] - 0s 2ms/step - loss: 44.3813 - mean_squared_error: 44.3813 - mean_absolute_error: 6.1408\n",
      "Epoch 9/250\n",
      "1/1 [==============================] - 0s 2ms/step - loss: 41.4766 - mean_squared_error: 41.4766 - mean_absolute_error: 5.9357\n",
      "Epoch 10/250\n",
      "1/1 [==============================] - 0s 2ms/step - loss: 38.8753 - mean_squared_error: 38.8753 - mean_absolute_error: 5.7456\n",
      "Epoch 11/250\n",
      "1/1 [==============================] - 0s 2ms/step - loss: 36.5260 - mean_squared_error: 36.5260 - mean_absolute_error: 5.5680\n",
      "Epoch 12/250\n",
      "1/1 [==============================] - 0s 2ms/step - loss: 34.3899 - mean_squared_error: 34.3899 - mean_absolute_error: 5.4014\n",
      "Epoch 13/250\n",
      "1/1 [==============================] - 0s 2ms/step - loss: 32.4365 - mean_squared_error: 32.4365 - mean_absolute_error: 5.2442\n",
      "Epoch 14/250\n",
      "1/1 [==============================] - 0s 2ms/step - loss: 30.6416 - mean_squared_error: 30.6416 - mean_absolute_error: 5.0954\n",
      "Epoch 15/250\n",
      "1/1 [==============================] - 0s 2ms/step - loss: 28.9858 - mean_squared_error: 28.9858 - mean_absolute_error: 4.9540\n",
      "Epoch 16/250\n",
      "1/1 [==============================] - 0s 2ms/step - loss: 27.4528 - mean_squared_error: 27.4528 - mean_absolute_error: 4.8193\n",
      "Epoch 17/250\n",
      "1/1 [==============================] - 0s 3ms/step - loss: 26.0291 - mean_squared_error: 26.0291 - mean_absolute_error: 4.6907\n",
      "Epoch 18/250\n",
      "1/1 [==============================] - 0s 2ms/step - loss: 24.7033 - mean_squared_error: 24.7033 - mean_absolute_error: 4.5677\n",
      "Epoch 19/250\n",
      "1/1 [==============================] - 0s 2ms/step - loss: 23.4658 - mean_squared_error: 23.4658 - mean_absolute_error: 4.4497\n",
      "Epoch 20/250\n",
      "1/1 [==============================] - 0s 3ms/step - loss: 22.3081 - mean_squared_error: 22.3081 - mean_absolute_error: 4.3364\n",
      "Epoch 21/250\n",
      "1/1 [==============================] - 0s 3ms/step - loss: 21.2232 - mean_squared_error: 21.2232 - mean_absolute_error: 4.2274\n",
      "Epoch 22/250\n",
      "1/1 [==============================] - 0s 3ms/step - loss: 20.2045 - mean_squared_error: 20.2045 - mean_absolute_error: 4.1225\n",
      "Epoch 23/250\n",
      "1/1 [==============================] - 0s 2ms/step - loss: 19.2466 - mean_squared_error: 19.2466 - mean_absolute_error: 4.0213\n",
      "Epoch 24/250\n",
      "1/1 [==============================] - 0s 3ms/step - loss: 18.3446 - mean_squared_error: 18.3446 - mean_absolute_error: 3.9237\n",
      "Epoch 25/250\n",
      "1/1 [==============================] - 0s 3ms/step - loss: 17.4941 - mean_squared_error: 17.4941 - mean_absolute_error: 3.8293\n",
      "Epoch 26/250\n",
      "1/1 [==============================] - 0s 3ms/step - loss: 16.6912 - mean_squared_error: 16.6912 - mean_absolute_error: 3.7381\n",
      "Epoch 27/250\n",
      "1/1 [==============================] - 0s 53ms/step - loss: 15.9324 - mean_squared_error: 15.9324 - mean_absolute_error: 3.6498\n",
      "Epoch 28/250\n",
      "1/1 [==============================] - 0s 3ms/step - loss: 15.2146 - mean_squared_error: 15.2146 - mean_absolute_error: 3.5643\n",
      "Epoch 29/250\n",
      "1/1 [==============================] - 0s 3ms/step - loss: 14.5349 - mean_squared_error: 14.5349 - mean_absolute_error: 3.4814\n",
      "Epoch 30/250\n",
      "1/1 [==============================] - 0s 3ms/step - loss: 13.8907 - mean_squared_error: 13.8907 - mean_absolute_error: 3.4011\n",
      "Epoch 31/250\n",
      "1/1 [==============================] - 0s 3ms/step - loss: 13.2798 - mean_squared_error: 13.2798 - mean_absolute_error: 3.3231\n",
      "Epoch 32/250\n",
      "1/1 [==============================] - 0s 2ms/step - loss: 12.6999 - mean_squared_error: 12.6999 - mean_absolute_error: 3.2474\n",
      "Epoch 33/250\n",
      "1/1 [==============================] - 0s 3ms/step - loss: 12.1491 - mean_squared_error: 12.1491 - mean_absolute_error: 3.1738\n",
      "Epoch 34/250\n",
      "1/1 [==============================] - 0s 3ms/step - loss: 11.6255 - mean_squared_error: 11.6255 - mean_absolute_error: 3.1024\n",
      "Epoch 35/250\n",
      "1/1 [==============================] - 0s 3ms/step - loss: 11.1277 - mean_squared_error: 11.1277 - mean_absolute_error: 3.0329\n",
      "Epoch 36/250\n",
      "1/1 [==============================] - 0s 3ms/step - loss: 10.6539 - mean_squared_error: 10.6539 - mean_absolute_error: 2.9653\n",
      "Epoch 37/250\n",
      "1/1 [==============================] - 0s 2ms/step - loss: 10.2029 - mean_squared_error: 10.2029 - mean_absolute_error: 2.8995\n",
      "Epoch 38/250\n",
      "1/1 [==============================] - 0s 3ms/step - loss: 9.7733 - mean_squared_error: 9.7733 - mean_absolute_error: 2.8355\n",
      "Epoch 39/250\n",
      "1/1 [==============================] - 0s 3ms/step - loss: 9.3639 - mean_squared_error: 9.3639 - mean_absolute_error: 2.7732\n",
      "Epoch 40/250\n",
      "1/1 [==============================] - 0s 4ms/step - loss: 8.9736 - mean_squared_error: 8.9736 - mean_absolute_error: 2.7124\n",
      "Epoch 41/250\n",
      "1/1 [==============================] - 0s 4ms/step - loss: 8.6013 - mean_squared_error: 8.6013 - mean_absolute_error: 2.6533\n",
      "Epoch 42/250\n",
      "1/1 [==============================] - 0s 3ms/step - loss: 8.2461 - mean_squared_error: 8.2461 - mean_absolute_error: 2.5956\n",
      "Epoch 43/250\n",
      "1/1 [==============================] - 0s 3ms/step - loss: 7.9071 - mean_squared_error: 7.9071 - mean_absolute_error: 2.5394\n",
      "Epoch 44/250\n",
      "1/1 [==============================] - 0s 3ms/step - loss: 7.5833 - mean_squared_error: 7.5833 - mean_absolute_error: 2.4846\n",
      "Epoch 45/250\n",
      "1/1 [==============================] - 0s 3ms/step - loss: 7.2741 - mean_squared_error: 7.2741 - mean_absolute_error: 2.4312\n",
      "Epoch 46/250\n",
      "1/1 [==============================] - 0s 3ms/step - loss: 6.9787 - mean_squared_error: 6.9787 - mean_absolute_error: 2.3790\n",
      "Epoch 47/250\n",
      "1/1 [==============================] - 0s 3ms/step - loss: 6.6963 - mean_squared_error: 6.6963 - mean_absolute_error: 2.3281\n",
      "Epoch 48/250\n",
      "1/1 [==============================] - 0s 3ms/step - loss: 6.4264 - mean_squared_error: 6.4264 - mean_absolute_error: 2.2785\n",
      "Epoch 49/250\n",
      "1/1 [==============================] - 0s 3ms/step - loss: 6.1682 - mean_squared_error: 6.1682 - mean_absolute_error: 2.2300\n",
      "Epoch 50/250\n",
      "1/1 [==============================] - 0s 3ms/step - loss: 5.9213 - mean_squared_error: 5.9213 - mean_absolute_error: 2.1827\n",
      "Epoch 51/250\n",
      "1/1 [==============================] - 0s 3ms/step - loss: 5.6851 - mean_squared_error: 5.6851 - mean_absolute_error: 2.1365\n",
      "Epoch 52/250\n",
      "1/1 [==============================] - 0s 3ms/step - loss: 5.4591 - mean_squared_error: 5.4591 - mean_absolute_error: 2.0914\n",
      "Epoch 53/250\n",
      "1/1 [==============================] - 0s 2ms/step - loss: 5.2427 - mean_squared_error: 5.2427 - mean_absolute_error: 2.0473\n",
      "Epoch 54/250\n",
      "1/1 [==============================] - 0s 2ms/step - loss: 5.0356 - mean_squared_error: 5.0356 - mean_absolute_error: 2.0042\n",
      "Epoch 55/250\n",
      "1/1 [==============================] - 0s 3ms/step - loss: 4.8373 - mean_squared_error: 4.8373 - mean_absolute_error: 1.9622\n",
      "Epoch 56/250\n",
      "1/1 [==============================] - 0s 3ms/step - loss: 4.6473 - mean_squared_error: 4.6473 - mean_absolute_error: 1.9210\n",
      "Epoch 57/250\n",
      "1/1 [==============================] - 0s 2ms/step - loss: 4.4654 - mean_squared_error: 4.4654 - mean_absolute_error: 1.8809\n",
      "Epoch 58/250\n",
      "1/1 [==============================] - 0s 2ms/step - loss: 4.2910 - mean_squared_error: 4.2910 - mean_absolute_error: 1.8416\n",
      "Epoch 59/250\n",
      "1/1 [==============================] - 0s 3ms/step - loss: 4.1240 - mean_squared_error: 4.1240 - mean_absolute_error: 1.8032\n",
      "Epoch 60/250\n",
      "1/1 [==============================] - 0s 3ms/step - loss: 3.9639 - mean_squared_error: 3.9639 - mean_absolute_error: 1.7657\n",
      "Epoch 61/250\n",
      "1/1 [==============================] - 0s 2ms/step - loss: 3.8105 - mean_squared_error: 3.8105 - mean_absolute_error: 1.7290\n",
      "Epoch 62/250\n",
      "1/1 [==============================] - 0s 2ms/step - loss: 3.6634 - mean_squared_error: 3.6634 - mean_absolute_error: 1.6931\n",
      "Epoch 63/250\n",
      "1/1 [==============================] - 0s 2ms/step - loss: 3.5223 - mean_squared_error: 3.5223 - mean_absolute_error: 1.6580\n",
      "Epoch 64/250\n",
      "1/1 [==============================] - 0s 3ms/step - loss: 3.3871 - mean_squared_error: 3.3871 - mean_absolute_error: 1.6237\n",
      "Epoch 65/250\n",
      "1/1 [==============================] - 0s 3ms/step - loss: 3.2574 - mean_squared_error: 3.2574 - mean_absolute_error: 1.5901\n",
      "Epoch 66/250\n",
      "1/1 [==============================] - 0s 3ms/step - loss: 3.1330 - mean_squared_error: 3.1330 - mean_absolute_error: 1.5573\n",
      "Epoch 67/250\n",
      "1/1 [==============================] - 0s 3ms/step - loss: 3.0136 - mean_squared_error: 3.0136 - mean_absolute_error: 1.5251\n",
      "Epoch 68/250\n",
      "1/1 [==============================] - 0s 3ms/step - loss: 2.8991 - mean_squared_error: 2.8991 - mean_absolute_error: 1.4937\n",
      "Epoch 69/250\n",
      "1/1 [==============================] - 0s 2ms/step - loss: 2.7893 - mean_squared_error: 2.7893 - mean_absolute_error: 1.4629\n",
      "Epoch 70/250\n",
      "1/1 [==============================] - 0s 2ms/step - loss: 2.6839 - mean_squared_error: 2.6839 - mean_absolute_error: 1.4328\n",
      "Epoch 71/250\n",
      "1/1 [==============================] - 0s 3ms/step - loss: 2.5827 - mean_squared_error: 2.5827 - mean_absolute_error: 1.4034\n",
      "Epoch 72/250\n",
      "1/1 [==============================] - 0s 3ms/step - loss: 2.4856 - mean_squared_error: 2.4856 - mean_absolute_error: 1.3746\n",
      "Epoch 73/250\n",
      "1/1 [==============================] - 0s 3ms/step - loss: 2.3924 - mean_squared_error: 2.3924 - mean_absolute_error: 1.3464\n",
      "Epoch 74/250\n",
      "1/1 [==============================] - 0s 3ms/step - loss: 2.3029 - mean_squared_error: 2.3029 - mean_absolute_error: 1.3188\n",
      "Epoch 75/250\n",
      "1/1 [==============================] - 0s 2ms/step - loss: 2.2170 - mean_squared_error: 2.2170 - mean_absolute_error: 1.2917\n",
      "Epoch 76/250\n",
      "1/1 [==============================] - 0s 2ms/step - loss: 2.1346 - mean_squared_error: 2.1346 - mean_absolute_error: 1.2653\n",
      "Epoch 77/250\n",
      "1/1 [==============================] - 0s 3ms/step - loss: 2.0554 - mean_squared_error: 2.0554 - mean_absolute_error: 1.2394\n",
      "Epoch 78/250\n",
      "1/1 [==============================] - 0s 4ms/step - loss: 1.9793 - mean_squared_error: 1.9793 - mean_absolute_error: 1.2140\n",
      "Epoch 79/250\n",
      "1/1 [==============================] - 0s 2ms/step - loss: 1.9063 - mean_squared_error: 1.9063 - mean_absolute_error: 1.1892\n",
      "Epoch 80/250\n",
      "1/1 [==============================] - 0s 3ms/step - loss: 1.8362 - mean_squared_error: 1.8362 - mean_absolute_error: 1.1649\n",
      "Epoch 81/250\n",
      "1/1 [==============================] - 0s 2ms/step - loss: 1.7688 - mean_squared_error: 1.7688 - mean_absolute_error: 1.1411\n",
      "Epoch 82/250\n",
      "1/1 [==============================] - 0s 3ms/step - loss: 1.7041 - mean_squared_error: 1.7041 - mean_absolute_error: 1.1178\n",
      "Epoch 83/250\n",
      "1/1 [==============================] - 0s 2ms/step - loss: 1.6419 - mean_squared_error: 1.6419 - mean_absolute_error: 1.0950\n",
      "Epoch 84/250\n",
      "1/1 [==============================] - 0s 3ms/step - loss: 1.5822 - mean_squared_error: 1.5822 - mean_absolute_error: 1.0727\n",
      "Epoch 85/250\n",
      "1/1 [==============================] - 0s 3ms/step - loss: 1.5248 - mean_squared_error: 1.5248 - mean_absolute_error: 1.0508\n",
      "Epoch 86/250\n",
      "1/1 [==============================] - 0s 3ms/step - loss: 1.4697 - mean_squared_error: 1.4697 - mean_absolute_error: 1.0293\n",
      "Epoch 87/250\n",
      "1/1 [==============================] - 0s 3ms/step - loss: 1.4167 - mean_squared_error: 1.4167 - mean_absolute_error: 1.0084\n",
      "Epoch 88/250\n",
      "1/1 [==============================] - 0s 3ms/step - loss: 1.3658 - mean_squared_error: 1.3658 - mean_absolute_error: 0.9878\n",
      "Epoch 89/250\n",
      "1/1 [==============================] - 0s 3ms/step - loss: 1.3169 - mean_squared_error: 1.3169 - mean_absolute_error: 0.9677\n",
      "Epoch 90/250\n",
      "1/1 [==============================] - 0s 3ms/step - loss: 1.2699 - mean_squared_error: 1.2699 - mean_absolute_error: 0.9480\n",
      "Epoch 91/250\n",
      "1/1 [==============================] - 0s 3ms/step - loss: 1.2247 - mean_squared_error: 1.2247 - mean_absolute_error: 0.9286\n",
      "Epoch 92/250\n",
      "1/1 [==============================] - 0s 3ms/step - loss: 1.1813 - mean_squared_error: 1.1813 - mean_absolute_error: 0.9097\n",
      "Epoch 93/250\n",
      "1/1 [==============================] - 0s 3ms/step - loss: 1.1395 - mean_squared_error: 1.1395 - mean_absolute_error: 0.8912\n",
      "Epoch 94/250\n",
      "1/1 [==============================] - 0s 3ms/step - loss: 1.0994 - mean_squared_error: 1.0994 - mean_absolute_error: 0.8730\n",
      "Epoch 95/250\n",
      "1/1 [==============================] - 0s 3ms/step - loss: 1.0608 - mean_squared_error: 1.0608 - mean_absolute_error: 0.8553\n",
      "Epoch 96/250\n",
      "1/1 [==============================] - 0s 3ms/step - loss: 1.0237 - mean_squared_error: 1.0237 - mean_absolute_error: 0.8378\n",
      "Epoch 97/250\n",
      "1/1 [==============================] - 0s 3ms/step - loss: 0.9881 - mean_squared_error: 0.9881 - mean_absolute_error: 0.8208\n",
      "Epoch 98/250\n",
      "1/1 [==============================] - 0s 3ms/step - loss: 0.9538 - mean_squared_error: 0.9538 - mean_absolute_error: 0.8040\n",
      "Epoch 99/250\n",
      "1/1 [==============================] - 0s 3ms/step - loss: 0.9208 - mean_squared_error: 0.9208 - mean_absolute_error: 0.7877\n",
      "Epoch 100/250\n",
      "1/1 [==============================] - 0s 4ms/step - loss: 0.8891 - mean_squared_error: 0.8891 - mean_absolute_error: 0.7716\n",
      "Epoch 101/250\n",
      "1/1 [==============================] - 0s 3ms/step - loss: 0.8586 - mean_squared_error: 0.8586 - mean_absolute_error: 0.7559\n",
      "Epoch 102/250\n",
      "1/1 [==============================] - 0s 2ms/step - loss: 0.8293 - mean_squared_error: 0.8293 - mean_absolute_error: 0.7405\n",
      "Epoch 103/250\n",
      "1/1 [==============================] - 0s 3ms/step - loss: 0.8011 - mean_squared_error: 0.8011 - mean_absolute_error: 0.7254\n",
      "Epoch 104/250\n",
      "1/1 [==============================] - 0s 3ms/step - loss: 0.7740 - mean_squared_error: 0.7740 - mean_absolute_error: 0.7106\n",
      "Epoch 105/250\n",
      "1/1 [==============================] - 0s 3ms/step - loss: 0.7479 - mean_squared_error: 0.7479 - mean_absolute_error: 0.6961\n",
      "Epoch 106/250\n",
      "1/1 [==============================] - 0s 3ms/step - loss: 0.7228 - mean_squared_error: 0.7228 - mean_absolute_error: 0.6819\n",
      "Epoch 107/250\n",
      "1/1 [==============================] - 0s 3ms/step - loss: 0.6987 - mean_squared_error: 0.6987 - mean_absolute_error: 0.6680\n",
      "Epoch 108/250\n",
      "1/1 [==============================] - 0s 3ms/step - loss: 0.6755 - mean_squared_error: 0.6755 - mean_absolute_error: 0.6544\n",
      "Epoch 109/250\n",
      "1/1 [==============================] - 0s 2ms/step - loss: 0.6532 - mean_squared_error: 0.6532 - mean_absolute_error: 0.6410\n",
      "Epoch 110/250\n",
      "1/1 [==============================] - 0s 3ms/step - loss: 0.6317 - mean_squared_error: 0.6317 - mean_absolute_error: 0.6279\n",
      "Epoch 111/250\n",
      "1/1 [==============================] - 0s 3ms/step - loss: 0.6110 - mean_squared_error: 0.6110 - mean_absolute_error: 0.6151\n",
      "Epoch 112/250\n",
      "1/1 [==============================] - 0s 3ms/step - loss: 0.5911 - mean_squared_error: 0.5911 - mean_absolute_error: 0.6025\n",
      "Epoch 113/250\n",
      "1/1 [==============================] - 0s 3ms/step - loss: 0.5720 - mean_squared_error: 0.5720 - mean_absolute_error: 0.5902\n",
      "Epoch 114/250\n",
      "1/1 [==============================] - 0s 3ms/step - loss: 0.5535 - mean_squared_error: 0.5535 - mean_absolute_error: 0.5781\n",
      "Epoch 115/250\n",
      "1/1 [==============================] - 0s 3ms/step - loss: 0.5358 - mean_squared_error: 0.5358 - mean_absolute_error: 0.5663\n",
      "Epoch 116/250\n",
      "1/1 [==============================] - 0s 3ms/step - loss: 0.5188 - mean_squared_error: 0.5188 - mean_absolute_error: 0.5553\n",
      "Epoch 117/250\n",
      "1/1 [==============================] - 0s 3ms/step - loss: 0.5023 - mean_squared_error: 0.5023 - mean_absolute_error: 0.5446\n",
      "Epoch 118/250\n",
      "1/1 [==============================] - 0s 4ms/step - loss: 0.4865 - mean_squared_error: 0.4865 - mean_absolute_error: 0.5348\n",
      "Epoch 119/250\n",
      "1/1 [==============================] - 0s 3ms/step - loss: 0.4713 - mean_squared_error: 0.4713 - mean_absolute_error: 0.5256\n",
      "Epoch 120/250\n",
      "1/1 [==============================] - 0s 3ms/step - loss: 0.4567 - mean_squared_error: 0.4567 - mean_absolute_error: 0.5166\n",
      "Epoch 121/250\n",
      "1/1 [==============================] - 0s 3ms/step - loss: 0.4426 - mean_squared_error: 0.4426 - mean_absolute_error: 0.5078\n",
      "Epoch 122/250\n",
      "1/1 [==============================] - 0s 3ms/step - loss: 0.4290 - mean_squared_error: 0.4290 - mean_absolute_error: 0.4992\n",
      "Epoch 123/250\n",
      "1/1 [==============================] - 0s 3ms/step - loss: 0.4159 - mean_squared_error: 0.4159 - mean_absolute_error: 0.4907\n",
      "Epoch 124/250\n",
      "1/1 [==============================] - 0s 3ms/step - loss: 0.4034 - mean_squared_error: 0.4034 - mean_absolute_error: 0.4827\n",
      "Epoch 125/250\n",
      "1/1 [==============================] - 0s 3ms/step - loss: 0.3912 - mean_squared_error: 0.3912 - mean_absolute_error: 0.4751\n",
      "Epoch 126/250\n",
      "1/1 [==============================] - 0s 3ms/step - loss: 0.3796 - mean_squared_error: 0.3796 - mean_absolute_error: 0.4676\n",
      "Epoch 127/250\n",
      "1/1 [==============================] - 0s 3ms/step - loss: 0.3683 - mean_squared_error: 0.3683 - mean_absolute_error: 0.4604\n",
      "Epoch 128/250\n",
      "1/1 [==============================] - 0s 3ms/step - loss: 0.3575 - mean_squared_error: 0.3575 - mean_absolute_error: 0.4537\n",
      "Epoch 129/250\n",
      "1/1 [==============================] - 0s 2ms/step - loss: 0.3471 - mean_squared_error: 0.3471 - mean_absolute_error: 0.4472\n",
      "Epoch 130/250\n",
      "1/1 [==============================] - 0s 3ms/step - loss: 0.3371 - mean_squared_error: 0.3371 - mean_absolute_error: 0.4407\n",
      "Epoch 131/250\n",
      "1/1 [==============================] - 0s 2ms/step - loss: 0.3274 - mean_squared_error: 0.3274 - mean_absolute_error: 0.4344\n",
      "Epoch 132/250\n",
      "1/1 [==============================] - 0s 3ms/step - loss: 0.3181 - mean_squared_error: 0.3181 - mean_absolute_error: 0.4282\n",
      "Epoch 133/250\n",
      "1/1 [==============================] - 0s 2ms/step - loss: 0.3091 - mean_squared_error: 0.3091 - mean_absolute_error: 0.4221\n",
      "Epoch 134/250\n",
      "1/1 [==============================] - 0s 3ms/step - loss: 0.3005 - mean_squared_error: 0.3005 - mean_absolute_error: 0.4162\n",
      "Epoch 135/250\n",
      "1/1 [==============================] - 0s 2ms/step - loss: 0.2921 - mean_squared_error: 0.2921 - mean_absolute_error: 0.4103\n",
      "Epoch 136/250\n",
      "1/1 [==============================] - 0s 2ms/step - loss: 0.2841 - mean_squared_error: 0.2841 - mean_absolute_error: 0.4046\n",
      "Epoch 137/250\n",
      "1/1 [==============================] - 0s 2ms/step - loss: 0.2763 - mean_squared_error: 0.2763 - mean_absolute_error: 0.3990\n",
      "Epoch 138/250\n",
      "1/1 [==============================] - 0s 3ms/step - loss: 0.2689 - mean_squared_error: 0.2689 - mean_absolute_error: 0.3934\n",
      "Epoch 139/250\n",
      "1/1 [==============================] - 0s 3ms/step - loss: 0.2617 - mean_squared_error: 0.2617 - mean_absolute_error: 0.3880\n",
      "Epoch 140/250\n",
      "1/1 [==============================] - 0s 3ms/step - loss: 0.2548 - mean_squared_error: 0.2548 - mean_absolute_error: 0.3827\n",
      "Epoch 141/250\n",
      "1/1 [==============================] - 0s 3ms/step - loss: 0.2481 - mean_squared_error: 0.2481 - mean_absolute_error: 0.3774\n",
      "Epoch 142/250\n",
      "1/1 [==============================] - 0s 3ms/step - loss: 0.2416 - mean_squared_error: 0.2416 - mean_absolute_error: 0.3723\n",
      "Epoch 143/250\n",
      "1/1 [==============================] - 0s 3ms/step - loss: 0.2354 - mean_squared_error: 0.2354 - mean_absolute_error: 0.3673\n",
      "Epoch 144/250\n",
      "1/1 [==============================] - 0s 2ms/step - loss: 0.2294 - mean_squared_error: 0.2294 - mean_absolute_error: 0.3623\n",
      "Epoch 145/250\n",
      "1/1 [==============================] - 0s 3ms/step - loss: 0.2237 - mean_squared_error: 0.2237 - mean_absolute_error: 0.3575\n",
      "Epoch 146/250\n",
      "1/1 [==============================] - 0s 3ms/step - loss: 0.2181 - mean_squared_error: 0.2181 - mean_absolute_error: 0.3527\n",
      "Epoch 147/250\n",
      "1/1 [==============================] - 0s 2ms/step - loss: 0.2127 - mean_squared_error: 0.2127 - mean_absolute_error: 0.3481\n",
      "Epoch 148/250\n",
      "1/1 [==============================] - 0s 2ms/step - loss: 0.2075 - mean_squared_error: 0.2075 - mean_absolute_error: 0.3435\n",
      "Epoch 149/250\n",
      "1/1 [==============================] - 0s 3ms/step - loss: 0.2025 - mean_squared_error: 0.2025 - mean_absolute_error: 0.3390\n",
      "Epoch 150/250\n",
      "1/1 [==============================] - 0s 4ms/step - loss: 0.1977 - mean_squared_error: 0.1977 - mean_absolute_error: 0.3346\n",
      "Epoch 151/250\n",
      "1/1 [==============================] - 0s 3ms/step - loss: 0.1930 - mean_squared_error: 0.1930 - mean_absolute_error: 0.3302\n",
      "Epoch 152/250\n",
      "1/1 [==============================] - 0s 3ms/step - loss: 0.1885 - mean_squared_error: 0.1885 - mean_absolute_error: 0.3260\n",
      "Epoch 153/250\n",
      "1/1 [==============================] - 0s 2ms/step - loss: 0.1842 - mean_squared_error: 0.1842 - mean_absolute_error: 0.3218\n",
      "Epoch 154/250\n",
      "1/1 [==============================] - 0s 3ms/step - loss: 0.1800 - mean_squared_error: 0.1800 - mean_absolute_error: 0.3177\n",
      "Epoch 155/250\n",
      "1/1 [==============================] - 0s 3ms/step - loss: 0.1759 - mean_squared_error: 0.1759 - mean_absolute_error: 0.3137\n",
      "Epoch 156/250\n",
      "1/1 [==============================] - 0s 2ms/step - loss: 0.1720 - mean_squared_error: 0.1720 - mean_absolute_error: 0.3097\n",
      "Epoch 157/250\n",
      "1/1 [==============================] - 0s 3ms/step - loss: 0.1683 - mean_squared_error: 0.1683 - mean_absolute_error: 0.3058\n",
      "Epoch 158/250\n",
      "1/1 [==============================] - 0s 3ms/step - loss: 0.1646 - mean_squared_error: 0.1646 - mean_absolute_error: 0.3020\n",
      "Epoch 159/250\n",
      "1/1 [==============================] - 0s 3ms/step - loss: 0.1611 - mean_squared_error: 0.1611 - mean_absolute_error: 0.2983\n",
      "Epoch 160/250\n",
      "1/1 [==============================] - 0s 2ms/step - loss: 0.1577 - mean_squared_error: 0.1577 - mean_absolute_error: 0.2946\n",
      "Epoch 161/250\n",
      "1/1 [==============================] - 0s 3ms/step - loss: 0.1544 - mean_squared_error: 0.1544 - mean_absolute_error: 0.2910\n",
      "Epoch 162/250\n",
      "1/1 [==============================] - 0s 3ms/step - loss: 0.1512 - mean_squared_error: 0.1512 - mean_absolute_error: 0.2874\n",
      "Epoch 163/250\n",
      "1/1 [==============================] - 0s 3ms/step - loss: 0.1481 - mean_squared_error: 0.1481 - mean_absolute_error: 0.2839\n",
      "Epoch 164/250\n",
      "1/1 [==============================] - 0s 2ms/step - loss: 0.1452 - mean_squared_error: 0.1452 - mean_absolute_error: 0.2805\n",
      "Epoch 165/250\n",
      "1/1 [==============================] - 0s 3ms/step - loss: 0.1423 - mean_squared_error: 0.1423 - mean_absolute_error: 0.2772\n",
      "Epoch 166/250\n",
      "1/1 [==============================] - 0s 3ms/step - loss: 0.1395 - mean_squared_error: 0.1395 - mean_absolute_error: 0.2739\n",
      "Epoch 167/250\n",
      "1/1 [==============================] - 0s 2ms/step - loss: 0.1368 - mean_squared_error: 0.1368 - mean_absolute_error: 0.2706\n",
      "Epoch 168/250\n",
      "1/1 [==============================] - 0s 3ms/step - loss: 0.1342 - mean_squared_error: 0.1342 - mean_absolute_error: 0.2674\n",
      "Epoch 169/250\n",
      "1/1 [==============================] - 0s 3ms/step - loss: 0.1317 - mean_squared_error: 0.1317 - mean_absolute_error: 0.2643\n",
      "Epoch 170/250\n",
      "1/1 [==============================] - 0s 3ms/step - loss: 0.1293 - mean_squared_error: 0.1293 - mean_absolute_error: 0.2612\n",
      "Epoch 171/250\n",
      "1/1 [==============================] - 0s 2ms/step - loss: 0.1269 - mean_squared_error: 0.1269 - mean_absolute_error: 0.2582\n",
      "Epoch 172/250\n",
      "1/1 [==============================] - 0s 2ms/step - loss: 0.1247 - mean_squared_error: 0.1247 - mean_absolute_error: 0.2552\n",
      "Epoch 173/250\n",
      "1/1 [==============================] - 0s 2ms/step - loss: 0.1224 - mean_squared_error: 0.1224 - mean_absolute_error: 0.2523\n",
      "Epoch 174/250\n",
      "1/1 [==============================] - 0s 3ms/step - loss: 0.1203 - mean_squared_error: 0.1203 - mean_absolute_error: 0.2495\n",
      "Epoch 175/250\n",
      "1/1 [==============================] - 0s 3ms/step - loss: 0.1182 - mean_squared_error: 0.1182 - mean_absolute_error: 0.2467\n",
      "Epoch 176/250\n",
      "1/1 [==============================] - 0s 3ms/step - loss: 0.1162 - mean_squared_error: 0.1162 - mean_absolute_error: 0.2439\n",
      "Epoch 177/250\n",
      "1/1 [==============================] - 0s 3ms/step - loss: 0.1143 - mean_squared_error: 0.1143 - mean_absolute_error: 0.2412\n",
      "Epoch 178/250\n",
      "1/1 [==============================] - 0s 2ms/step - loss: 0.1124 - mean_squared_error: 0.1124 - mean_absolute_error: 0.2385\n",
      "Epoch 179/250\n",
      "1/1 [==============================] - 0s 2ms/step - loss: 0.1106 - mean_squared_error: 0.1106 - mean_absolute_error: 0.2359\n",
      "Epoch 180/250\n",
      "1/1 [==============================] - 0s 2ms/step - loss: 0.1088 - mean_squared_error: 0.1088 - mean_absolute_error: 0.2333\n",
      "Epoch 181/250\n",
      "1/1 [==============================] - 0s 3ms/step - loss: 0.1071 - mean_squared_error: 0.1071 - mean_absolute_error: 0.2308\n",
      "Epoch 182/250\n",
      "1/1 [==============================] - 0s 2ms/step - loss: 0.1054 - mean_squared_error: 0.1054 - mean_absolute_error: 0.2283\n",
      "Epoch 183/250\n",
      "1/1 [==============================] - 0s 2ms/step - loss: 0.1038 - mean_squared_error: 0.1038 - mean_absolute_error: 0.2259\n",
      "Epoch 184/250\n",
      "1/1 [==============================] - 0s 2ms/step - loss: 0.1023 - mean_squared_error: 0.1023 - mean_absolute_error: 0.2235\n",
      "Epoch 185/250\n",
      "1/1 [==============================] - 0s 2ms/step - loss: 0.1007 - mean_squared_error: 0.1007 - mean_absolute_error: 0.2211\n",
      "Epoch 186/250\n",
      "1/1 [==============================] - 0s 3ms/step - loss: 0.0993 - mean_squared_error: 0.0993 - mean_absolute_error: 0.2188\n",
      "Epoch 187/250\n",
      "1/1 [==============================] - 0s 3ms/step - loss: 0.0978 - mean_squared_error: 0.0978 - mean_absolute_error: 0.2165\n",
      "Epoch 188/250\n",
      "1/1 [==============================] - 0s 3ms/step - loss: 0.0964 - mean_squared_error: 0.0964 - mean_absolute_error: 0.2143\n",
      "Epoch 189/250\n",
      "1/1 [==============================] - 0s 3ms/step - loss: 0.0951 - mean_squared_error: 0.0951 - mean_absolute_error: 0.2121\n",
      "Epoch 190/250\n",
      "1/1 [==============================] - 0s 4ms/step - loss: 0.0938 - mean_squared_error: 0.0938 - mean_absolute_error: 0.2099\n",
      "Epoch 191/250\n",
      "1/1 [==============================] - 0s 3ms/step - loss: 0.0925 - mean_squared_error: 0.0925 - mean_absolute_error: 0.2078\n",
      "Epoch 192/250\n",
      "1/1 [==============================] - 0s 2ms/step - loss: 0.0912 - mean_squared_error: 0.0912 - mean_absolute_error: 0.2057\n",
      "Epoch 193/250\n",
      "1/1 [==============================] - 0s 3ms/step - loss: 0.0900 - mean_squared_error: 0.0900 - mean_absolute_error: 0.2036\n",
      "Epoch 194/250\n",
      "1/1 [==============================] - 0s 2ms/step - loss: 0.0889 - mean_squared_error: 0.0889 - mean_absolute_error: 0.2016\n",
      "Epoch 195/250\n",
      "1/1 [==============================] - 0s 2ms/step - loss: 0.0877 - mean_squared_error: 0.0877 - mean_absolute_error: 0.1996\n",
      "Epoch 196/250\n",
      "1/1 [==============================] - 0s 2ms/step - loss: 0.0866 - mean_squared_error: 0.0866 - mean_absolute_error: 0.1976\n",
      "Epoch 197/250\n",
      "1/1 [==============================] - 0s 3ms/step - loss: 0.0855 - mean_squared_error: 0.0855 - mean_absolute_error: 0.1957\n",
      "Epoch 198/250\n",
      "1/1 [==============================] - 0s 2ms/step - loss: 0.0845 - mean_squared_error: 0.0845 - mean_absolute_error: 0.1938\n",
      "Epoch 199/250\n",
      "1/1 [==============================] - 0s 2ms/step - loss: 0.0835 - mean_squared_error: 0.0835 - mean_absolute_error: 0.1920\n",
      "Epoch 200/250\n",
      "1/1 [==============================] - 0s 2ms/step - loss: 0.0825 - mean_squared_error: 0.0825 - mean_absolute_error: 0.1901\n",
      "Epoch 201/250\n",
      "1/1 [==============================] - 0s 3ms/step - loss: 0.0815 - mean_squared_error: 0.0815 - mean_absolute_error: 0.1883\n",
      "Epoch 202/250\n",
      "1/1 [==============================] - 0s 2ms/step - loss: 0.0805 - mean_squared_error: 0.0805 - mean_absolute_error: 0.1866\n",
      "Epoch 203/250\n",
      "1/1 [==============================] - 0s 2ms/step - loss: 0.0796 - mean_squared_error: 0.0796 - mean_absolute_error: 0.1848\n",
      "Epoch 204/250\n",
      "1/1 [==============================] - 0s 2ms/step - loss: 0.0787 - mean_squared_error: 0.0787 - mean_absolute_error: 0.1831\n",
      "Epoch 205/250\n",
      "1/1 [==============================] - 0s 3ms/step - loss: 0.0778 - mean_squared_error: 0.0778 - mean_absolute_error: 0.1814\n",
      "Epoch 206/250\n",
      "1/1 [==============================] - 0s 2ms/step - loss: 0.0770 - mean_squared_error: 0.0770 - mean_absolute_error: 0.1798\n",
      "Epoch 207/250\n",
      "1/1 [==============================] - 0s 3ms/step - loss: 0.0761 - mean_squared_error: 0.0761 - mean_absolute_error: 0.1781\n",
      "Epoch 208/250\n",
      "1/1 [==============================] - 0s 2ms/step - loss: 0.0753 - mean_squared_error: 0.0753 - mean_absolute_error: 0.1765\n",
      "Epoch 209/250\n",
      "1/1 [==============================] - 0s 3ms/step - loss: 0.0745 - mean_squared_error: 0.0745 - mean_absolute_error: 0.1749\n",
      "Epoch 210/250\n",
      "1/1 [==============================] - 0s 2ms/step - loss: 0.0737 - mean_squared_error: 0.0737 - mean_absolute_error: 0.1734\n",
      "Epoch 211/250\n",
      "1/1 [==============================] - 0s 3ms/step - loss: 0.0730 - mean_squared_error: 0.0730 - mean_absolute_error: 0.1719\n",
      "Epoch 212/250\n",
      "1/1 [==============================] - 0s 2ms/step - loss: 0.0722 - mean_squared_error: 0.0722 - mean_absolute_error: 0.1704\n",
      "Epoch 213/250\n",
      "1/1 [==============================] - 0s 3ms/step - loss: 0.0715 - mean_squared_error: 0.0715 - mean_absolute_error: 0.1689\n",
      "Epoch 214/250\n",
      "1/1 [==============================] - 0s 2ms/step - loss: 0.0708 - mean_squared_error: 0.0708 - mean_absolute_error: 0.1674\n",
      "Epoch 215/250\n",
      "1/1 [==============================] - 0s 2ms/step - loss: 0.0701 - mean_squared_error: 0.0701 - mean_absolute_error: 0.1660\n",
      "Epoch 216/250\n",
      "1/1 [==============================] - 0s 2ms/step - loss: 0.0694 - mean_squared_error: 0.0694 - mean_absolute_error: 0.1646\n",
      "Epoch 217/250\n",
      "1/1 [==============================] - 0s 3ms/step - loss: 0.0688 - mean_squared_error: 0.0688 - mean_absolute_error: 0.1632\n",
      "Epoch 218/250\n",
      "1/1 [==============================] - 0s 2ms/step - loss: 0.0681 - mean_squared_error: 0.0681 - mean_absolute_error: 0.1618\n",
      "Epoch 219/250\n",
      "1/1 [==============================] - 0s 3ms/step - loss: 0.0675 - mean_squared_error: 0.0675 - mean_absolute_error: 0.1605\n",
      "Epoch 220/250\n",
      "1/1 [==============================] - 0s 3ms/step - loss: 0.0668 - mean_squared_error: 0.0668 - mean_absolute_error: 0.1592\n",
      "Epoch 221/250\n",
      "1/1 [==============================] - 0s 3ms/step - loss: 0.0662 - mean_squared_error: 0.0662 - mean_absolute_error: 0.1578\n",
      "Epoch 222/250\n",
      "1/1 [==============================] - 0s 2ms/step - loss: 0.0656 - mean_squared_error: 0.0656 - mean_absolute_error: 0.1566\n",
      "Epoch 223/250\n",
      "1/1 [==============================] - 0s 2ms/step - loss: 0.0650 - mean_squared_error: 0.0650 - mean_absolute_error: 0.1553\n",
      "Epoch 224/250\n",
      "1/1 [==============================] - 0s 2ms/step - loss: 0.0645 - mean_squared_error: 0.0645 - mean_absolute_error: 0.1541\n",
      "Epoch 225/250\n",
      "1/1 [==============================] - 0s 3ms/step - loss: 0.0639 - mean_squared_error: 0.0639 - mean_absolute_error: 0.1528\n",
      "Epoch 226/250\n",
      "1/1 [==============================] - 0s 2ms/step - loss: 0.0633 - mean_squared_error: 0.0633 - mean_absolute_error: 0.1516\n",
      "Epoch 227/250\n",
      "1/1 [==============================] - 0s 2ms/step - loss: 0.0628 - mean_squared_error: 0.0628 - mean_absolute_error: 0.1504\n",
      "Epoch 228/250\n",
      "1/1 [==============================] - 0s 2ms/step - loss: 0.0623 - mean_squared_error: 0.0623 - mean_absolute_error: 0.1493\n",
      "Epoch 229/250\n",
      "1/1 [==============================] - 0s 3ms/step - loss: 0.0617 - mean_squared_error: 0.0617 - mean_absolute_error: 0.1481\n",
      "Epoch 230/250\n",
      "1/1 [==============================] - 0s 2ms/step - loss: 0.0612 - mean_squared_error: 0.0612 - mean_absolute_error: 0.1470\n",
      "Epoch 231/250\n",
      "1/1 [==============================] - 0s 2ms/step - loss: 0.0607 - mean_squared_error: 0.0607 - mean_absolute_error: 0.1459\n",
      "Epoch 232/250\n",
      "1/1 [==============================] - 0s 2ms/step - loss: 0.0602 - mean_squared_error: 0.0602 - mean_absolute_error: 0.1448\n",
      "Epoch 233/250\n",
      "1/1 [==============================] - 0s 2ms/step - loss: 0.0597 - mean_squared_error: 0.0597 - mean_absolute_error: 0.1437\n",
      "Epoch 234/250\n",
      "1/1 [==============================] - 0s 2ms/step - loss: 0.0593 - mean_squared_error: 0.0593 - mean_absolute_error: 0.1426\n",
      "Epoch 235/250\n",
      "1/1 [==============================] - 0s 2ms/step - loss: 0.0588 - mean_squared_error: 0.0588 - mean_absolute_error: 0.1416\n",
      "Epoch 236/250\n",
      "1/1 [==============================] - 0s 3ms/step - loss: 0.0583 - mean_squared_error: 0.0583 - mean_absolute_error: 0.1405\n",
      "Epoch 237/250\n",
      "1/1 [==============================] - 0s 2ms/step - loss: 0.0579 - mean_squared_error: 0.0579 - mean_absolute_error: 0.1395\n",
      "Epoch 238/250\n",
      "1/1 [==============================] - 0s 2ms/step - loss: 0.0574 - mean_squared_error: 0.0574 - mean_absolute_error: 0.1385\n",
      "Epoch 239/250\n",
      "1/1 [==============================] - 0s 2ms/step - loss: 0.0570 - mean_squared_error: 0.0570 - mean_absolute_error: 0.1375\n",
      "Epoch 240/250\n",
      "1/1 [==============================] - 0s 2ms/step - loss: 0.0566 - mean_squared_error: 0.0566 - mean_absolute_error: 0.1365\n",
      "Epoch 241/250\n",
      "1/1 [==============================] - 0s 2ms/step - loss: 0.0561 - mean_squared_error: 0.0561 - mean_absolute_error: 0.1355\n",
      "Epoch 242/250\n",
      "1/1 [==============================] - 0s 2ms/step - loss: 0.0557 - mean_squared_error: 0.0557 - mean_absolute_error: 0.1346\n",
      "Epoch 243/250\n",
      "1/1 [==============================] - 0s 2ms/step - loss: 0.0553 - mean_squared_error: 0.0553 - mean_absolute_error: 0.1337\n",
      "Epoch 244/250\n",
      "1/1 [==============================] - 0s 2ms/step - loss: 0.0549 - mean_squared_error: 0.0549 - mean_absolute_error: 0.1327\n",
      "Epoch 245/250\n",
      "1/1 [==============================] - 0s 2ms/step - loss: 0.0545 - mean_squared_error: 0.0545 - mean_absolute_error: 0.1318\n",
      "Epoch 246/250\n",
      "1/1 [==============================] - 0s 2ms/step - loss: 0.0541 - mean_squared_error: 0.0541 - mean_absolute_error: 0.1309\n",
      "Epoch 247/250\n",
      "1/1 [==============================] - 0s 2ms/step - loss: 0.0537 - mean_squared_error: 0.0537 - mean_absolute_error: 0.1300\n",
      "Epoch 248/250\n",
      "1/1 [==============================] - 0s 2ms/step - loss: 0.0533 - mean_squared_error: 0.0533 - mean_absolute_error: 0.1292\n",
      "Epoch 249/250\n",
      "1/1 [==============================] - 0s 2ms/step - loss: 0.0529 - mean_squared_error: 0.0529 - mean_absolute_error: 0.1283\n",
      "Epoch 250/250\n",
      "1/1 [==============================] - 0s 3ms/step - loss: 0.0526 - mean_squared_error: 0.0526 - mean_absolute_error: 0.1275\n"
     ]
    },
    {
     "data": {
      "text/plain": [
       "<keras.callbacks.History at 0xb37a79d90>"
      ]
     },
     "execution_count": 6,
     "metadata": {},
     "output_type": "execute_result"
    }
   ],
   "source": [
    "# A working predictor for ONE graph. Protect this. It works.\n",
    "# MASTER VERSION.\n",
    "\n",
    "import os, sys, glob\n",
    "import numpy as np\n",
    "import scipy as sp\n",
    "import copy\n",
    "import keras\n",
    "\n",
    "import itertools as it\n",
    "\n",
    "def readfile(fname):\n",
    "    def prune(vec, mat, maxsize=15):\n",
    "        if len(vec) < maxsize:\n",
    "            old_length = len(vec)\n",
    "            vec = np.pad(vec, (0, maxsize-old_length), 'constant')\n",
    "            mat = np.pad(mat, ((0, maxsize-old_length), (0, maxsize-old_length)), 'constant')\n",
    "            assert len(vec) == maxsize, 'Length of vector not equal to max size - this is an implementation error.'\n",
    "            assert mat.shape == (maxsize, maxsize), 'Size of matrix not equal to max size - this is an implementation error.'\n",
    "        assert all([i<maxsize for i,j in enumerate(vec) if j!=0]), 'Vector has nonzero entries after element 15!'\n",
    "        if len(vec) > maxsize:\n",
    "            assert np.all(mat.T == mat), 'Matrix is not symmetric - case not handled!'\n",
    "            assert all(np.any(mat[maxsize:] != 0, 0) == False), 'Some nonzero horizontal rows found outside cutoff!'\n",
    "        return (vec[:maxsize], mat[:maxsize, :maxsize])\n",
    "\n",
    "    a = open(fname)\n",
    "    b = a.readlines()\n",
    "    a.close()\n",
    "    csv_as_float_2D = [map(float,i.strip().split(',')) for i in b]\n",
    "    atom_list = csv_as_float_2D[0]\n",
    "    bond_orders = csv_as_float_2D[1:]\n",
    "\n",
    "    atom_vec = np.array(atom_list)\n",
    "    BO_mat = np.array(bond_orders)\n",
    "    assert len(np.shape(atom_vec))==1, 'Atom vector is not a flat array!'\n",
    "    assert np.shape(atom_vec)[0] == np.shape(BO_mat)[0], \"Dimensions of atom vector and bond order matrix don't match!\"\n",
    "    assert np.all(BO_mat.T == BO_mat), 'Bond order matrix is not symmetric!'\n",
    "    try:\n",
    "        return prune(atom_vec, BO_mat, 29)\n",
    "    except AssertionError as e:\n",
    "        print(g)\n",
    "        print(BO_mat.shape)\n",
    "        print(e.args)\n",
    "        return None\n",
    "\n",
    "def takeFirst(x):\n",
    "    return x[0]\n",
    "\n",
    "def separateMe(x):\n",
    "    guess = x[:,-1:]\n",
    "    mymatrix = x[:,:-1]\n",
    "    \n",
    "    guess_is = keras.backend.repeat_elements(guess,29,1)\n",
    "    guess_js = keras.backend.repeat_elements(keras.backend.transpose(guess),29,0)\n",
    "    #edges = keras.backend.cast_to_floatx(mymatrix)\n",
    "    edges = mymatrix\n",
    "    bigmat = keras.backend.stack((guess_is, guess_js, edges),2)\n",
    "    return [guess, mymatrix, bigmat]\n",
    "\n",
    "def refactorizer(operated):\n",
    "    new_1d = keras.backend.transpose(keras.backend.sum(operated,1))\n",
    "    #new_1d = keras.backend.expand_dims(new_1d,axis=0)\n",
    "    return new_1d\n",
    "\n",
    "graphlist = glob.glob('qm9graph/*.csv')\n",
    "vecs_and_matrices = [readfile(g) for g in graphlist]\n",
    "vecs = [i for i,j in vecs_and_matrices]\n",
    "matrices = [j for i,j in vecs_and_matrices]\n",
    "\n",
    "TakeFirst = keras.layers.Lambda(takeFirst)\n",
    "Separator = keras.layers.Lambda(separateMe)\n",
    "Refactorizer = keras.layers.Lambda(refactorizer)\n",
    "\n",
    "inputs = keras.layers.Input(shape=(29,30,), batch_shape=(None,29,30))\n",
    "firstinput = TakeFirst(inputs)\n",
    "myvec, mygraph, bigmat = Separator(firstinput)\n",
    "\n",
    "# M kernel - automatically detects that the input has dimension 3\n",
    "redonemat = keras.layers.Dense(1)(keras.layers.Dense(3, activation='tanh')(bigmat))\n",
    "\n",
    "newhidden = Refactorizer(redonemat)\n",
    "\n",
    "combined_thing_y = np.expand_dims(vecs[0],axis=1)\n",
    "combined_thing = np.concatenate((matrices[0], combined_thing_y), axis=1)\n",
    "combined_thing = np.array([combined_thing])\n",
    "\n",
    "model = keras.models.Model(inputs=inputs, outputs=newhidden)\n",
    "model.compile(optimizer='adagrad',\n",
    "              loss='mean_squared_error',\n",
    "              metrics=['mean_squared_error', 'mean_absolute_error'])\n",
    "model.fit(combined_thing, np.expand_dims(vecs[0], axis=0), epochs=250, batch_size=1)"
   ]
  },
  {
   "cell_type": "code",
   "execution_count": 9,
   "metadata": {
    "collapsed": false
   },
   "outputs": [
    {
     "data": {
      "text/plain": [
       "array([[[8.],\n",
       "        [6.],\n",
       "        [6.],\n",
       "        [8.],\n",
       "        [6.],\n",
       "        [8.],\n",
       "        [6.],\n",
       "        [6.],\n",
       "        [1.],\n",
       "        [1.],\n",
       "        [1.],\n",
       "        [1.],\n",
       "        [0.],\n",
       "        [0.],\n",
       "        [0.],\n",
       "        [0.],\n",
       "        [0.],\n",
       "        [0.],\n",
       "        [0.],\n",
       "        [0.],\n",
       "        [0.],\n",
       "        [0.],\n",
       "        [0.],\n",
       "        [0.],\n",
       "        [0.],\n",
       "        [0.],\n",
       "        [0.],\n",
       "        [0.],\n",
       "        [0.]]])"
      ]
     },
     "execution_count": 9,
     "metadata": {},
     "output_type": "execute_result"
    }
   ],
   "source": [
    "combined_thing_y"
   ]
  },
  {
   "cell_type": "code",
   "execution_count": 406,
   "metadata": {
    "collapsed": false
   },
   "outputs": [
    {
     "name": "stdout",
     "output_type": "stream",
     "text": [
      "[[ 8.799278    5.6296477   5.6296477   8.7966585   5.031527    8.78908\n",
      "   5.2160206   5.361666    1.3293701   1.3790778   1.3790777   1.3790778\n",
      "  -0.07970637 -0.07970637 -0.07970637 -0.07970637 -0.07970637 -0.07970637\n",
      "  -0.07970637 -0.07970637 -0.07970637 -0.07970637 -0.07970637 -0.07970637\n",
      "  -0.07970637 -0.07970637 -0.07970637 -0.07970637 -0.07970637]]\n",
      "[array([[ 0.7604049 , -1.0607893 , -0.7237089 ],\n",
      "       [-0.35061258,  0.8058956 ,  0.14019883],\n",
      "       [-0.41346732,  0.7028782 ,  0.41891006]], dtype=float32), array([ 0.09325026, -0.12081977,  0.03234083], dtype=float32), array([[ 0.42809203],\n",
      "       [-0.741643  ],\n",
      "       [ 0.9459558 ]], dtype=float32), array([0.08198211], dtype=float32)]\n"
     ]
    },
    {
     "data": {
      "text/plain": [
       "0.2875213396960291"
      ]
     },
     "execution_count": 406,
     "metadata": {},
     "output_type": "execute_result"
    }
   ],
   "source": [
    "print(model.predict(combined_thing))\n",
    "print(model.get_weights())\n",
    "np.mean(np.abs(model.predict(combined_thing) - np.expand_dims(vecs[0], axis=0)))"
   ]
  },
  {
   "cell_type": "code",
   "execution_count": null,
   "metadata": {
    "collapsed": true
   },
   "outputs": [],
   "source": []
  },
  {
   "cell_type": "code",
   "execution_count": 256,
   "metadata": {
    "collapsed": false
   },
   "outputs": [
    {
     "ename": "AttributeError",
     "evalue": "'Sequential' object has no attribute 'kernel'",
     "output_type": "error",
     "traceback": [
      "\u001b[0;31m---------------------------------------------------------------------------\u001b[0m",
      "\u001b[0;31mAttributeError\u001b[0m                            Traceback (most recent call last)",
      "\u001b[0;32m<ipython-input-256-79666d78eace>\u001b[0m in \u001b[0;36m<module>\u001b[0;34m()\u001b[0m\n\u001b[1;32m      1\u001b[0m \u001b[0mlabelator\u001b[0m\u001b[0;34m.\u001b[0m\u001b[0mtrainable_weights\u001b[0m\u001b[0;34m\u001b[0m\u001b[0m\n\u001b[0;32m----> 2\u001b[0;31m \u001b[0mlabelator\u001b[0m\u001b[0;34m.\u001b[0m\u001b[0mkernel\u001b[0m\u001b[0;34m\u001b[0m\u001b[0m\n\u001b[0m",
      "\u001b[0;31mAttributeError\u001b[0m: 'Sequential' object has no attribute 'kernel'"
     ]
    }
   ],
   "source": [
    "def reshapeMe(x):\n",
    "        x = x[0] # Take the first element of x, ignore everything else.\n",
    "        guess = x[:,-1:]\n",
    "        mymatrix = x[:,:-1]\n",
    "        mpassfunc = self.mpassfunc\n",
    "        self._trainable_weights.append(mpassfunc.trainable_weights)\n",
    "        #guess, mymatrix, mpassfunc = x # guess refers to the hidden message vector\n",
    "        guess_is = keras.backend.repeat_elements(guess,29,1)\n",
    "        guess_js = keras.backend.repeat_elements(keras.backend.transpose(guess),29,0)\n",
    "        #edges = keras.backend.cast_to_floatx(mymatrix)\n",
    "        edges = mymatrix\n",
    "        bigmat = keras.backend.stack((guess_is, guess_js, edges),2)\n",
    "        operated = mpassfunc(bigmat)\n",
    "        new_2d = keras.backend.batch_flatten(operated)\n",
    "        new_1d = keras.backend.sum(new_2d,1)\n",
    "        \n",
    "        final_return = keras.backend.concatenate((new_2d, keras.backend.expand_dims(new_1d,axis=1)), axis=1)\n",
    "        return keras.backend.expand_dims(final_return[:,-1:],axis=0)\n",
    "\n",
    "    def compute_output_shape(self, input_shape):\n",
    "        return (None, 29, 1)"
   ]
  },
  {
   "cell_type": "code",
   "execution_count": null,
   "metadata": {
    "collapsed": true
   },
   "outputs": [],
   "source": []
  },
  {
   "cell_type": "code",
   "execution_count": 211,
   "metadata": {
    "collapsed": false
   },
   "outputs": [
    {
     "data": {
      "text/plain": [
       "array([[0.3228463],\n",
       "       [3.2284632],\n",
       "       [0.6456926],\n",
       "       [6.4569263]], dtype=float32)"
      ]
     },
     "execution_count": 211,
     "metadata": {},
     "output_type": "execute_result"
    }
   ],
   "source": [
    "model = keras.models.Sequential()\n",
    "model.add(keras.layers.Dense(3, input_shape=(1,)))\n",
    "model.add(keras.layers.Dense(1))\n",
    "model.compile(loss='mean_squared_error',\n",
    "              optimizer='adam',\n",
    "              metrics=['mean_squared_error'])\n",
    "#model.fit([1,2,3,200,1,-4],[1,1,1,1,1,1], epochs=5)\n",
    "#model.fit([1],[1], epochs=5)\n",
    "model.predict([1,10,2,20])"
   ]
  },
  {
   "cell_type": "code",
   "execution_count": null,
   "metadata": {
    "collapsed": true
   },
   "outputs": [],
   "source": []
  },
  {
   "cell_type": "code",
   "execution_count": 151,
   "metadata": {
    "collapsed": false
   },
   "outputs": [
    {
     "data": {
      "text/plain": [
       "array([[1., 1., 1.],\n",
       "       [1., 1., 1.],\n",
       "       [1., 1., 1.]])"
      ]
     },
     "execution_count": 151,
     "metadata": {},
     "output_type": "execute_result"
    }
   ],
   "source": [
    "a = np.zeros((3,1))\n",
    "g = np.ones((3,4))\n",
    "g[:,3] = 2\n",
    "g[:,-1:]\n",
    "g[:,:-1]"
   ]
  },
  {
   "cell_type": "code",
   "execution_count": null,
   "metadata": {
    "collapsed": true
   },
   "outputs": [],
   "source": []
  },
  {
   "cell_type": "code",
   "execution_count": null,
   "metadata": {
    "collapsed": true
   },
   "outputs": [],
   "source": [
    "# Bad attempt at graph convolution\n",
    "import os, sys, glob\n",
    "import numpy as np\n",
    "import scipy as sp\n",
    "import copy\n",
    "import keras\n",
    "\n",
    "import itertools as it\n",
    "\n",
    "graphlist = glob.glob('qm9graph/*.csv')\n",
    "vecs_and_matrices = [readfile(g) for g in graphlist]\n",
    "vecs = [i for i,j in vecs_and_matrices]\n",
    "matrices = [j for i,j in vecs_and_matrices]\n",
    "\n",
    "def readfile(fname):\n",
    "    a = open(fname)\n",
    "    b = a.readlines()\n",
    "    a.close()\n",
    "    csv_as_float_2D = [map(float,i.strip().split(',')) for i in b]\n",
    "    atom_list = csv_as_float_2D[0]\n",
    "    bond_orders = csv_as_float_2D[1:]\n",
    "\n",
    "    atom_vec = np.array(atom_list)\n",
    "    BO_mat = np.array(bond_orders)\n",
    "    assert len(np.shape(atom_vec))==1, 'Atom vector is not a flat array!'\n",
    "    assert np.shape(atom_vec)[0] == np.shape(BO_mat)[0], \"Dimensions of atom vector and bond order matrix don't match!\"\n",
    "    assert np.all(BO_mat.T == BO_mat), 'Bond order matrix is not symmetric!'\n",
    "    try:\n",
    "        return prune(atom_vec, BO_mat, 29)\n",
    "    except AssertionError as e:\n",
    "        print(g)\n",
    "        print(BO_mat.shape)\n",
    "        print(e.args)\n",
    "        return None\n",
    "\n",
    "def prune(vec, mat, maxsize=15):\n",
    "    if len(vec) < maxsize:\n",
    "        old_length = len(vec)\n",
    "        vec = np.pad(vec, (0, maxsize-old_length), 'constant')\n",
    "        mat = np.pad(mat, ((0, maxsize-old_length), (0, maxsize-old_length)), 'constant')\n",
    "        assert len(vec) == maxsize, 'Length of vector not equal to max size - this is an implementation error.'\n",
    "        assert mat.shape == (maxsize, maxsize), 'Size of matrix not equal to max size - this is an implementation error.'\n",
    "    assert all([i<maxsize for i,j in enumerate(vec[0]) if j!=0]), 'Vector has nonzero entries after element 15!'\n",
    "    if len(vec) > maxsize:\n",
    "        assert np.all(mat.T == mat), 'Matrix is not symmetric - case not handled!'\n",
    "        assert all(np.any(mat[maxsize:] != 0, 0) == False), 'Some nonzero horizontal rows found outside cutoff!'\n",
    "    return (vec[:maxsize], mat[:maxsize, :maxsize])\n",
    "\n",
    "\n",
    "class Messenger(keras.layers.Layer):\n",
    "    # Performs message passing with the same M kernel once, without postprocessing. Includes passing to self.\n",
    "    def __init__(self, mpassfunc, **kwargs):\n",
    "        #self.mpassfunc = mpassfunc\n",
    "        self.mpassfunc = mpassfunc\n",
    "        super(Messenger, self).__init__(**kwargs)\n",
    "\n",
    "    def build(self, input_shape):\n",
    "        super(Messenger, self).build(input_shape)  # Be sure to call this at the end\n",
    "\n",
    "    def call(self, x):\n",
    "        print(x)\n",
    "        print(x[0])\n",
    "        print(x.shape)\n",
    "        x = x[0] # Take the first element of x, ignore everything else.\n",
    "        guess = x[:,-1:]\n",
    "        mymatrix = x[:,:-1]\n",
    "        mpassfunc = self.mpassfunc\n",
    "        self._trainable_weights.append(mpassfunc.trainable_weights)\n",
    "        #guess, mymatrix, mpassfunc = x # guess refers to the hidden message vector\n",
    "        guess_is = keras.backend.repeat_elements(guess,29,1)\n",
    "        guess_js = keras.backend.repeat_elements(keras.backend.transpose(guess),29,0)\n",
    "        #edges = keras.backend.cast_to_floatx(mymatrix)\n",
    "        edges = mymatrix\n",
    "        bigmat = keras.backend.stack((guess_is, guess_js, edges),2)\n",
    "        operated = mpassfunc(bigmat)\n",
    "        new_2d = keras.backend.batch_flatten(operated)\n",
    "        new_1d = keras.backend.sum(new_2d,1)\n",
    "        \n",
    "        final_return = keras.backend.concatenate((new_2d, keras.backend.expand_dims(new_1d,axis=1)), axis=1)\n",
    "        return keras.backend.expand_dims(final_return[:,-1:],axis=0)\n",
    "\n",
    "    def compute_output_shape(self, input_shape):\n",
    "        return (None, 29, 1)\n",
    "    \n",
    "\n",
    "\n",
    "    \n",
    "labelator = keras.models.Sequential()\n",
    "labelator.add(keras.layers.Dense(3, input_shape=(3,)))\n",
    "labelator.add(keras.layers.Dense(1))\n",
    "labelator.compile(loss='mean_squared_error',\n",
    "              optimizer='adam',\n",
    "              metrics=['mean_squared_error'])\n",
    "\n",
    "inputs = keras.layers.Input(shape=(29,30,))\n",
    "b = Messenger(mpassfunc=labelator)(inputs)\n",
    "\n",
    "#b = Messenger()(a)\n",
    "\n",
    "model = keras.models.Model(inputs=inputs, outputs=b)\n",
    "model.compile(optimizer='sgd',\n",
    "              loss='mean_squared_error',\n",
    "              metrics=['mean_squared_error'])\n",
    "\n",
    "combined_thing_y = np.expand_dims(vecs[0],axis=1)\n",
    "combined_thing = np.concatenate((matrices[0], combined_thing_y), axis=1)\n",
    "combined_thing = np.array([combined_thing])\n",
    "combined_thing_y = np.expand_dims(combined_thing_y, axis=0)\n",
    "\n",
    "print(combined_thing.shape)\n",
    "model.fit(combined_thing, combined_thing_y, epochs=5)"
   ]
  }
 ],
 "metadata": {
  "anaconda-cloud": {},
  "kernelspec": {
   "display_name": "Python [default]",
   "language": "python",
   "name": "python2"
  },
  "language_info": {
   "codemirror_mode": {
    "name": "ipython",
    "version": 2
   },
   "file_extension": ".py",
   "mimetype": "text/x-python",
   "name": "python",
   "nbconvert_exporter": "python",
   "pygments_lexer": "ipython2",
   "version": "2.7.16"
  }
 },
 "nbformat": 4,
 "nbformat_minor": 2
}
